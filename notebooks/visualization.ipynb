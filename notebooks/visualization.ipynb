{
 "cells": [
  {
   "cell_type": "markdown",
   "metadata": {},
   "source": [
    "# Visulization of Geospatial data"
   ]
  },
  {
   "cell_type": "markdown",
   "metadata": {},
   "source": [
    "## Introduction\n",
    "Visualiztion of geoscience data is crucial as it is informative for such big and complicated data. Here, visualization is done with two popular geospatial libraries in Python: _geopandas_ and _geoplot_. In the notbook, we focus on data visualizatio in a map.\n",
    "\n",
    "This notebook uses two popular geospatial libraries in Python: <br>\n",
    "- geopandas: extends Pandas to allow spatial operations on geometric types <br>\n",
    "- geoplot: a high-level geospatial plotting library\n",
    "\n",
    "## Terminology\n",
    "\n",
    "Geospatial data is data about objects, events, or phenomena that have a location on the surface of the earth. It has a geometry column which is a vector (generally a column in a dataframe) used to represent points, polygons, and other geometric shapes or locations, usually represented as _well-known text (WKT)_. Polygon is for an area and point is a specific location.\n",
    "\n",
    "Geospatial data visualization includes visualization of the map and the data associated with the location. Below are four basic map types used in this notebook.\n",
    "\n",
    "#### Pointplot\n",
    "The pointplot is a geospatial scatter plot that represents each observation in your dataset as a single point on a map. It is simple and easily interpretable plot, making it an ideal choice for showing simple pointwise relationships between observations.\n",
    "\n",
    "#### Choropleth\n",
    "A choropleth takes observations that have been aggregated on some meaningful polygonal level (e.g. census tract, state, country, or continent) and displays the data to the reader using color. It is a well-known plot type, and likeliest the most general-purpose and well-known of the specifically spatial plot types.\n",
    "\n",
    "#### Cartogram\n",
    "A cartogram distorts (grows or shrinks) polygons on a map according to the magnitude of some input data. A basic cartogram specifies data, a projection, and a scale parameter.\n",
    "\n",
    "#### Voronoi\n",
    "The Voronoi region of an point is the set of points which is closer to that point than to any other observation in a dataset. A Voronoi diagram is a space-filling diagram that constructs all of the Voronoi regions of a dataset and plots them.\n",
    "\n",
    "Voronoi plots are efficient for judging point density and, combined with colormap, can be used to infer regional trends in a set of data.\n",
    "\n",
    "## Get Started\n",
    "\n",
    "- **Load Data:** User provides the data path to geospatical data for the basemap and, if there is, the data path to the data for attribute data associated with the locations.\n",
    "\n",
    "- **Choose Parameters:** <br>\n",
    "    - attribute variable: a string type name for the variable that is going to be shown on the map <br>\n",
    "    - map type: a drop down box where user can choose what type of maps to be visualized. <br>\n",
    "\n",
    "- **Launch the app**"
   ]
  },
  {
   "cell_type": "code",
   "execution_count": 3,
   "metadata": {},
   "outputs": [
    {
     "data": {
      "application/vnd.jupyter.widget-view+json": {
       "model_id": "cfa188c3b2654e9082489ba1630d0013",
       "version_major": 2,
       "version_minor": 0
      },
      "text/plain": [
       "MyApp(children=(Text(value='https://raw.githubusercontent.com/ResidentMario/geoplot-data/master/contiguous-usa…"
      ]
     },
     "metadata": {},
     "output_type": "display_data"
    }
   ],
   "source": [
    "import sys\n",
    "sys.path.append(\"..\")\n",
    "from src.MyApp import viz_app\n",
    "app = viz_app()\n",
    "display(app)"
   ]
  },
  {
   "cell_type": "code",
   "execution_count": null,
   "metadata": {},
   "outputs": [],
   "source": []
  }
 ],
 "metadata": {
  "kernelspec": {
   "display_name": "Python 3",
   "language": "python",
   "name": "python3"
  },
  "language_info": {
   "codemirror_mode": {
    "name": "ipython",
    "version": 3
   },
   "file_extension": ".py",
   "mimetype": "text/x-python",
   "name": "python",
   "nbconvert_exporter": "python",
   "pygments_lexer": "ipython3",
   "version": "3.7.7"
  }
 },
 "nbformat": 4,
 "nbformat_minor": 2
}
