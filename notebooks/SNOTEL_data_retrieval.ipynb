{
 "cells": [
  {
   "cell_type": "code",
   "execution_count": 2,
   "metadata": {},
   "outputs": [
    {
     "name": "stderr",
     "output_type": "stream",
     "text": [
      "also installing the dependencies ‘rappdirs’, ‘bitops’, ‘binman’, ‘semver’, ‘XML’, ‘caTools’, ‘htmlwidgets’, ‘wdman’, ‘RSelenium’, ‘covr’, ‘shinydashboard’, ‘plotly’, ‘DT’\n",
      "\n",
      "\n",
      "Warning message in install.packages(new.pkg, dependencies = TRUE):\n",
      "“installation of package ‘rappdirs’ had non-zero exit status”\n",
      "Warning message in install.packages(new.pkg, dependencies = TRUE):\n",
      "“installation of package ‘bitops’ had non-zero exit status”\n",
      "Warning message in install.packages(new.pkg, dependencies = TRUE):\n",
      "“installation of package ‘semver’ had non-zero exit status”\n",
      "Warning message in install.packages(new.pkg, dependencies = TRUE):\n",
      "“installation of package ‘XML’ had non-zero exit status”\n",
      "Warning message in install.packages(new.pkg, dependencies = TRUE):\n",
      "“installation of package ‘covr’ had non-zero exit status”\n",
      "Warning message in install.packages(new.pkg, dependencies = TRUE):\n",
      "“installation of package ‘binman’ had non-zero exit status”\n",
      "Warning message in install.packages(new.pkg, dependencies = TRUE):\n",
      "“installation of package ‘caTools’ had non-zero exit status”\n",
      "Warning message in install.packages(new.pkg, dependencies = TRUE):\n",
      "“installation of package ‘wdman’ had non-zero exit status”\n",
      "Warning message in install.packages(new.pkg, dependencies = TRUE):\n",
      "“installation of package ‘RSelenium’ had non-zero exit status”\n",
      "Warning message in install.packages(new.pkg, dependencies = TRUE):\n",
      "“installation of package ‘snotelr’ had non-zero exit status”\n",
      "Updating HTML index of packages in '.Library'\n",
      "\n",
      "Making 'packages.html' ...\n",
      " done\n",
      "\n",
      "Loading required package: snotelr\n",
      "\n",
      "Warning message in library(package, lib.loc = lib.loc, character.only = TRUE, logical.return = TRUE, :\n",
      "“there is no package called ‘snotelr’”\n",
      "Loading required package: dplyr\n",
      "\n",
      "\n",
      "Attaching package: ‘dplyr’\n",
      "\n",
      "\n",
      "The following objects are masked from ‘package:stats’:\n",
      "\n",
      "    filter, lag\n",
      "\n",
      "\n",
      "The following objects are masked from ‘package:base’:\n",
      "\n",
      "    intersect, setdiff, setequal, union\n",
      "\n",
      "\n"
     ]
    },
    {
     "data": {
      "text/html": [
       "<style>\n",
       ".dl-inline {width: auto; margin:0; padding: 0}\n",
       ".dl-inline>dt, .dl-inline>dd {float: none; width: auto; display: inline-block}\n",
       ".dl-inline>dt::after {content: \":\\0020\"; padding-right: .5ex}\n",
       ".dl-inline>dt:not(:first-of-type) {padding-left: .5ex}\n",
       "</style><dl class=dl-inline><dt>snotelr</dt><dd>FALSE</dd><dt>dplyr</dt><dd>TRUE</dd></dl>\n"
      ],
      "text/latex": [
       "\\begin{description*}\n",
       "\\item[snotelr] FALSE\n",
       "\\item[dplyr] TRUE\n",
       "\\end{description*}\n"
      ],
      "text/markdown": [
       "snotelr\n",
       ":   FALSEdplyr\n",
       ":   TRUE\n",
       "\n"
      ],
      "text/plain": [
       "snotelr   dplyr \n",
       "  FALSE    TRUE "
      ]
     },
     "metadata": {},
     "output_type": "display_data"
    }
   ],
   "source": [
    "#https://cran.rapporter.net/web/packages/snotelr/vignettes/snotelr-vignette.html\n",
    "# library(snotelr)\n",
    "\n",
    "ipak <- function(pkg){\n",
    "    new.pkg <- pkg[!(pkg %in% installed.packages()[, \"Package\"])]\n",
    "    if (length(new.pkg)) \n",
    "        install.packages(new.pkg, dependencies = TRUE)\n",
    "    sapply(pkg, require, character.only = TRUE)\n",
    "}\n",
    "\n",
    "packages <- c('snotelr', 'dplyr')\n",
    "ipak(packages)"
   ]
  },
  {
   "cell_type": "markdown",
   "metadata": {},
   "source": [
    "# Download SNOTEL data"
   ]
  },
  {
   "cell_type": "code",
   "execution_count": null,
   "metadata": {},
   "outputs": [],
   "source": [
    "# downloading data for a random site\n",
    "# snow data at the 642 station(More)\n",
    "#https://wcc.sc.egov.usda.gov/nwcc/site?sitenum=642\n",
    "#snotel sites at the American River watershed\n",
    "\n",
    "# download and list site information\n",
    "site_meta_data <- snotel_info()\n",
    "head(site_meta_data)\n",
    "\n",
    "data_642<-subset(site_meta_data,site_meta_data$site_id==\"642\")\n",
    "\n",
    "\n",
    "snow_data <- snotel_download(site_id = 642, internal = TRUE)\n",
    "snow_data$dates<-as.Date(snow_data$date)\n",
    "\n",
    "# plotting\n",
    "plot(snow_data$dates,snow_data$snow_water_equivalent,type=\"l\")"
   ]
  }
 ],
 "metadata": {
  "kernelspec": {
   "display_name": "R",
   "language": "R",
   "name": "ir"
  },
  "language_info": {
   "codemirror_mode": "r",
   "file_extension": ".r",
   "mimetype": "text/x-r-source",
   "name": "R",
   "pygments_lexer": "r",
   "version": "4.0.2"
  }
 },
 "nbformat": 4,
 "nbformat_minor": 4
}
