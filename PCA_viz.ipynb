{
 "cells": [
  {
   "cell_type": "markdown",
   "metadata": {},
   "source": [
    "# PCA"
   ]
  },
  {
   "cell_type": "markdown",
   "metadata": {},
   "source": [
    "## Introduction\n",
    "Principal Component Analysis (PCA) is an orthogonal linear transformation that transforms the data to a new coordinate system, such that the greatest variance by some projection of the data lies on the first coordinate (i.e., the first principal component).\n",
    "\n",
    "The purpose of principal component analysis is to find the best low-dimensional representation of the variation in a multivariate data set. E.g. most of the variation in the variables can be captured by the first two PCs, where each PC is a linear combination of all the variables. \n",
    "\n",
    "Follow the [tutorial](https://python-for-multivariate-analysis.readthedocs.io/a_little_book_of_python_for_multivariate_analysis.html#principal-component-analysis) here.\n",
    "\n",
    "## Visualization of PCA\n",
    "- **Visualize 2D Projection**  \n",
    "The original data could have more than 2 features(columns). In wine.csv data, there are 13 features. One way to show the pricipal components is through scatter plot, to project the original data which is 13 dimensional into 2 dimensions. The contributions of the first two principal components can be shown. Note that after dimensionality reduction, there usually isn’t a particular meaning assigned to each principal component. The new components are just the two main dimensions of variation.\n",
    "\n",
    "- **loading plot**  \n",
    "Plotting is learned from StackOverFlow [here](https://stackoverflow.com/questions/39216897/plot-pca-loadings-and-loading-in-biplot-in-sklearn-like-rs-autoplot)\n",
    "To interpretate a biplot:<br>\n",
    "(1) the projected values of each vector show how much weight they have on that PC. i.e., the longer each vector fall on the axis, the larger that weight is. <br>\n",
    "(2) small angle (e.g., 0 $^{\\circ}$C) between vectors show strong positive correlation; larger angle (eg. 180 $^{\\circ}$C) show strong negative correlation; right angle (90 $^{\\circ}$C) indicates no correlation.\n",
    "\n",
    "## Get Started\n",
    "The data used in this notebook should be cleaned with no missing values. It has feature names and target names. The target variable should be provided. "
   ]
  },
  {
   "cell_type": "code",
   "execution_count": 1,
   "metadata": {},
   "outputs": [],
   "source": [
    "import sys\n",
    "sys.path.append(\"..\")\n",
    "\n",
    "#import pandas as pd\n",
    "#data = pd.read_csv(\"../data/wine.csv\") "
   ]
  },
  {
   "cell_type": "code",
   "execution_count": 2,
   "metadata": {},
   "outputs": [
    {
     "name": "stderr",
     "output_type": "stream",
     "text": [
      "/Users/sunx829/opt/anaconda3/lib/python3.7/site-packages/statsmodels/tools/_testing.py:19: FutureWarning: pandas.util.testing is deprecated. Use the functions in the public API at pandas.testing instead.\n",
      "  import pandas.util.testing as tm\n"
     ]
    }
   ],
   "source": [
    "from src.MyApp import pca_app\n",
    "from IPython.display import display"
   ]
  },
  {
   "cell_type": "code",
   "execution_count": 3,
   "metadata": {
    "scrolled": false
   },
   "outputs": [
    {
     "data": {
      "application/vnd.jupyter.widget-view+json": {
       "model_id": "249a13ba15a44b88a0610ed93a6d71e8",
       "version_major": 2,
       "version_minor": 0
      },
      "text/plain": [
       "MyApp(children=(Text(value='../data/wine.csv', description='data path', placeholder='Type data path'), Text(va…"
      ]
     },
     "metadata": {},
     "output_type": "display_data"
    }
   ],
   "source": [
    "app = pca_app()\n",
    "display(app)"
   ]
  },
  {
   "cell_type": "code",
   "execution_count": null,
   "metadata": {},
   "outputs": [],
   "source": []
  }
 ],
 "metadata": {
  "kernelspec": {
   "display_name": "Python 3",
   "language": "python",
   "name": "python3"
  },
  "language_info": {
   "codemirror_mode": {
    "name": "ipython",
    "version": 3
   },
   "file_extension": ".py",
   "mimetype": "text/x-python",
   "name": "python",
   "nbconvert_exporter": "python",
   "pygments_lexer": "ipython3",
   "version": "3.7.7"
  }
 },
 "nbformat": 4,
 "nbformat_minor": 2
}
