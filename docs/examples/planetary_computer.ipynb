{
  "cells": [
    {
      "cell_type": "markdown",
      "metadata": {
        "id": "view-in-github",
        "colab_type": "text"
      },
      "source": [
        "<a href=\"https://colab.research.google.com/github/pinshuai/jupyter-for-geoscience/blob/master/docs/examples/planetary_computer.ipynb\" target=\"_parent\"><img src=\"https://colab.research.google.com/assets/colab-badge.svg\" alt=\"Open In Colab\"/></a>"
      ]
    },
    {
      "cell_type": "markdown",
      "metadata": {
        "id": "xVKU-HcE3YmK"
      },
      "source": [
        "# Download Data from Planetary Computer\n",
        "\n",
        "[![image](https://colab.research.google.com/assets/colab-badge.svg)](https://colab.research.google.com/github/opengeos/geoai/blob/main/docs/examples/planetary_computer.ipynb)\n",
        "\n",
        "## Install package\n",
        "To use the `geoai-py` package, ensure it is installed in your environment. Uncomment the command below if needed."
      ]
    },
    {
      "cell_type": "code",
      "execution_count": 2,
      "metadata": {
        "id": "ycc-hm-j3YmK",
        "outputId": "d4d0f9c3-bebc-43cd-c7f0-2f3497276eba",
        "colab": {
          "base_uri": "https://localhost:8080/",
          "height": 1000
        }
      },
      "outputs": [
        {
          "output_type": "stream",
          "name": "stdout",
          "text": [
            "Collecting geoai-py\n",
            "  Downloading geoai_py-0.5.3-py2.py3-none-any.whl.metadata (6.6 kB)\n",
            "Requirement already satisfied: albumentations in /usr/local/lib/python3.11/dist-packages (from geoai-py) (2.0.5)\n",
            "Collecting contextily (from geoai-py)\n",
            "  Downloading contextily-1.6.2-py3-none-any.whl.metadata (2.9 kB)\n",
            "Requirement already satisfied: geopandas in /usr/local/lib/python3.11/dist-packages (from geoai-py) (1.0.1)\n",
            "Requirement already satisfied: huggingface_hub in /usr/local/lib/python3.11/dist-packages (from geoai-py) (0.30.1)\n",
            "Collecting jupyter-server-proxy (from geoai-py)\n",
            "  Downloading jupyter_server_proxy-4.4.0-py3-none-any.whl.metadata (8.7 kB)\n",
            "Collecting leafmap (from geoai-py)\n",
            "  Downloading leafmap-0.43.5-py2.py3-none-any.whl.metadata (16 kB)\n",
            "Collecting localtileserver (from geoai-py)\n",
            "  Downloading localtileserver-0.10.6-py3-none-any.whl.metadata (5.2 kB)\n",
            "Collecting mapclassify (from geoai-py)\n",
            "  Downloading mapclassify-2.8.1-py3-none-any.whl.metadata (2.8 kB)\n",
            "Collecting maplibre (from geoai-py)\n",
            "  Downloading maplibre-0.3.1-py3-none-any.whl.metadata (3.9 kB)\n",
            "Collecting overturemaps (from geoai-py)\n",
            "  Downloading overturemaps-0.14.0-py3-none-any.whl.metadata (4.0 kB)\n",
            "Collecting planetary-computer (from geoai-py)\n",
            "  Downloading planetary_computer-1.0.0-py3-none-any.whl.metadata (7.4 kB)\n",
            "Collecting pystac-client (from geoai-py)\n",
            "  Downloading pystac_client-0.8.6-py3-none-any.whl.metadata (3.0 kB)\n",
            "Collecting rasterio (from geoai-py)\n",
            "  Downloading rasterio-1.4.3-cp311-cp311-manylinux_2_17_x86_64.manylinux2014_x86_64.whl.metadata (9.1 kB)\n",
            "Collecting rioxarray (from geoai-py)\n",
            "  Downloading rioxarray-0.18.2-py3-none-any.whl.metadata (5.4 kB)\n",
            "Requirement already satisfied: scikit-image in /usr/local/lib/python3.11/dist-packages (from geoai-py) (0.25.2)\n",
            "Requirement already satisfied: scikit-learn in /usr/local/lib/python3.11/dist-packages (from geoai-py) (1.6.1)\n",
            "Requirement already satisfied: torch in /usr/local/lib/python3.11/dist-packages (from geoai-py) (2.6.0+cu124)\n",
            "Collecting torchgeo (from geoai-py)\n",
            "  Downloading torchgeo-0.7.0-py3-none-any.whl.metadata (19 kB)\n",
            "Collecting torchinfo (from geoai-py)\n",
            "  Downloading torchinfo-1.8.0-py3-none-any.whl.metadata (21 kB)\n",
            "Requirement already satisfied: tqdm in /usr/local/lib/python3.11/dist-packages (from geoai-py) (4.67.1)\n",
            "Requirement already satisfied: transformers in /usr/local/lib/python3.11/dist-packages (from geoai-py) (4.50.3)\n",
            "Requirement already satisfied: numpy>=1.24.4 in /usr/local/lib/python3.11/dist-packages (from albumentations->geoai-py) (2.0.2)\n",
            "Requirement already satisfied: scipy>=1.10.0 in /usr/local/lib/python3.11/dist-packages (from albumentations->geoai-py) (1.14.1)\n",
            "Requirement already satisfied: PyYAML in /usr/local/lib/python3.11/dist-packages (from albumentations->geoai-py) (6.0.2)\n",
            "Requirement already satisfied: pydantic>=2.9.2 in /usr/local/lib/python3.11/dist-packages (from albumentations->geoai-py) (2.11.2)\n",
            "Requirement already satisfied: albucore==0.0.23 in /usr/local/lib/python3.11/dist-packages (from albumentations->geoai-py) (0.0.23)\n",
            "Requirement already satisfied: opencv-python-headless>=4.9.0.80 in /usr/local/lib/python3.11/dist-packages (from albumentations->geoai-py) (4.11.0.86)\n",
            "Requirement already satisfied: stringzilla>=3.10.4 in /usr/local/lib/python3.11/dist-packages (from albucore==0.0.23->albumentations->geoai-py) (3.12.3)\n",
            "Requirement already satisfied: simsimd>=5.9.2 in /usr/local/lib/python3.11/dist-packages (from albucore==0.0.23->albumentations->geoai-py) (6.2.1)\n",
            "Requirement already satisfied: geopy in /usr/local/lib/python3.11/dist-packages (from contextily->geoai-py) (2.4.1)\n",
            "Requirement already satisfied: matplotlib in /usr/local/lib/python3.11/dist-packages (from contextily->geoai-py) (3.10.0)\n",
            "Collecting mercantile (from contextily->geoai-py)\n",
            "  Downloading mercantile-1.2.1-py3-none-any.whl.metadata (4.8 kB)\n",
            "Requirement already satisfied: pillow in /usr/local/lib/python3.11/dist-packages (from contextily->geoai-py) (11.1.0)\n",
            "Requirement already satisfied: requests in /usr/local/lib/python3.11/dist-packages (from contextily->geoai-py) (2.32.3)\n",
            "Requirement already satisfied: joblib in /usr/local/lib/python3.11/dist-packages (from contextily->geoai-py) (1.4.2)\n",
            "Requirement already satisfied: xyzservices in /usr/local/lib/python3.11/dist-packages (from contextily->geoai-py) (2025.1.0)\n",
            "Requirement already satisfied: pyogrio>=0.7.2 in /usr/local/lib/python3.11/dist-packages (from geopandas->geoai-py) (0.10.0)\n",
            "Requirement already satisfied: packaging in /usr/local/lib/python3.11/dist-packages (from geopandas->geoai-py) (24.2)\n",
            "Requirement already satisfied: pandas>=1.4.0 in /usr/local/lib/python3.11/dist-packages (from geopandas->geoai-py) (2.2.2)\n",
            "Requirement already satisfied: pyproj>=3.3.0 in /usr/local/lib/python3.11/dist-packages (from geopandas->geoai-py) (3.7.1)\n",
            "Requirement already satisfied: shapely>=2.0.0 in /usr/local/lib/python3.11/dist-packages (from geopandas->geoai-py) (2.1.0)\n",
            "Requirement already satisfied: filelock in /usr/local/lib/python3.11/dist-packages (from huggingface_hub->geoai-py) (3.18.0)\n",
            "Requirement already satisfied: fsspec>=2023.5.0 in /usr/local/lib/python3.11/dist-packages (from huggingface_hub->geoai-py) (2025.3.2)\n",
            "Requirement already satisfied: typing-extensions>=3.7.4.3 in /usr/local/lib/python3.11/dist-packages (from huggingface_hub->geoai-py) (4.13.1)\n",
            "Requirement already satisfied: aiohttp in /usr/local/lib/python3.11/dist-packages (from jupyter-server-proxy->geoai-py) (3.11.15)\n",
            "Collecting jupyter-server>=1.24.0 (from jupyter-server-proxy->geoai-py)\n",
            "  Downloading jupyter_server-2.15.0-py3-none-any.whl.metadata (8.4 kB)\n",
            "Collecting simpervisor>=1.0.0 (from jupyter-server-proxy->geoai-py)\n",
            "  Downloading simpervisor-1.0.0-py3-none-any.whl.metadata (4.3 kB)\n",
            "Requirement already satisfied: tornado>=6.1.0 in /usr/local/lib/python3.11/dist-packages (from jupyter-server-proxy->geoai-py) (6.4.2)\n",
            "Requirement already satisfied: traitlets>=5.1.0 in /usr/local/lib/python3.11/dist-packages (from jupyter-server-proxy->geoai-py) (5.7.1)\n",
            "Collecting anywidget (from leafmap->geoai-py)\n",
            "  Downloading anywidget-0.9.18-py3-none-any.whl.metadata (8.9 kB)\n",
            "Requirement already satisfied: bqplot in /usr/local/lib/python3.11/dist-packages (from leafmap->geoai-py) (0.12.44)\n",
            "Requirement already satisfied: colour in /usr/local/lib/python3.11/dist-packages (from leafmap->geoai-py) (0.1.5)\n",
            "Requirement already satisfied: duckdb in /usr/local/lib/python3.11/dist-packages (from leafmap->geoai-py) (1.2.1)\n",
            "Requirement already satisfied: folium in /usr/local/lib/python3.11/dist-packages (from leafmap->geoai-py) (0.19.5)\n",
            "Requirement already satisfied: gdown in /usr/local/lib/python3.11/dist-packages (from leafmap->geoai-py) (5.2.0)\n",
            "Collecting geojson (from leafmap->geoai-py)\n",
            "  Downloading geojson-3.2.0-py3-none-any.whl.metadata (16 kB)\n",
            "Requirement already satisfied: ipyevents in /usr/local/lib/python3.11/dist-packages (from leafmap->geoai-py) (2.0.2)\n",
            "Requirement already satisfied: ipyfilechooser in /usr/local/lib/python3.11/dist-packages (from leafmap->geoai-py) (0.6.0)\n",
            "Requirement already satisfied: ipyleaflet in /usr/local/lib/python3.11/dist-packages (from leafmap->geoai-py) (0.19.2)\n",
            "Collecting ipyvuetify (from leafmap->geoai-py)\n",
            "  Downloading ipyvuetify-1.11.1-py2.py3-none-any.whl.metadata (7.5 kB)\n",
            "Requirement already satisfied: ipywidgets in /usr/local/lib/python3.11/dist-packages (from leafmap->geoai-py) (7.7.1)\n",
            "Requirement already satisfied: plotly in /usr/local/lib/python3.11/dist-packages (from leafmap->geoai-py) (5.24.1)\n",
            "Requirement already satisfied: psutil in /usr/local/lib/python3.11/dist-packages (from leafmap->geoai-py) (5.9.5)\n",
            "Requirement already satisfied: pyshp in /usr/local/lib/python3.11/dist-packages (from leafmap->geoai-py) (2.3.1)\n",
            "Requirement already satisfied: python-box in /usr/local/lib/python3.11/dist-packages (from leafmap->geoai-py) (7.3.2)\n",
            "Requirement already satisfied: scooby in /usr/local/lib/python3.11/dist-packages (from leafmap->geoai-py) (0.10.0)\n",
            "Collecting whiteboxgui (from leafmap->geoai-py)\n",
            "  Downloading whiteboxgui-2.3.0-py2.py3-none-any.whl.metadata (5.7 kB)\n",
            "Requirement already satisfied: click in /usr/local/lib/python3.11/dist-packages (from localtileserver->geoai-py) (8.1.8)\n",
            "Requirement already satisfied: flask<4,>=2.0.0 in /usr/local/lib/python3.11/dist-packages (from localtileserver->geoai-py) (3.1.0)\n",
            "Collecting Flask-Caching (from localtileserver->geoai-py)\n",
            "  Downloading Flask_Caching-2.3.1-py3-none-any.whl.metadata (2.2 kB)\n",
            "Collecting flask-cors (from localtileserver->geoai-py)\n",
            "  Downloading flask_cors-5.0.1-py3-none-any.whl.metadata (961 bytes)\n",
            "Collecting flask-restx>=1.3.0 (from localtileserver->geoai-py)\n",
            "  Downloading flask_restx-1.3.0-py2.py3-none-any.whl.metadata (9.3 kB)\n",
            "Collecting rio-tiler (from localtileserver->geoai-py)\n",
            "  Downloading rio_tiler-7.6.0-py3-none-any.whl.metadata (12 kB)\n",
            "Collecting rio-cogeo (from localtileserver->geoai-py)\n",
            "  Downloading rio_cogeo-5.4.1-py3-none-any.whl.metadata (4.7 kB)\n",
            "Collecting server-thread (from localtileserver->geoai-py)\n",
            "  Downloading server_thread-0.3.0-py3-none-any.whl.metadata (5.3 kB)\n",
            "Requirement already satisfied: werkzeug in /usr/local/lib/python3.11/dist-packages (from localtileserver->geoai-py) (3.1.3)\n",
            "Requirement already satisfied: networkx>=2.7 in /usr/local/lib/python3.11/dist-packages (from mapclassify->geoai-py) (3.4.2)\n",
            "Requirement already satisfied: threadpoolctl>=3.1.0 in /usr/local/lib/python3.11/dist-packages (from scikit-learn->geoai-py) (3.6.0)\n",
            "Requirement already satisfied: branca in /usr/local/lib/python3.11/dist-packages (from maplibre->geoai-py) (0.8.1)\n",
            "Requirement already satisfied: jinja2>=3.1.5 in /usr/local/lib/python3.11/dist-packages (from maplibre->geoai-py) (3.1.6)\n",
            "Requirement already satisfied: pyarrow>=15.0.2 in /usr/local/lib/python3.11/dist-packages (from overturemaps->geoai-py) (18.1.0)\n",
            "Collecting pystac>=1.0.0 (from planetary-computer->geoai-py)\n",
            "  Downloading pystac-1.12.2-py3-none-any.whl.metadata (4.6 kB)\n",
            "Requirement already satisfied: pytz>=2020.5 in /usr/local/lib/python3.11/dist-packages (from planetary-computer->geoai-py) (2025.2)\n",
            "Collecting python-dotenv (from planetary-computer->geoai-py)\n",
            "  Downloading python_dotenv-1.1.0-py3-none-any.whl.metadata (24 kB)\n",
            "Requirement already satisfied: python-dateutil>=2.8.2 in /usr/local/lib/python3.11/dist-packages (from pystac-client->geoai-py) (2.8.2)\n",
            "Collecting affine (from rasterio->geoai-py)\n",
            "  Downloading affine-2.4.0-py3-none-any.whl.metadata (4.0 kB)\n",
            "Requirement already satisfied: attrs in /usr/local/lib/python3.11/dist-packages (from rasterio->geoai-py) (25.3.0)\n",
            "Requirement already satisfied: certifi in /usr/local/lib/python3.11/dist-packages (from rasterio->geoai-py) (2025.1.31)\n",
            "Collecting cligj>=0.5 (from rasterio->geoai-py)\n",
            "  Downloading cligj-0.7.2-py3-none-any.whl.metadata (5.0 kB)\n",
            "Collecting click-plugins (from rasterio->geoai-py)\n",
            "  Downloading click_plugins-1.1.1-py2.py3-none-any.whl.metadata (6.4 kB)\n",
            "Requirement already satisfied: pyparsing in /usr/local/lib/python3.11/dist-packages (from rasterio->geoai-py) (3.2.3)\n",
            "Requirement already satisfied: xarray>=2024.7.0 in /usr/local/lib/python3.11/dist-packages (from rioxarray->geoai-py) (2025.1.2)\n",
            "Requirement already satisfied: imageio!=2.35.0,>=2.33 in /usr/local/lib/python3.11/dist-packages (from scikit-image->geoai-py) (2.37.0)\n",
            "Requirement already satisfied: tifffile>=2022.8.12 in /usr/local/lib/python3.11/dist-packages (from scikit-image->geoai-py) (2025.3.30)\n",
            "Requirement already satisfied: lazy-loader>=0.4 in /usr/local/lib/python3.11/dist-packages (from scikit-image->geoai-py) (0.4)\n",
            "Collecting nvidia-cuda-nvrtc-cu12==12.4.127 (from torch->geoai-py)\n",
            "  Downloading nvidia_cuda_nvrtc_cu12-12.4.127-py3-none-manylinux2014_x86_64.whl.metadata (1.5 kB)\n",
            "Collecting nvidia-cuda-runtime-cu12==12.4.127 (from torch->geoai-py)\n",
            "  Downloading nvidia_cuda_runtime_cu12-12.4.127-py3-none-manylinux2014_x86_64.whl.metadata (1.5 kB)\n",
            "Collecting nvidia-cuda-cupti-cu12==12.4.127 (from torch->geoai-py)\n",
            "  Downloading nvidia_cuda_cupti_cu12-12.4.127-py3-none-manylinux2014_x86_64.whl.metadata (1.6 kB)\n",
            "Collecting nvidia-cudnn-cu12==9.1.0.70 (from torch->geoai-py)\n",
            "  Downloading nvidia_cudnn_cu12-9.1.0.70-py3-none-manylinux2014_x86_64.whl.metadata (1.6 kB)\n",
            "Collecting nvidia-cublas-cu12==12.4.5.8 (from torch->geoai-py)\n",
            "  Downloading nvidia_cublas_cu12-12.4.5.8-py3-none-manylinux2014_x86_64.whl.metadata (1.5 kB)\n",
            "Collecting nvidia-cufft-cu12==11.2.1.3 (from torch->geoai-py)\n",
            "  Downloading nvidia_cufft_cu12-11.2.1.3-py3-none-manylinux2014_x86_64.whl.metadata (1.5 kB)\n",
            "Collecting nvidia-curand-cu12==10.3.5.147 (from torch->geoai-py)\n",
            "  Downloading nvidia_curand_cu12-10.3.5.147-py3-none-manylinux2014_x86_64.whl.metadata (1.5 kB)\n",
            "Collecting nvidia-cusolver-cu12==11.6.1.9 (from torch->geoai-py)\n",
            "  Downloading nvidia_cusolver_cu12-11.6.1.9-py3-none-manylinux2014_x86_64.whl.metadata (1.6 kB)\n",
            "Collecting nvidia-cusparse-cu12==12.3.1.170 (from torch->geoai-py)\n",
            "  Downloading nvidia_cusparse_cu12-12.3.1.170-py3-none-manylinux2014_x86_64.whl.metadata (1.6 kB)\n",
            "Requirement already satisfied: nvidia-cusparselt-cu12==0.6.2 in /usr/local/lib/python3.11/dist-packages (from torch->geoai-py) (0.6.2)\n",
            "Requirement already satisfied: nvidia-nccl-cu12==2.21.5 in /usr/local/lib/python3.11/dist-packages (from torch->geoai-py) (2.21.5)\n",
            "Requirement already satisfied: nvidia-nvtx-cu12==12.4.127 in /usr/local/lib/python3.11/dist-packages (from torch->geoai-py) (12.4.127)\n",
            "Collecting nvidia-nvjitlink-cu12==12.4.127 (from torch->geoai-py)\n",
            "  Downloading nvidia_nvjitlink_cu12-12.4.127-py3-none-manylinux2014_x86_64.whl.metadata (1.5 kB)\n",
            "Requirement already satisfied: triton==3.2.0 in /usr/local/lib/python3.11/dist-packages (from torch->geoai-py) (3.2.0)\n",
            "Requirement already satisfied: sympy==1.13.1 in /usr/local/lib/python3.11/dist-packages (from torch->geoai-py) (1.13.1)\n",
            "Requirement already satisfied: mpmath<1.4,>=1.1.0 in /usr/local/lib/python3.11/dist-packages (from sympy==1.13.1->torch->geoai-py) (1.3.0)\n",
            "Requirement already satisfied: einops>=0.3 in /usr/local/lib/python3.11/dist-packages (from torchgeo->geoai-py) (0.8.1)\n",
            "Collecting fiona>=1.8.22 (from torchgeo->geoai-py)\n",
            "  Downloading fiona-1.10.1-cp311-cp311-manylinux_2_17_x86_64.manylinux2014_x86_64.whl.metadata (56 kB)\n",
            "\u001b[2K     \u001b[90m━━━━━━━━━━━━━━━━━━━━━━━━━━━━━━━━━━━━━━━━\u001b[0m \u001b[32m56.6/56.6 kB\u001b[0m \u001b[31m3.1 MB/s\u001b[0m eta \u001b[36m0:00:00\u001b[0m\n",
            "\u001b[?25hCollecting kornia>=0.7.4 (from torchgeo->geoai-py)\n",
            "  Downloading kornia-0.8.0-py2.py3-none-any.whl.metadata (17 kB)\n",
            "Collecting lightly!=1.4.26,>=1.4.5 (from torchgeo->geoai-py)\n",
            "  Downloading lightly-1.5.19-py3-none-any.whl.metadata (36 kB)\n",
            "Collecting lightning!=2.3.*,!=2.5.0,>=2 (from lightning[pytorch-extra]!=2.3.*,!=2.5.0,>=2->torchgeo->geoai-py)\n",
            "  Downloading lightning-2.5.1-py3-none-any.whl.metadata (39 kB)\n",
            "Collecting rtree>=1.0.1 (from torchgeo->geoai-py)\n",
            "  Downloading rtree-1.4.0-py3-none-manylinux2014_x86_64.manylinux_2_17_x86_64.whl.metadata (2.1 kB)\n",
            "Collecting segmentation-models-pytorch>=0.3.3 (from torchgeo->geoai-py)\n",
            "  Downloading segmentation_models_pytorch-0.4.0-py3-none-any.whl.metadata (32 kB)\n",
            "Requirement already satisfied: timm>=0.9.2 in /usr/local/lib/python3.11/dist-packages (from torchgeo->geoai-py) (1.0.15)\n",
            "Collecting torchmetrics>=1.2 (from torchgeo->geoai-py)\n",
            "  Downloading torchmetrics-1.7.1-py3-none-any.whl.metadata (21 kB)\n",
            "Requirement already satisfied: torchvision>=0.15.1 in /usr/local/lib/python3.11/dist-packages (from torchgeo->geoai-py) (0.21.0+cu124)\n",
            "Requirement already satisfied: regex!=2019.12.17 in /usr/local/lib/python3.11/dist-packages (from transformers->geoai-py) (2024.11.6)\n",
            "Requirement already satisfied: tokenizers<0.22,>=0.21 in /usr/local/lib/python3.11/dist-packages (from transformers->geoai-py) (0.21.1)\n",
            "Requirement already satisfied: safetensors>=0.4.3 in /usr/local/lib/python3.11/dist-packages (from transformers->geoai-py) (0.5.3)\n",
            "Requirement already satisfied: itsdangerous>=2.2 in /usr/local/lib/python3.11/dist-packages (from flask<4,>=2.0.0->localtileserver->geoai-py) (2.2.0)\n",
            "Requirement already satisfied: blinker>=1.9 in /usr/local/lib/python3.11/dist-packages (from flask<4,>=2.0.0->localtileserver->geoai-py) (1.9.0)\n",
            "Collecting aniso8601>=0.82 (from flask-restx>=1.3.0->localtileserver->geoai-py)\n",
            "  Downloading aniso8601-10.0.0-py2.py3-none-any.whl.metadata (23 kB)\n",
            "Requirement already satisfied: jsonschema in /usr/local/lib/python3.11/dist-packages (from flask-restx>=1.3.0->localtileserver->geoai-py) (4.23.0)\n",
            "Requirement already satisfied: importlib-resources in /usr/local/lib/python3.11/dist-packages (from flask-restx>=1.3.0->localtileserver->geoai-py) (6.5.2)\n",
            "Requirement already satisfied: MarkupSafe>=2.0 in /usr/local/lib/python3.11/dist-packages (from jinja2>=3.1.5->maplibre->geoai-py) (3.0.2)\n",
            "Requirement already satisfied: anyio>=3.1.0 in /usr/local/lib/python3.11/dist-packages (from jupyter-server>=1.24.0->jupyter-server-proxy->geoai-py) (4.9.0)\n",
            "Requirement already satisfied: argon2-cffi>=21.1 in /usr/local/lib/python3.11/dist-packages (from jupyter-server>=1.24.0->jupyter-server-proxy->geoai-py) (23.1.0)\n",
            "Collecting jupyter-client>=7.4.4 (from jupyter-server>=1.24.0->jupyter-server-proxy->geoai-py)\n",
            "  Downloading jupyter_client-8.6.3-py3-none-any.whl.metadata (8.3 kB)\n",
            "Requirement already satisfied: jupyter-core!=5.0.*,>=4.12 in /usr/local/lib/python3.11/dist-packages (from jupyter-server>=1.24.0->jupyter-server-proxy->geoai-py) (5.7.2)\n",
            "Collecting jupyter-events>=0.11.0 (from jupyter-server>=1.24.0->jupyter-server-proxy->geoai-py)\n",
            "  Downloading jupyter_events-0.12.0-py3-none-any.whl.metadata (5.8 kB)\n",
            "Collecting jupyter-server-terminals>=0.4.4 (from jupyter-server>=1.24.0->jupyter-server-proxy->geoai-py)\n",
            "  Downloading jupyter_server_terminals-0.5.3-py3-none-any.whl.metadata (5.6 kB)\n",
            "Requirement already satisfied: nbconvert>=6.4.4 in /usr/local/lib/python3.11/dist-packages (from jupyter-server>=1.24.0->jupyter-server-proxy->geoai-py) (7.16.6)\n",
            "Requirement already satisfied: nbformat>=5.3.0 in /usr/local/lib/python3.11/dist-packages (from jupyter-server>=1.24.0->jupyter-server-proxy->geoai-py) (5.10.4)\n",
            "Collecting overrides>=5.0 (from jupyter-server>=1.24.0->jupyter-server-proxy->geoai-py)\n",
            "  Downloading overrides-7.7.0-py3-none-any.whl.metadata (5.8 kB)\n",
            "Requirement already satisfied: prometheus-client>=0.9 in /usr/local/lib/python3.11/dist-packages (from jupyter-server>=1.24.0->jupyter-server-proxy->geoai-py) (0.21.1)\n",
            "Requirement already satisfied: pyzmq>=24 in /usr/local/lib/python3.11/dist-packages (from jupyter-server>=1.24.0->jupyter-server-proxy->geoai-py) (24.0.1)\n",
            "Requirement already satisfied: send2trash>=1.8.2 in /usr/local/lib/python3.11/dist-packages (from jupyter-server>=1.24.0->jupyter-server-proxy->geoai-py) (1.8.3)\n",
            "Requirement already satisfied: terminado>=0.8.3 in /usr/local/lib/python3.11/dist-packages (from jupyter-server>=1.24.0->jupyter-server-proxy->geoai-py) (0.18.1)\n",
            "Requirement already satisfied: websocket-client>=1.7 in /usr/local/lib/python3.11/dist-packages (from jupyter-server>=1.24.0->jupyter-server-proxy->geoai-py) (1.8.0)\n",
            "Collecting kornia_rs>=0.1.0 (from kornia>=0.7.4->torchgeo->geoai-py)\n",
            "  Downloading kornia_rs-0.1.8-cp311-cp311-manylinux_2_17_x86_64.manylinux2014_x86_64.whl.metadata (10 kB)\n",
            "Collecting hydra-core>=1.0.0 (from lightly!=1.4.26,>=1.4.5->torchgeo->geoai-py)\n",
            "  Downloading hydra_core-1.3.2-py3-none-any.whl.metadata (5.5 kB)\n",
            "Collecting lightly_utils~=0.0.0 (from lightly!=1.4.26,>=1.4.5->torchgeo->geoai-py)\n",
            "  Downloading lightly_utils-0.0.2-py3-none-any.whl.metadata (1.4 kB)\n",
            "Requirement already satisfied: six>=1.10 in /usr/local/lib/python3.11/dist-packages (from lightly!=1.4.26,>=1.4.5->torchgeo->geoai-py) (1.17.0)\n",
            "Collecting pytorch_lightning>=1.0.4 (from lightly!=1.4.26,>=1.4.5->torchgeo->geoai-py)\n",
            "  Downloading pytorch_lightning-2.5.1-py3-none-any.whl.metadata (20 kB)\n",
            "Requirement already satisfied: urllib3>=1.25.3 in /usr/local/lib/python3.11/dist-packages (from lightly!=1.4.26,>=1.4.5->torchgeo->geoai-py) (2.3.0)\n",
            "Collecting aenum>=3.1.11 (from lightly!=1.4.26,>=1.4.5->torchgeo->geoai-py)\n",
            "  Downloading aenum-3.1.15-py3-none-any.whl.metadata (3.7 kB)\n",
            "Collecting lightning-utilities<2.0,>=0.10.0 (from lightning!=2.3.*,!=2.5.0,>=2->lightning[pytorch-extra]!=2.3.*,!=2.5.0,>=2->torchgeo->geoai-py)\n",
            "  Downloading lightning_utilities-0.14.3-py3-none-any.whl.metadata (5.6 kB)\n",
            "Collecting jsonargparse<5.0,>=4.27.7 (from jsonargparse[signatures]<5.0,>=4.27.7; extra == \"pytorch-extra\"->lightning[pytorch-extra]!=2.3.*,!=2.5.0,>=2->torchgeo->geoai-py)\n",
            "  Downloading jsonargparse-4.38.0-py3-none-any.whl.metadata (12 kB)\n",
            "Collecting omegaconf<3.0,>=2.2.3 (from lightning[pytorch-extra]!=2.3.*,!=2.5.0,>=2->torchgeo->geoai-py)\n",
            "  Downloading omegaconf-2.3.0-py3-none-any.whl.metadata (3.9 kB)\n",
            "Requirement already satisfied: rich<14.0,>=12.3.0 in /usr/local/lib/python3.11/dist-packages (from lightning[pytorch-extra]!=2.3.*,!=2.5.0,>=2->torchgeo->geoai-py) (13.9.4)\n",
            "Collecting tensorboardX<3.0,>=2.2 (from lightning[pytorch-extra]!=2.3.*,!=2.5.0,>=2->torchgeo->geoai-py)\n",
            "  Downloading tensorboardX-2.6.2.2-py2.py3-none-any.whl.metadata (5.8 kB)\n",
            "Collecting bitsandbytes<1.0,>=0.45.2 (from lightning[pytorch-extra]!=2.3.*,!=2.5.0,>=2->torchgeo->geoai-py)\n",
            "  Downloading bitsandbytes-0.45.5-py3-none-manylinux_2_24_x86_64.whl.metadata (5.0 kB)\n",
            "Requirement already satisfied: contourpy>=1.0.1 in /usr/local/lib/python3.11/dist-packages (from matplotlib->contextily->geoai-py) (1.3.1)\n",
            "Requirement already satisfied: cycler>=0.10 in /usr/local/lib/python3.11/dist-packages (from matplotlib->contextily->geoai-py) (0.12.1)\n",
            "Requirement already satisfied: fonttools>=4.22.0 in /usr/local/lib/python3.11/dist-packages (from matplotlib->contextily->geoai-py) (4.57.0)\n",
            "Requirement already satisfied: kiwisolver>=1.3.1 in /usr/local/lib/python3.11/dist-packages (from matplotlib->contextily->geoai-py) (1.4.8)\n",
            "Requirement already satisfied: tzdata>=2022.7 in /usr/local/lib/python3.11/dist-packages (from pandas>=1.4.0->geopandas->geoai-py) (2025.2)\n",
            "Requirement already satisfied: annotated-types>=0.6.0 in /usr/local/lib/python3.11/dist-packages (from pydantic>=2.9.2->albumentations->geoai-py) (0.7.0)\n",
            "Requirement already satisfied: pydantic-core==2.33.1 in /usr/local/lib/python3.11/dist-packages (from pydantic>=2.9.2->albumentations->geoai-py) (2.33.1)\n",
            "Requirement already satisfied: typing-inspection>=0.4.0 in /usr/local/lib/python3.11/dist-packages (from pydantic>=2.9.2->albumentations->geoai-py) (0.4.0)\n",
            "Requirement already satisfied: charset-normalizer<4,>=2 in /usr/local/lib/python3.11/dist-packages (from requests->contextily->geoai-py) (3.4.1)\n",
            "Requirement already satisfied: idna<4,>=2.5 in /usr/local/lib/python3.11/dist-packages (from requests->contextily->geoai-py) (3.10)\n",
            "Collecting efficientnet-pytorch>=0.6.1 (from segmentation-models-pytorch>=0.3.3->torchgeo->geoai-py)\n",
            "  Downloading efficientnet_pytorch-0.7.1.tar.gz (21 kB)\n",
            "  Preparing metadata (setup.py) ... \u001b[?25l\u001b[?25hdone\n",
            "Collecting pretrainedmodels>=0.7.1 (from segmentation-models-pytorch>=0.3.3->torchgeo->geoai-py)\n",
            "  Downloading pretrainedmodels-0.7.4.tar.gz (58 kB)\n",
            "\u001b[2K     \u001b[90m━━━━━━━━━━━━━━━━━━━━━━━━━━━━━━━━━━━━━━━━\u001b[0m \u001b[32m58.8/58.8 kB\u001b[0m \u001b[31m4.5 MB/s\u001b[0m eta \u001b[36m0:00:00\u001b[0m\n",
            "\u001b[?25h  Preparing metadata (setup.py) ... \u001b[?25l\u001b[?25hdone\n",
            "Requirement already satisfied: aiohappyeyeballs>=2.3.0 in /usr/local/lib/python3.11/dist-packages (from aiohttp->jupyter-server-proxy->geoai-py) (2.6.1)\n",
            "Requirement already satisfied: aiosignal>=1.1.2 in /usr/local/lib/python3.11/dist-packages (from aiohttp->jupyter-server-proxy->geoai-py) (1.3.2)\n",
            "Requirement already satisfied: frozenlist>=1.1.1 in /usr/local/lib/python3.11/dist-packages (from aiohttp->jupyter-server-proxy->geoai-py) (1.5.0)\n",
            "Requirement already satisfied: multidict<7.0,>=4.5 in /usr/local/lib/python3.11/dist-packages (from aiohttp->jupyter-server-proxy->geoai-py) (6.2.0)\n",
            "Requirement already satisfied: propcache>=0.2.0 in /usr/local/lib/python3.11/dist-packages (from aiohttp->jupyter-server-proxy->geoai-py) (0.3.1)\n",
            "Requirement already satisfied: yarl<2.0,>=1.17.0 in /usr/local/lib/python3.11/dist-packages (from aiohttp->jupyter-server-proxy->geoai-py) (1.18.3)\n",
            "Collecting psygnal>=0.8.1 (from anywidget->leafmap->geoai-py)\n",
            "  Downloading psygnal-0.12.0-cp311-cp311-manylinux_2_17_x86_64.manylinux2014_x86_64.whl.metadata (7.7 kB)\n",
            "Requirement already satisfied: ipykernel>=4.5.1 in /usr/local/lib/python3.11/dist-packages (from ipywidgets->leafmap->geoai-py) (6.17.1)\n",
            "Requirement already satisfied: ipython-genutils~=0.2.0 in /usr/local/lib/python3.11/dist-packages (from ipywidgets->leafmap->geoai-py) (0.2.0)\n",
            "Requirement already satisfied: widgetsnbextension~=3.6.0 in /usr/local/lib/python3.11/dist-packages (from ipywidgets->leafmap->geoai-py) (3.6.10)\n",
            "Requirement already satisfied: ipython>=4.0.0 in /usr/local/lib/python3.11/dist-packages (from ipywidgets->leafmap->geoai-py) (7.34.0)\n",
            "Requirement already satisfied: jupyterlab-widgets>=1.0.0 in /usr/local/lib/python3.11/dist-packages (from ipywidgets->leafmap->geoai-py) (3.0.13)\n",
            "Requirement already satisfied: traittypes>=0.0.6 in /usr/local/lib/python3.11/dist-packages (from bqplot->leafmap->geoai-py) (0.2.1)\n",
            "Collecting cachelib>=0.9.0 (from Flask-Caching->localtileserver->geoai-py)\n",
            "  Downloading cachelib-0.13.0-py3-none-any.whl.metadata (2.0 kB)\n",
            "Requirement already satisfied: beautifulsoup4 in /usr/local/lib/python3.11/dist-packages (from gdown->leafmap->geoai-py) (4.13.3)\n",
            "Requirement already satisfied: geographiclib<3,>=1.52 in /usr/local/lib/python3.11/dist-packages (from geopy->contextily->geoai-py) (2.0)\n",
            "Requirement already satisfied: jupyter-leaflet<0.20,>=0.19 in /usr/local/lib/python3.11/dist-packages (from ipyleaflet->leafmap->geoai-py) (0.19.2)\n",
            "Collecting ipyvue<2,>=1.7 (from ipyvuetify->leafmap->geoai-py)\n",
            "  Downloading ipyvue-1.11.2-py2.py3-none-any.whl.metadata (1.1 kB)\n",
            "Requirement already satisfied: tenacity>=6.2.0 in /usr/local/lib/python3.11/dist-packages (from plotly->leafmap->geoai-py) (9.1.2)\n",
            "Collecting morecantile<7.0,>=5.0 (from rio-cogeo->localtileserver->geoai-py)\n",
            "  Downloading morecantile-6.2.0-py3-none-any.whl.metadata (7.3 kB)\n",
            "Requirement already satisfied: cachetools in /usr/local/lib/python3.11/dist-packages (from rio-tiler->localtileserver->geoai-py) (5.5.2)\n",
            "Collecting color-operations (from rio-tiler->localtileserver->geoai-py)\n",
            "  Downloading color_operations-0.2.0-cp311-cp311-manylinux_2_5_x86_64.manylinux1_x86_64.manylinux_2_17_x86_64.manylinux2014_x86_64.whl.metadata (6.3 kB)\n",
            "Requirement already satisfied: httpx in /usr/local/lib/python3.11/dist-packages (from rio-tiler->localtileserver->geoai-py) (0.28.1)\n",
            "Requirement already satisfied: numexpr in /usr/local/lib/python3.11/dist-packages (from rio-tiler->localtileserver->geoai-py) (2.10.2)\n",
            "Collecting uvicorn (from server-thread->localtileserver->geoai-py)\n",
            "  Downloading uvicorn-0.34.0-py3-none-any.whl.metadata (6.5 kB)\n",
            "Requirement already satisfied: ipytree in /usr/local/lib/python3.11/dist-packages (from whiteboxgui->leafmap->geoai-py) (0.2.2)\n",
            "Collecting whitebox (from whiteboxgui->leafmap->geoai-py)\n",
            "  Downloading whitebox-2.3.6-py2.py3-none-any.whl.metadata (11 kB)\n",
            "Requirement already satisfied: sniffio>=1.1 in /usr/local/lib/python3.11/dist-packages (from anyio>=3.1.0->jupyter-server>=1.24.0->jupyter-server-proxy->geoai-py) (1.3.1)\n",
            "Requirement already satisfied: argon2-cffi-bindings in /usr/local/lib/python3.11/dist-packages (from argon2-cffi>=21.1->jupyter-server>=1.24.0->jupyter-server-proxy->geoai-py) (21.2.0)\n",
            "Collecting antlr4-python3-runtime==4.9.* (from hydra-core>=1.0.0->lightly!=1.4.26,>=1.4.5->torchgeo->geoai-py)\n",
            "  Downloading antlr4-python3-runtime-4.9.3.tar.gz (117 kB)\n",
            "\u001b[2K     \u001b[90m━━━━━━━━━━━━━━━━━━━━━━━━━━━━━━━━━━━━━━━━\u001b[0m \u001b[32m117.0/117.0 kB\u001b[0m \u001b[31m7.7 MB/s\u001b[0m eta \u001b[36m0:00:00\u001b[0m\n",
            "\u001b[?25h  Preparing metadata (setup.py) ... \u001b[?25l\u001b[?25hdone\n",
            "Requirement already satisfied: debugpy>=1.0 in /usr/local/lib/python3.11/dist-packages (from ipykernel>=4.5.1->ipywidgets->leafmap->geoai-py) (1.8.0)\n",
            "Requirement already satisfied: matplotlib-inline>=0.1 in /usr/local/lib/python3.11/dist-packages (from ipykernel>=4.5.1->ipywidgets->leafmap->geoai-py) (0.1.7)\n",
            "Requirement already satisfied: nest-asyncio in /usr/local/lib/python3.11/dist-packages (from ipykernel>=4.5.1->ipywidgets->leafmap->geoai-py) (1.6.0)\n",
            "Requirement already satisfied: setuptools>=18.5 in /usr/local/lib/python3.11/dist-packages (from ipython>=4.0.0->ipywidgets->leafmap->geoai-py) (75.2.0)\n",
            "Collecting jedi>=0.16 (from ipython>=4.0.0->ipywidgets->leafmap->geoai-py)\n",
            "  Downloading jedi-0.19.2-py2.py3-none-any.whl.metadata (22 kB)\n",
            "Requirement already satisfied: decorator in /usr/local/lib/python3.11/dist-packages (from ipython>=4.0.0->ipywidgets->leafmap->geoai-py) (4.4.2)\n",
            "Requirement already satisfied: pickleshare in /usr/local/lib/python3.11/dist-packages (from ipython>=4.0.0->ipywidgets->leafmap->geoai-py) (0.7.5)\n",
            "Requirement already satisfied: prompt-toolkit!=3.0.0,!=3.0.1,<3.1.0,>=2.0.0 in /usr/local/lib/python3.11/dist-packages (from ipython>=4.0.0->ipywidgets->leafmap->geoai-py) (3.0.50)\n",
            "Requirement already satisfied: pygments in /usr/local/lib/python3.11/dist-packages (from ipython>=4.0.0->ipywidgets->leafmap->geoai-py) (2.18.0)\n",
            "Requirement already satisfied: backcall in /usr/local/lib/python3.11/dist-packages (from ipython>=4.0.0->ipywidgets->leafmap->geoai-py) (0.2.0)\n",
            "Requirement already satisfied: pexpect>4.3 in /usr/local/lib/python3.11/dist-packages (from ipython>=4.0.0->ipywidgets->leafmap->geoai-py) (4.9.0)\n",
            "Requirement already satisfied: docstring-parser>=0.15 in /usr/local/lib/python3.11/dist-packages (from jsonargparse[signatures]<5.0,>=4.27.7; extra == \"pytorch-extra\"->lightning[pytorch-extra]!=2.3.*,!=2.5.0,>=2->torchgeo->geoai-py) (0.16)\n",
            "Collecting typeshed-client>=2.1.0 (from jsonargparse[signatures]<5.0,>=4.27.7; extra == \"pytorch-extra\"->lightning[pytorch-extra]!=2.3.*,!=2.5.0,>=2->torchgeo->geoai-py)\n",
            "  Downloading typeshed_client-2.7.0-py3-none-any.whl.metadata (7.9 kB)\n",
            "Requirement already satisfied: jsonschema-specifications>=2023.03.6 in /usr/local/lib/python3.11/dist-packages (from jsonschema->flask-restx>=1.3.0->localtileserver->geoai-py) (2024.10.1)\n",
            "Requirement already satisfied: referencing>=0.28.4 in /usr/local/lib/python3.11/dist-packages (from jsonschema->flask-restx>=1.3.0->localtileserver->geoai-py) (0.36.2)\n",
            "Requirement already satisfied: rpds-py>=0.7.1 in /usr/local/lib/python3.11/dist-packages (from jsonschema->flask-restx>=1.3.0->localtileserver->geoai-py) (0.24.0)\n",
            "Requirement already satisfied: platformdirs>=2.5 in /usr/local/lib/python3.11/dist-packages (from jupyter-core!=5.0.*,>=4.12->jupyter-server>=1.24.0->jupyter-server-proxy->geoai-py) (4.3.7)\n",
            "Collecting python-json-logger>=2.0.4 (from jupyter-events>=0.11.0->jupyter-server>=1.24.0->jupyter-server-proxy->geoai-py)\n",
            "  Downloading python_json_logger-3.3.0-py3-none-any.whl.metadata (4.0 kB)\n",
            "Collecting rfc3339-validator (from jupyter-events>=0.11.0->jupyter-server>=1.24.0->jupyter-server-proxy->geoai-py)\n",
            "  Downloading rfc3339_validator-0.1.4-py2.py3-none-any.whl.metadata (1.5 kB)\n",
            "Collecting rfc3986-validator>=0.1.1 (from jupyter-events>=0.11.0->jupyter-server>=1.24.0->jupyter-server-proxy->geoai-py)\n",
            "  Downloading rfc3986_validator-0.1.1-py2.py3-none-any.whl.metadata (1.7 kB)\n",
            "Requirement already satisfied: bleach!=5.0.0 in /usr/local/lib/python3.11/dist-packages (from bleach[css]!=5.0.0->nbconvert>=6.4.4->jupyter-server>=1.24.0->jupyter-server-proxy->geoai-py) (6.2.0)\n",
            "Requirement already satisfied: defusedxml in /usr/local/lib/python3.11/dist-packages (from nbconvert>=6.4.4->jupyter-server>=1.24.0->jupyter-server-proxy->geoai-py) (0.7.1)\n",
            "Requirement already satisfied: jupyterlab-pygments in /usr/local/lib/python3.11/dist-packages (from nbconvert>=6.4.4->jupyter-server>=1.24.0->jupyter-server-proxy->geoai-py) (0.3.0)\n",
            "Requirement already satisfied: mistune<4,>=2.0.3 in /usr/local/lib/python3.11/dist-packages (from nbconvert>=6.4.4->jupyter-server>=1.24.0->jupyter-server-proxy->geoai-py) (3.1.3)\n",
            "Requirement already satisfied: nbclient>=0.5.0 in /usr/local/lib/python3.11/dist-packages (from nbconvert>=6.4.4->jupyter-server>=1.24.0->jupyter-server-proxy->geoai-py) (0.10.2)\n",
            "Requirement already satisfied: pandocfilters>=1.4.1 in /usr/local/lib/python3.11/dist-packages (from nbconvert>=6.4.4->jupyter-server>=1.24.0->jupyter-server-proxy->geoai-py) (1.5.1)\n",
            "Requirement already satisfied: fastjsonschema>=2.15 in /usr/local/lib/python3.11/dist-packages (from nbformat>=5.3.0->jupyter-server>=1.24.0->jupyter-server-proxy->geoai-py) (2.21.1)\n",
            "Collecting munch (from pretrainedmodels>=0.7.1->segmentation-models-pytorch>=0.3.3->torchgeo->geoai-py)\n",
            "  Downloading munch-4.0.0-py2.py3-none-any.whl.metadata (5.9 kB)\n",
            "Requirement already satisfied: markdown-it-py>=2.2.0 in /usr/local/lib/python3.11/dist-packages (from rich<14.0,>=12.3.0->lightning[pytorch-extra]!=2.3.*,!=2.5.0,>=2->torchgeo->geoai-py) (3.0.0)\n",
            "Requirement already satisfied: protobuf>=3.20 in /usr/local/lib/python3.11/dist-packages (from tensorboardX<3.0,>=2.2->lightning[pytorch-extra]!=2.3.*,!=2.5.0,>=2->torchgeo->geoai-py) (5.29.4)\n",
            "Requirement already satisfied: ptyprocess in /usr/local/lib/python3.11/dist-packages (from terminado>=0.8.3->jupyter-server>=1.24.0->jupyter-server-proxy->geoai-py) (0.7.0)\n",
            "Requirement already satisfied: notebook>=4.4.1 in /usr/local/lib/python3.11/dist-packages (from widgetsnbextension~=3.6.0->ipywidgets->leafmap->geoai-py) (6.5.7)\n",
            "Requirement already satisfied: soupsieve>1.2 in /usr/local/lib/python3.11/dist-packages (from beautifulsoup4->gdown->leafmap->geoai-py) (2.6)\n",
            "Requirement already satisfied: httpcore==1.* in /usr/local/lib/python3.11/dist-packages (from httpx->rio-tiler->localtileserver->geoai-py) (1.0.7)\n",
            "Requirement already satisfied: h11<0.15,>=0.13 in /usr/local/lib/python3.11/dist-packages (from httpcore==1.*->httpx->rio-tiler->localtileserver->geoai-py) (0.14.0)\n",
            "Requirement already satisfied: PySocks!=1.5.7,>=1.5.6 in /usr/local/lib/python3.11/dist-packages (from requests[socks]->gdown->leafmap->geoai-py) (1.7.1)\n",
            "Requirement already satisfied: webencodings in /usr/local/lib/python3.11/dist-packages (from bleach!=5.0.0->bleach[css]!=5.0.0->nbconvert>=6.4.4->jupyter-server>=1.24.0->jupyter-server-proxy->geoai-py) (0.5.1)\n",
            "Requirement already satisfied: tinycss2<1.5,>=1.1.0 in /usr/local/lib/python3.11/dist-packages (from bleach[css]!=5.0.0->nbconvert>=6.4.4->jupyter-server>=1.24.0->jupyter-server-proxy->geoai-py) (1.4.0)\n",
            "Requirement already satisfied: parso<0.9.0,>=0.8.4 in /usr/local/lib/python3.11/dist-packages (from jedi>=0.16->ipython>=4.0.0->ipywidgets->leafmap->geoai-py) (0.8.4)\n",
            "Collecting fqdn (from jsonschema[format-nongpl]>=4.18.0->jupyter-events>=0.11.0->jupyter-server>=1.24.0->jupyter-server-proxy->geoai-py)\n",
            "  Downloading fqdn-1.5.1-py3-none-any.whl.metadata (1.4 kB)\n",
            "Collecting isoduration (from jsonschema[format-nongpl]>=4.18.0->jupyter-events>=0.11.0->jupyter-server>=1.24.0->jupyter-server-proxy->geoai-py)\n",
            "  Downloading isoduration-20.11.0-py3-none-any.whl.metadata (5.7 kB)\n",
            "Requirement already satisfied: jsonpointer>1.13 in /usr/local/lib/python3.11/dist-packages (from jsonschema[format-nongpl]>=4.18.0->jupyter-events>=0.11.0->jupyter-server>=1.24.0->jupyter-server-proxy->geoai-py) (3.0.0)\n",
            "Collecting uri-template (from jsonschema[format-nongpl]>=4.18.0->jupyter-events>=0.11.0->jupyter-server>=1.24.0->jupyter-server-proxy->geoai-py)\n",
            "  Downloading uri_template-1.3.0-py3-none-any.whl.metadata (8.8 kB)\n",
            "Requirement already satisfied: webcolors>=24.6.0 in /usr/local/lib/python3.11/dist-packages (from jsonschema[format-nongpl]>=4.18.0->jupyter-events>=0.11.0->jupyter-server>=1.24.0->jupyter-server-proxy->geoai-py) (24.11.1)\n",
            "Requirement already satisfied: mdurl~=0.1 in /usr/local/lib/python3.11/dist-packages (from markdown-it-py>=2.2.0->rich<14.0,>=12.3.0->lightning[pytorch-extra]!=2.3.*,!=2.5.0,>=2->torchgeo->geoai-py) (0.1.2)\n",
            "Collecting jupyter-client>=7.4.4 (from jupyter-server>=1.24.0->jupyter-server-proxy->geoai-py)\n",
            "  Downloading jupyter_client-7.4.9-py3-none-any.whl.metadata (8.5 kB)\n",
            "Requirement already satisfied: nbclassic>=0.4.7 in /usr/local/lib/python3.11/dist-packages (from notebook>=4.4.1->widgetsnbextension~=3.6.0->ipywidgets->leafmap->geoai-py) (1.2.0)\n",
            "Requirement already satisfied: entrypoints in /usr/local/lib/python3.11/dist-packages (from jupyter-client>=7.4.4->jupyter-server>=1.24.0->jupyter-server-proxy->geoai-py) (0.4)\n",
            "Requirement already satisfied: wcwidth in /usr/local/lib/python3.11/dist-packages (from prompt-toolkit!=3.0.0,!=3.0.1,<3.1.0,>=2.0.0->ipython>=4.0.0->ipywidgets->leafmap->geoai-py) (0.2.13)\n",
            "Requirement already satisfied: cffi>=1.0.1 in /usr/local/lib/python3.11/dist-packages (from argon2-cffi-bindings->argon2-cffi>=21.1->jupyter-server>=1.24.0->jupyter-server-proxy->geoai-py) (1.17.1)\n",
            "Requirement already satisfied: pycparser in /usr/local/lib/python3.11/dist-packages (from cffi>=1.0.1->argon2-cffi-bindings->argon2-cffi>=21.1->jupyter-server>=1.24.0->jupyter-server-proxy->geoai-py) (2.22)\n",
            "Requirement already satisfied: notebook-shim>=0.2.3 in /usr/local/lib/python3.11/dist-packages (from nbclassic>=0.4.7->notebook>=4.4.1->widgetsnbextension~=3.6.0->ipywidgets->leafmap->geoai-py) (0.2.4)\n",
            "Collecting arrow>=0.15.0 (from isoduration->jsonschema[format-nongpl]>=4.18.0->jupyter-events>=0.11.0->jupyter-server>=1.24.0->jupyter-server-proxy->geoai-py)\n",
            "  Downloading arrow-1.3.0-py3-none-any.whl.metadata (7.5 kB)\n",
            "Collecting types-python-dateutil>=2.8.10 (from arrow>=0.15.0->isoduration->jsonschema[format-nongpl]>=4.18.0->jupyter-events>=0.11.0->jupyter-server>=1.24.0->jupyter-server-proxy->geoai-py)\n",
            "  Downloading types_python_dateutil-2.9.0.20241206-py3-none-any.whl.metadata (2.1 kB)\n",
            "Downloading geoai_py-0.5.3-py2.py3-none-any.whl (128 kB)\n",
            "\u001b[2K   \u001b[90m━━━━━━━━━━━━━━━━━━━━━━━━━━━━━━━━━━━━━━━━\u001b[0m \u001b[32m128.9/128.9 kB\u001b[0m \u001b[31m9.6 MB/s\u001b[0m eta \u001b[36m0:00:00\u001b[0m\n",
            "\u001b[?25hDownloading contextily-1.6.2-py3-none-any.whl (17 kB)\n",
            "Downloading jupyter_server_proxy-4.4.0-py3-none-any.whl (37 kB)\n",
            "Downloading leafmap-0.43.5-py2.py3-none-any.whl (537 kB)\n",
            "\u001b[2K   \u001b[90m━━━━━━━━━━━━━━━━━━━━━━━━━━━━━━━━━━━━━━━━\u001b[0m \u001b[32m537.2/537.2 kB\u001b[0m \u001b[31m21.0 MB/s\u001b[0m eta \u001b[36m0:00:00\u001b[0m\n",
            "\u001b[?25hDownloading localtileserver-0.10.6-py3-none-any.whl (17.1 MB)\n",
            "\u001b[2K   \u001b[90m━━━━━━━━━━━━━━━━━━━━━━━━━━━━━━━━━━━━━━━━\u001b[0m \u001b[32m17.1/17.1 MB\u001b[0m \u001b[31m60.5 MB/s\u001b[0m eta \u001b[36m0:00:00\u001b[0m\n",
            "\u001b[?25hDownloading mapclassify-2.8.1-py3-none-any.whl (59 kB)\n",
            "\u001b[2K   \u001b[90m━━━━━━━━━━━━━━━━━━━━━━━━━━━━━━━━━━━━━━━━\u001b[0m \u001b[32m59.1/59.1 kB\u001b[0m \u001b[31m4.2 MB/s\u001b[0m eta \u001b[36m0:00:00\u001b[0m\n",
            "\u001b[?25hDownloading maplibre-0.3.1-py3-none-any.whl (744 kB)\n",
            "\u001b[2K   \u001b[90m━━━━━━━━━━━━━━━━━━━━━━━━━━━━━━━━━━━━━━━━\u001b[0m \u001b[32m744.5/744.5 kB\u001b[0m \u001b[31m36.5 MB/s\u001b[0m eta \u001b[36m0:00:00\u001b[0m\n",
            "\u001b[?25hDownloading overturemaps-0.14.0-py3-none-any.whl (9.9 kB)\n",
            "Downloading planetary_computer-1.0.0-py3-none-any.whl (14 kB)\n",
            "Downloading pystac_client-0.8.6-py3-none-any.whl (41 kB)\n",
            "\u001b[2K   \u001b[90m━━━━━━━━━━━━━━━━━━━━━━━━━━━━━━━━━━━━━━━━\u001b[0m \u001b[32m41.4/41.4 kB\u001b[0m \u001b[31m3.2 MB/s\u001b[0m eta \u001b[36m0:00:00\u001b[0m\n",
            "\u001b[?25hDownloading rasterio-1.4.3-cp311-cp311-manylinux_2_17_x86_64.manylinux2014_x86_64.whl (22.2 MB)\n",
            "\u001b[2K   \u001b[90m━━━━━━━━━━━━━━━━━━━━━━━━━━━━━━━━━━━━━━━━\u001b[0m \u001b[32m22.2/22.2 MB\u001b[0m \u001b[31m67.4 MB/s\u001b[0m eta \u001b[36m0:00:00\u001b[0m\n",
            "\u001b[?25hDownloading rioxarray-0.18.2-py3-none-any.whl (61 kB)\n",
            "\u001b[2K   \u001b[90m━━━━━━━━━━━━━━━━━━━━━━━━━━━━━━━━━━━━━━━━\u001b[0m \u001b[32m61.9/61.9 kB\u001b[0m \u001b[31m4.3 MB/s\u001b[0m eta \u001b[36m0:00:00\u001b[0m\n",
            "\u001b[?25hDownloading nvidia_cublas_cu12-12.4.5.8-py3-none-manylinux2014_x86_64.whl (363.4 MB)\n",
            "\u001b[2K   \u001b[90m━━━━━━━━━━━━━━━━━━━━━━━━━━━━━━━━━━━━━━━━\u001b[0m \u001b[32m363.4/363.4 MB\u001b[0m \u001b[31m3.9 MB/s\u001b[0m eta \u001b[36m0:00:00\u001b[0m\n",
            "\u001b[?25hDownloading nvidia_cuda_cupti_cu12-12.4.127-py3-none-manylinux2014_x86_64.whl (13.8 MB)\n",
            "\u001b[2K   \u001b[90m━━━━━━━━━━━━━━━━━━━━━━━━━━━━━━━━━━━━━━━━\u001b[0m \u001b[32m13.8/13.8 MB\u001b[0m \u001b[31m93.7 MB/s\u001b[0m eta \u001b[36m0:00:00\u001b[0m\n",
            "\u001b[?25hDownloading nvidia_cuda_nvrtc_cu12-12.4.127-py3-none-manylinux2014_x86_64.whl (24.6 MB)\n",
            "\u001b[2K   \u001b[90m━━━━━━━━━━━━━━━━━━━━━━━━━━━━━━━━━━━━━━━━\u001b[0m \u001b[32m24.6/24.6 MB\u001b[0m \u001b[31m72.7 MB/s\u001b[0m eta \u001b[36m0:00:00\u001b[0m\n",
            "\u001b[?25hDownloading nvidia_cuda_runtime_cu12-12.4.127-py3-none-manylinux2014_x86_64.whl (883 kB)\n",
            "\u001b[2K   \u001b[90m━━━━━━━━━━━━━━━━━━━━━━━━━━━━━━━━━━━━━━━━\u001b[0m \u001b[32m883.7/883.7 kB\u001b[0m \u001b[31m53.1 MB/s\u001b[0m eta \u001b[36m0:00:00\u001b[0m\n",
            "\u001b[?25hDownloading nvidia_cudnn_cu12-9.1.0.70-py3-none-manylinux2014_x86_64.whl (664.8 MB)\n",
            "\u001b[2K   \u001b[90m━━━━━━━━━━━━━━━━━━━━━━━━━━━━━━━━━━━━━━━━\u001b[0m \u001b[32m664.8/664.8 MB\u001b[0m \u001b[31m2.7 MB/s\u001b[0m eta \u001b[36m0:00:00\u001b[0m\n",
            "\u001b[?25hDownloading nvidia_cufft_cu12-11.2.1.3-py3-none-manylinux2014_x86_64.whl (211.5 MB)\n",
            "\u001b[2K   \u001b[90m━━━━━━━━━━━━━━━━━━━━━━━━━━━━━━━━━━━━━━━━\u001b[0m \u001b[32m211.5/211.5 MB\u001b[0m \u001b[31m5.5 MB/s\u001b[0m eta \u001b[36m0:00:00\u001b[0m\n",
            "\u001b[?25hDownloading nvidia_curand_cu12-10.3.5.147-py3-none-manylinux2014_x86_64.whl (56.3 MB)\n",
            "\u001b[2K   \u001b[90m━━━━━━━━━━━━━━━━━━━━━━━━━━━━━━━━━━━━━━━━\u001b[0m \u001b[32m56.3/56.3 MB\u001b[0m \u001b[31m11.9 MB/s\u001b[0m eta \u001b[36m0:00:00\u001b[0m\n",
            "\u001b[?25hDownloading nvidia_cusolver_cu12-11.6.1.9-py3-none-manylinux2014_x86_64.whl (127.9 MB)\n",
            "\u001b[2K   \u001b[90m━━━━━━━━━━━━━━━━━━━━━━━━━━━━━━━━━━━━━━━━\u001b[0m \u001b[32m127.9/127.9 MB\u001b[0m \u001b[31m7.1 MB/s\u001b[0m eta \u001b[36m0:00:00\u001b[0m\n",
            "\u001b[?25hDownloading nvidia_cusparse_cu12-12.3.1.170-py3-none-manylinux2014_x86_64.whl (207.5 MB)\n",
            "\u001b[2K   \u001b[90m━━━━━━━━━━━━━━━━━━━━━━━━━━━━━━━━━━━━━━━━\u001b[0m \u001b[32m207.5/207.5 MB\u001b[0m \u001b[31m6.0 MB/s\u001b[0m eta \u001b[36m0:00:00\u001b[0m\n",
            "\u001b[?25hDownloading nvidia_nvjitlink_cu12-12.4.127-py3-none-manylinux2014_x86_64.whl (21.1 MB)\n",
            "\u001b[2K   \u001b[90m━━━━━━━━━━━━━━━━━━━━━━━━━━━━━━━━━━━━━━━━\u001b[0m \u001b[32m21.1/21.1 MB\u001b[0m \u001b[31m59.7 MB/s\u001b[0m eta \u001b[36m0:00:00\u001b[0m\n",
            "\u001b[?25hDownloading torchgeo-0.7.0-py3-none-any.whl (604 kB)\n",
            "\u001b[2K   \u001b[90m━━━━━━━━━━━━━━━━━━━━━━━━━━━━━━━━━━━━━━━━\u001b[0m \u001b[32m605.0/605.0 kB\u001b[0m \u001b[31m36.2 MB/s\u001b[0m eta \u001b[36m0:00:00\u001b[0m\n",
            "\u001b[?25hDownloading torchinfo-1.8.0-py3-none-any.whl (23 kB)\n",
            "Downloading cligj-0.7.2-py3-none-any.whl (7.1 kB)\n",
            "Downloading fiona-1.10.1-cp311-cp311-manylinux_2_17_x86_64.manylinux2014_x86_64.whl (17.3 MB)\n",
            "\u001b[2K   \u001b[90m━━━━━━━━━━━━━━━━━━━━━━━━━━━━━━━━━━━━━━━━\u001b[0m \u001b[32m17.3/17.3 MB\u001b[0m \u001b[31m55.8 MB/s\u001b[0m eta \u001b[36m0:00:00\u001b[0m\n",
            "\u001b[?25hDownloading click_plugins-1.1.1-py2.py3-none-any.whl (7.5 kB)\n",
            "Downloading flask_restx-1.3.0-py2.py3-none-any.whl (2.8 MB)\n",
            "\u001b[2K   \u001b[90m━━━━━━━━━━━━━━━━━━━━━━━━━━━━━━━━━━━━━━━━\u001b[0m \u001b[32m2.8/2.8 MB\u001b[0m \u001b[31m71.8 MB/s\u001b[0m eta \u001b[36m0:00:00\u001b[0m\n",
            "\u001b[?25hDownloading jupyter_server-2.15.0-py3-none-any.whl (385 kB)\n",
            "\u001b[2K   \u001b[90m━━━━━━━━━━━━━━━━━━━━━━━━━━━━━━━━━━━━━━━━\u001b[0m \u001b[32m385.8/385.8 kB\u001b[0m \u001b[31m27.4 MB/s\u001b[0m eta \u001b[36m0:00:00\u001b[0m\n",
            "\u001b[?25hDownloading kornia-0.8.0-py2.py3-none-any.whl (1.1 MB)\n",
            "\u001b[2K   \u001b[90m━━━━━━━━━━━━━━━━━━━━━━━━━━━━━━━━━━━━━━━━\u001b[0m \u001b[32m1.1/1.1 MB\u001b[0m \u001b[31m51.2 MB/s\u001b[0m eta \u001b[36m0:00:00\u001b[0m\n",
            "\u001b[?25hDownloading lightly-1.5.19-py3-none-any.whl (850 kB)\n",
            "\u001b[2K   \u001b[90m━━━━━━━━━━━━━━━━━━━━━━━━━━━━━━━━━━━━━━━━\u001b[0m \u001b[32m850.8/850.8 kB\u001b[0m \u001b[31m45.8 MB/s\u001b[0m eta \u001b[36m0:00:00\u001b[0m\n",
            "\u001b[?25hDownloading lightning-2.5.1-py3-none-any.whl (818 kB)\n",
            "\u001b[2K   \u001b[90m━━━━━━━━━━━━━━━━━━━━━━━━━━━━━━━━━━━━━━━━\u001b[0m \u001b[32m818.9/818.9 kB\u001b[0m \u001b[31m45.2 MB/s\u001b[0m eta \u001b[36m0:00:00\u001b[0m\n",
            "\u001b[?25hDownloading pystac-1.12.2-py3-none-any.whl (194 kB)\n",
            "\u001b[2K   \u001b[90m━━━━━━━━━━━━━━━━━━━━━━━━━━━━━━━━━━━━━━━━\u001b[0m \u001b[32m194.2/194.2 kB\u001b[0m \u001b[31m17.5 MB/s\u001b[0m eta \u001b[36m0:00:00\u001b[0m\n",
            "\u001b[?25hDownloading rtree-1.4.0-py3-none-manylinux2014_x86_64.manylinux_2_17_x86_64.whl (541 kB)\n",
            "\u001b[2K   \u001b[90m━━━━━━━━━━━━━━━━━━━━━━━━━━━━━━━━━━━━━━━━\u001b[0m \u001b[32m541.1/541.1 kB\u001b[0m \u001b[31m33.2 MB/s\u001b[0m eta \u001b[36m0:00:00\u001b[0m\n",
            "\u001b[?25hDownloading segmentation_models_pytorch-0.4.0-py3-none-any.whl (121 kB)\n",
            "\u001b[2K   \u001b[90m━━━━━━━━━━━━━━━━━━━━━━━━━━━━━━━━━━━━━━━━\u001b[0m \u001b[32m121.3/121.3 kB\u001b[0m \u001b[31m11.4 MB/s\u001b[0m eta \u001b[36m0:00:00\u001b[0m\n",
            "\u001b[?25hDownloading simpervisor-1.0.0-py3-none-any.whl (8.3 kB)\n",
            "Downloading torchmetrics-1.7.1-py3-none-any.whl (961 kB)\n",
            "\u001b[2K   \u001b[90m━━━━━━━━━━━━━━━━━━━━━━━━━━━━━━━━━━━━━━━━\u001b[0m \u001b[32m961.5/961.5 kB\u001b[0m \u001b[31m47.1 MB/s\u001b[0m eta \u001b[36m0:00:00\u001b[0m\n",
            "\u001b[?25hDownloading affine-2.4.0-py3-none-any.whl (15 kB)\n",
            "Downloading anywidget-0.9.18-py3-none-any.whl (220 kB)\n",
            "\u001b[2K   \u001b[90m━━━━━━━━━━━━━━━━━━━━━━━━━━━━━━━━━━━━━━━━\u001b[0m \u001b[32m220.7/220.7 kB\u001b[0m \u001b[31m18.2 MB/s\u001b[0m eta \u001b[36m0:00:00\u001b[0m\n",
            "\u001b[?25hDownloading Flask_Caching-2.3.1-py3-none-any.whl (28 kB)\n",
            "Downloading flask_cors-5.0.1-py3-none-any.whl (11 kB)\n",
            "Downloading geojson-3.2.0-py3-none-any.whl (15 kB)\n",
            "Downloading ipyvuetify-1.11.1-py2.py3-none-any.whl (7.7 MB)\n",
            "\u001b[2K   \u001b[90m━━━━━━━━━━━━━━━━━━━━━━━━━━━━━━━━━━━━━━━━\u001b[0m \u001b[32m7.7/7.7 MB\u001b[0m \u001b[31m81.7 MB/s\u001b[0m eta \u001b[36m0:00:00\u001b[0m\n",
            "\u001b[?25hDownloading mercantile-1.2.1-py3-none-any.whl (14 kB)\n",
            "Downloading python_dotenv-1.1.0-py3-none-any.whl (20 kB)\n",
            "Downloading rio_cogeo-5.4.1-py3-none-any.whl (20 kB)\n",
            "Downloading rio_tiler-7.6.0-py3-none-any.whl (268 kB)\n",
            "\u001b[2K   \u001b[90m━━━━━━━━━━━━━━━━━━━━━━━━━━━━━━━━━━━━━━━━\u001b[0m \u001b[32m268.2/268.2 kB\u001b[0m \u001b[31m20.6 MB/s\u001b[0m eta \u001b[36m0:00:00\u001b[0m\n",
            "\u001b[?25hDownloading server_thread-0.3.0-py3-none-any.whl (6.6 kB)\n",
            "Downloading whiteboxgui-2.3.0-py2.py3-none-any.whl (108 kB)\n",
            "\u001b[2K   \u001b[90m━━━━━━━━━━━━━━━━━━━━━━━━━━━━━━━━━━━━━━━━\u001b[0m \u001b[32m108.6/108.6 kB\u001b[0m \u001b[31m9.2 MB/s\u001b[0m eta \u001b[36m0:00:00\u001b[0m\n",
            "\u001b[?25hDownloading aenum-3.1.15-py3-none-any.whl (137 kB)\n",
            "\u001b[2K   \u001b[90m━━━━━━━━━━━━━━━━━━━━━━━━━━━━━━━━━━━━━━━━\u001b[0m \u001b[32m137.6/137.6 kB\u001b[0m \u001b[31m12.1 MB/s\u001b[0m eta \u001b[36m0:00:00\u001b[0m\n",
            "\u001b[?25hDownloading aniso8601-10.0.0-py2.py3-none-any.whl (52 kB)\n",
            "\u001b[2K   \u001b[90m━━━━━━━━━━━━━━━━━━━━━━━━━━━━━━━━━━━━━━━━\u001b[0m \u001b[32m52.8/52.8 kB\u001b[0m \u001b[31m4.3 MB/s\u001b[0m eta \u001b[36m0:00:00\u001b[0m\n",
            "\u001b[?25hDownloading bitsandbytes-0.45.5-py3-none-manylinux_2_24_x86_64.whl (76.1 MB)\n",
            "\u001b[2K   \u001b[90m━━━━━━━━━━━━━━━━━━━━━━━━━━━━━━━━━━━━━━━━\u001b[0m \u001b[32m76.1/76.1 MB\u001b[0m \u001b[31m9.1 MB/s\u001b[0m eta \u001b[36m0:00:00\u001b[0m\n",
            "\u001b[?25hDownloading cachelib-0.13.0-py3-none-any.whl (20 kB)\n",
            "Downloading hydra_core-1.3.2-py3-none-any.whl (154 kB)\n",
            "\u001b[2K   \u001b[90m━━━━━━━━━━━━━━━━━━━━━━━━━━━━━━━━━━━━━━━━\u001b[0m \u001b[32m154.5/154.5 kB\u001b[0m \u001b[31m12.0 MB/s\u001b[0m eta \u001b[36m0:00:00\u001b[0m\n",
            "\u001b[?25hDownloading ipyvue-1.11.2-py2.py3-none-any.whl (2.7 MB)\n",
            "\u001b[2K   \u001b[90m━━━━━━━━━━━━━━━━━━━━━━━━━━━━━━━━━━━━━━━━\u001b[0m \u001b[32m2.7/2.7 MB\u001b[0m \u001b[31m80.8 MB/s\u001b[0m eta \u001b[36m0:00:00\u001b[0m\n",
            "\u001b[?25hDownloading jsonargparse-4.38.0-py3-none-any.whl (219 kB)\n",
            "\u001b[2K   \u001b[90m━━━━━━━━━━━━━━━━━━━━━━━━━━━━━━━━━━━━━━━━\u001b[0m \u001b[32m219.4/219.4 kB\u001b[0m \u001b[31m18.1 MB/s\u001b[0m eta \u001b[36m0:00:00\u001b[0m\n",
            "\u001b[?25hDownloading jupyter_events-0.12.0-py3-none-any.whl (19 kB)\n",
            "Downloading jupyter_server_terminals-0.5.3-py3-none-any.whl (13 kB)\n",
            "Downloading kornia_rs-0.1.8-cp311-cp311-manylinux_2_17_x86_64.manylinux2014_x86_64.whl (2.1 MB)\n",
            "\u001b[2K   \u001b[90m━━━━━━━━━━━━━━━━━━━━━━━━━━━━━━━━━━━━━━━━\u001b[0m \u001b[32m2.1/2.1 MB\u001b[0m \u001b[31m74.0 MB/s\u001b[0m eta \u001b[36m0:00:00\u001b[0m\n",
            "\u001b[?25hDownloading lightly_utils-0.0.2-py3-none-any.whl (6.4 kB)\n",
            "Downloading lightning_utilities-0.14.3-py3-none-any.whl (28 kB)\n",
            "Downloading morecantile-6.2.0-py3-none-any.whl (49 kB)\n",
            "\u001b[2K   \u001b[90m━━━━━━━━━━━━━━━━━━━━━━━━━━━━━━━━━━━━━━━━\u001b[0m \u001b[32m49.5/49.5 kB\u001b[0m \u001b[31m3.8 MB/s\u001b[0m eta \u001b[36m0:00:00\u001b[0m\n",
            "\u001b[?25hDownloading omegaconf-2.3.0-py3-none-any.whl (79 kB)\n",
            "\u001b[2K   \u001b[90m━━━━━━━━━━━━━━━━━━━━━━━━━━━━━━━━━━━━━━━━\u001b[0m \u001b[32m79.5/79.5 kB\u001b[0m \u001b[31m6.4 MB/s\u001b[0m eta \u001b[36m0:00:00\u001b[0m\n",
            "\u001b[?25hDownloading overrides-7.7.0-py3-none-any.whl (17 kB)\n",
            "Downloading psygnal-0.12.0-cp311-cp311-manylinux_2_17_x86_64.manylinux2014_x86_64.whl (765 kB)\n",
            "\u001b[2K   \u001b[90m━━━━━━━━━━━━━━━━━━━━━━━━━━━━━━━━━━━━━━━━\u001b[0m \u001b[32m765.5/765.5 kB\u001b[0m \u001b[31m45.2 MB/s\u001b[0m eta \u001b[36m0:00:00\u001b[0m\n",
            "\u001b[?25hDownloading pytorch_lightning-2.5.1-py3-none-any.whl (822 kB)\n",
            "\u001b[2K   \u001b[90m━━━━━━━━━━━━━━━━━━━━━━━━━━━━━━━━━━━━━━━━\u001b[0m \u001b[32m823.0/823.0 kB\u001b[0m \u001b[31m36.5 MB/s\u001b[0m eta \u001b[36m0:00:00\u001b[0m\n",
            "\u001b[?25hDownloading tensorboardX-2.6.2.2-py2.py3-none-any.whl (101 kB)\n",
            "\u001b[2K   \u001b[90m━━━━━━━━━━━━━━━━━━━━━━━━━━━━━━━━━━━━━━━━\u001b[0m \u001b[32m101.7/101.7 kB\u001b[0m \u001b[31m8.3 MB/s\u001b[0m eta \u001b[36m0:00:00\u001b[0m\n",
            "\u001b[?25hDownloading color_operations-0.2.0-cp311-cp311-manylinux_2_5_x86_64.manylinux1_x86_64.manylinux_2_17_x86_64.manylinux2014_x86_64.whl (195 kB)\n",
            "\u001b[2K   \u001b[90m━━━━━━━━━━━━━━━━━━━━━━━━━━━━━━━━━━━━━━━━\u001b[0m \u001b[32m195.2/195.2 kB\u001b[0m \u001b[31m15.8 MB/s\u001b[0m eta \u001b[36m0:00:00\u001b[0m\n",
            "\u001b[?25hDownloading uvicorn-0.34.0-py3-none-any.whl (62 kB)\n",
            "\u001b[2K   \u001b[90m━━━━━━━━━━━━━━━━━━━━━━━━━━━━━━━━━━━━━━━━\u001b[0m \u001b[32m62.3/62.3 kB\u001b[0m \u001b[31m5.3 MB/s\u001b[0m eta \u001b[36m0:00:00\u001b[0m\n",
            "\u001b[?25hDownloading whitebox-2.3.6-py2.py3-none-any.whl (74 kB)\n",
            "\u001b[2K   \u001b[90m━━━━━━━━━━━━━━━━━━━━━━━━━━━━━━━━━━━━━━━━\u001b[0m \u001b[32m74.0/74.0 kB\u001b[0m \u001b[31m6.4 MB/s\u001b[0m eta \u001b[36m0:00:00\u001b[0m\n",
            "\u001b[?25hDownloading jedi-0.19.2-py2.py3-none-any.whl (1.6 MB)\n",
            "\u001b[2K   \u001b[90m━━━━━━━━━━━━━━━━━━━━━━━━━━━━━━━━━━━━━━━━\u001b[0m \u001b[32m1.6/1.6 MB\u001b[0m \u001b[31m65.5 MB/s\u001b[0m eta \u001b[36m0:00:00\u001b[0m\n",
            "\u001b[?25hDownloading jupyter_client-7.4.9-py3-none-any.whl (133 kB)\n",
            "\u001b[2K   \u001b[90m━━━━━━━━━━━━━━━━━━━━━━━━━━━━━━━━━━━━━━━━\u001b[0m \u001b[32m133.5/133.5 kB\u001b[0m \u001b[31m11.1 MB/s\u001b[0m eta \u001b[36m0:00:00\u001b[0m\n",
            "\u001b[?25hDownloading python_json_logger-3.3.0-py3-none-any.whl (15 kB)\n",
            "Downloading rfc3986_validator-0.1.1-py2.py3-none-any.whl (4.2 kB)\n",
            "Downloading typeshed_client-2.7.0-py3-none-any.whl (624 kB)\n",
            "\u001b[2K   \u001b[90m━━━━━━━━━━━━━━━━━━━━━━━━━━━━━━━━━━━━━━━━\u001b[0m \u001b[32m624.4/624.4 kB\u001b[0m \u001b[31m34.5 MB/s\u001b[0m eta \u001b[36m0:00:00\u001b[0m\n",
            "\u001b[?25hDownloading munch-4.0.0-py2.py3-none-any.whl (9.9 kB)\n",
            "Downloading rfc3339_validator-0.1.4-py2.py3-none-any.whl (3.5 kB)\n",
            "Downloading fqdn-1.5.1-py3-none-any.whl (9.1 kB)\n",
            "Downloading isoduration-20.11.0-py3-none-any.whl (11 kB)\n",
            "Downloading uri_template-1.3.0-py3-none-any.whl (11 kB)\n",
            "Downloading arrow-1.3.0-py3-none-any.whl (66 kB)\n",
            "\u001b[2K   \u001b[90m━━━━━━━━━━━━━━━━━━━━━━━━━━━━━━━━━━━━━━━━\u001b[0m \u001b[32m66.4/66.4 kB\u001b[0m \u001b[31m6.3 MB/s\u001b[0m eta \u001b[36m0:00:00\u001b[0m\n",
            "\u001b[?25hDownloading types_python_dateutil-2.9.0.20241206-py3-none-any.whl (14 kB)\n",
            "Building wheels for collected packages: efficientnet-pytorch, antlr4-python3-runtime, pretrainedmodels\n",
            "  Building wheel for efficientnet-pytorch (setup.py) ... \u001b[?25l\u001b[?25hdone\n",
            "  Created wheel for efficientnet-pytorch: filename=efficientnet_pytorch-0.7.1-py3-none-any.whl size=16426 sha256=dd406053cba79ba6c170cf594cf6c747e6f5e57b03dff54a4493299e476d2315\n",
            "  Stored in directory: /root/.cache/pip/wheels/8b/6f/9b/231a832f811ab6ebb1b32455b177ffc6b8b1cd8de19de70c09\n",
            "  Building wheel for antlr4-python3-runtime (setup.py) ... \u001b[?25l\u001b[?25hdone\n",
            "  Created wheel for antlr4-python3-runtime: filename=antlr4_python3_runtime-4.9.3-py3-none-any.whl size=144554 sha256=4b65491ce9411994ba0daa825894b84cece8acda46c250f5d28d99c07ecb4a09\n",
            "  Stored in directory: /root/.cache/pip/wheels/1a/97/32/461f837398029ad76911109f07047fde1d7b661a147c7c56d1\n",
            "  Building wheel for pretrainedmodels (setup.py) ... \u001b[?25l\u001b[?25hdone\n",
            "  Created wheel for pretrainedmodels: filename=pretrainedmodels-0.7.4-py3-none-any.whl size=60945 sha256=d8e76e1015f8d352574ce30288b146fa6b62a1b5df6aa14a28bdbc58c056b6a5\n",
            "  Stored in directory: /root/.cache/pip/wheels/5f/5b/96/fd94bc35962d7c6b699e8814db545155ac91d2b95785e1b035\n",
            "Successfully built efficientnet-pytorch antlr4-python3-runtime pretrainedmodels\n",
            "Installing collected packages: antlr4-python3-runtime, aniso8601, aenum, whitebox, uvicorn, uri-template, typeshed-client, types-python-dateutil, torchinfo, tensorboardX, simpervisor, rtree, rfc3986-validator, rfc3339-validator, python-json-logger, python-dotenv, psygnal, overrides, omegaconf, nvidia-nvjitlink-cu12, nvidia-curand-cu12, nvidia-cufft-cu12, nvidia-cuda-runtime-cu12, nvidia-cuda-nvrtc-cu12, nvidia-cuda-cupti-cu12, nvidia-cublas-cu12, munch, mercantile, lightning-utilities, lightly_utils, kornia_rs, jsonargparse, jedi, geojson, fqdn, color-operations, cligj, click-plugins, cachelib, affine, server-thread, rasterio, pystac, overturemaps, nvidia-cusparse-cu12, nvidia-cudnn-cu12, jupyter-server-terminals, jupyter-client, hydra-core, fiona, arrow, nvidia-cusolver-cu12, morecantile, maplibre, mapclassify, isoduration, flask-cors, Flask-Caching, contextily, rioxarray, rio-tiler, rio-cogeo, flask-restx, torchmetrics, pystac-client, localtileserver, kornia, jupyter-events, efficientnet-pytorch, bitsandbytes, pytorch_lightning, pretrainedmodels, planetary-computer, segmentation-models-pytorch, lightning, lightly, jupyter-server, jupyter-server-proxy, torchgeo, ipyvue, anywidget, whiteboxgui, ipyvuetify, leafmap, geoai-py\n",
            "  Attempting uninstall: nvidia-nvjitlink-cu12\n",
            "    Found existing installation: nvidia-nvjitlink-cu12 12.5.82\n",
            "    Uninstalling nvidia-nvjitlink-cu12-12.5.82:\n",
            "      Successfully uninstalled nvidia-nvjitlink-cu12-12.5.82\n",
            "  Attempting uninstall: nvidia-curand-cu12\n",
            "    Found existing installation: nvidia-curand-cu12 10.3.6.82\n",
            "    Uninstalling nvidia-curand-cu12-10.3.6.82:\n",
            "      Successfully uninstalled nvidia-curand-cu12-10.3.6.82\n",
            "  Attempting uninstall: nvidia-cufft-cu12\n",
            "    Found existing installation: nvidia-cufft-cu12 11.2.3.61\n",
            "    Uninstalling nvidia-cufft-cu12-11.2.3.61:\n",
            "      Successfully uninstalled nvidia-cufft-cu12-11.2.3.61\n",
            "  Attempting uninstall: nvidia-cuda-runtime-cu12\n",
            "    Found existing installation: nvidia-cuda-runtime-cu12 12.5.82\n",
            "    Uninstalling nvidia-cuda-runtime-cu12-12.5.82:\n",
            "      Successfully uninstalled nvidia-cuda-runtime-cu12-12.5.82\n",
            "  Attempting uninstall: nvidia-cuda-nvrtc-cu12\n",
            "    Found existing installation: nvidia-cuda-nvrtc-cu12 12.5.82\n",
            "    Uninstalling nvidia-cuda-nvrtc-cu12-12.5.82:\n",
            "      Successfully uninstalled nvidia-cuda-nvrtc-cu12-12.5.82\n",
            "  Attempting uninstall: nvidia-cuda-cupti-cu12\n",
            "    Found existing installation: nvidia-cuda-cupti-cu12 12.5.82\n",
            "    Uninstalling nvidia-cuda-cupti-cu12-12.5.82:\n",
            "      Successfully uninstalled nvidia-cuda-cupti-cu12-12.5.82\n",
            "  Attempting uninstall: nvidia-cublas-cu12\n",
            "    Found existing installation: nvidia-cublas-cu12 12.5.3.2\n",
            "    Uninstalling nvidia-cublas-cu12-12.5.3.2:\n",
            "      Successfully uninstalled nvidia-cublas-cu12-12.5.3.2\n",
            "  Attempting uninstall: nvidia-cusparse-cu12\n",
            "    Found existing installation: nvidia-cusparse-cu12 12.5.1.3\n",
            "    Uninstalling nvidia-cusparse-cu12-12.5.1.3:\n",
            "      Successfully uninstalled nvidia-cusparse-cu12-12.5.1.3\n",
            "  Attempting uninstall: nvidia-cudnn-cu12\n",
            "    Found existing installation: nvidia-cudnn-cu12 9.3.0.75\n",
            "    Uninstalling nvidia-cudnn-cu12-9.3.0.75:\n",
            "      Successfully uninstalled nvidia-cudnn-cu12-9.3.0.75\n",
            "  Attempting uninstall: jupyter-client\n",
            "    Found existing installation: jupyter-client 6.1.12\n",
            "    Uninstalling jupyter-client-6.1.12:\n",
            "      Successfully uninstalled jupyter-client-6.1.12\n",
            "  Attempting uninstall: nvidia-cusolver-cu12\n",
            "    Found existing installation: nvidia-cusolver-cu12 11.6.3.83\n",
            "    Uninstalling nvidia-cusolver-cu12-11.6.3.83:\n",
            "      Successfully uninstalled nvidia-cusolver-cu12-11.6.3.83\n",
            "  Attempting uninstall: jupyter-server\n",
            "    Found existing installation: jupyter-server 1.16.0\n",
            "    Uninstalling jupyter-server-1.16.0:\n",
            "      Successfully uninstalled jupyter-server-1.16.0\n",
            "Successfully installed Flask-Caching-2.3.1 aenum-3.1.15 affine-2.4.0 aniso8601-10.0.0 antlr4-python3-runtime-4.9.3 anywidget-0.9.18 arrow-1.3.0 bitsandbytes-0.45.5 cachelib-0.13.0 click-plugins-1.1.1 cligj-0.7.2 color-operations-0.2.0 contextily-1.6.2 efficientnet-pytorch-0.7.1 fiona-1.10.1 flask-cors-5.0.1 flask-restx-1.3.0 fqdn-1.5.1 geoai-py-0.5.3 geojson-3.2.0 hydra-core-1.3.2 ipyvue-1.11.2 ipyvuetify-1.11.1 isoduration-20.11.0 jedi-0.19.2 jsonargparse-4.38.0 jupyter-client-7.4.9 jupyter-events-0.12.0 jupyter-server-2.15.0 jupyter-server-proxy-4.4.0 jupyter-server-terminals-0.5.3 kornia-0.8.0 kornia_rs-0.1.8 leafmap-0.43.5 lightly-1.5.19 lightly_utils-0.0.2 lightning-2.5.1 lightning-utilities-0.14.3 localtileserver-0.10.6 mapclassify-2.8.1 maplibre-0.3.1 mercantile-1.2.1 morecantile-6.2.0 munch-4.0.0 nvidia-cublas-cu12-12.4.5.8 nvidia-cuda-cupti-cu12-12.4.127 nvidia-cuda-nvrtc-cu12-12.4.127 nvidia-cuda-runtime-cu12-12.4.127 nvidia-cudnn-cu12-9.1.0.70 nvidia-cufft-cu12-11.2.1.3 nvidia-curand-cu12-10.3.5.147 nvidia-cusolver-cu12-11.6.1.9 nvidia-cusparse-cu12-12.3.1.170 nvidia-nvjitlink-cu12-12.4.127 omegaconf-2.3.0 overrides-7.7.0 overturemaps-0.14.0 planetary-computer-1.0.0 pretrainedmodels-0.7.4 psygnal-0.12.0 pystac-1.12.2 pystac-client-0.8.6 python-dotenv-1.1.0 python-json-logger-3.3.0 pytorch_lightning-2.5.1 rasterio-1.4.3 rfc3339-validator-0.1.4 rfc3986-validator-0.1.1 rio-cogeo-5.4.1 rio-tiler-7.6.0 rioxarray-0.18.2 rtree-1.4.0 segmentation-models-pytorch-0.4.0 server-thread-0.3.0 simpervisor-1.0.0 tensorboardX-2.6.2.2 torchgeo-0.7.0 torchinfo-1.8.0 torchmetrics-1.7.1 types-python-dateutil-2.9.0.20241206 typeshed-client-2.7.0 uri-template-1.3.0 uvicorn-0.34.0 whitebox-2.3.6 whiteboxgui-2.3.0\n"
          ]
        },
        {
          "output_type": "display_data",
          "data": {
            "application/vnd.colab-display-data+json": {
              "pip_warning": {
                "packages": [
                  "pydevd_plugins"
                ]
              },
              "id": "8b260186f6144ce182e628c2b3d40357"
            }
          },
          "metadata": {}
        }
      ],
      "source": [
        "%pip install geoai-py"
      ]
    },
    {
      "cell_type": "markdown",
      "metadata": {
        "id": "L3-iqYIL3YmL"
      },
      "source": [
        "## Import libraries"
      ]
    },
    {
      "cell_type": "code",
      "execution_count": 1,
      "metadata": {
        "id": "lGSKx3lb3YmL"
      },
      "outputs": [],
      "source": [
        "import geoai"
      ]
    },
    {
      "cell_type": "markdown",
      "metadata": {
        "id": "CmSyrDU83YmL"
      },
      "source": [
        "## Retrieve collections"
      ]
    },
    {
      "cell_type": "code",
      "execution_count": 2,
      "metadata": {
        "id": "cIJhF17D3YmL",
        "outputId": "5067ee80-b304-411c-dbe5-7162433e60b1",
        "colab": {
          "base_uri": "https://localhost:8080/",
          "height": 580
        }
      },
      "outputs": [
        {
          "output_type": "stream",
          "name": "stdout",
          "text": [
            "Retrieved 126 collections from Planetary Computer\n"
          ]
        },
        {
          "output_type": "execute_result",
          "data": {
            "text/plain": [
              "                           id                                           title  \\\n",
              "42  3dep-lidar-classification                  USGS 3DEP Lidar Classification   \n",
              "28            3dep-lidar-copc                     USGS 3DEP Lidar Point Cloud   \n",
              "3              3dep-lidar-dsm           USGS 3DEP Lidar Digital Surface Model   \n",
              "43             3dep-lidar-dtm           USGS 3DEP Lidar Digital Terrain Model   \n",
              "41      3dep-lidar-dtm-native  USGS 3DEP Lidar Digital Terrain Model (Native)   \n",
              "..                        ...                                             ...   \n",
              "16               terraclimate                                    TerraClimate   \n",
              "55                  us-census                                       US Census   \n",
              "85                   usda-cdl                USDA Cropland Data Layers (CDLs)   \n",
              "90       usgs-lcmap-conus-v13                 USGS LCMAP CONUS Collection 1.3   \n",
              "91      usgs-lcmap-hawaii-v10                USGS LCMAP Hawaii Collection 1.0   \n",
              "\n",
              "                                          description  \n",
              "42  This collection is derived from the [USGS 3DEP...  \n",
              "28  This collection contains source data from the ...  \n",
              "3   This collection is derived from the [USGS 3DEP...  \n",
              "43  This collection is derived from the [USGS 3DEP...  \n",
              "41  This collection is derived from the [USGS 3DEP...  \n",
              "..                                                ...  \n",
              "16  [TerraClimate](http://www.climatologylab.org/t...  \n",
              "55  The [2020 Census](https://www.census.gov/progr...  \n",
              "85  The Cropland Data Layer (CDL) is a product of ...  \n",
              "90  The [Land Change Monitoring, Assessment, and P...  \n",
              "91  The [Land Change Monitoring, Assessment, and P...  \n",
              "\n",
              "[126 rows x 3 columns]"
            ],
            "text/html": [
              "\n",
              "  <div id=\"df-f4368082-4542-455c-a319-f75bb10e4e83\" class=\"colab-df-container\">\n",
              "    <div>\n",
              "<style scoped>\n",
              "    .dataframe tbody tr th:only-of-type {\n",
              "        vertical-align: middle;\n",
              "    }\n",
              "\n",
              "    .dataframe tbody tr th {\n",
              "        vertical-align: top;\n",
              "    }\n",
              "\n",
              "    .dataframe thead th {\n",
              "        text-align: right;\n",
              "    }\n",
              "</style>\n",
              "<table border=\"1\" class=\"dataframe\">\n",
              "  <thead>\n",
              "    <tr style=\"text-align: right;\">\n",
              "      <th></th>\n",
              "      <th>id</th>\n",
              "      <th>title</th>\n",
              "      <th>description</th>\n",
              "    </tr>\n",
              "  </thead>\n",
              "  <tbody>\n",
              "    <tr>\n",
              "      <th>42</th>\n",
              "      <td>3dep-lidar-classification</td>\n",
              "      <td>USGS 3DEP Lidar Classification</td>\n",
              "      <td>This collection is derived from the [USGS 3DEP...</td>\n",
              "    </tr>\n",
              "    <tr>\n",
              "      <th>28</th>\n",
              "      <td>3dep-lidar-copc</td>\n",
              "      <td>USGS 3DEP Lidar Point Cloud</td>\n",
              "      <td>This collection contains source data from the ...</td>\n",
              "    </tr>\n",
              "    <tr>\n",
              "      <th>3</th>\n",
              "      <td>3dep-lidar-dsm</td>\n",
              "      <td>USGS 3DEP Lidar Digital Surface Model</td>\n",
              "      <td>This collection is derived from the [USGS 3DEP...</td>\n",
              "    </tr>\n",
              "    <tr>\n",
              "      <th>43</th>\n",
              "      <td>3dep-lidar-dtm</td>\n",
              "      <td>USGS 3DEP Lidar Digital Terrain Model</td>\n",
              "      <td>This collection is derived from the [USGS 3DEP...</td>\n",
              "    </tr>\n",
              "    <tr>\n",
              "      <th>41</th>\n",
              "      <td>3dep-lidar-dtm-native</td>\n",
              "      <td>USGS 3DEP Lidar Digital Terrain Model (Native)</td>\n",
              "      <td>This collection is derived from the [USGS 3DEP...</td>\n",
              "    </tr>\n",
              "    <tr>\n",
              "      <th>...</th>\n",
              "      <td>...</td>\n",
              "      <td>...</td>\n",
              "      <td>...</td>\n",
              "    </tr>\n",
              "    <tr>\n",
              "      <th>16</th>\n",
              "      <td>terraclimate</td>\n",
              "      <td>TerraClimate</td>\n",
              "      <td>[TerraClimate](http://www.climatologylab.org/t...</td>\n",
              "    </tr>\n",
              "    <tr>\n",
              "      <th>55</th>\n",
              "      <td>us-census</td>\n",
              "      <td>US Census</td>\n",
              "      <td>The [2020 Census](https://www.census.gov/progr...</td>\n",
              "    </tr>\n",
              "    <tr>\n",
              "      <th>85</th>\n",
              "      <td>usda-cdl</td>\n",
              "      <td>USDA Cropland Data Layers (CDLs)</td>\n",
              "      <td>The Cropland Data Layer (CDL) is a product of ...</td>\n",
              "    </tr>\n",
              "    <tr>\n",
              "      <th>90</th>\n",
              "      <td>usgs-lcmap-conus-v13</td>\n",
              "      <td>USGS LCMAP CONUS Collection 1.3</td>\n",
              "      <td>The [Land Change Monitoring, Assessment, and P...</td>\n",
              "    </tr>\n",
              "    <tr>\n",
              "      <th>91</th>\n",
              "      <td>usgs-lcmap-hawaii-v10</td>\n",
              "      <td>USGS LCMAP Hawaii Collection 1.0</td>\n",
              "      <td>The [Land Change Monitoring, Assessment, and P...</td>\n",
              "    </tr>\n",
              "  </tbody>\n",
              "</table>\n",
              "<p>126 rows × 3 columns</p>\n",
              "</div>\n",
              "    <div class=\"colab-df-buttons\">\n",
              "\n",
              "  <div class=\"colab-df-container\">\n",
              "    <button class=\"colab-df-convert\" onclick=\"convertToInteractive('df-f4368082-4542-455c-a319-f75bb10e4e83')\"\n",
              "            title=\"Convert this dataframe to an interactive table.\"\n",
              "            style=\"display:none;\">\n",
              "\n",
              "  <svg xmlns=\"http://www.w3.org/2000/svg\" height=\"24px\" viewBox=\"0 -960 960 960\">\n",
              "    <path d=\"M120-120v-720h720v720H120Zm60-500h600v-160H180v160Zm220 220h160v-160H400v160Zm0 220h160v-160H400v160ZM180-400h160v-160H180v160Zm440 0h160v-160H620v160ZM180-180h160v-160H180v160Zm440 0h160v-160H620v160Z\"/>\n",
              "  </svg>\n",
              "    </button>\n",
              "\n",
              "  <style>\n",
              "    .colab-df-container {\n",
              "      display:flex;\n",
              "      gap: 12px;\n",
              "    }\n",
              "\n",
              "    .colab-df-convert {\n",
              "      background-color: #E8F0FE;\n",
              "      border: none;\n",
              "      border-radius: 50%;\n",
              "      cursor: pointer;\n",
              "      display: none;\n",
              "      fill: #1967D2;\n",
              "      height: 32px;\n",
              "      padding: 0 0 0 0;\n",
              "      width: 32px;\n",
              "    }\n",
              "\n",
              "    .colab-df-convert:hover {\n",
              "      background-color: #E2EBFA;\n",
              "      box-shadow: 0px 1px 2px rgba(60, 64, 67, 0.3), 0px 1px 3px 1px rgba(60, 64, 67, 0.15);\n",
              "      fill: #174EA6;\n",
              "    }\n",
              "\n",
              "    .colab-df-buttons div {\n",
              "      margin-bottom: 4px;\n",
              "    }\n",
              "\n",
              "    [theme=dark] .colab-df-convert {\n",
              "      background-color: #3B4455;\n",
              "      fill: #D2E3FC;\n",
              "    }\n",
              "\n",
              "    [theme=dark] .colab-df-convert:hover {\n",
              "      background-color: #434B5C;\n",
              "      box-shadow: 0px 1px 3px 1px rgba(0, 0, 0, 0.15);\n",
              "      filter: drop-shadow(0px 1px 2px rgba(0, 0, 0, 0.3));\n",
              "      fill: #FFFFFF;\n",
              "    }\n",
              "  </style>\n",
              "\n",
              "    <script>\n",
              "      const buttonEl =\n",
              "        document.querySelector('#df-f4368082-4542-455c-a319-f75bb10e4e83 button.colab-df-convert');\n",
              "      buttonEl.style.display =\n",
              "        google.colab.kernel.accessAllowed ? 'block' : 'none';\n",
              "\n",
              "      async function convertToInteractive(key) {\n",
              "        const element = document.querySelector('#df-f4368082-4542-455c-a319-f75bb10e4e83');\n",
              "        const dataTable =\n",
              "          await google.colab.kernel.invokeFunction('convertToInteractive',\n",
              "                                                    [key], {});\n",
              "        if (!dataTable) return;\n",
              "\n",
              "        const docLinkHtml = 'Like what you see? Visit the ' +\n",
              "          '<a target=\"_blank\" href=https://colab.research.google.com/notebooks/data_table.ipynb>data table notebook</a>'\n",
              "          + ' to learn more about interactive tables.';\n",
              "        element.innerHTML = '';\n",
              "        dataTable['output_type'] = 'display_data';\n",
              "        await google.colab.output.renderOutput(dataTable, element);\n",
              "        const docLink = document.createElement('div');\n",
              "        docLink.innerHTML = docLinkHtml;\n",
              "        element.appendChild(docLink);\n",
              "      }\n",
              "    </script>\n",
              "  </div>\n",
              "\n",
              "\n",
              "<div id=\"df-10521039-0cd3-4212-b77e-09a04c606b93\">\n",
              "  <button class=\"colab-df-quickchart\" onclick=\"quickchart('df-10521039-0cd3-4212-b77e-09a04c606b93')\"\n",
              "            title=\"Suggest charts\"\n",
              "            style=\"display:none;\">\n",
              "\n",
              "<svg xmlns=\"http://www.w3.org/2000/svg\" height=\"24px\"viewBox=\"0 0 24 24\"\n",
              "     width=\"24px\">\n",
              "    <g>\n",
              "        <path d=\"M19 3H5c-1.1 0-2 .9-2 2v14c0 1.1.9 2 2 2h14c1.1 0 2-.9 2-2V5c0-1.1-.9-2-2-2zM9 17H7v-7h2v7zm4 0h-2V7h2v10zm4 0h-2v-4h2v4z\"/>\n",
              "    </g>\n",
              "</svg>\n",
              "  </button>\n",
              "\n",
              "<style>\n",
              "  .colab-df-quickchart {\n",
              "      --bg-color: #E8F0FE;\n",
              "      --fill-color: #1967D2;\n",
              "      --hover-bg-color: #E2EBFA;\n",
              "      --hover-fill-color: #174EA6;\n",
              "      --disabled-fill-color: #AAA;\n",
              "      --disabled-bg-color: #DDD;\n",
              "  }\n",
              "\n",
              "  [theme=dark] .colab-df-quickchart {\n",
              "      --bg-color: #3B4455;\n",
              "      --fill-color: #D2E3FC;\n",
              "      --hover-bg-color: #434B5C;\n",
              "      --hover-fill-color: #FFFFFF;\n",
              "      --disabled-bg-color: #3B4455;\n",
              "      --disabled-fill-color: #666;\n",
              "  }\n",
              "\n",
              "  .colab-df-quickchart {\n",
              "    background-color: var(--bg-color);\n",
              "    border: none;\n",
              "    border-radius: 50%;\n",
              "    cursor: pointer;\n",
              "    display: none;\n",
              "    fill: var(--fill-color);\n",
              "    height: 32px;\n",
              "    padding: 0;\n",
              "    width: 32px;\n",
              "  }\n",
              "\n",
              "  .colab-df-quickchart:hover {\n",
              "    background-color: var(--hover-bg-color);\n",
              "    box-shadow: 0 1px 2px rgba(60, 64, 67, 0.3), 0 1px 3px 1px rgba(60, 64, 67, 0.15);\n",
              "    fill: var(--button-hover-fill-color);\n",
              "  }\n",
              "\n",
              "  .colab-df-quickchart-complete:disabled,\n",
              "  .colab-df-quickchart-complete:disabled:hover {\n",
              "    background-color: var(--disabled-bg-color);\n",
              "    fill: var(--disabled-fill-color);\n",
              "    box-shadow: none;\n",
              "  }\n",
              "\n",
              "  .colab-df-spinner {\n",
              "    border: 2px solid var(--fill-color);\n",
              "    border-color: transparent;\n",
              "    border-bottom-color: var(--fill-color);\n",
              "    animation:\n",
              "      spin 1s steps(1) infinite;\n",
              "  }\n",
              "\n",
              "  @keyframes spin {\n",
              "    0% {\n",
              "      border-color: transparent;\n",
              "      border-bottom-color: var(--fill-color);\n",
              "      border-left-color: var(--fill-color);\n",
              "    }\n",
              "    20% {\n",
              "      border-color: transparent;\n",
              "      border-left-color: var(--fill-color);\n",
              "      border-top-color: var(--fill-color);\n",
              "    }\n",
              "    30% {\n",
              "      border-color: transparent;\n",
              "      border-left-color: var(--fill-color);\n",
              "      border-top-color: var(--fill-color);\n",
              "      border-right-color: var(--fill-color);\n",
              "    }\n",
              "    40% {\n",
              "      border-color: transparent;\n",
              "      border-right-color: var(--fill-color);\n",
              "      border-top-color: var(--fill-color);\n",
              "    }\n",
              "    60% {\n",
              "      border-color: transparent;\n",
              "      border-right-color: var(--fill-color);\n",
              "    }\n",
              "    80% {\n",
              "      border-color: transparent;\n",
              "      border-right-color: var(--fill-color);\n",
              "      border-bottom-color: var(--fill-color);\n",
              "    }\n",
              "    90% {\n",
              "      border-color: transparent;\n",
              "      border-bottom-color: var(--fill-color);\n",
              "    }\n",
              "  }\n",
              "</style>\n",
              "\n",
              "  <script>\n",
              "    async function quickchart(key) {\n",
              "      const quickchartButtonEl =\n",
              "        document.querySelector('#' + key + ' button');\n",
              "      quickchartButtonEl.disabled = true;  // To prevent multiple clicks.\n",
              "      quickchartButtonEl.classList.add('colab-df-spinner');\n",
              "      try {\n",
              "        const charts = await google.colab.kernel.invokeFunction(\n",
              "            'suggestCharts', [key], {});\n",
              "      } catch (error) {\n",
              "        console.error('Error during call to suggestCharts:', error);\n",
              "      }\n",
              "      quickchartButtonEl.classList.remove('colab-df-spinner');\n",
              "      quickchartButtonEl.classList.add('colab-df-quickchart-complete');\n",
              "    }\n",
              "    (() => {\n",
              "      let quickchartButtonEl =\n",
              "        document.querySelector('#df-10521039-0cd3-4212-b77e-09a04c606b93 button');\n",
              "      quickchartButtonEl.style.display =\n",
              "        google.colab.kernel.accessAllowed ? 'block' : 'none';\n",
              "    })();\n",
              "  </script>\n",
              "</div>\n",
              "\n",
              "  <div id=\"id_d76047c5-8080-44cd-be49-45edbd2d3dd9\">\n",
              "    <style>\n",
              "      .colab-df-generate {\n",
              "        background-color: #E8F0FE;\n",
              "        border: none;\n",
              "        border-radius: 50%;\n",
              "        cursor: pointer;\n",
              "        display: none;\n",
              "        fill: #1967D2;\n",
              "        height: 32px;\n",
              "        padding: 0 0 0 0;\n",
              "        width: 32px;\n",
              "      }\n",
              "\n",
              "      .colab-df-generate:hover {\n",
              "        background-color: #E2EBFA;\n",
              "        box-shadow: 0px 1px 2px rgba(60, 64, 67, 0.3), 0px 1px 3px 1px rgba(60, 64, 67, 0.15);\n",
              "        fill: #174EA6;\n",
              "      }\n",
              "\n",
              "      [theme=dark] .colab-df-generate {\n",
              "        background-color: #3B4455;\n",
              "        fill: #D2E3FC;\n",
              "      }\n",
              "\n",
              "      [theme=dark] .colab-df-generate:hover {\n",
              "        background-color: #434B5C;\n",
              "        box-shadow: 0px 1px 3px 1px rgba(0, 0, 0, 0.15);\n",
              "        filter: drop-shadow(0px 1px 2px rgba(0, 0, 0, 0.3));\n",
              "        fill: #FFFFFF;\n",
              "      }\n",
              "    </style>\n",
              "    <button class=\"colab-df-generate\" onclick=\"generateWithVariable('collections')\"\n",
              "            title=\"Generate code using this dataframe.\"\n",
              "            style=\"display:none;\">\n",
              "\n",
              "  <svg xmlns=\"http://www.w3.org/2000/svg\" height=\"24px\"viewBox=\"0 0 24 24\"\n",
              "       width=\"24px\">\n",
              "    <path d=\"M7,19H8.4L18.45,9,17,7.55,7,17.6ZM5,21V16.75L18.45,3.32a2,2,0,0,1,2.83,0l1.4,1.43a1.91,1.91,0,0,1,.58,1.4,1.91,1.91,0,0,1-.58,1.4L9.25,21ZM18.45,9,17,7.55Zm-12,3A5.31,5.31,0,0,0,4.9,8.1,5.31,5.31,0,0,0,1,6.5,5.31,5.31,0,0,0,4.9,4.9,5.31,5.31,0,0,0,6.5,1,5.31,5.31,0,0,0,8.1,4.9,5.31,5.31,0,0,0,12,6.5,5.46,5.46,0,0,0,6.5,12Z\"/>\n",
              "  </svg>\n",
              "    </button>\n",
              "    <script>\n",
              "      (() => {\n",
              "      const buttonEl =\n",
              "        document.querySelector('#id_d76047c5-8080-44cd-be49-45edbd2d3dd9 button.colab-df-generate');\n",
              "      buttonEl.style.display =\n",
              "        google.colab.kernel.accessAllowed ? 'block' : 'none';\n",
              "\n",
              "      buttonEl.onclick = () => {\n",
              "        google.colab.notebook.generateWithVariable('collections');\n",
              "      }\n",
              "      })();\n",
              "    </script>\n",
              "  </div>\n",
              "\n",
              "    </div>\n",
              "  </div>\n"
            ],
            "application/vnd.google.colaboratory.intrinsic+json": {
              "type": "dataframe",
              "variable_name": "collections",
              "summary": "{\n  \"name\": \"collections\",\n  \"rows\": 126,\n  \"fields\": [\n    {\n      \"column\": \"id\",\n      \"properties\": {\n        \"dtype\": \"string\",\n        \"num_unique_values\": 126,\n        \"samples\": [\n          \"modis-14A1-061\",\n          \"cil-gdpcir-cc-by-sa\",\n          \"sentinel-3-synergy-syn-l2-netcdf\"\n        ],\n        \"semantic_type\": \"\",\n        \"description\": \"\"\n      }\n    },\n    {\n      \"column\": \"title\",\n      \"properties\": {\n        \"dtype\": \"string\",\n        \"num_unique_values\": 126,\n        \"samples\": [\n          \"MODIS Thermal Anomalies/Fire Daily\",\n          \"CIL Global Downscaled Projections for Climate Impacts Research (CC-BY-SA-4.0)\",\n          \"Sentinel-3 Land Surface Reflectance and Aerosol\"\n        ],\n        \"semantic_type\": \"\",\n        \"description\": \"\"\n      }\n    },\n    {\n      \"column\": \"description\",\n      \"properties\": {\n        \"dtype\": \"string\",\n        \"num_unique_values\": 98,\n        \"samples\": [\n          \"The Moderate Resolution Imaging Spectroradiometer (MODIS) MCD43A4 Version 6.1 Nadir Bidirectional Re...\",\n          \"Time series of annual global maps of land use and land cover (LULC). It currently has data from 2017...\",\n          \"[TerraClimate](http://www.climatologylab.org/terraclimate.html) is a dataset of monthly climate and ...\"\n        ],\n        \"semantic_type\": \"\",\n        \"description\": \"\"\n      }\n    }\n  ]\n}"
            }
          },
          "metadata": {},
          "execution_count": 2
        }
      ],
      "source": [
        "collections = geoai.pc_collection_list()\n",
        "collections"
      ]
    },
    {
      "cell_type": "code",
      "source": [
        "m = geoai.Map()\n",
        "m"
      ],
      "metadata": {
        "id": "EpR0ag_T5r5v",
        "outputId": "a1cac5d3-e35b-472a-f2ab-c26903f0b4df",
        "colab": {
          "base_uri": "https://localhost:8080/",
          "height": 621,
          "referenced_widgets": [
            "341f3c55f0d44685b373f18ac8393170",
            "8b59fa2e1db24537b8ff9e4a4d14cb22",
            "513a1b5b8f7b467da4f88a0f443da928",
            "8657f03ea32040c3b3f7c8a33b2d7fc3",
            "3eba96a9de4745eb93ed576a569320ad",
            "e5c88b3da1714fe588a5882546ac84fe",
            "dbe0325992d242898c57b81a1e0dcd27",
            "648d32cb6e344a1b9d2567906a6c7a5a",
            "19b571cdeb764141832f8376ce73642a",
            "104a5810376e4c7a9ee2afb00a443317",
            "ec130f6b8ec44289bf3a2cf71804fa55",
            "6947b6ee75244b0bbc8273f1612c7e88",
            "e47c456d3ae64c759d09f4c1203780df",
            "14691d5c7d5648e6bd867c577bce3163",
            "9afee61a8d5b476b8276835635ce0a0b",
            "e628574c3a62497397cc16fd9f946bb7",
            "1372c7e9317746ecb7bffaa3af8d5cf4",
            "6b5845f0a1114f99a4a0916d397cb389",
            "4e1e38e83c0f46c3bc1b4d5202052c06",
            "34ecb06cc3514eeb956a35cb4e4b75a3",
            "ccdfb1ed279c44a8903957962a95628e",
            "679d3bb1411040e38beb392c1ed69f07",
            "5da93aad5ec64e2eaeb3310157c204d4",
            "57df19f6d52f4f618ea23fd7c8b07fb2",
            "7a19abb5d81a43d9af79b1c33719b2f5",
            "870d51b55dee4e7ebc6c8e6f404564c7",
            "9db8fb55602b452cb9345ddab48c7d7c",
            "532504ea130c4fda8a22b9038e4b522b",
            "8e690a04cb9e4376b14fda8023c2c474"
          ]
        }
      },
      "execution_count": 6,
      "outputs": [
        {
          "output_type": "display_data",
          "data": {
            "text/plain": [
              "Map(center=[20, 0], controls=(ZoomControl(options=['position', 'zoom_in_text', 'zoom_in_title', 'zoom_out_text…"
            ],
            "application/vnd.jupyter.widget-view+json": {
              "version_major": 2,
              "version_minor": 0,
              "model_id": "14691d5c7d5648e6bd867c577bce3163"
            }
          },
          "metadata": {
            "application/vnd.jupyter.widget-view+json": {
              "colab": {
                "custom_widget_manager": {
                  "url": "https://ssl.gstatic.com/colaboratory-static/widgets/colab-cdn-widget-manager/2b70e893a8ba7c0f/manager.min.js"
                }
              }
            }
          }
        }
      ]
    },
    {
      "cell_type": "code",
      "source": [
        "bbox = m.user_roi_bounds()\n",
        "bbox"
      ],
      "metadata": {
        "id": "1slTCf-j6aws",
        "outputId": "484287f7-584d-4419-ff84-290bf67921fb",
        "colab": {
          "base_uri": "https://localhost:8080/"
        }
      },
      "execution_count": 19,
      "outputs": [
        {
          "output_type": "execute_result",
          "data": {
            "text/plain": [
              "[-111.9424, 41.6524, -111.5387, 41.8818]"
            ]
          },
          "metadata": {},
          "execution_count": 19
        }
      ]
    },
    {
      "cell_type": "markdown",
      "source": [
        "## Search MODIS LAI"
      ],
      "metadata": {
        "id": "lK9Y5hgo6zMg"
      }
    },
    {
      "cell_type": "code",
      "source": [
        "items = geoai.pc_stac_search(\n",
        "    collection=\"modis-15A3H-061\",\n",
        "    bbox=[-111.9424, 41.6524, -111.5387, 41.8818],\n",
        "    time_range=\"2002-07-04/2024-12-31\",\n",
        ")"
      ],
      "metadata": {
        "id": "IjhUtrnx6w4E",
        "outputId": "f2ad6fe3-db25-4926-9fcd-135ca42e0ca9",
        "colab": {
          "base_uri": "https://localhost:8080/"
        }
      },
      "execution_count": 20,
      "outputs": [
        {
          "output_type": "stream",
          "name": "stdout",
          "text": [
            "Found 2057 items matching search criteria\n"
          ]
        }
      ]
    },
    {
      "cell_type": "code",
      "source": [
        "items"
      ],
      "metadata": {
        "id": "fWNkHe5R9y32",
        "outputId": "92eddb09-aa1a-4595-e730-a383e37e8492",
        "colab": {
          "base_uri": "https://localhost:8080/"
        }
      },
      "execution_count": 21,
      "outputs": [
        {
          "output_type": "execute_result",
          "data": {
            "text/plain": [
              "[<Item id=MCD15A3H.A2024357.h09v04.061.2024366084345>,\n",
              " <Item id=MCD15A3H.A2024353.h09v04.061.2024363231013>,\n",
              " <Item id=MCD15A3H.A2024349.h09v04.061.2024359025601>,\n",
              " <Item id=MCD15A3H.A2024345.h09v04.061.2024352142832>,\n",
              " <Item id=MCD15A3H.A2024341.h09v04.061.2024347150341>,\n",
              " <Item id=MCD15A3H.A2024337.h09v04.061.2024342025718>,\n",
              " <Item id=MCD15A3H.A2024333.h09v04.061.2024338042848>,\n",
              " <Item id=MCD15A3H.A2024329.h09v04.061.2024337214706>,\n",
              " <Item id=MCD15A3H.A2024325.h09v04.061.2024330191316>,\n",
              " <Item id=MCD15A3H.A2024321.h09v04.061.2024327050326>,\n",
              " <Item id=MCD15A3H.A2024317.h09v04.061.2024327020507>,\n",
              " <Item id=MCD15A3H.A2024313.h09v04.061.2024318144129>,\n",
              " <Item id=MCD15A3H.A2024309.h09v04.061.2024317190726>,\n",
              " <Item id=MCD15A3H.A2024305.h09v04.061.2024310050925>,\n",
              " <Item id=MCD15A3H.A2024301.h09v04.061.2024306205716>,\n",
              " <Item id=MCD15A3H.A2024297.h09v04.061.2024303192128>,\n",
              " <Item id=MCD15A3H.A2024293.h09v04.061.2024303193852>,\n",
              " <Item id=MCD15A3H.A2024289.h09v04.061.2024294031013>,\n",
              " <Item id=MCD15A3H.A2024285.h09v04.061.2024290061356>,\n",
              " <Item id=MCD15A3H.A2024281.h09v04.061.2024289172626>,\n",
              " <Item id=MCD15A3H.A2024277.h09v04.061.2024284104753>,\n",
              " <Item id=MCD15A3H.A2024273.h09v04.061.2024278033754>,\n",
              " <Item id=MCD15A3H.A2024269.h09v04.061.2024274201758>,\n",
              " <Item id=MCD15A3H.A2024265.h09v04.061.2024275154754>,\n",
              " <Item id=MCD15A3H.A2024261.h09v04.061.2024268175138>,\n",
              " <Item id=MCD15A3H.A2024257.h09v04.061.2024262150319>,\n",
              " <Item id=MCD15A3H.A2024253.h09v04.061.2024258070032>,\n",
              " <Item id=MCD15A3H.A2024233.h09v04.061.2024240021843>,\n",
              " <Item id=MCD15A3H.A2024229.h09v04.061.2024240012359>,\n",
              " <Item id=MCD15A3H.A2024225.h09v04.061.2024230040008>,\n",
              " <Item id=MCD15A3H.A2024221.h09v04.061.2024228031014>,\n",
              " <Item id=MCD15A3H.A2024217.h09v04.061.2024228031354>,\n",
              " <Item id=MCD15A3H.A2024213.h09v04.061.2024222022704>,\n",
              " <Item id=MCD15A3H.A2024209.h09v04.061.2024214145651>,\n",
              " <Item id=MCD15A3H.A2024205.h09v04.061.2024210034333>,\n",
              " <Item id=MCD15A3H.A2024201.h09v04.061.2024206142529>,\n",
              " <Item id=MCD15A3H.A2024197.h09v04.061.2024202035119>,\n",
              " <Item id=MCD15A3H.A2024193.h09v04.061.2024198140313>,\n",
              " <Item id=MCD15A3H.A2024189.h09v04.061.2024195032231>,\n",
              " <Item id=MCD15A3H.A2024185.h09v04.061.2024190143523>,\n",
              " <Item id=MCD15A3H.A2024181.h09v04.061.2024186035130>,\n",
              " <Item id=MCD15A3H.A2024177.h09v04.061.2024182050617>,\n",
              " <Item id=MCD15A3H.A2024173.h09v04.061.2024180060632>,\n",
              " <Item id=MCD15A3H.A2024169.h09v04.061.2024175182535>,\n",
              " <Item id=MCD15A3H.A2024165.h09v04.061.2024170155027>,\n",
              " <Item id=MCD15A3H.A2024161.h09v04.061.2024166212525>,\n",
              " <Item id=MCD15A3H.A2024157.h09v04.061.2024162180604>,\n",
              " <Item id=MCD15A3H.A2024153.h09v04.061.2024158081558>,\n",
              " <Item id=MCD15A3H.A2024149.h09v04.061.2024156064205>,\n",
              " <Item id=MCD15A3H.A2024145.h09v04.061.2024152015457>,\n",
              " <Item id=MCD15A3H.A2024141.h09v04.061.2024146035954>,\n",
              " <Item id=MCD15A3H.A2024137.h09v04.061.2024143104356>,\n",
              " <Item id=MCD15A3H.A2024133.h09v04.061.2024157182202>,\n",
              " <Item id=MCD15A3H.A2024133.h09v04.061.2024138045244>,\n",
              " <Item id=MCD15A3H.A2024129.h09v04.061.2024157182114>,\n",
              " <Item id=MCD15A3H.A2024129.h09v04.061.2024135143031>,\n",
              " <Item id=MCD15A3H.A2024125.h09v04.061.2024131141022>,\n",
              " <Item id=MCD15A3H.A2024121.h09v04.061.2024127021333>,\n",
              " <Item id=MCD15A3H.A2024117.h09v04.061.2024122071513>,\n",
              " <Item id=MCD15A3H.A2024113.h09v04.061.2024118033811>,\n",
              " <Item id=MCD15A3H.A2024109.h09v04.061.2024115154002>,\n",
              " <Item id=MCD15A3H.A2024105.h09v04.061.2024115134808>,\n",
              " <Item id=MCD15A3H.A2024101.h09v04.061.2024106140117>,\n",
              " <Item id=MCD15A3H.A2024097.h09v04.061.2024102032855>,\n",
              " <Item id=MCD15A3H.A2024093.h09v04.061.2024099140253>,\n",
              " <Item id=MCD15A3H.A2024089.h09v04.061.2024094232343>,\n",
              " <Item id=MCD15A3H.A2024085.h09v04.061.2024094200152>,\n",
              " <Item id=MCD15A3H.A2024081.h09v04.061.2024093232149>,\n",
              " <Item id=MCD15A3H.A2024077.h09v04.061.2024085221212>,\n",
              " <Item id=MCD15A3H.A2024073.h09v04.061.2024078225810>,\n",
              " <Item id=MCD15A3H.A2024069.h09v04.061.2024074031903>,\n",
              " <Item id=MCD15A3H.A2024065.h09v04.061.2024070032159>,\n",
              " <Item id=MCD15A3H.A2024061.h09v04.061.2024066082947>,\n",
              " <Item id=MCD15A3H.A2024057.h09v04.061.2024066041932>,\n",
              " <Item id=MCD15A3H.A2024053.h09v04.061.2024065184738>,\n",
              " <Item id=MCD15A3H.A2024049.h09v04.061.2024056185938>,\n",
              " <Item id=MCD15A3H.A2024045.h09v04.061.2024051135740>,\n",
              " <Item id=MCD15A3H.A2024041.h09v04.061.2024046034250>,\n",
              " <Item id=MCD15A3H.A2024037.h09v04.061.2024044031556>,\n",
              " <Item id=MCD15A3H.A2024033.h09v04.061.2024040144119>,\n",
              " <Item id=MCD15A3H.A2024029.h09v04.061.2024039002935>,\n",
              " <Item id=MCD15A3H.A2024025.h09v04.061.2024030185734>,\n",
              " <Item id=MCD15A3H.A2024021.h09v04.061.2024027182743>,\n",
              " <Item id=MCD15A3H.A2024017.h09v04.061.2024023195601>,\n",
              " <Item id=MCD15A3H.A2024013.h09v04.061.2024018230024>,\n",
              " <Item id=MCD15A3H.A2024009.h09v04.061.2024014040425>,\n",
              " <Item id=MCD15A3H.A2024005.h09v04.061.2024010141151>,\n",
              " <Item id=MCD15A3H.A2024001.h09v04.061.2024006204407>,\n",
              " <Item id=MCD15A3H.A2023365.h09v04.061.2024006210320>,\n",
              " <Item id=MCD15A3H.A2023361.h09v04.061.2024003202716>,\n",
              " <Item id=MCD15A3H.A2023357.h09v04.061.2023362162446>,\n",
              " <Item id=MCD15A3H.A2023353.h09v04.061.2023361005701>,\n",
              " <Item id=MCD15A3H.A2023349.h09v04.061.2023354045739>,\n",
              " <Item id=MCD15A3H.A2023345.h09v04.061.2023350030302>,\n",
              " <Item id=MCD15A3H.A2023341.h09v04.061.2023346032833>,\n",
              " <Item id=MCD15A3H.A2023337.h09v04.061.2023345144005>,\n",
              " <Item id=MCD15A3H.A2023333.h09v04.061.2023340034057>,\n",
              " <Item id=MCD15A3H.A2023329.h09v04.061.2023334031838>,\n",
              " <Item id=MCD15A3H.A2023325.h09v04.061.2023332011723>,\n",
              " <Item id=MCD15A3H.A2023321.h09v04.061.2023327163509>,\n",
              " <Item id=MCD15A3H.A2023317.h09v04.061.2023322031301>,\n",
              " <Item id=MCD15A3H.A2023313.h09v04.061.2023318031703>,\n",
              " <Item id=MCD15A3H.A2023305.h09v04.061.2023310030648>,\n",
              " <Item id=MCD15A3H.A2023301.h09v04.061.2023306131756>,\n",
              " <Item id=MCD15A3H.A2023297.h09v04.061.2023302034609>,\n",
              " <Item id=MCD15A3H.A2023293.h09v04.061.2023299000135>,\n",
              " <Item id=MCD15A3H.A2023289.h09v04.061.2023294122946>,\n",
              " <Item id=MCD15A3H.A2023285.h09v04.061.2023290173649>,\n",
              " <Item id=MCD15A3H.A2023281.h09v04.061.2023286032512>,\n",
              " <Item id=MCD15A3H.A2023277.h09v04.061.2023283180513>,\n",
              " <Item id=MCD15A3H.A2023273.h09v04.061.2023278220757>,\n",
              " <Item id=MCD15A3H.A2023269.h09v04.061.2023274032826>,\n",
              " <Item id=MCD15A3H.A2023265.h09v04.061.2023270214006>,\n",
              " <Item id=MCD15A3H.A2023261.h09v04.061.2023266033839>,\n",
              " <Item id=MCD15A3H.A2023257.h09v04.061.2023262033935>,\n",
              " <Item id=MCD15A3H.A2023253.h09v04.061.2023258034634>,\n",
              " <Item id=MCD15A3H.A2023249.h09v04.061.2023254233639>,\n",
              " <Item id=MCD15A3H.A2023245.h09v04.061.2023251173408>,\n",
              " <Item id=MCD15A3H.A2023241.h09v04.061.2023248023457>,\n",
              " <Item id=MCD15A3H.A2023237.h09v04.061.2023242034819>,\n",
              " <Item id=MCD15A3H.A2023233.h09v04.061.2023238033750>,\n",
              " <Item id=MCD15A3H.A2023229.h09v04.061.2023235020734>,\n",
              " <Item id=MCD15A3H.A2023225.h09v04.061.2023230035527>,\n",
              " <Item id=MCD15A3H.A2023221.h09v04.061.2023227142506>,\n",
              " <Item id=MCD15A3H.A2023217.h09v04.061.2023222140540>,\n",
              " <Item id=MCD15A3H.A2023213.h09v04.061.2023220020435>,\n",
              " <Item id=MCD15A3H.A2023209.h09v04.061.2023215182923>,\n",
              " <Item id=MCD15A3H.A2023205.h09v04.061.2023215081106>,\n",
              " <Item id=MCD15A3H.A2023201.h09v04.061.2023215084337>,\n",
              " <Item id=MCD15A3H.A2023197.h09v04.061.2023213120559>,\n",
              " <Item id=MCD15A3H.A2023193.h09v04.061.2023201084555>,\n",
              " <Item id=MCD15A3H.A2023189.h09v04.061.2023200143543>,\n",
              " <Item id=MCD15A3H.A2023185.h09v04.061.2023193121912>,\n",
              " <Item id=MCD15A3H.A2023181.h09v04.061.2023190140015>,\n",
              " <Item id=MCD15A3H.A2023177.h09v04.061.2023187212139>,\n",
              " <Item id=MCD15A3H.A2023173.h09v04.061.2023178150812>,\n",
              " <Item id=MCD15A3H.A2023169.h09v04.061.2023174040946>,\n",
              " <Item id=MCD15A3H.A2023165.h09v04.061.2023172145243>,\n",
              " <Item id=MCD15A3H.A2023161.h09v04.061.2023166040709>,\n",
              " <Item id=MCD15A3H.A2023157.h09v04.061.2023164000459>,\n",
              " <Item id=MCD15A3H.A2023153.h09v04.061.2023160175615>,\n",
              " <Item id=MCD15A3H.A2023149.h09v04.061.2023154040515>,\n",
              " <Item id=MCD15A3H.A2023145.h09v04.061.2023150153638>,\n",
              " <Item id=MCD15A3H.A2023141.h09v04.061.2023146170340>,\n",
              " <Item id=MCD15A3H.A2023137.h09v04.061.2023142231342>,\n",
              " <Item id=MCD15A3H.A2023133.h09v04.061.2023143000211>,\n",
              " <Item id=MCD15A3H.A2023129.h09v04.061.2023135222225>,\n",
              " <Item id=MCD15A3H.A2023125.h09v04.061.2023130033225>,\n",
              " <Item id=MCD15A3H.A2023121.h09v04.061.2023128231932>,\n",
              " <Item id=MCD15A3H.A2023117.h09v04.061.2023122174708>,\n",
              " <Item id=MCD15A3H.A2023113.h09v04.061.2023118033633>,\n",
              " <Item id=MCD15A3H.A2023109.h09v04.061.2023115190034>,\n",
              " <Item id=MCD15A3H.A2023105.h09v04.061.2023114145526>,\n",
              " <Item id=MCD15A3H.A2023101.h09v04.061.2023106034232>,\n",
              " <Item id=MCD15A3H.A2023097.h09v04.061.2023102053823>,\n",
              " <Item id=MCD15A3H.A2023093.h09v04.061.2023098114919>,\n",
              " <Item id=MCD15A3H.A2023089.h09v04.061.2023095085519>,\n",
              " <Item id=MCD15A3H.A2023085.h09v04.061.2023090060828>,\n",
              " <Item id=MCD15A3H.A2023081.h09v04.061.2023086032508>,\n",
              " <Item id=MCD15A3H.A2023077.h09v04.061.2023082143826>,\n",
              " <Item id=MCD15A3H.A2023073.h09v04.061.2023078031716>,\n",
              " <Item id=MCD15A3H.A2023069.h09v04.061.2023074074801>,\n",
              " <Item id=MCD15A3H.A2023057.h09v04.061.2023062051611>,\n",
              " <Item id=MCD15A3H.A2023053.h09v04.061.2023060180021>,\n",
              " <Item id=MCD15A3H.A2023049.h09v04.061.2023056172827>,\n",
              " <Item id=MCD15A3H.A2023045.h09v04.061.2023056054409>,\n",
              " <Item id=MCD15A3H.A2023041.h09v04.061.2023046103626>,\n",
              " <Item id=MCD15A3H.A2023037.h09v04.061.2023044142456>,\n",
              " <Item id=MCD15A3H.A2023033.h09v04.061.2023038235859>,\n",
              " <Item id=MCD15A3H.A2023029.h09v04.061.2023035153002>,\n",
              " <Item id=MCD15A3H.A2023025.h09v04.061.2023030033116>,\n",
              " <Item id=MCD15A3H.A2023021.h09v04.061.2023026232254>,\n",
              " <Item id=MCD15A3H.A2023017.h09v04.061.2023025150138>,\n",
              " <Item id=MCD15A3H.A2023013.h09v04.061.2023019024800>,\n",
              " <Item id=MCD15A3H.A2023009.h09v04.061.2023019172056>,\n",
              " <Item id=MCD15A3H.A2023005.h09v04.061.2023014081349>,\n",
              " <Item id=MCD15A3H.A2023001.h09v04.061.2023007051539>,\n",
              " <Item id=MCD15A3H.A2022365.h09v04.061.2023006110131>,\n",
              " <Item id=MCD15A3H.A2022361.h09v04.061.2023001164455>,\n",
              " <Item id=MCD15A3H.A2022357.h09v04.061.2022363091832>,\n",
              " <Item id=MCD15A3H.A2022353.h09v04.061.2022360061021>,\n",
              " <Item id=MCD15A3H.A2022349.h09v04.061.2022360183646>,\n",
              " <Item id=MCD15A3H.A2022345.h09v04.061.2022356221218>,\n",
              " <Item id=MCD15A3H.A2022341.h09v04.061.2022352221906>,\n",
              " <Item id=MCD15A3H.A2022337.h09v04.061.2022351135250>,\n",
              " <Item id=MCD15A3H.A2022333.h09v04.061.2022351013150>,\n",
              " <Item id=MCD15A3H.A2022329.h09v04.061.2022334051656>,\n",
              " <Item id=MCD15A3H.A2022325.h09v04.061.2022330060052>,\n",
              " <Item id=MCD15A3H.A2022321.h09v04.061.2022326045132>,\n",
              " <Item id=MCD15A3H.A2022317.h09v04.061.2022322054757>,\n",
              " <Item id=MCD15A3H.A2022313.h09v04.061.2022321171455>,\n",
              " <Item id=MCD15A3H.A2022309.h09v04.061.2022321170956>,\n",
              " <Item id=MCD15A3H.A2022305.h09v04.061.2022313082925>,\n",
              " <Item id=MCD15A3H.A2022301.h09v04.061.2022313081721>,\n",
              " <Item id=MCD15A3H.A2022297.h09v04.061.2022307015804>,\n",
              " <Item id=MCD15A3H.A2022281.h09v04.061.2022287191257>,\n",
              " <Item id=MCD15A3H.A2022277.h09v04.061.2022284170957>,\n",
              " <Item id=MCD15A3H.A2022273.h09v04.061.2022278051940>,\n",
              " <Item id=MCD15A3H.A2022269.h09v04.061.2022274053728>,\n",
              " <Item id=MCD15A3H.A2022265.h09v04.061.2022270055302>,\n",
              " <Item id=MCD15A3H.A2022261.h09v04.061.2022266062159>,\n",
              " <Item id=MCD15A3H.A2022257.h09v04.061.2022263193923>,\n",
              " <Item id=MCD15A3H.A2022253.h09v04.061.2022258174200>,\n",
              " <Item id=MCD15A3H.A2022249.h09v04.061.2022258043243>,\n",
              " <Item id=MCD15A3H.A2022245.h09v04.061.2022250043930>,\n",
              " <Item id=MCD15A3H.A2022241.h09v04.061.2022249013150>,\n",
              " <Item id=MCD15A3H.A2022237.h09v04.061.2022242041239>,\n",
              " <Item id=MCD15A3H.A2022233.h09v04.061.2022238185018>,\n",
              " <Item id=MCD15A3H.A2022229.h09v04.061.2022234230526>,\n",
              " <Item id=MCD15A3H.A2022225.h09v04.061.2022233002945>,\n",
              " <Item id=MCD15A3H.A2022221.h09v04.061.2022228201813>,\n",
              " <Item id=MCD15A3H.A2022217.h09v04.061.2022222045116>,\n",
              " <Item id=MCD15A3H.A2022213.h09v04.061.2022218052103>,\n",
              " <Item id=MCD15A3H.A2022209.h09v04.061.2022215090409>,\n",
              " <Item id=MCD15A3H.A2022205.h09v04.061.2022210071059>,\n",
              " <Item id=MCD15A3H.A2022201.h09v04.061.2022206182833>,\n",
              " <Item id=MCD15A3H.A2022197.h09v04.061.2022202064210>,\n",
              " <Item id=MCD15A3H.A2022193.h09v04.061.2022200012029>,\n",
              " <Item id=MCD15A3H.A2022189.h09v04.061.2022194182507>,\n",
              " <Item id=MCD15A3H.A2022185.h09v04.061.2022192185716>,\n",
              " <Item id=MCD15A3H.A2022181.h09v04.061.2022186050411>,\n",
              " <Item id=MCD15A3H.A2022177.h09v04.061.2022182171736>,\n",
              " <Item id=MCD15A3H.A2022173.h09v04.061.2022178213556>,\n",
              " <Item id=MCD15A3H.A2022169.h09v04.061.2022174125108>,\n",
              " <Item id=MCD15A3H.A2022165.h09v04.061.2022170052540>,\n",
              " <Item id=MCD15A3H.A2022161.h09v04.061.2022168143701>,\n",
              " <Item id=MCD15A3H.A2022157.h09v04.061.2022162060854>,\n",
              " <Item id=MCD15A3H.A2022153.h09v04.061.2022158074722>,\n",
              " <Item id=MCD15A3H.A2022149.h09v04.061.2022154063750>,\n",
              " <Item id=MCD15A3H.A2022145.h09v04.061.2022152021135>,\n",
              " <Item id=MCD15A3H.A2022141.h09v04.061.2022146043443>,\n",
              " <Item id=MCD15A3H.A2022137.h09v04.061.2022142041206>,\n",
              " <Item id=MCD15A3H.A2022133.h09v04.061.2022140140224>,\n",
              " <Item id=MCD15A3H.A2022129.h09v04.061.2022138132130>,\n",
              " <Item id=MCD15A3H.A2022125.h09v04.061.2022133202554>,\n",
              " <Item id=MCD15A3H.A2022121.h09v04.061.2022129163525>,\n",
              " <Item id=MCD15A3H.A2022117.h09v04.061.2022122044639>,\n",
              " <Item id=MCD15A3H.A2022113.h09v04.061.2022118062711>,\n",
              " <Item id=MCD15A3H.A2022109.h09v04.061.2022114041236>,\n",
              " <Item id=MCD15A3H.A2022105.h09v04.061.2022118170713>,\n",
              " <Item id=MCD15A3H.A2022089.h09v04.061.2022095200709>,\n",
              " <Item id=MCD15A3H.A2022085.h09v04.061.2022095200311>,\n",
              " <Item id=MCD15A3H.A2022081.h09v04.061.2022095195632>,\n",
              " <Item id=MCD15A3H.A2022077.h09v04.061.2022082051820>,\n",
              " <Item id=MCD15A3H.A2022073.h09v04.061.2022078043911>,\n",
              " <Item id=MCD15A3H.A2022069.h09v04.061.2022076091028>,\n",
              " <Item id=MCD15A3H.A2022065.h09v04.061.2022070050826>,\n",
              " <Item id=MCD15A3H.A2022061.h09v04.061.2022066050600>,\n",
              " <Item id=MCD15A3H.A2022057.h09v04.061.2022062042645>,\n",
              " <Item id=MCD15A3H.A2022053.h09v04.061.2022060023237>,\n",
              " <Item id=MCD15A3H.A2022049.h09v04.061.2022060023148>,\n",
              " <Item id=MCD15A3H.A2022045.h09v04.061.2022060023138>,\n",
              " <Item id=MCD15A3H.A2022041.h09v04.061.2022047065831>,\n",
              " <Item id=MCD15A3H.A2022037.h09v04.061.2022049172955>,\n",
              " <Item id=MCD15A3H.A2022033.h09v04.061.2022039064947>,\n",
              " <Item id=MCD15A3H.A2022029.h09v04.061.2022035065716>,\n",
              " <Item id=MCD15A3H.A2022025.h09v04.061.2022032011109>,\n",
              " <Item id=MCD15A3H.A2022021.h09v04.061.2022028074702>,\n",
              " <Item id=MCD15A3H.A2022017.h09v04.061.2022027031837>,\n",
              " <Item id=MCD15A3H.A2022013.h09v04.061.2022019011058>,\n",
              " <Item id=MCD15A3H.A2022009.h09v04.061.2022016173809>,\n",
              " <Item id=MCD15A3H.A2022005.h09v04.061.2022010043700>,\n",
              " <Item id=MCD15A3H.A2022001.h09v04.061.2022006050802>,\n",
              " <Item id=MCD15A3H.A2021365.h09v04.061.2022005042638>,\n",
              " <Item id=MCD15A3H.A2021361.h09v04.061.2022004010933>,\n",
              " <Item id=MCD15A3H.A2021357.h09v04.061.2022003203750>,\n",
              " <Item id=MCD15A3H.A2021353.h09v04.061.2021363212239>,\n",
              " <Item id=MCD15A3H.A2021349.h09v04.061.2021357154645>,\n",
              " <Item id=MCD15A3H.A2021345.h09v04.061.2021350211602>,\n",
              " <Item id=MCD15A3H.A2021341.h09v04.061.2021346052508>,\n",
              " <Item id=MCD15A3H.A2021337.h09v04.061.2021342043623>,\n",
              " <Item id=MCD15A3H.A2021333.h09v04.061.2021340233910>,\n",
              " <Item id=MCD15A3H.A2021329.h09v04.061.2021334052217>,\n",
              " <Item id=MCD15A3H.A2021325.h09v04.061.2021331193618>,\n",
              " <Item id=MCD15A3H.A2021321.h09v04.061.2021326053145>,\n",
              " <Item id=MCD15A3H.A2021317.h09v04.061.2021322052106>,\n",
              " <Item id=MCD15A3H.A2021313.h09v04.061.2021318051231>,\n",
              " <Item id=MCD15A3H.A2021309.h09v04.061.2021314071201>,\n",
              " <Item id=MCD15A3H.A2021305.h09v04.061.2021310052442>,\n",
              " <Item id=MCD15A3H.A2021301.h09v04.061.2021309021632>,\n",
              " <Item id=MCD15A3H.A2021297.h09v04.061.2021303220258>,\n",
              " <Item id=MCD15A3H.A2021293.h09v04.061.2021299091136>,\n",
              " <Item id=MCD15A3H.A2021289.h09v04.061.2021294042759>,\n",
              " <Item id=MCD15A3H.A2021285.h09v04.061.2021290045231>,\n",
              " <Item id=MCD15A3H.A2021281.h09v04.061.2021286043547>,\n",
              " <Item id=MCD15A3H.A2021277.h09v04.061.2021282045645>,\n",
              " <Item id=MCD15A3H.A2021273.h09v04.061.2021279170009>,\n",
              " <Item id=MCD15A3H.A2021269.h09v04.061.2021279165830>,\n",
              " <Item id=MCD15A3H.A2021265.h09v04.061.2021320165804>,\n",
              " <Item id=MCD15A3H.A2021265.h09v04.061.2021314004610>,\n",
              " <Item id=MCD15A3H.A2021265.h09v04.061.2021279164658>,\n",
              " <Item id=MCD15A3H.A2021261.h09v04.061.2021266044523>,\n",
              " <Item id=MCD15A3H.A2021257.h09v04.061.2021264094812>,\n",
              " <Item id=MCD15A3H.A2021253.h09v04.061.2021258062528>,\n",
              " <Item id=MCD15A3H.A2021249.h09v04.061.2021254052122>,\n",
              " <Item id=MCD15A3H.A2021245.h09v04.061.2021252173812>,\n",
              " <Item id=MCD15A3H.A2021241.h09v04.061.2021246060527>,\n",
              " <Item id=MCD15A3H.A2021237.h09v04.061.2021243233615>,\n",
              " <Item id=MCD15A3H.A2021233.h09v04.061.2021238060155>,\n",
              " <Item id=MCD15A3H.A2021229.h09v04.061.2021234071403>,\n",
              " <Item id=MCD15A3H.A2021225.h09v04.061.2021230062519>,\n",
              " <Item id=MCD15A3H.A2021221.h09v04.061.2021226065205>,\n",
              " <Item id=MCD15A3H.A2021217.h09v04.061.2021222052345>,\n",
              " <Item id=MCD15A3H.A2021213.h09v04.061.2021218054334>,\n",
              " <Item id=MCD15A3H.A2021209.h09v04.061.2021214060809>,\n",
              " <Item id=MCD15A3H.A2021205.h09v04.061.2021210063019>,\n",
              " <Item id=MCD15A3H.A2021201.h09v04.061.2021214135202>,\n",
              " <Item id=MCD15A3H.A2021197.h09v04.061.2021203025449>,\n",
              " <Item id=MCD15A3H.A2021193.h09v04.061.2021198052605>,\n",
              " <Item id=MCD15A3H.A2021189.h09v04.061.2021194051447>,\n",
              " <Item id=MCD15A3H.A2021185.h09v04.061.2021190054720>,\n",
              " <Item id=MCD15A3H.A2021181.h09v04.061.2021188032207>,\n",
              " <Item id=MCD15A3H.A2021177.h09v04.061.2021183184433>,\n",
              " <Item id=MCD15A3H.A2021173.h09v04.061.2021178064308>,\n",
              " <Item id=MCD15A3H.A2021169.h09v04.061.2021174190427>,\n",
              " <Item id=MCD15A3H.A2021165.h09v04.061.2021170054910>,\n",
              " <Item id=MCD15A3H.A2021161.h09v04.061.2021166051003>,\n",
              " <Item id=MCD15A3H.A2021157.h09v04.061.2021165165507>,\n",
              " <Item id=MCD15A3H.A2021153.h09v04.061.2021159140024>,\n",
              " <Item id=MCD15A3H.A2021149.h09v04.061.2021154053656>,\n",
              " <Item id=MCD15A3H.A2021145.h09v04.061.2021153165955>,\n",
              " <Item id=MCD15A3H.A2021141.h09v04.061.2021146105358>,\n",
              " <Item id=MCD15A3H.A2021137.h09v04.061.2021142044900>,\n",
              " <Item id=MCD15A3H.A2021133.h09v04.061.2021138045816>,\n",
              " <Item id=MCD15A3H.A2021129.h09v04.061.2021134150354>,\n",
              " <Item id=MCD15A3H.A2021125.h09v04.061.2021131220731>,\n",
              " <Item id=MCD15A3H.A2021121.h09v04.061.2021126052454>,\n",
              " <Item id=MCD15A3H.A2021117.h09v04.061.2021122130937>,\n",
              " <Item id=MCD15A3H.A2021113.h09v04.061.2021119155329>,\n",
              " <Item id=MCD15A3H.A2021109.h09v04.061.2021114053522>,\n",
              " <Item id=MCD15A3H.A2021105.h09v04.061.2021111013126>,\n",
              " <Item id=MCD15A3H.A2021101.h09v04.061.2021107113141>,\n",
              " <Item id=MCD15A3H.A2021097.h09v04.061.2021102053437>,\n",
              " <Item id=MCD15A3H.A2021093.h09v04.061.2021098052208>,\n",
              " <Item id=MCD15A3H.A2021089.h09v04.061.2021096144337>,\n",
              " <Item id=MCD15A3H.A2021085.h09v04.061.2021090055643>,\n",
              " <Item id=MCD15A3H.A2021081.h09v04.061.2021088234335>,\n",
              " <Item id=MCD15A3H.A2021077.h09v04.061.2021082201937>,\n",
              " <Item id=MCD15A3H.A2021073.h09v04.061.2021078052257>,\n",
              " <Item id=MCD15A3H.A2021069.h09v04.061.2021075155504>,\n",
              " <Item id=MCD15A3H.A2021065.h09v04.061.2021070050721>,\n",
              " <Item id=MCD15A3H.A2021061.h09v04.061.2021068020700>,\n",
              " <Item id=MCD15A3H.A2021057.h09v04.061.2021062094509>,\n",
              " <Item id=MCD15A3H.A2021053.h09v04.061.2021061112229>,\n",
              " <Item id=MCD15A3H.A2021049.h09v04.061.2021061111953>,\n",
              " <Item id=MCD15A3H.A2021045.h09v04.061.2021061092744>,\n",
              " <Item id=MCD15A3H.A2021041.h09v04.061.2021046042246>,\n",
              " <Item id=MCD15A3H.A2021037.h09v04.061.2021042054410>,\n",
              " <Item id=MCD15A3H.A2021033.h09v04.061.2021039194027>,\n",
              " <Item id=MCD15A3H.A2021029.h09v04.061.2021034042652>,\n",
              " <Item id=MCD15A3H.A2021025.h09v04.061.2021033130701>,\n",
              " <Item id=MCD15A3H.A2021021.h09v04.061.2021033010426>,\n",
              " <Item id=MCD15A3H.A2021017.h09v04.061.2021032175026>,\n",
              " <Item id=MCD15A3H.A2021013.h09v04.061.2021026174814>,\n",
              " <Item id=MCD15A3H.A2021009.h09v04.061.2021020232216>,\n",
              " <Item id=MCD15A3H.A2021005.h09v04.061.2021020183737>,\n",
              " <Item id=MCD15A3H.A2021001.h09v04.061.2021013184910>,\n",
              " <Item id=MCD15A3H.A2020365.h09v04.061.2021012071819>,\n",
              " <Item id=MCD15A3H.A2020361.h09v04.061.2021006144115>,\n",
              " <Item id=MCD15A3H.A2020357.h09v04.061.2021006094925>,\n",
              " <Item id=MCD15A3H.A2020353.h09v04.061.2021006042217>,\n",
              " <Item id=MCD15A3H.A2020349.h09v04.061.2021011213928>,\n",
              " <Item id=MCD15A3H.A2020345.h09v04.061.2021005180159>,\n",
              " <Item id=MCD15A3H.A2020341.h09v04.061.2020363141130>,\n",
              " <Item id=MCD15A3H.A2020337.h09v04.061.2020363141616>,\n",
              " <Item id=MCD15A3H.A2020333.h09v04.061.2020357123824>,\n",
              " <Item id=MCD15A3H.A2020329.h09v04.061.2020357014320>,\n",
              " <Item id=MCD15A3H.A2020325.h09v04.061.2020354023211>,\n",
              " <Item id=MCD15A3H.A2020321.h09v04.061.2020353203020>,\n",
              " <Item id=MCD15A3H.A2020317.h09v04.061.2020353151436>,\n",
              " <Item id=MCD15A3H.A2020313.h09v04.061.2020353111736>,\n",
              " <Item id=MCD15A3H.A2020309.h09v04.061.2020353065020>,\n",
              " <Item id=MCD15A3H.A2020305.h09v04.061.2020353034058>,\n",
              " <Item id=MCD15A3H.A2020301.h09v04.061.2020352225128>,\n",
              " <Item id=MCD15A3H.A2020297.h09v04.061.2020352155533>,\n",
              " <Item id=MCD15A3H.A2020293.h09v04.061.2020349220341>,\n",
              " <Item id=MCD15A3H.A2020289.h09v04.061.2020349214103>,\n",
              " <Item id=MCD15A3H.A2020285.h09v04.061.2020348071431>,\n",
              " <Item id=MCD15A3H.A2020281.h09v04.061.2020348032101>,\n",
              " <Item id=MCD15A3H.A2020277.h09v04.061.2020349232322>,\n",
              " <Item id=MCD15A3H.A2020273.h09v04.061.2020347184135>,\n",
              " <Item id=MCD15A3H.A2020269.h09v04.061.2020347094426>,\n",
              " <Item id=MCD15A3H.A2020265.h09v04.061.2020347050214>,\n",
              " <Item id=MCD15A3H.A2020261.h09v04.061.2020347010509>,\n",
              " <Item id=MCD15A3H.A2020257.h09v04.061.2020346192334>,\n",
              " <Item id=MCD15A3H.A2020253.h09v04.061.2020346124344>,\n",
              " <Item id=MCD15A3H.A2020249.h09v04.061.2020345235227>,\n",
              " <Item id=MCD15A3H.A2020245.h09v04.061.2020345153149>,\n",
              " <Item id=MCD15A3H.A2020241.h09v04.061.2020345071856>,\n",
              " <Item id=MCD15A3H.A2020237.h09v04.061.2020344182130>,\n",
              " <Item id=MCD15A3H.A2020233.h09v04.061.2020343144215>,\n",
              " <Item id=MCD15A3H.A2020229.h09v04.061.2020343020937>,\n",
              " <Item id=MCD15A3H.A2020225.h09v04.061.2020343012116>,\n",
              " <Item id=MCD15A3H.A2020221.h09v04.061.2020342044348>,\n",
              " <Item id=MCD15A3H.A2020217.h09v04.061.2020341103741>,\n",
              " <Item id=MCD15A3H.A2020213.h09v04.061.2020341054135>,\n",
              " <Item id=MCD15A3H.A2020209.h09v04.061.2020340234933>,\n",
              " <Item id=MCD15A3H.A2020205.h09v04.061.2020340180220>,\n",
              " <Item id=MCD15A3H.A2020201.h09v04.061.2020340164325>,\n",
              " <Item id=MCD15A3H.A2020197.h09v04.061.2020340155315>,\n",
              " <Item id=MCD15A3H.A2020193.h09v04.061.2020340151401>,\n",
              " <Item id=MCD15A3H.A2020189.h09v04.061.2020340145302>,\n",
              " <Item id=MCD15A3H.A2020185.h09v04.061.2020340134746>,\n",
              " <Item id=MCD15A3H.A2020181.h09v04.061.2020340131404>,\n",
              " <Item id=MCD15A3H.A2020177.h09v04.061.2020340125600>,\n",
              " <Item id=MCD15A3H.A2020173.h09v04.061.2020336203027>,\n",
              " <Item id=MCD15A3H.A2020169.h09v04.061.2020336173705>,\n",
              " <Item id=MCD15A3H.A2020165.h09v04.061.2020336143853>,\n",
              " <Item id=MCD15A3H.A2020161.h09v04.061.2020336104931>,\n",
              " <Item id=MCD15A3H.A2020157.h09v04.061.2020336022917>,\n",
              " <Item id=MCD15A3H.A2020153.h09v04.061.2020336021125>,\n",
              " <Item id=MCD15A3H.A2020149.h09v04.061.2020335105625>,\n",
              " <Item id=MCD15A3H.A2020145.h09v04.061.2020335020954>,\n",
              " <Item id=MCD15A3H.A2020141.h09v04.061.2020335001127>,\n",
              " <Item id=MCD15A3H.A2020137.h09v04.061.2020334220245>,\n",
              " <Item id=MCD15A3H.A2020133.h09v04.061.2020334144554>,\n",
              " <Item id=MCD15A3H.A2020129.h09v04.061.2020339155936>,\n",
              " <Item id=MCD15A3H.A2020125.h09v04.061.2020333094446>,\n",
              " <Item id=MCD15A3H.A2020121.h09v04.061.2020333074357>,\n",
              " <Item id=MCD15A3H.A2020117.h09v04.061.2020333055203>,\n",
              " <Item id=MCD15A3H.A2020113.h09v04.061.2020332234458>,\n",
              " <Item id=MCD15A3H.A2020109.h09v04.061.2020332142301>,\n",
              " <Item id=MCD15A3H.A2020105.h09v04.061.2020332140430>,\n",
              " <Item id=MCD15A3H.A2020101.h09v04.061.2020332134927>,\n",
              " <Item id=MCD15A3H.A2020097.h09v04.061.2020332132917>,\n",
              " <Item id=MCD15A3H.A2020093.h09v04.061.2020335081941>,\n",
              " <Item id=MCD15A3H.A2020089.h09v04.061.2020335071225>,\n",
              " <Item id=MCD15A3H.A2020085.h09v04.061.2020335052451>,\n",
              " <Item id=MCD15A3H.A2020081.h09v04.061.2020331032829>,\n",
              " <Item id=MCD15A3H.A2020077.h09v04.061.2020330183646>,\n",
              " <Item id=MCD15A3H.A2020073.h09v04.061.2020330125322>,\n",
              " <Item id=MCD15A3H.A2020069.h09v04.061.2020335042601>,\n",
              " <Item id=MCD15A3H.A2020065.h09v04.061.2020335032221>,\n",
              " <Item id=MCD15A3H.A2020061.h09v04.061.2020330033748>,\n",
              " <Item id=MCD15A3H.A2020057.h09v04.061.2020335041028>,\n",
              " <Item id=MCD15A3H.A2020053.h09v04.061.2020330025044>,\n",
              " <Item id=MCD15A3H.A2020049.h09v04.061.2020335032212>,\n",
              " <Item id=MCD15A3H.A2020045.h09v04.061.2020329103748>,\n",
              " <Item id=MCD15A3H.A2020041.h09v04.061.2020329080623>,\n",
              " <Item id=MCD15A3H.A2020037.h09v04.061.2020329012939>,\n",
              " <Item id=MCD15A3H.A2020033.h09v04.061.2020328203525>,\n",
              " <Item id=MCD15A3H.A2020029.h09v04.061.2020328175729>,\n",
              " <Item id=MCD15A3H.A2020025.h09v04.061.2020327172350>,\n",
              " <Item id=MCD15A3H.A2020021.h09v04.061.2020328145627>,\n",
              " <Item id=MCD15A3H.A2020017.h09v04.061.2020327073959>,\n",
              " <Item id=MCD15A3H.A2020013.h09v04.061.2020326043822>,\n",
              " <Item id=MCD15A3H.A2020009.h09v04.061.2020325091345>,\n",
              " <Item id=MCD15A3H.A2020005.h09v04.061.2020324100314>,\n",
              " <Item id=MCD15A3H.A2020001.h09v04.061.2020324002052>,\n",
              " <Item id=MCD15A3H.A2019365.h09v04.061.2020323204919>,\n",
              " <Item id=MCD15A3H.A2019361.h09v04.061.2020323062909>,\n",
              " <Item id=MCD15A3H.A2019357.h09v04.061.2020322220447>,\n",
              " <Item id=MCD15A3H.A2019353.h09v04.061.2020322112728>,\n",
              " <Item id=MCD15A3H.A2019349.h09v04.061.2020321232903>,\n",
              " <Item id=MCD15A3H.A2019345.h09v04.061.2020321103819>,\n",
              " <Item id=MCD15A3H.A2019341.h09v04.061.2020320192212>,\n",
              " <Item id=MCD15A3H.A2019337.h09v04.061.2020319103222>,\n",
              " <Item id=MCD15A3H.A2019333.h09v04.061.2020319044451>,\n",
              " <Item id=MCD15A3H.A2019329.h09v04.061.2020318211152>,\n",
              " <Item id=MCD15A3H.A2019325.h09v04.061.2020318144000>,\n",
              " <Item id=MCD15A3H.A2019321.h09v04.061.2020318060434>,\n",
              " <Item id=MCD15A3H.A2019317.h09v04.061.2020317214125>,\n",
              " <Item id=MCD15A3H.A2019313.h09v04.061.2020317050604>,\n",
              " <Item id=MCD15A3H.A2019309.h09v04.061.2020316201105>,\n",
              " <Item id=MCD15A3H.A2019305.h09v04.061.2020316104510>,\n",
              " <Item id=MCD15A3H.A2019301.h09v04.061.2020316011517>,\n",
              " <Item id=MCD15A3H.A2019297.h09v04.061.2020315075503>,\n",
              " <Item id=MCD15A3H.A2019293.h09v04.061.2020314223300>,\n",
              " <Item id=MCD15A3H.A2019289.h09v04.061.2020314114433>,\n",
              " <Item id=MCD15A3H.A2019285.h09v04.061.2020314025012>,\n",
              " <Item id=MCD15A3H.A2019281.h09v04.061.2020313161223>,\n",
              " <Item id=MCD15A3H.A2019277.h09v04.061.2020313063307>,\n",
              " <Item id=MCD15A3H.A2019273.h09v04.061.2020312230738>,\n",
              " <Item id=MCD15A3H.A2019269.h09v04.061.2020312071409>,\n",
              " <Item id=MCD15A3H.A2019265.h09v04.061.2020311111848>,\n",
              " <Item id=MCD15A3H.A2019261.h09v04.061.2020310094747>,\n",
              " <Item id=MCD15A3H.A2019257.h09v04.061.2020309062943>,\n",
              " <Item id=MCD15A3H.A2019253.h09v04.061.2020308195717>,\n",
              " <Item id=MCD15A3H.A2019249.h09v04.061.2020308094654>,\n",
              " <Item id=MCD15A3H.A2019245.h09v04.061.2020307143432>,\n",
              " <Item id=MCD15A3H.A2019241.h09v04.061.2020307055714>,\n",
              " <Item id=MCD15A3H.A2019237.h09v04.061.2020306161942>,\n",
              " <Item id=MCD15A3H.A2019233.h09v04.061.2020306073420>,\n",
              " <Item id=MCD15A3H.A2019229.h09v04.061.2020305231117>,\n",
              " <Item id=MCD15A3H.A2019225.h09v04.061.2020305055249>,\n",
              " <Item id=MCD15A3H.A2019221.h09v04.061.2020304192303>,\n",
              " <Item id=MCD15A3H.A2019217.h09v04.061.2020304131028>,\n",
              " <Item id=MCD15A3H.A2019213.h09v04.061.2020304101706>,\n",
              " <Item id=MCD15A3H.A2019209.h09v04.061.2020304072632>,\n",
              " <Item id=MCD15A3H.A2019205.h09v04.061.2020304043418>,\n",
              " <Item id=MCD15A3H.A2019201.h09v04.061.2020304002302>,\n",
              " <Item id=MCD15A3H.A2019197.h09v04.061.2020303200352>,\n",
              " <Item id=MCD15A3H.A2019193.h09v04.061.2020303150251>,\n",
              " <Item id=MCD15A3H.A2019189.h09v04.061.2020303093625>,\n",
              " <Item id=MCD15A3H.A2019185.h09v04.061.2020302201803>,\n",
              " <Item id=MCD15A3H.A2019181.h09v04.061.2020302063026>,\n",
              " <Item id=MCD15A3H.A2019177.h09v04.061.2020299034054>,\n",
              " <Item id=MCD15A3H.A2019173.h09v04.061.2020299000005>,\n",
              " <Item id=MCD15A3H.A2019169.h09v04.061.2020298210003>,\n",
              " <Item id=MCD15A3H.A2019165.h09v04.061.2020298151124>,\n",
              " <Item id=MCD15A3H.A2019161.h09v04.061.2020298111016>,\n",
              " <Item id=MCD15A3H.A2019157.h09v04.061.2020298070513>,\n",
              " <Item id=MCD15A3H.A2019153.h09v04.061.2020298022836>,\n",
              " <Item id=MCD15A3H.A2019149.h09v04.061.2020297044136>,\n",
              " <Item id=MCD15A3H.A2019145.h09v04.061.2020295152411>,\n",
              " <Item id=MCD15A3H.A2019141.h09v04.061.2020294165324>,\n",
              " <Item id=MCD15A3H.A2019137.h09v04.061.2020294073601>,\n",
              " <Item id=MCD15A3H.A2019133.h09v04.061.2020294041335>,\n",
              " <Item id=MCD15A3H.A2019129.h09v04.061.2020294001623>,\n",
              " <Item id=MCD15A3H.A2019125.h09v04.061.2020293202145>,\n",
              " <Item id=MCD15A3H.A2019121.h09v04.061.2020293162433>,\n",
              " <Item id=MCD15A3H.A2019117.h09v04.061.2020293054841>,\n",
              " <Item id=MCD15A3H.A2019113.h09v04.061.2020292205504>,\n",
              " <Item id=MCD15A3H.A2019109.h09v04.061.2020292170238>,\n",
              " <Item id=MCD15A3H.A2019105.h09v04.061.2020292130851>,\n",
              " <Item id=MCD15A3H.A2019101.h09v04.061.2020292090745>,\n",
              " <Item id=MCD15A3H.A2019097.h09v04.061.2020292042640>,\n",
              " <Item id=MCD15A3H.A2019093.h09v04.061.2020291182204>,\n",
              " <Item id=MCD15A3H.A2019089.h09v04.061.2020291104030>,\n",
              " <Item id=MCD15A3H.A2019085.h09v04.061.2020291060510>,\n",
              " <Item id=MCD15A3H.A2019081.h09v04.061.2020291020150>,\n",
              " <Item id=MCD15A3H.A2019077.h09v04.061.2020290185115>,\n",
              " <Item id=MCD15A3H.A2019073.h09v04.061.2020289172525>,\n",
              " <Item id=MCD15A3H.A2019069.h09v04.061.2020289140351>,\n",
              " <Item id=MCD15A3H.A2019065.h09v04.061.2020289092937>,\n",
              " <Item id=MCD15A3H.A2019061.h09v04.061.2020289010906>,\n",
              " <Item id=MCD15A3H.A2019057.h09v04.061.2020288161719>,\n",
              " <Item id=MCD15A3H.A2019053.h09v04.061.2020288131954>,\n",
              " <Item id=MCD15A3H.A2019049.h09v04.061.2020288091528>,\n",
              " <Item id=MCD15A3H.A2019045.h09v04.061.2020288005323>,\n",
              " <Item id=MCD15A3H.A2019041.h09v04.061.2020287131218>,\n",
              " <Item id=MCD15A3H.A2019037.h09v04.061.2020287081730>,\n",
              " <Item id=MCD15A3H.A2019033.h09v04.061.2020287035051>,\n",
              " <Item id=MCD15A3H.A2019029.h09v04.061.2020286185603>,\n",
              " <Item id=MCD15A3H.A2019025.h09v04.061.2020286183932>,\n",
              " <Item id=MCD15A3H.A2019021.h09v04.061.2020286174001>,\n",
              " <Item id=MCD15A3H.A2019017.h09v04.061.2020286164207>,\n",
              " <Item id=MCD15A3H.A2019013.h09v04.061.2020286160847>,\n",
              " <Item id=MCD15A3H.A2019009.h09v04.061.2020286154638>,\n",
              " <Item id=MCD15A3H.A2019005.h09v04.061.2020286150859>,\n",
              " <Item id=MCD15A3H.A2019001.h09v04.061.2020286144117>,\n",
              " <Item id=MCD15A3H.A2018365.h09v04.061.2021361194030>,\n",
              " <Item id=MCD15A3H.A2018361.h09v04.061.2021350133526>,\n",
              " <Item id=MCD15A3H.A2018357.h09v04.061.2021350113326>,\n",
              " <Item id=MCD15A3H.A2018353.h09v04.061.2021350093757>,\n",
              " <Item id=MCD15A3H.A2018349.h09v04.061.2021350075008>,\n",
              " <Item id=MCD15A3H.A2018345.h09v04.061.2021350055320>,\n",
              " <Item id=MCD15A3H.A2018341.h09v04.061.2021350035000>,\n",
              " <Item id=MCD15A3H.A2018337.h09v04.061.2021350020010>,\n",
              " <Item id=MCD15A3H.A2018333.h09v04.061.2021349234735>,\n",
              " <Item id=MCD15A3H.A2018329.h09v04.061.2021349182721>,\n",
              " <Item id=MCD15A3H.A2018325.h09v04.061.2021349182414>,\n",
              " <Item id=MCD15A3H.A2018321.h09v04.061.2021349182135>,\n",
              " <Item id=MCD15A3H.A2018317.h09v04.061.2021349181751>,\n",
              " <Item id=MCD15A3H.A2018313.h09v04.061.2021349181414>,\n",
              " <Item id=MCD15A3H.A2018309.h09v04.061.2021349181121>,\n",
              " <Item id=MCD15A3H.A2018305.h09v04.061.2021349180724>,\n",
              " <Item id=MCD15A3H.A2018301.h09v04.061.2021349180336>,\n",
              " <Item id=MCD15A3H.A2018297.h09v04.061.2021349180006>,\n",
              " <Item id=MCD15A3H.A2018293.h09v04.061.2021349175611>,\n",
              " <Item id=MCD15A3H.A2018289.h09v04.061.2021349175412>,\n",
              " <Item id=MCD15A3H.A2018285.h09v04.061.2021349175113>,\n",
              " <Item id=MCD15A3H.A2018281.h09v04.061.2021349174733>,\n",
              " <Item id=MCD15A3H.A2018277.h09v04.061.2021349174603>,\n",
              " <Item id=MCD15A3H.A2018273.h09v04.061.2021349174346>,\n",
              " <Item id=MCD15A3H.A2018269.h09v04.061.2021349174123>,\n",
              " <Item id=MCD15A3H.A2018265.h09v04.061.2021349173848>,\n",
              " <Item id=MCD15A3H.A2018261.h09v04.061.2021349173601>,\n",
              " <Item id=MCD15A3H.A2018257.h09v04.061.2021349172728>,\n",
              " <Item id=MCD15A3H.A2018253.h09v04.061.2021349172121>,\n",
              " <Item id=MCD15A3H.A2018249.h09v04.061.2021349171848>,\n",
              " <Item id=MCD15A3H.A2018245.h09v04.061.2021349171618>,\n",
              " <Item id=MCD15A3H.A2018241.h09v04.061.2021349171357>,\n",
              " <Item id=MCD15A3H.A2018237.h09v04.061.2021349171147>,\n",
              " <Item id=MCD15A3H.A2018233.h09v04.061.2021349165949>,\n",
              " <Item id=MCD15A3H.A2018229.h09v04.061.2021349124454>,\n",
              " <Item id=MCD15A3H.A2018225.h09v04.061.2021349124245>,\n",
              " <Item id=MCD15A3H.A2018221.h09v04.061.2021349124109>,\n",
              " <Item id=MCD15A3H.A2018217.h09v04.061.2021349123914>,\n",
              " <Item id=MCD15A3H.A2018213.h09v04.061.2021349123737>,\n",
              " <Item id=MCD15A3H.A2018209.h09v04.061.2021349123539>,\n",
              " <Item id=MCD15A3H.A2018205.h09v04.061.2021349123327>,\n",
              " <Item id=MCD15A3H.A2018201.h09v04.061.2021337231150>,\n",
              " <Item id=MCD15A3H.A2018197.h09v04.061.2021337230853>,\n",
              " <Item id=MCD15A3H.A2018193.h09v04.061.2021337230348>,\n",
              " <Item id=MCD15A3H.A2018189.h09v04.061.2021337230012>,\n",
              " <Item id=MCD15A3H.A2018185.h09v04.061.2021337225027>,\n",
              " <Item id=MCD15A3H.A2018181.h09v04.061.2021337225621>,\n",
              " <Item id=MCD15A3H.A2018177.h09v04.061.2021335194831>,\n",
              " <Item id=MCD15A3H.A2018173.h09v04.061.2021335193952>,\n",
              " <Item id=MCD15A3H.A2018169.h09v04.061.2021334114627>,\n",
              " <Item id=MCD15A3H.A2018165.h09v04.061.2021334113948>,\n",
              " <Item id=MCD15A3H.A2018161.h09v04.061.2021334113336>,\n",
              " <Item id=MCD15A3H.A2018157.h09v04.061.2021334112802>,\n",
              " <Item id=MCD15A3H.A2018153.h09v04.061.2021331222758>,\n",
              " <Item id=MCD15A3H.A2018149.h09v04.061.2021331222345>,\n",
              " <Item id=MCD15A3H.A2018145.h09v04.061.2021331222133>,\n",
              " <Item id=MCD15A3H.A2018141.h09v04.061.2021331221803>,\n",
              " <Item id=MCD15A3H.A2018137.h09v04.061.2021331221339>,\n",
              " <Item id=MCD15A3H.A2018133.h09v04.061.2021331220901>,\n",
              " <Item id=MCD15A3H.A2018129.h09v04.061.2021331220710>,\n",
              " <Item id=MCD15A3H.A2018125.h09v04.061.2021331220249>,\n",
              " <Item id=MCD15A3H.A2018121.h09v04.061.2021328113510>,\n",
              " <Item id=MCD15A3H.A2018117.h09v04.061.2021328113128>,\n",
              " <Item id=MCD15A3H.A2018113.h09v04.061.2021327101742>,\n",
              " <Item id=MCD15A3H.A2018109.h09v04.061.2021327101049>,\n",
              " <Item id=MCD15A3H.A2018105.h09v04.061.2021324053310>,\n",
              " <Item id=MCD15A3H.A2018101.h09v04.061.2021324053050>,\n",
              " <Item id=MCD15A3H.A2018097.h09v04.061.2021324052750>,\n",
              " <Item id=MCD15A3H.A2018093.h09v04.061.2021324052330>,\n",
              " <Item id=MCD15A3H.A2018089.h09v04.061.2021324051953>,\n",
              " <Item id=MCD15A3H.A2018085.h09v04.061.2021324051502>,\n",
              " <Item id=MCD15A3H.A2018081.h09v04.061.2021324051310>,\n",
              " <Item id=MCD15A3H.A2018077.h09v04.061.2021324050819>,\n",
              " <Item id=MCD15A3H.A2018073.h09v04.061.2021319131925>,\n",
              " <Item id=MCD15A3H.A2018069.h09v04.061.2021319131436>,\n",
              " <Item id=MCD15A3H.A2018065.h09v04.061.2021319131055>,\n",
              " <Item id=MCD15A3H.A2018061.h09v04.061.2021319130607>,\n",
              " <Item id=MCD15A3H.A2018057.h09v04.061.2021317194532>,\n",
              " <Item id=MCD15A3H.A2018053.h09v04.061.2021317194405>,\n",
              " <Item id=MCD15A3H.A2018049.h09v04.061.2021317023105>,\n",
              " <Item id=MCD15A3H.A2018045.h09v04.061.2021317014614>,\n",
              " <Item id=MCD15A3H.A2018041.h09v04.061.2021317013843>,\n",
              " <Item id=MCD15A3H.A2018037.h09v04.061.2021317193720>,\n",
              " <Item id=MCD15A3H.A2018033.h09v04.061.2021315072002>,\n",
              " <Item id=MCD15A3H.A2018029.h09v04.061.2021315071138>,\n",
              " <Item id=MCD15A3H.A2018025.h09v04.061.2021314025450>,\n",
              " <Item id=MCD15A3H.A2018021.h09v04.061.2021314013318>,\n",
              " <Item id=MCD15A3H.A2018017.h09v04.061.2021313113942>,\n",
              " <Item id=MCD15A3H.A2018013.h09v04.061.2021313103803>,\n",
              " <Item id=MCD15A3H.A2018009.h09v04.061.2021305201529>,\n",
              " <Item id=MCD15A3H.A2018005.h09v04.061.2021305201104>,\n",
              " <Item id=MCD15A3H.A2018001.h09v04.061.2021305200841>,\n",
              " <Item id=MCD15A3H.A2017365.h09v04.061.2021295120003>,\n",
              " <Item id=MCD15A3H.A2017361.h09v04.061.2021294052150>,\n",
              " <Item id=MCD15A3H.A2017357.h09v04.061.2021294033550>,\n",
              " <Item id=MCD15A3H.A2017353.h09v04.061.2021294032847>,\n",
              " <Item id=MCD15A3H.A2017349.h09v04.061.2021294032740>,\n",
              " <Item id=MCD15A3H.A2017345.h09v04.061.2021294030440>,\n",
              " <Item id=MCD15A3H.A2017341.h09v04.061.2021294030046>,\n",
              " <Item id=MCD15A3H.A2017337.h09v04.061.2021294025156>,\n",
              " <Item id=MCD15A3H.A2017333.h09v04.061.2021294004242>,\n",
              " <Item id=MCD15A3H.A2017329.h09v04.061.2021290220730>,\n",
              " <Item id=MCD15A3H.A2017325.h09v04.061.2021290210319>,\n",
              " <Item id=MCD15A3H.A2017321.h09v04.061.2021290203507>,\n",
              " <Item id=MCD15A3H.A2017317.h09v04.061.2021290202931>,\n",
              " <Item id=MCD15A3H.A2017313.h09v04.061.2021289084245>,\n",
              " <Item id=MCD15A3H.A2017309.h09v04.061.2021289083949>,\n",
              " <Item id=MCD15A3H.A2017305.h09v04.061.2021289083528>,\n",
              " <Item id=MCD15A3H.A2017301.h09v04.061.2021289083149>,\n",
              " <Item id=MCD15A3H.A2017297.h09v04.061.2021289082740>,\n",
              " <Item id=MCD15A3H.A2017293.h09v04.061.2021289080832>,\n",
              " <Item id=MCD15A3H.A2017289.h09v04.061.2021289080348>,\n",
              " <Item id=MCD15A3H.A2017285.h09v04.061.2021289075743>,\n",
              " <Item id=MCD15A3H.A2017281.h09v04.061.2021289075151>,\n",
              " <Item id=MCD15A3H.A2017277.h09v04.061.2021289074717>,\n",
              " <Item id=MCD15A3H.A2017273.h09v04.061.2021289074143>,\n",
              " <Item id=MCD15A3H.A2017269.h09v04.061.2021289073846>,\n",
              " <Item id=MCD15A3H.A2017265.h09v04.061.2021289073358>,\n",
              " <Item id=MCD15A3H.A2017261.h09v04.061.2021289072806>,\n",
              " <Item id=MCD15A3H.A2017257.h09v04.061.2021289071521>,\n",
              " <Item id=MCD15A3H.A2017253.h09v04.061.2021289071052>,\n",
              " <Item id=MCD15A3H.A2017249.h09v04.061.2021289070425>,\n",
              " <Item id=MCD15A3H.A2017245.h09v04.061.2021289070248>,\n",
              " <Item id=MCD15A3H.A2017241.h09v04.061.2021289065742>,\n",
              " <Item id=MCD15A3H.A2017237.h09v04.061.2021289065326>,\n",
              " <Item id=MCD15A3H.A2017233.h09v04.061.2021289064725>,\n",
              " <Item id=MCD15A3H.A2017229.h09v04.061.2021289054643>,\n",
              " <Item id=MCD15A3H.A2017225.h09v04.061.2021289053913>,\n",
              " <Item id=MCD15A3H.A2017221.h09v04.061.2021289053735>,\n",
              " <Item id=MCD15A3H.A2017217.h09v04.061.2021289052916>,\n",
              " <Item id=MCD15A3H.A2017213.h09v04.061.2021289052730>,\n",
              " <Item id=MCD15A3H.A2017209.h09v04.061.2021289044715>,\n",
              " <Item id=MCD15A3H.A2017205.h09v04.061.2021284225032>,\n",
              " <Item id=MCD15A3H.A2017201.h09v04.061.2021283140358>,\n",
              " <Item id=MCD15A3H.A2017197.h09v04.061.2021283140015>,\n",
              " <Item id=MCD15A3H.A2017193.h09v04.061.2021283135519>,\n",
              " <Item id=MCD15A3H.A2017189.h09v04.061.2021283134634>,\n",
              " <Item id=MCD15A3H.A2017185.h09v04.061.2021276213406>,\n",
              " <Item id=MCD15A3H.A2017181.h09v04.061.2021276213306>,\n",
              " <Item id=MCD15A3H.A2017177.h09v04.061.2021276212956>,\n",
              " <Item id=MCD15A3H.A2017173.h09v04.061.2021276212658>,\n",
              " <Item id=MCD15A3H.A2017169.h09v04.061.2021274235139>,\n",
              " <Item id=MCD15A3H.A2017165.h09v04.061.2021274234732>,\n",
              " <Item id=MCD15A3H.A2017161.h09v04.061.2021283134008>,\n",
              " <Item id=MCD15A3H.A2017157.h09v04.061.2021274234241>,\n",
              " <Item id=MCD15A3H.A2017153.h09v04.061.2021274005947>,\n",
              " <Item id=MCD15A3H.A2017149.h09v04.061.2021274005729>,\n",
              " <Item id=MCD15A3H.A2017145.h09v04.061.2021274005214>,\n",
              " <Item id=MCD15A3H.A2017141.h09v04.061.2021274005010>,\n",
              " <Item id=MCD15A3H.A2017137.h09v04.061.2021274004527>,\n",
              " <Item id=MCD15A3H.A2017133.h09v04.061.2021274004129>,\n",
              " <Item id=MCD15A3H.A2017129.h09v04.061.2021272132918>,\n",
              " <Item id=MCD15A3H.A2017125.h09v04.061.2021272132547>,\n",
              " <Item id=MCD15A3H.A2017121.h09v04.061.2021272132302>,\n",
              " <Item id=MCD15A3H.A2017117.h09v04.061.2021272131901>,\n",
              " <Item id=MCD15A3H.A2017113.h09v04.061.2021272093330>,\n",
              " <Item id=MCD15A3H.A2017109.h09v04.061.2021272093102>,\n",
              " <Item id=MCD15A3H.A2017105.h09v04.061.2021272092714>,\n",
              " <Item id=MCD15A3H.A2017101.h09v04.061.2021272092032>,\n",
              " <Item id=MCD15A3H.A2017097.h09v04.061.2021270100649>,\n",
              " <Item id=MCD15A3H.A2017093.h09v04.061.2021270100454>,\n",
              " <Item id=MCD15A3H.A2017089.h09v04.061.2021270100102>,\n",
              " <Item id=MCD15A3H.A2017085.h09v04.061.2021270061434>,\n",
              " <Item id=MCD15A3H.A2017081.h09v04.061.2021269004744>,\n",
              " <Item id=MCD15A3H.A2017077.h09v04.061.2021269004642>,\n",
              " <Item id=MCD15A3H.A2017073.h09v04.061.2021269004311>,\n",
              " <Item id=MCD15A3H.A2017069.h09v04.061.2021269003646>,\n",
              " <Item id=MCD15A3H.A2017065.h09v04.061.2021267172030>,\n",
              " <Item id=MCD15A3H.A2017061.h09v04.061.2021267171540>,\n",
              " <Item id=MCD15A3H.A2017057.h09v04.061.2021267151941>,\n",
              " <Item id=MCD15A3H.A2017053.h09v04.061.2021267145246>,\n",
              " <Item id=MCD15A3H.A2017049.h09v04.061.2021266155115>,\n",
              " <Item id=MCD15A3H.A2017045.h09v04.061.2021266103658>,\n",
              " <Item id=MCD15A3H.A2017041.h09v04.061.2021266051056>,\n",
              " <Item id=MCD15A3H.A2017037.h09v04.061.2021265234021>,\n",
              " <Item id=MCD15A3H.A2017033.h09v04.061.2021265021819>,\n",
              " <Item id=MCD15A3H.A2017029.h09v04.061.2021264212511>,\n",
              " <Item id=MCD15A3H.A2017025.h09v04.061.2021259054609>,\n",
              " <Item id=MCD15A3H.A2017021.h09v04.061.2021259015104>,\n",
              " <Item id=MCD15A3H.A2017017.h09v04.061.2021258024016>,\n",
              " <Item id=MCD15A3H.A2017013.h09v04.061.2021257220536>,\n",
              " <Item id=MCD15A3H.A2017009.h09v04.061.2021252192212>,\n",
              " <Item id=MCD15A3H.A2017005.h09v04.061.2021252192012>,\n",
              " <Item id=MCD15A3H.A2017001.h09v04.061.2021252191638>,\n",
              " <Item id=MCD15A3H.A2016365.h09v04.061.2021363204811>,\n",
              " <Item id=MCD15A3H.A2016361.h09v04.061.2021363190033>,\n",
              " <Item id=MCD15A3H.A2016357.h09v04.061.2021363173628>,\n",
              " <Item id=MCD15A3H.A2016353.h09v04.061.2021363164346>,\n",
              " <Item id=MCD15A3H.A2016349.h09v04.061.2021363154034>,\n",
              " <Item id=MCD15A3H.A2016345.h09v04.061.2021363054753>,\n",
              " <Item id=MCD15A3H.A2016341.h09v04.061.2021363011357>,\n",
              " <Item id=MCD15A3H.A2016337.h09v04.061.2021363003253>,\n",
              " <Item id=MCD15A3H.A2016333.h09v04.061.2021361192828>,\n",
              " <Item id=MCD15A3H.A2016329.h09v04.061.2021361145106>,\n",
              " <Item id=MCD15A3H.A2016325.h09v04.061.2021361075530>,\n",
              " <Item id=MCD15A3H.A2016321.h09v04.061.2021360220327>,\n",
              " <Item id=MCD15A3H.A2016317.h09v04.061.2021360091122>,\n",
              " <Item id=MCD15A3H.A2016313.h09v04.061.2021360083448>,\n",
              " <Item id=MCD15A3H.A2016309.h09v04.061.2021360064534>,\n",
              " <Item id=MCD15A3H.A2016305.h09v04.061.2021360060243>,\n",
              " <Item id=MCD15A3H.A2016301.h09v04.061.2021359074714>,\n",
              " <Item id=MCD15A3H.A2016297.h09v04.061.2021359034925>,\n",
              " <Item id=MCD15A3H.A2016293.h09v04.061.2021359013643>,\n",
              " <Item id=MCD15A3H.A2016289.h09v04.061.2021358213606>,\n",
              " <Item id=MCD15A3H.A2016285.h09v04.061.2021358200023>,\n",
              " <Item id=MCD15A3H.A2016281.h09v04.061.2021358110159>,\n",
              " <Item id=MCD15A3H.A2016277.h09v04.061.2021358074651>,\n",
              " <Item id=MCD15A3H.A2016273.h09v04.061.2021358063654>,\n",
              " <Item id=MCD15A3H.A2016269.h09v04.061.2021358045925>,\n",
              " <Item id=MCD15A3H.A2016265.h09v04.061.2021357203133>,\n",
              " <Item id=MCD15A3H.A2016261.h09v04.061.2021357160324>,\n",
              " <Item id=MCD15A3H.A2016257.h09v04.061.2021357151631>,\n",
              " <Item id=MCD15A3H.A2016253.h09v04.061.2021357141934>,\n",
              " <Item id=MCD15A3H.A2016249.h09v04.061.2021357114051>,\n",
              " <Item id=MCD15A3H.A2016245.h09v04.061.2021357104810>,\n",
              " <Item id=MCD15A3H.A2016241.h09v04.061.2021357062804>,\n",
              " <Item id=MCD15A3H.A2016237.h09v04.061.2021357053422>,\n",
              " <Item id=MCD15A3H.A2016233.h09v04.061.2021357040055>,\n",
              " <Item id=MCD15A3H.A2016229.h09v04.061.2021357002411>,\n",
              " <Item id=MCD15A3H.A2016225.h09v04.061.2021356233206>,\n",
              " <Item id=MCD15A3H.A2016221.h09v04.061.2021356223048>,\n",
              " <Item id=MCD15A3H.A2016217.h09v04.061.2021354161655>,\n",
              " <Item id=MCD15A3H.A2016213.h09v04.061.2021354155915>,\n",
              " <Item id=MCD15A3H.A2016209.h09v04.061.2021354152630>,\n",
              " <Item id=MCD15A3H.A2016205.h09v04.061.2021354143754>,\n",
              " <Item id=MCD15A3H.A2016201.h09v04.061.2021353185344>,\n",
              " <Item id=MCD15A3H.A2016197.h09v04.061.2021353165500>,\n",
              " <Item id=MCD15A3H.A2016193.h09v04.061.2021353154115>,\n",
              " <Item id=MCD15A3H.A2016189.h09v04.061.2021353144718>,\n",
              " <Item id=MCD15A3H.A2016185.h09v04.061.2021353132011>,\n",
              " <Item id=MCD15A3H.A2016181.h09v04.061.2021353113311>,\n",
              " <Item id=MCD15A3H.A2016177.h09v04.061.2021353094741>,\n",
              " <Item id=MCD15A3H.A2016173.h09v04.061.2021353065324>,\n",
              " <Item id=MCD15A3H.A2016169.h09v04.061.2021352134203>,\n",
              " <Item id=MCD15A3H.A2016165.h09v04.061.2021351204255>,\n",
              " <Item id=MCD15A3H.A2016161.h09v04.061.2021351181454>,\n",
              " <Item id=MCD15A3H.A2016157.h09v04.061.2021351142643>,\n",
              " <Item id=MCD15A3H.A2016153.h09v04.061.2021351094811>,\n",
              " <Item id=MCD15A3H.A2016149.h09v04.061.2021350222048>,\n",
              " <Item id=MCD15A3H.A2016145.h09v04.061.2021350174524>,\n",
              " <Item id=MCD15A3H.A2016141.h09v04.061.2021350145655>,\n",
              " <Item id=MCD15A3H.A2016137.h09v04.061.2021350095249>,\n",
              " <Item id=MCD15A3H.A2016133.h09v04.061.2021350050037>,\n",
              " <Item id=MCD15A3H.A2016129.h09v04.061.2021349212728>,\n",
              " <Item id=MCD15A3H.A2016125.h09v04.061.2021349081715>,\n",
              " <Item id=MCD15A3H.A2016121.h09v04.061.2021349040051>,\n",
              " <Item id=MCD15A3H.A2016117.h09v04.061.2021348233446>,\n",
              " <Item id=MCD15A3H.A2016113.h09v04.061.2021348184559>,\n",
              " <Item id=MCD15A3H.A2016109.h09v04.061.2021348120101>,\n",
              " <Item id=MCD15A3H.A2016105.h09v04.061.2021348063624>,\n",
              " <Item id=MCD15A3H.A2016101.h09v04.061.2021348052646>,\n",
              " <Item id=MCD15A3H.A2016097.h09v04.061.2021348033201>,\n",
              " <Item id=MCD15A3H.A2016093.h09v04.061.2021347074455>,\n",
              " <Item id=MCD15A3H.A2016089.h09v04.061.2021347043122>,\n",
              " <Item id=MCD15A3H.A2016085.h09v04.061.2021346231721>,\n",
              " <Item id=MCD15A3H.A2016081.h09v04.061.2021346183744>,\n",
              " <Item id=MCD15A3H.A2016077.h09v04.061.2021346172706>,\n",
              " <Item id=MCD15A3H.A2016073.h09v04.061.2021346155520>,\n",
              " <Item id=MCD15A3H.A2016069.h09v04.061.2021346141616>,\n",
              " <Item id=MCD15A3H.A2016065.h09v04.061.2021346112456>,\n",
              " <Item id=MCD15A3H.A2016061.h09v04.061.2021346090732>,\n",
              " <Item id=MCD15A3H.A2016057.h09v04.061.2021346075057>,\n",
              " <Item id=MCD15A3H.A2016045.h09v04.061.2021346053854>,\n",
              " <Item id=MCD15A3H.A2016041.h09v04.061.2021346050029>,\n",
              " <Item id=MCD15A3H.A2016037.h09v04.061.2021346042101>,\n",
              " <Item id=MCD15A3H.A2016033.h09v04.061.2021346032427>,\n",
              " <Item id=MCD15A3H.A2016029.h09v04.061.2021343191854>,\n",
              " <Item id=MCD15A3H.A2016025.h09v04.061.2021343123956>,\n",
              " <Item id=MCD15A3H.A2016021.h09v04.061.2021343075042>,\n",
              " <Item id=MCD15A3H.A2016017.h09v04.061.2021343063344>,\n",
              " <Item id=MCD15A3H.A2016013.h09v04.061.2021343044235>,\n",
              " <Item id=MCD15A3H.A2016009.h09v04.061.2021343013407>,\n",
              " <Item id=MCD15A3H.A2016005.h09v04.061.2021343003939>,\n",
              " <Item id=MCD15A3H.A2016001.h09v04.061.2021342235251>,\n",
              " <Item id=MCD15A3H.A2015365.h09v04.061.2025038193817>,\n",
              " <Item id=MCD15A3H.A2015365.h09v04.061.2021342224416>,\n",
              " <Item id=MCD15A3H.A2015361.h09v04.061.2021342214258>,\n",
              " <Item id=MCD15A3H.A2015357.h09v04.061.2021342200015>,\n",
              " <Item id=MCD15A3H.A2015353.h09v04.061.2021342185005>,\n",
              " <Item id=MCD15A3H.A2015349.h09v04.061.2021342170356>,\n",
              " <Item id=MCD15A3H.A2015345.h09v04.061.2021342154142>,\n",
              " <Item id=MCD15A3H.A2015341.h09v04.061.2021342151733>,\n",
              " <Item id=MCD15A3H.A2015337.h09v04.061.2021342135555>,\n",
              " <Item id=MCD15A3H.A2015333.h09v04.061.2021337085218>,\n",
              " <Item id=MCD15A3H.A2015329.h09v04.061.2021337045158>,\n",
              " <Item id=MCD15A3H.A2015325.h09v04.061.2021337004810>,\n",
              " <Item id=MCD15A3H.A2015321.h09v04.061.2021336224132>,\n",
              " <Item id=MCD15A3H.A2015317.h09v04.061.2021336201709>,\n",
              " <Item id=MCD15A3H.A2015313.h09v04.061.2021336181815>,\n",
              " <Item id=MCD15A3H.A2015309.h09v04.061.2021336170305>,\n",
              " <Item id=MCD15A3H.A2015305.h09v04.061.2021336143218>,\n",
              " <Item id=MCD15A3H.A2015301.h09v04.061.2021336044222>,\n",
              " <Item id=MCD15A3H.A2015297.h09v04.061.2021335200322>,\n",
              " <Item id=MCD15A3H.A2015293.h09v04.061.2021335160408>,\n",
              " <Item id=MCD15A3H.A2015289.h09v04.061.2021335151546>,\n",
              " <Item id=MCD15A3H.A2015285.h09v04.061.2021333151546>,\n",
              " <Item id=MCD15A3H.A2015281.h09v04.061.2021333113717>,\n",
              " <Item id=MCD15A3H.A2015277.h09v04.061.2021333051818>,\n",
              " <Item id=MCD15A3H.A2015273.h09v04.061.2021333031528>,\n",
              " <Item id=MCD15A3H.A2015269.h09v04.061.2021332180743>,\n",
              " <Item id=MCD15A3H.A2015265.h09v04.061.2021332135836>,\n",
              " <Item id=MCD15A3H.A2015261.h09v04.061.2021332103117>,\n",
              " <Item id=MCD15A3H.A2015257.h09v04.061.2021332074608>,\n",
              " <Item id=MCD15A3H.A2015253.h09v04.061.2021332000407>,\n",
              " <Item id=MCD15A3H.A2015249.h09v04.061.2021331231035>,\n",
              " <Item id=MCD15A3H.A2015245.h09v04.061.2021331222911>,\n",
              " <Item id=MCD15A3H.A2015241.h09v04.061.2021331214709>,\n",
              " <Item id=MCD15A3H.A2015237.h09v04.061.2021331205528>,\n",
              " <Item id=MCD15A3H.A2015233.h09v04.061.2021331194443>,\n",
              " <Item id=MCD15A3H.A2015229.h09v04.061.2021331183715>,\n",
              " <Item id=MCD15A3H.A2015225.h09v04.061.2021331174628>,\n",
              " <Item id=MCD15A3H.A2015221.h09v04.061.2021330002346>,\n",
              " <Item id=MCD15A3H.A2015217.h09v04.061.2021329172200>,\n",
              " <Item id=MCD15A3H.A2015213.h09v04.061.2021329124736>,\n",
              " <Item id=MCD15A3H.A2015209.h09v04.061.2021329091618>,\n",
              " <Item id=MCD15A3H.A2015205.h09v04.061.2021329033853>,\n",
              " <Item id=MCD15A3H.A2015201.h09v04.061.2021328094347>,\n",
              " <Item id=MCD15A3H.A2015197.h09v04.061.2021328071019>,\n",
              " <Item id=MCD15A3H.A2015193.h09v04.061.2021328025746>,\n",
              " <Item id=MCD15A3H.A2015189.h09v04.061.2021328002502>,\n",
              " <Item id=MCD15A3H.A2015185.h09v04.061.2021327233947>,\n",
              " <Item id=MCD15A3H.A2015181.h09v04.061.2021327015308>,\n",
              " <Item id=MCD15A3H.A2015177.h09v04.061.2021326201749>,\n",
              " <Item id=MCD15A3H.A2015173.h09v04.061.2021326155847>,\n",
              " <Item id=MCD15A3H.A2015169.h09v04.061.2021326133346>,\n",
              " <Item id=MCD15A3H.A2015165.h09v04.061.2021326091145>,\n",
              " <Item id=MCD15A3H.A2015161.h09v04.061.2021326081134>,\n",
              " <Item id=MCD15A3H.A2015157.h09v04.061.2021326071901>,\n",
              " <Item id=MCD15A3H.A2015153.h09v04.061.2021326061018>,\n",
              " <Item id=MCD15A3H.A2015149.h09v04.061.2021326051657>,\n",
              " <Item id=MCD15A3H.A2015145.h09v04.061.2021326044347>,\n",
              " <Item id=MCD15A3H.A2015141.h09v04.061.2021326041746>,\n",
              " <Item id=MCD15A3H.A2015137.h09v04.061.2021326035504>,\n",
              " <Item id=MCD15A3H.A2015133.h09v04.061.2021326033258>,\n",
              " <Item id=MCD15A3H.A2015129.h09v04.061.2021326032427>,\n",
              " <Item id=MCD15A3H.A2015125.h09v04.061.2021323224925>,\n",
              " <Item id=MCD15A3H.A2015121.h09v04.061.2021323200434>,\n",
              " <Item id=MCD15A3H.A2015117.h09v04.061.2021323160757>,\n",
              " <Item id=MCD15A3H.A2015113.h09v04.061.2021323082156>,\n",
              " <Item id=MCD15A3H.A2015109.h09v04.061.2021323035615>,\n",
              " <Item id=MCD15A3H.A2015105.h09v04.061.2021323034255>,\n",
              " <Item id=MCD15A3H.A2015101.h09v04.061.2021323032533>,\n",
              " <Item id=MCD15A3H.A2015097.h09v04.061.2021323031534>,\n",
              " <Item id=MCD15A3H.A2015093.h09v04.061.2021321232434>,\n",
              " <Item id=MCD15A3H.A2015089.h09v04.061.2021321195221>,\n",
              " <Item id=MCD15A3H.A2015085.h09v04.061.2021321172824>,\n",
              " <Item id=MCD15A3H.A2015081.h09v04.061.2021321153959>,\n",
              " <Item id=MCD15A3H.A2015077.h09v04.061.2021321070316>,\n",
              " <Item id=MCD15A3H.A2015073.h09v04.061.2021320230925>,\n",
              " <Item id=MCD15A3H.A2015069.h09v04.061.2021320183622>,\n",
              " <Item id=MCD15A3H.A2015065.h09v04.061.2021320153251>,\n",
              " <Item id=MCD15A3H.A2015061.h09v04.061.2021320115118>,\n",
              " <Item id=MCD15A3H.A2015057.h09v04.061.2021319172545>,\n",
              " <Item id=MCD15A3H.A2015053.h09v04.061.2021320052518>,\n",
              " <Item id=MCD15A3H.A2015049.h09v04.061.2021320083415>,\n",
              " <Item id=MCD15A3H.A2015045.h09v04.061.2021319060033>,\n",
              " <Item id=MCD15A3H.A2015041.h09v04.061.2021318184301>,\n",
              " <Item id=MCD15A3H.A2015037.h09v04.061.2021318153717>,\n",
              " <Item id=MCD15A3H.A2015033.h09v04.061.2021318130251>,\n",
              " <Item id=MCD15A3H.A2015029.h09v04.061.2021318054154>,\n",
              " <Item id=MCD15A3H.A2015025.h09v04.061.2021317184945>,\n",
              " <Item id=MCD15A3H.A2015021.h09v04.061.2021317161943>,\n",
              " <Item id=MCD15A3H.A2015017.h09v04.061.2021317133843>,\n",
              " <Item id=MCD15A3H.A2015013.h09v04.061.2021317061911>,\n",
              " <Item id=MCD15A3H.A2015009.h09v04.061.2021316202016>,\n",
              " <Item id=MCD15A3H.A2015005.h09v04.061.2021316170325>,\n",
              " <Item id=MCD15A3H.A2015001.h09v04.061.2021316144906>,\n",
              " <Item id=MCD15A3H.A2014365.h09v04.061.2021316124053>,\n",
              " <Item id=MCD15A3H.A2014361.h09v04.061.2021314185101>,\n",
              " <Item id=MCD15A3H.A2014357.h09v04.061.2021314091837>,\n",
              " <Item id=MCD15A3H.A2014353.h09v04.061.2021314031054>,\n",
              " <Item id=MCD15A3H.A2014349.h09v04.061.2021313211752>,\n",
              " <Item id=MCD15A3H.A2014345.h09v04.061.2021313002107>,\n",
              " <Item id=MCD15A3H.A2014341.h09v04.061.2021312190920>,\n",
              " <Item id=MCD15A3H.A2014337.h09v04.061.2021312064332>,\n",
              " <Item id=MCD15A3H.A2014333.h09v04.061.2021312031147>,\n",
              " <Item id=MCD15A3H.A2014329.h09v04.061.2021311221757>,\n",
              " <Item id=MCD15A3H.A2014325.h09v04.061.2021311200349>,\n",
              " <Item id=MCD15A3H.A2014321.h09v04.061.2021311173501>,\n",
              " <Item id=MCD15A3H.A2014317.h09v04.061.2021311150544>,\n",
              " <Item id=MCD15A3H.A2014313.h09v04.061.2021311122204>,\n",
              " <Item id=MCD15A3H.A2014309.h09v04.061.2021311094223>,\n",
              " <Item id=MCD15A3H.A2014305.h09v04.061.2021311071047>,\n",
              " <Item id=MCD15A3H.A2014301.h09v04.061.2021311041121>,\n",
              " <Item id=MCD15A3H.A2014297.h09v04.061.2021310233720>,\n",
              " <Item id=MCD15A3H.A2014293.h09v04.061.2021310184119>,\n",
              " <Item id=MCD15A3H.A2014289.h09v04.061.2021310143903>,\n",
              " <Item id=MCD15A3H.A2014285.h09v04.061.2021310105920>,\n",
              " <Item id=MCD15A3H.A2014281.h09v04.061.2021310062205>,\n",
              " <Item id=MCD15A3H.A2014277.h09v04.061.2021310024007>,\n",
              " <Item id=MCD15A3H.A2014273.h09v04.061.2021309203956>,\n",
              " <Item id=MCD15A3H.A2014269.h09v04.061.2021263044905>,\n",
              " <Item id=MCD15A3H.A2014265.h09v04.061.2021262195423>,\n",
              " <Item id=MCD15A3H.A2014261.h09v04.061.2021262174035>,\n",
              " <Item id=MCD15A3H.A2014257.h09v04.061.2021262061207>,\n",
              " <Item id=MCD15A3H.A2014253.h09v04.061.2021261232249>,\n",
              " <Item id=MCD15A3H.A2014249.h09v04.061.2021261185504>,\n",
              " <Item id=MCD15A3H.A2014245.h09v04.061.2021261122846>,\n",
              " <Item id=MCD15A3H.A2014241.h09v04.061.2021261081309>,\n",
              " <Item id=MCD15A3H.A2014237.h09v04.061.2021261001201>,\n",
              " <Item id=MCD15A3H.A2014233.h09v04.061.2021260173348>,\n",
              " <Item id=MCD15A3H.A2014229.h09v04.061.2021260140350>,\n",
              " <Item id=MCD15A3H.A2014225.h09v04.061.2021260091434>,\n",
              " <Item id=MCD15A3H.A2014221.h09v04.061.2021260024243>,\n",
              " <Item id=MCD15A3H.A2014217.h09v04.061.2021259211505>,\n",
              " <Item id=MCD15A3H.A2014213.h09v04.061.2021259185858>,\n",
              " <Item id=MCD15A3H.A2014209.h09v04.061.2021259144239>,\n",
              " <Item id=MCD15A3H.A2014205.h09v04.061.2021259104127>,\n",
              " <Item id=MCD15A3H.A2014201.h09v04.061.2021259080540>,\n",
              " <Item id=MCD15A3H.A2014197.h09v04.061.2021259044635>,\n",
              " <Item id=MCD15A3H.A2014193.h09v04.061.2021258142831>,\n",
              " <Item id=MCD15A3H.A2014189.h09v04.061.2021258055820>,\n",
              " <Item id=MCD15A3H.A2014185.h09v04.061.2021257205602>,\n",
              " <Item id=MCD15A3H.A2014181.h09v04.061.2021257155124>,\n",
              " <Item id=MCD15A3H.A2014177.h09v04.061.2021257121736>,\n",
              " <Item id=MCD15A3H.A2014173.h09v04.061.2021257052518>,\n",
              " <Item id=MCD15A3H.A2014169.h09v04.061.2021256203830>,\n",
              " <Item id=MCD15A3H.A2014165.h09v04.061.2021256164253>,\n",
              " <Item id=MCD15A3H.A2014161.h09v04.061.2021256120112>,\n",
              " <Item id=MCD15A3H.A2014157.h09v04.061.2021256105452>,\n",
              " <Item id=MCD15A3H.A2014153.h09v04.061.2021256021717>,\n",
              " <Item id=MCD15A3H.A2014149.h09v04.061.2021255190639>,\n",
              " <Item id=MCD15A3H.A2014145.h09v04.061.2021255124049>,\n",
              " <Item id=MCD15A3H.A2014141.h09v04.061.2021255104308>,\n",
              " <Item id=MCD15A3H.A2014137.h09v04.061.2021255051747>,\n",
              " <Item id=MCD15A3H.A2014133.h09v04.061.2021254232731>,\n",
              " <Item id=MCD15A3H.A2014129.h09v04.061.2021254222344>,\n",
              " <Item id=MCD15A3H.A2014125.h09v04.061.2021254174241>,\n",
              " <Item id=MCD15A3H.A2014121.h09v04.061.2021254013040>,\n",
              " <Item id=MCD15A3H.A2014117.h09v04.061.2021253221351>,\n",
              " <Item id=MCD15A3H.A2014113.h09v04.061.2021253190859>,\n",
              " <Item id=MCD15A3H.A2014109.h09v04.061.2021253134826>,\n",
              " <Item id=MCD15A3H.A2014105.h09v04.061.2021253103627>,\n",
              " <Item id=MCD15A3H.A2014101.h09v04.061.2021253072144>,\n",
              " <Item id=MCD15A3H.A2014097.h09v04.061.2021253024044>,\n",
              " <Item id=MCD15A3H.A2014093.h09v04.061.2021252222526>,\n",
              " <Item id=MCD15A3H.A2014089.h09v04.061.2021252190359>,\n",
              " <Item id=MCD15A3H.A2014085.h09v04.061.2021252121315>,\n",
              " <Item id=MCD15A3H.A2014081.h09v04.061.2021252024404>,\n",
              " <Item id=MCD15A3H.A2014077.h09v04.061.2021251110410>,\n",
              " <Item id=MCD15A3H.A2014073.h09v04.061.2021251040231>,\n",
              " <Item id=MCD15A3H.A2014069.h09v04.061.2021250120949>,\n",
              " <Item id=MCD15A3H.A2014065.h09v04.061.2021250073725>,\n",
              " <Item id=MCD15A3H.A2014061.h09v04.061.2021250015617>,\n",
              " <Item id=MCD15A3H.A2014057.h09v04.061.2021249142557>,\n",
              " <Item id=MCD15A3H.A2014053.h09v04.061.2021249080855>,\n",
              " <Item id=MCD15A3H.A2014049.h09v04.061.2021249024426>,\n",
              " <Item id=MCD15A3H.A2014045.h09v04.061.2021248212634>,\n",
              " <Item id=MCD15A3H.A2014041.h09v04.061.2021248200305>,\n",
              " <Item id=MCD15A3H.A2014037.h09v04.061.2021248192506>,\n",
              " <Item id=MCD15A3H.A2014033.h09v04.061.2021248151246>,\n",
              " <Item id=MCD15A3H.A2014029.h09v04.061.2021248025747>,\n",
              " <Item id=MCD15A3H.A2014025.h09v04.061.2021247075817>,\n",
              " <Item id=MCD15A3H.A2014021.h09v04.061.2021247015736>,\n",
              " <Item id=MCD15A3H.A2014017.h09v04.061.2021246205649>,\n",
              " <Item id=MCD15A3H.A2014013.h09v04.061.2021246140139>,\n",
              " <Item id=MCD15A3H.A2014009.h09v04.061.2021246101426>,\n",
              " <Item id=MCD15A3H.A2014005.h09v04.061.2021246024740>,\n",
              " <Item id=MCD15A3H.A2014001.h09v04.061.2021245181202>,\n",
              " ...]"
            ]
          },
          "metadata": {},
          "execution_count": 21
        }
      ]
    },
    {
      "cell_type": "code",
      "source": [
        "geoai.pc_item_asset_list(items[0])"
      ],
      "metadata": {
        "id": "g5M153Sp93w3",
        "outputId": "6241d8eb-beed-4226-d6b0-3130600fdb3f",
        "colab": {
          "base_uri": "https://localhost:8080/"
        }
      },
      "execution_count": 22,
      "outputs": [
        {
          "output_type": "execute_result",
          "data": {
            "text/plain": [
              "['hdf',\n",
              " 'Lai_500m',\n",
              " 'metadata',\n",
              " 'Fpar_500m',\n",
              " 'FparLai_QC',\n",
              " 'FparExtra_QC',\n",
              " 'LaiStdDev_500m',\n",
              " 'FparStdDev_500m',\n",
              " 'tilejson',\n",
              " 'rendered_preview']"
            ]
          },
          "metadata": {},
          "execution_count": 22
        }
      ]
    },
    {
      "cell_type": "code",
      "source": [
        "items[0]"
      ],
      "metadata": {
        "id": "Fg_VosjT-yGu",
        "outputId": "d7e220a8-419e-4ece-df14-a332011fada0",
        "colab": {
          "base_uri": "https://localhost:8080/",
          "height": 241
        }
      },
      "execution_count": 23,
      "outputs": [
        {
          "output_type": "execute_result",
          "data": {
            "text/plain": [
              "<Item id=MCD15A3H.A2024357.h09v04.061.2024366084345>"
            ],
            "text/html": [
              "\n",
              "\n",
              "<style>\n",
              ".pystac-summary {\n",
              "    cursor: pointer;\n",
              "    display: list-item;\n",
              "    list-style: revert;\n",
              "    margin-bottom: 0 !important;\n",
              "\n",
              "    .pystac-l {\n",
              "        padding-left: 0.5em;\n",
              "        color: rgb(64, 128, 128);\n",
              "        font-style: italic;\n",
              "    }\n",
              "}\n",
              ".pystac-row {\n",
              "    overflow-wrap: break-word;\n",
              "    padding-left: .825em;\n",
              "\n",
              "    .pystac-k {\n",
              "        display: inline-block;\n",
              "        margin: 0px 0.5em 0px 0px;\n",
              "    }\n",
              "    .pystac-v {\n",
              "        color: rgb(186, 33, 33);\n",
              "    }\n",
              "}\n",
              ".pystac-k {\n",
              "    color: rgb(0, 128, 0);\n",
              "    font-weight: 700;\n",
              "}\n",
              "</style>\n",
              "<div class=\"jp-RenderedJSON jp-mod-trusted jp-OutputArea-output\">\n",
              "    <div class=\"container\" style=\"line-height: normal;\">\n",
              "        <ul style=\"padding: 0px; margin: 0px; list-style: none; display: block;\">\n",
              "            \n",
              "                \n",
              "                    \n",
              "        <li class=\"pystac-row\">\n",
              "            <span class=\"pystac-k\">type</span>\n",
              "            <span class=\"pystac-v\">\"Feature\"</span>\n",
              "        </li>\n",
              "    \n",
              "                \n",
              "            \n",
              "                \n",
              "                    \n",
              "        <li class=\"pystac-row\">\n",
              "            <span class=\"pystac-k\">stac_version</span>\n",
              "            <span class=\"pystac-v\">\"1.1.0\"</span>\n",
              "        </li>\n",
              "    \n",
              "                \n",
              "            \n",
              "                \n",
              "                    <li><details>\n",
              "        <summary class=\"pystac-summary\"><span class=\"pystac-k\">stac_extensions</span><span class=\"pystac-l\">[] 2 items</span></summary>\n",
              "        \n",
              "            <ul style=\"margin: 0px; padding: 0px 0px 0px 1.75em; list-style: none; display: block;\">\n",
              "        \n",
              "            \n",
              "                \n",
              "        <li class=\"pystac-row\">\n",
              "            <span class=\"pystac-k\">0</span>\n",
              "            <span class=\"pystac-v\">\"https://stac-extensions.github.io/projection/v2.0.0/schema.json\"</span>\n",
              "        </li>\n",
              "    \n",
              "            \n",
              "        \n",
              "    </ul>\n",
              "        \n",
              "            <ul style=\"margin: 0px; padding: 0px 0px 0px 1.75em; list-style: none; display: block;\">\n",
              "        \n",
              "            \n",
              "                \n",
              "        <li class=\"pystac-row\">\n",
              "            <span class=\"pystac-k\">1</span>\n",
              "            <span class=\"pystac-v\">\"https://stac-extensions.github.io/raster/v1.1.0/schema.json\"</span>\n",
              "        </li>\n",
              "    \n",
              "            \n",
              "        \n",
              "    </ul>\n",
              "        \n",
              "    </details></li>\n",
              "                \n",
              "            \n",
              "                \n",
              "                    \n",
              "        <li class=\"pystac-row\">\n",
              "            <span class=\"pystac-k\">id</span>\n",
              "            <span class=\"pystac-v\">\"MCD15A3H.A2024357.h09v04.061.2024366084345\"</span>\n",
              "        </li>\n",
              "    \n",
              "                \n",
              "            \n",
              "                \n",
              "                    \n",
              "        <li><details>\n",
              "            <summary class=\"pystac-summary\"><span class=\"pystac-k\">geometry</span></summary>\n",
              "            <ul style=\"margin: 0px; padding: 0px 0px 0px 1.75em; list-style: none; display: block;\">\n",
              "        \n",
              "            \n",
              "                \n",
              "        <li class=\"pystac-row\">\n",
              "            <span class=\"pystac-k\">type</span>\n",
              "            <span class=\"pystac-v\">\"Polygon\"</span>\n",
              "        </li>\n",
              "    \n",
              "            \n",
              "        \n",
              "            \n",
              "                <li><details>\n",
              "        <summary class=\"pystac-summary\"><span class=\"pystac-k\">coordinates</span><span class=\"pystac-l\">[] 1 items</span></summary>\n",
              "        \n",
              "            <ul style=\"margin: 0px; padding: 0px 0px 0px 1.75em; list-style: none; display: block;\">\n",
              "        \n",
              "            \n",
              "                <li><details>\n",
              "        <summary class=\"pystac-summary\"><span class=\"pystac-k\">0</span><span class=\"pystac-l\">[] 5 items</span></summary>\n",
              "        \n",
              "            <ul style=\"margin: 0px; padding: 0px 0px 0px 1.75em; list-style: none; display: block;\">\n",
              "        \n",
              "            \n",
              "                <li><details>\n",
              "        <summary class=\"pystac-summary\"><span class=\"pystac-k\">0</span><span class=\"pystac-l\">[] 2 items</span></summary>\n",
              "        \n",
              "            <ul style=\"margin: 0px; padding: 0px 0px 0px 1.75em; list-style: none; display: block;\">\n",
              "        \n",
              "            \n",
              "                \n",
              "        <li class=\"pystac-row\">\n",
              "            <span class=\"pystac-k\">0</span>\n",
              "            <span class=\"pystac-v\">-140.7952</span>\n",
              "        </li>\n",
              "    \n",
              "            \n",
              "        \n",
              "    </ul>\n",
              "        \n",
              "            <ul style=\"margin: 0px; padding: 0px 0px 0px 1.75em; list-style: none; display: block;\">\n",
              "        \n",
              "            \n",
              "                \n",
              "        <li class=\"pystac-row\">\n",
              "            <span class=\"pystac-k\">1</span>\n",
              "            <span class=\"pystac-v\">49.9394</span>\n",
              "        </li>\n",
              "    \n",
              "            \n",
              "        \n",
              "    </ul>\n",
              "        \n",
              "    </details></li>\n",
              "            \n",
              "        \n",
              "    </ul>\n",
              "        \n",
              "            <ul style=\"margin: 0px; padding: 0px 0px 0px 1.75em; list-style: none; display: block;\">\n",
              "        \n",
              "            \n",
              "                <li><details>\n",
              "        <summary class=\"pystac-summary\"><span class=\"pystac-k\">1</span><span class=\"pystac-l\">[] 2 items</span></summary>\n",
              "        \n",
              "            <ul style=\"margin: 0px; padding: 0px 0px 0px 1.75em; list-style: none; display: block;\">\n",
              "        \n",
              "            \n",
              "                \n",
              "        <li class=\"pystac-row\">\n",
              "            <span class=\"pystac-k\">0</span>\n",
              "            <span class=\"pystac-v\">-124.6153</span>\n",
              "        </li>\n",
              "    \n",
              "            \n",
              "        \n",
              "    </ul>\n",
              "        \n",
              "            <ul style=\"margin: 0px; padding: 0px 0px 0px 1.75em; list-style: none; display: block;\">\n",
              "        \n",
              "            \n",
              "                \n",
              "        <li class=\"pystac-row\">\n",
              "            <span class=\"pystac-k\">1</span>\n",
              "            <span class=\"pystac-v\">50.1159</span>\n",
              "        </li>\n",
              "    \n",
              "            \n",
              "        \n",
              "    </ul>\n",
              "        \n",
              "    </details></li>\n",
              "            \n",
              "        \n",
              "    </ul>\n",
              "        \n",
              "            <ul style=\"margin: 0px; padding: 0px 0px 0px 1.75em; list-style: none; display: block;\">\n",
              "        \n",
              "            \n",
              "                <li><details>\n",
              "        <summary class=\"pystac-summary\"><span class=\"pystac-k\">2</span><span class=\"pystac-l\">[] 2 items</span></summary>\n",
              "        \n",
              "            <ul style=\"margin: 0px; padding: 0px 0px 0px 1.75em; list-style: none; display: block;\">\n",
              "        \n",
              "            \n",
              "                \n",
              "        <li class=\"pystac-row\">\n",
              "            <span class=\"pystac-k\">0</span>\n",
              "            <span class=\"pystac-v\">-104.2354</span>\n",
              "        </li>\n",
              "    \n",
              "            \n",
              "        \n",
              "    </ul>\n",
              "        \n",
              "            <ul style=\"margin: 0px; padding: 0px 0px 0px 1.75em; list-style: none; display: block;\">\n",
              "        \n",
              "            \n",
              "                \n",
              "        <li class=\"pystac-row\">\n",
              "            <span class=\"pystac-k\">1</span>\n",
              "            <span class=\"pystac-v\">39.8624</span>\n",
              "        </li>\n",
              "    \n",
              "            \n",
              "        \n",
              "    </ul>\n",
              "        \n",
              "    </details></li>\n",
              "            \n",
              "        \n",
              "    </ul>\n",
              "        \n",
              "            <ul style=\"margin: 0px; padding: 0px 0px 0px 1.75em; list-style: none; display: block;\">\n",
              "        \n",
              "            \n",
              "                <li><details>\n",
              "        <summary class=\"pystac-summary\"><span class=\"pystac-k\">3</span><span class=\"pystac-l\">[] 2 items</span></summary>\n",
              "        \n",
              "            <ul style=\"margin: 0px; padding: 0px 0px 0px 1.75em; list-style: none; display: block;\">\n",
              "        \n",
              "            \n",
              "                \n",
              "        <li class=\"pystac-row\">\n",
              "            <span class=\"pystac-k\">0</span>\n",
              "            <span class=\"pystac-v\">-117.7464</span>\n",
              "        </li>\n",
              "    \n",
              "            \n",
              "        \n",
              "    </ul>\n",
              "        \n",
              "            <ul style=\"margin: 0px; padding: 0px 0px 0px 1.75em; list-style: none; display: block;\">\n",
              "        \n",
              "            \n",
              "                \n",
              "        <li class=\"pystac-row\">\n",
              "            <span class=\"pystac-k\">1</span>\n",
              "            <span class=\"pystac-v\">39.7342</span>\n",
              "        </li>\n",
              "    \n",
              "            \n",
              "        \n",
              "    </ul>\n",
              "        \n",
              "    </details></li>\n",
              "            \n",
              "        \n",
              "    </ul>\n",
              "        \n",
              "            <ul style=\"margin: 0px; padding: 0px 0px 0px 1.75em; list-style: none; display: block;\">\n",
              "        \n",
              "            \n",
              "                <li><details>\n",
              "        <summary class=\"pystac-summary\"><span class=\"pystac-k\">4</span><span class=\"pystac-l\">[] 2 items</span></summary>\n",
              "        \n",
              "            <ul style=\"margin: 0px; padding: 0px 0px 0px 1.75em; list-style: none; display: block;\">\n",
              "        \n",
              "            \n",
              "                \n",
              "        <li class=\"pystac-row\">\n",
              "            <span class=\"pystac-k\">0</span>\n",
              "            <span class=\"pystac-v\">-140.7952</span>\n",
              "        </li>\n",
              "    \n",
              "            \n",
              "        \n",
              "    </ul>\n",
              "        \n",
              "            <ul style=\"margin: 0px; padding: 0px 0px 0px 1.75em; list-style: none; display: block;\">\n",
              "        \n",
              "            \n",
              "                \n",
              "        <li class=\"pystac-row\">\n",
              "            <span class=\"pystac-k\">1</span>\n",
              "            <span class=\"pystac-v\">49.9394</span>\n",
              "        </li>\n",
              "    \n",
              "            \n",
              "        \n",
              "    </ul>\n",
              "        \n",
              "    </details></li>\n",
              "            \n",
              "        \n",
              "    </ul>\n",
              "        \n",
              "    </details></li>\n",
              "            \n",
              "        \n",
              "    </ul>\n",
              "        \n",
              "    </details></li>\n",
              "            \n",
              "        \n",
              "    </ul>\n",
              "        </details></li>\n",
              "    \n",
              "                \n",
              "            \n",
              "                \n",
              "                    <li><details>\n",
              "        <summary class=\"pystac-summary\"><span class=\"pystac-k\">bbox</span><span class=\"pystac-l\">[] 4 items</span></summary>\n",
              "        \n",
              "            <ul style=\"margin: 0px; padding: 0px 0px 0px 1.75em; list-style: none; display: block;\">\n",
              "        \n",
              "            \n",
              "                \n",
              "        <li class=\"pystac-row\">\n",
              "            <span class=\"pystac-k\">0</span>\n",
              "            <span class=\"pystac-v\">-140.7952</span>\n",
              "        </li>\n",
              "    \n",
              "            \n",
              "        \n",
              "    </ul>\n",
              "        \n",
              "            <ul style=\"margin: 0px; padding: 0px 0px 0px 1.75em; list-style: none; display: block;\">\n",
              "        \n",
              "            \n",
              "                \n",
              "        <li class=\"pystac-row\">\n",
              "            <span class=\"pystac-k\">1</span>\n",
              "            <span class=\"pystac-v\">39.7342</span>\n",
              "        </li>\n",
              "    \n",
              "            \n",
              "        \n",
              "    </ul>\n",
              "        \n",
              "            <ul style=\"margin: 0px; padding: 0px 0px 0px 1.75em; list-style: none; display: block;\">\n",
              "        \n",
              "            \n",
              "                \n",
              "        <li class=\"pystac-row\">\n",
              "            <span class=\"pystac-k\">2</span>\n",
              "            <span class=\"pystac-v\">-104.2354</span>\n",
              "        </li>\n",
              "    \n",
              "            \n",
              "        \n",
              "    </ul>\n",
              "        \n",
              "            <ul style=\"margin: 0px; padding: 0px 0px 0px 1.75em; list-style: none; display: block;\">\n",
              "        \n",
              "            \n",
              "                \n",
              "        <li class=\"pystac-row\">\n",
              "            <span class=\"pystac-k\">3</span>\n",
              "            <span class=\"pystac-v\">50.1159</span>\n",
              "        </li>\n",
              "    \n",
              "            \n",
              "        \n",
              "    </ul>\n",
              "        \n",
              "    </details></li>\n",
              "                \n",
              "            \n",
              "                \n",
              "                    \n",
              "        <li><details>\n",
              "            <summary class=\"pystac-summary\"><span class=\"pystac-k\">properties</span></summary>\n",
              "            <ul style=\"margin: 0px; padding: 0px 0px 0px 1.75em; list-style: none; display: block;\">\n",
              "        \n",
              "            \n",
              "                \n",
              "        <li class=\"pystac-row\">\n",
              "            <span class=\"pystac-k\">created</span>\n",
              "            <span class=\"pystac-v\">\"2024-12-31T08:43:45Z\"</span>\n",
              "        </li>\n",
              "    \n",
              "            \n",
              "        \n",
              "            \n",
              "                \n",
              "        <li class=\"pystac-row\">\n",
              "            <span class=\"pystac-k\">updated</span>\n",
              "            <span class=\"pystac-v\">\"2024-12-31T02:48:15.019000Z\"</span>\n",
              "        </li>\n",
              "    \n",
              "            \n",
              "        \n",
              "            \n",
              "                \n",
              "        <li class=\"pystac-row\">\n",
              "            <span class=\"pystac-k\">datetime</span>\n",
              "            <span class=\"pystac-v\">None</span>\n",
              "        </li>\n",
              "    \n",
              "            \n",
              "        \n",
              "            \n",
              "                \n",
              "        <li class=\"pystac-row\">\n",
              "            <span class=\"pystac-k\">platform</span>\n",
              "            <span class=\"pystac-v\">\"\"</span>\n",
              "        </li>\n",
              "    \n",
              "            \n",
              "        \n",
              "            \n",
              "                \n",
              "        <li class=\"pystac-row\">\n",
              "            <span class=\"pystac-k\">proj:wkt2</span>\n",
              "            <span class=\"pystac-v\">\"PROJCS[\"unnamed\",GEOGCS[\"Unknown datum based upon the custom spheroid\",DATUM[\"Not specified (based on custom spheroid)\",SPHEROID[\"Custom spheroid\",6371007.181,0]],PRIMEM[\"Greenwich\",0],UNIT[\"degree\",0.0174532925199433,AUTHORITY[\"EPSG\",\"9122\"]]],PROJECTION[\"Sinusoidal\"],PARAMETER[\"longitude_of_center\",0],PARAMETER[\"false_easting\",0],PARAMETER[\"false_northing\",0],UNIT[\"Meter\",1],AXIS[\"Easting\",EAST],AXIS[\"Northing\",NORTH]]\"</span>\n",
              "        </li>\n",
              "    \n",
              "            \n",
              "        \n",
              "            \n",
              "                <li><details>\n",
              "        <summary class=\"pystac-summary\"><span class=\"pystac-k\">proj:shape</span><span class=\"pystac-l\">[] 2 items</span></summary>\n",
              "        \n",
              "            <ul style=\"margin: 0px; padding: 0px 0px 0px 1.75em; list-style: none; display: block;\">\n",
              "        \n",
              "            \n",
              "                \n",
              "        <li class=\"pystac-row\">\n",
              "            <span class=\"pystac-k\">0</span>\n",
              "            <span class=\"pystac-v\">2400</span>\n",
              "        </li>\n",
              "    \n",
              "            \n",
              "        \n",
              "    </ul>\n",
              "        \n",
              "            <ul style=\"margin: 0px; padding: 0px 0px 0px 1.75em; list-style: none; display: block;\">\n",
              "        \n",
              "            \n",
              "                \n",
              "        <li class=\"pystac-row\">\n",
              "            <span class=\"pystac-k\">1</span>\n",
              "            <span class=\"pystac-v\">2400</span>\n",
              "        </li>\n",
              "    \n",
              "            \n",
              "        \n",
              "    </ul>\n",
              "        \n",
              "    </details></li>\n",
              "            \n",
              "        \n",
              "            \n",
              "                <li><details>\n",
              "        <summary class=\"pystac-summary\"><span class=\"pystac-k\">instruments</span><span class=\"pystac-l\">[] 0 items</span></summary>\n",
              "        \n",
              "    </details></li>\n",
              "            \n",
              "        \n",
              "            \n",
              "                \n",
              "        <li class=\"pystac-row\">\n",
              "            <span class=\"pystac-k\">end_datetime</span>\n",
              "            <span class=\"pystac-v\">\"2024-12-25T23:59:59Z\"</span>\n",
              "        </li>\n",
              "    \n",
              "            \n",
              "        \n",
              "            \n",
              "                \n",
              "        <li class=\"pystac-row\">\n",
              "            <span class=\"pystac-k\">modis:tile-id</span>\n",
              "            <span class=\"pystac-v\">\"51009004\"</span>\n",
              "        </li>\n",
              "    \n",
              "            \n",
              "        \n",
              "            \n",
              "                \n",
              "        <li><details>\n",
              "            <summary class=\"pystac-summary\"><span class=\"pystac-k\">proj:geometry</span></summary>\n",
              "            <ul style=\"margin: 0px; padding: 0px 0px 0px 1.75em; list-style: none; display: block;\">\n",
              "        \n",
              "            \n",
              "                \n",
              "        <li class=\"pystac-row\">\n",
              "            <span class=\"pystac-k\">type</span>\n",
              "            <span class=\"pystac-v\">\"Polygon\"</span>\n",
              "        </li>\n",
              "    \n",
              "            \n",
              "        \n",
              "            \n",
              "                <li><details>\n",
              "        <summary class=\"pystac-summary\"><span class=\"pystac-k\">coordinates</span><span class=\"pystac-l\">[] 1 items</span></summary>\n",
              "        \n",
              "            <ul style=\"margin: 0px; padding: 0px 0px 0px 1.75em; list-style: none; display: block;\">\n",
              "        \n",
              "            \n",
              "                <li><details>\n",
              "        <summary class=\"pystac-summary\"><span class=\"pystac-k\">0</span><span class=\"pystac-l\">[] 5 items</span></summary>\n",
              "        \n",
              "            <ul style=\"margin: 0px; padding: 0px 0px 0px 1.75em; list-style: none; display: block;\">\n",
              "        \n",
              "            \n",
              "                <li><details>\n",
              "        <summary class=\"pystac-summary\"><span class=\"pystac-k\">0</span><span class=\"pystac-l\">[] 2 items</span></summary>\n",
              "        \n",
              "            <ul style=\"margin: 0px; padding: 0px 0px 0px 1.75em; list-style: none; display: block;\">\n",
              "        \n",
              "            \n",
              "                \n",
              "        <li class=\"pystac-row\">\n",
              "            <span class=\"pystac-k\">0</span>\n",
              "            <span class=\"pystac-v\">-8895604.157333</span>\n",
              "        </li>\n",
              "    \n",
              "            \n",
              "        \n",
              "    </ul>\n",
              "        \n",
              "            <ul style=\"margin: 0px; padding: 0px 0px 0px 1.75em; list-style: none; display: block;\">\n",
              "        \n",
              "            \n",
              "                \n",
              "        <li class=\"pystac-row\">\n",
              "            <span class=\"pystac-k\">1</span>\n",
              "            <span class=\"pystac-v\">4447802.078667</span>\n",
              "        </li>\n",
              "    \n",
              "            \n",
              "        \n",
              "    </ul>\n",
              "        \n",
              "    </details></li>\n",
              "            \n",
              "        \n",
              "    </ul>\n",
              "        \n",
              "            <ul style=\"margin: 0px; padding: 0px 0px 0px 1.75em; list-style: none; display: block;\">\n",
              "        \n",
              "            \n",
              "                <li><details>\n",
              "        <summary class=\"pystac-summary\"><span class=\"pystac-k\">1</span><span class=\"pystac-l\">[] 2 items</span></summary>\n",
              "        \n",
              "            <ul style=\"margin: 0px; padding: 0px 0px 0px 1.75em; list-style: none; display: block;\">\n",
              "        \n",
              "            \n",
              "                \n",
              "        <li class=\"pystac-row\">\n",
              "            <span class=\"pystac-k\">0</span>\n",
              "            <span class=\"pystac-v\">-8895604.157333</span>\n",
              "        </li>\n",
              "    \n",
              "            \n",
              "        \n",
              "    </ul>\n",
              "        \n",
              "            <ul style=\"margin: 0px; padding: 0px 0px 0px 1.75em; list-style: none; display: block;\">\n",
              "        \n",
              "            \n",
              "                \n",
              "        <li class=\"pystac-row\">\n",
              "            <span class=\"pystac-k\">1</span>\n",
              "            <span class=\"pystac-v\">5559752.598333</span>\n",
              "        </li>\n",
              "    \n",
              "            \n",
              "        \n",
              "    </ul>\n",
              "        \n",
              "    </details></li>\n",
              "            \n",
              "        \n",
              "    </ul>\n",
              "        \n",
              "            <ul style=\"margin: 0px; padding: 0px 0px 0px 1.75em; list-style: none; display: block;\">\n",
              "        \n",
              "            \n",
              "                <li><details>\n",
              "        <summary class=\"pystac-summary\"><span class=\"pystac-k\">2</span><span class=\"pystac-l\">[] 2 items</span></summary>\n",
              "        \n",
              "            <ul style=\"margin: 0px; padding: 0px 0px 0px 1.75em; list-style: none; display: block;\">\n",
              "        \n",
              "            \n",
              "                \n",
              "        <li class=\"pystac-row\">\n",
              "            <span class=\"pystac-k\">0</span>\n",
              "            <span class=\"pystac-v\">-10007554.677</span>\n",
              "        </li>\n",
              "    \n",
              "            \n",
              "        \n",
              "    </ul>\n",
              "        \n",
              "            <ul style=\"margin: 0px; padding: 0px 0px 0px 1.75em; list-style: none; display: block;\">\n",
              "        \n",
              "            \n",
              "                \n",
              "        <li class=\"pystac-row\">\n",
              "            <span class=\"pystac-k\">1</span>\n",
              "            <span class=\"pystac-v\">5559752.598333</span>\n",
              "        </li>\n",
              "    \n",
              "            \n",
              "        \n",
              "    </ul>\n",
              "        \n",
              "    </details></li>\n",
              "            \n",
              "        \n",
              "    </ul>\n",
              "        \n",
              "            <ul style=\"margin: 0px; padding: 0px 0px 0px 1.75em; list-style: none; display: block;\">\n",
              "        \n",
              "            \n",
              "                <li><details>\n",
              "        <summary class=\"pystac-summary\"><span class=\"pystac-k\">3</span><span class=\"pystac-l\">[] 2 items</span></summary>\n",
              "        \n",
              "            <ul style=\"margin: 0px; padding: 0px 0px 0px 1.75em; list-style: none; display: block;\">\n",
              "        \n",
              "            \n",
              "                \n",
              "        <li class=\"pystac-row\">\n",
              "            <span class=\"pystac-k\">0</span>\n",
              "            <span class=\"pystac-v\">-10007554.677</span>\n",
              "        </li>\n",
              "    \n",
              "            \n",
              "        \n",
              "    </ul>\n",
              "        \n",
              "            <ul style=\"margin: 0px; padding: 0px 0px 0px 1.75em; list-style: none; display: block;\">\n",
              "        \n",
              "            \n",
              "                \n",
              "        <li class=\"pystac-row\">\n",
              "            <span class=\"pystac-k\">1</span>\n",
              "            <span class=\"pystac-v\">4447802.078667</span>\n",
              "        </li>\n",
              "    \n",
              "            \n",
              "        \n",
              "    </ul>\n",
              "        \n",
              "    </details></li>\n",
              "            \n",
              "        \n",
              "    </ul>\n",
              "        \n",
              "            <ul style=\"margin: 0px; padding: 0px 0px 0px 1.75em; list-style: none; display: block;\">\n",
              "        \n",
              "            \n",
              "                <li><details>\n",
              "        <summary class=\"pystac-summary\"><span class=\"pystac-k\">4</span><span class=\"pystac-l\">[] 2 items</span></summary>\n",
              "        \n",
              "            <ul style=\"margin: 0px; padding: 0px 0px 0px 1.75em; list-style: none; display: block;\">\n",
              "        \n",
              "            \n",
              "                \n",
              "        <li class=\"pystac-row\">\n",
              "            <span class=\"pystac-k\">0</span>\n",
              "            <span class=\"pystac-v\">-8895604.157333</span>\n",
              "        </li>\n",
              "    \n",
              "            \n",
              "        \n",
              "    </ul>\n",
              "        \n",
              "            <ul style=\"margin: 0px; padding: 0px 0px 0px 1.75em; list-style: none; display: block;\">\n",
              "        \n",
              "            \n",
              "                \n",
              "        <li class=\"pystac-row\">\n",
              "            <span class=\"pystac-k\">1</span>\n",
              "            <span class=\"pystac-v\">4447802.078667</span>\n",
              "        </li>\n",
              "    \n",
              "            \n",
              "        \n",
              "    </ul>\n",
              "        \n",
              "    </details></li>\n",
              "            \n",
              "        \n",
              "    </ul>\n",
              "        \n",
              "    </details></li>\n",
              "            \n",
              "        \n",
              "    </ul>\n",
              "        \n",
              "    </details></li>\n",
              "            \n",
              "        \n",
              "    </ul>\n",
              "        </details></li>\n",
              "    \n",
              "            \n",
              "        \n",
              "            \n",
              "                <li><details>\n",
              "        <summary class=\"pystac-summary\"><span class=\"pystac-k\">proj:transform</span><span class=\"pystac-l\">[] 6 items</span></summary>\n",
              "        \n",
              "            <ul style=\"margin: 0px; padding: 0px 0px 0px 1.75em; list-style: none; display: block;\">\n",
              "        \n",
              "            \n",
              "                \n",
              "        <li class=\"pystac-row\">\n",
              "            <span class=\"pystac-k\">0</span>\n",
              "            <span class=\"pystac-v\">463.3127165279165</span>\n",
              "        </li>\n",
              "    \n",
              "            \n",
              "        \n",
              "    </ul>\n",
              "        \n",
              "            <ul style=\"margin: 0px; padding: 0px 0px 0px 1.75em; list-style: none; display: block;\">\n",
              "        \n",
              "            \n",
              "                \n",
              "        <li class=\"pystac-row\">\n",
              "            <span class=\"pystac-k\">1</span>\n",
              "            <span class=\"pystac-v\">0.0</span>\n",
              "        </li>\n",
              "    \n",
              "            \n",
              "        \n",
              "    </ul>\n",
              "        \n",
              "            <ul style=\"margin: 0px; padding: 0px 0px 0px 1.75em; list-style: none; display: block;\">\n",
              "        \n",
              "            \n",
              "                \n",
              "        <li class=\"pystac-row\">\n",
              "            <span class=\"pystac-k\">2</span>\n",
              "            <span class=\"pystac-v\">-10007554.677</span>\n",
              "        </li>\n",
              "    \n",
              "            \n",
              "        \n",
              "    </ul>\n",
              "        \n",
              "            <ul style=\"margin: 0px; padding: 0px 0px 0px 1.75em; list-style: none; display: block;\">\n",
              "        \n",
              "            \n",
              "                \n",
              "        <li class=\"pystac-row\">\n",
              "            <span class=\"pystac-k\">3</span>\n",
              "            <span class=\"pystac-v\">0.0</span>\n",
              "        </li>\n",
              "    \n",
              "            \n",
              "        \n",
              "    </ul>\n",
              "        \n",
              "            <ul style=\"margin: 0px; padding: 0px 0px 0px 1.75em; list-style: none; display: block;\">\n",
              "        \n",
              "            \n",
              "                \n",
              "        <li class=\"pystac-row\">\n",
              "            <span class=\"pystac-k\">4</span>\n",
              "            <span class=\"pystac-v\">-463.31271652750013</span>\n",
              "        </li>\n",
              "    \n",
              "            \n",
              "        \n",
              "    </ul>\n",
              "        \n",
              "            <ul style=\"margin: 0px; padding: 0px 0px 0px 1.75em; list-style: none; display: block;\">\n",
              "        \n",
              "            \n",
              "                \n",
              "        <li class=\"pystac-row\">\n",
              "            <span class=\"pystac-k\">5</span>\n",
              "            <span class=\"pystac-v\">5559752.598333</span>\n",
              "        </li>\n",
              "    \n",
              "            \n",
              "        \n",
              "    </ul>\n",
              "        \n",
              "    </details></li>\n",
              "            \n",
              "        \n",
              "            \n",
              "                \n",
              "        <li class=\"pystac-row\">\n",
              "            <span class=\"pystac-k\">start_datetime</span>\n",
              "            <span class=\"pystac-v\">\"2024-12-22T00:00:00Z\"</span>\n",
              "        </li>\n",
              "    \n",
              "            \n",
              "        \n",
              "            \n",
              "                \n",
              "        <li class=\"pystac-row\">\n",
              "            <span class=\"pystac-k\">modis:vertical-tile</span>\n",
              "            <span class=\"pystac-v\">4</span>\n",
              "        </li>\n",
              "    \n",
              "            \n",
              "        \n",
              "            \n",
              "                \n",
              "        <li class=\"pystac-row\">\n",
              "            <span class=\"pystac-k\">modis:horizontal-tile</span>\n",
              "            <span class=\"pystac-v\">9</span>\n",
              "        </li>\n",
              "    \n",
              "            \n",
              "        \n",
              "            \n",
              "                \n",
              "        <li class=\"pystac-row\">\n",
              "            <span class=\"pystac-k\">proj:code</span>\n",
              "            <span class=\"pystac-v\">\"EPSG:None\"</span>\n",
              "        </li>\n",
              "    \n",
              "            \n",
              "        \n",
              "    </ul>\n",
              "        </details></li>\n",
              "    \n",
              "                \n",
              "            \n",
              "                \n",
              "                    <li><details>\n",
              "        <summary class=\"pystac-summary\"><span class=\"pystac-k\">links</span><span class=\"pystac-l\">[] 5 items</span></summary>\n",
              "        \n",
              "            <ul style=\"margin: 0px; padding: 0px 0px 0px 1.75em; list-style: none; display: block;\">\n",
              "        \n",
              "            \n",
              "                \n",
              "        <li><details>\n",
              "            <summary class=\"pystac-summary\"><span class=\"pystac-k\">0</span></summary>\n",
              "            <ul style=\"margin: 0px; padding: 0px 0px 0px 1.75em; list-style: none; display: block;\">\n",
              "        \n",
              "            \n",
              "                \n",
              "        <li class=\"pystac-row\">\n",
              "            <span class=\"pystac-k\">rel</span>\n",
              "            <span class=\"pystac-v\">\"collection\"</span>\n",
              "        </li>\n",
              "    \n",
              "            \n",
              "        \n",
              "            \n",
              "                \n",
              "        <li class=\"pystac-row\">\n",
              "            <span class=\"pystac-k\">href</span>\n",
              "            <span class=\"pystac-v\">\"https://planetarycomputer.microsoft.com/api/stac/v1/collections/modis-15A3H-061\"</span>\n",
              "        </li>\n",
              "    \n",
              "            \n",
              "        \n",
              "            \n",
              "                \n",
              "        <li class=\"pystac-row\">\n",
              "            <span class=\"pystac-k\">type</span>\n",
              "            <span class=\"pystac-v\">\"application/json\"</span>\n",
              "        </li>\n",
              "    \n",
              "            \n",
              "        \n",
              "    </ul>\n",
              "        </details></li>\n",
              "    \n",
              "            \n",
              "        \n",
              "    </ul>\n",
              "        \n",
              "            <ul style=\"margin: 0px; padding: 0px 0px 0px 1.75em; list-style: none; display: block;\">\n",
              "        \n",
              "            \n",
              "                \n",
              "        <li><details>\n",
              "            <summary class=\"pystac-summary\"><span class=\"pystac-k\">1</span></summary>\n",
              "            <ul style=\"margin: 0px; padding: 0px 0px 0px 1.75em; list-style: none; display: block;\">\n",
              "        \n",
              "            \n",
              "                \n",
              "        <li class=\"pystac-row\">\n",
              "            <span class=\"pystac-k\">rel</span>\n",
              "            <span class=\"pystac-v\">\"parent\"</span>\n",
              "        </li>\n",
              "    \n",
              "            \n",
              "        \n",
              "            \n",
              "                \n",
              "        <li class=\"pystac-row\">\n",
              "            <span class=\"pystac-k\">href</span>\n",
              "            <span class=\"pystac-v\">\"https://planetarycomputer.microsoft.com/api/stac/v1/collections/modis-15A3H-061\"</span>\n",
              "        </li>\n",
              "    \n",
              "            \n",
              "        \n",
              "            \n",
              "                \n",
              "        <li class=\"pystac-row\">\n",
              "            <span class=\"pystac-k\">type</span>\n",
              "            <span class=\"pystac-v\">\"application/json\"</span>\n",
              "        </li>\n",
              "    \n",
              "            \n",
              "        \n",
              "    </ul>\n",
              "        </details></li>\n",
              "    \n",
              "            \n",
              "        \n",
              "    </ul>\n",
              "        \n",
              "            <ul style=\"margin: 0px; padding: 0px 0px 0px 1.75em; list-style: none; display: block;\">\n",
              "        \n",
              "            \n",
              "                \n",
              "        <li><details>\n",
              "            <summary class=\"pystac-summary\"><span class=\"pystac-k\">2</span></summary>\n",
              "            <ul style=\"margin: 0px; padding: 0px 0px 0px 1.75em; list-style: none; display: block;\">\n",
              "        \n",
              "            \n",
              "                \n",
              "        <li class=\"pystac-row\">\n",
              "            <span class=\"pystac-k\">rel</span>\n",
              "            <span class=\"pystac-v\">\"root\"</span>\n",
              "        </li>\n",
              "    \n",
              "            \n",
              "        \n",
              "            \n",
              "                \n",
              "        <li class=\"pystac-row\">\n",
              "            <span class=\"pystac-k\">href</span>\n",
              "            <span class=\"pystac-v\">\"https://planetarycomputer.microsoft.com/api/stac/v1\"</span>\n",
              "        </li>\n",
              "    \n",
              "            \n",
              "        \n",
              "            \n",
              "                \n",
              "        <li class=\"pystac-row\">\n",
              "            <span class=\"pystac-k\">type</span>\n",
              "            <span class=\"pystac-v\">\"application/json\"</span>\n",
              "        </li>\n",
              "    \n",
              "            \n",
              "        \n",
              "            \n",
              "                \n",
              "        <li class=\"pystac-row\">\n",
              "            <span class=\"pystac-k\">title</span>\n",
              "            <span class=\"pystac-v\">\"Microsoft Planetary Computer STAC API\"</span>\n",
              "        </li>\n",
              "    \n",
              "            \n",
              "        \n",
              "    </ul>\n",
              "        </details></li>\n",
              "    \n",
              "            \n",
              "        \n",
              "    </ul>\n",
              "        \n",
              "            <ul style=\"margin: 0px; padding: 0px 0px 0px 1.75em; list-style: none; display: block;\">\n",
              "        \n",
              "            \n",
              "                \n",
              "        <li><details>\n",
              "            <summary class=\"pystac-summary\"><span class=\"pystac-k\">3</span></summary>\n",
              "            <ul style=\"margin: 0px; padding: 0px 0px 0px 1.75em; list-style: none; display: block;\">\n",
              "        \n",
              "            \n",
              "                \n",
              "        <li class=\"pystac-row\">\n",
              "            <span class=\"pystac-k\">rel</span>\n",
              "            <span class=\"pystac-v\">\"self\"</span>\n",
              "        </li>\n",
              "    \n",
              "            \n",
              "        \n",
              "            \n",
              "                \n",
              "        <li class=\"pystac-row\">\n",
              "            <span class=\"pystac-k\">href</span>\n",
              "            <span class=\"pystac-v\">\"https://planetarycomputer.microsoft.com/api/stac/v1/collections/modis-15A3H-061/items/MCD15A3H.A2024357.h09v04.061.2024366084345\"</span>\n",
              "        </li>\n",
              "    \n",
              "            \n",
              "        \n",
              "            \n",
              "                \n",
              "        <li class=\"pystac-row\">\n",
              "            <span class=\"pystac-k\">type</span>\n",
              "            <span class=\"pystac-v\">\"application/geo+json\"</span>\n",
              "        </li>\n",
              "    \n",
              "            \n",
              "        \n",
              "    </ul>\n",
              "        </details></li>\n",
              "    \n",
              "            \n",
              "        \n",
              "    </ul>\n",
              "        \n",
              "            <ul style=\"margin: 0px; padding: 0px 0px 0px 1.75em; list-style: none; display: block;\">\n",
              "        \n",
              "            \n",
              "                \n",
              "        <li><details>\n",
              "            <summary class=\"pystac-summary\"><span class=\"pystac-k\">4</span></summary>\n",
              "            <ul style=\"margin: 0px; padding: 0px 0px 0px 1.75em; list-style: none; display: block;\">\n",
              "        \n",
              "            \n",
              "                \n",
              "        <li class=\"pystac-row\">\n",
              "            <span class=\"pystac-k\">rel</span>\n",
              "            <span class=\"pystac-v\">\"preview\"</span>\n",
              "        </li>\n",
              "    \n",
              "            \n",
              "        \n",
              "            \n",
              "                \n",
              "        <li class=\"pystac-row\">\n",
              "            <span class=\"pystac-k\">href</span>\n",
              "            <span class=\"pystac-v\">\"https://planetarycomputer.microsoft.com/api/data/v1/item/map?collection=modis-15A3H-061&item=MCD15A3H.A2024357.h09v04.061.2024366084345\"</span>\n",
              "        </li>\n",
              "    \n",
              "            \n",
              "        \n",
              "            \n",
              "                \n",
              "        <li class=\"pystac-row\">\n",
              "            <span class=\"pystac-k\">type</span>\n",
              "            <span class=\"pystac-v\">\"text/html\"</span>\n",
              "        </li>\n",
              "    \n",
              "            \n",
              "        \n",
              "            \n",
              "                \n",
              "        <li class=\"pystac-row\">\n",
              "            <span class=\"pystac-k\">title</span>\n",
              "            <span class=\"pystac-v\">\"Map of item\"</span>\n",
              "        </li>\n",
              "    \n",
              "            \n",
              "        \n",
              "    </ul>\n",
              "        </details></li>\n",
              "    \n",
              "            \n",
              "        \n",
              "    </ul>\n",
              "        \n",
              "    </details></li>\n",
              "                \n",
              "            \n",
              "                \n",
              "                    \n",
              "        <li><details>\n",
              "            <summary class=\"pystac-summary\"><span class=\"pystac-k\">assets</span></summary>\n",
              "            <ul style=\"margin: 0px; padding: 0px 0px 0px 1.75em; list-style: none; display: block;\">\n",
              "        \n",
              "            \n",
              "                \n",
              "        <li><details>\n",
              "            <summary class=\"pystac-summary\"><span class=\"pystac-k\">hdf</span></summary>\n",
              "            <ul style=\"margin: 0px; padding: 0px 0px 0px 1.75em; list-style: none; display: block;\">\n",
              "        \n",
              "            \n",
              "                \n",
              "        <li class=\"pystac-row\">\n",
              "            <span class=\"pystac-k\">href</span>\n",
              "            <span class=\"pystac-v\">\"https://modiseuwest.blob.core.windows.net/modis-061/MCD15A3H/09/04/2024357/MCD15A3H.A2024357.h09v04.061.2024366084345.hdf\"</span>\n",
              "        </li>\n",
              "    \n",
              "            \n",
              "        \n",
              "            \n",
              "                \n",
              "        <li class=\"pystac-row\">\n",
              "            <span class=\"pystac-k\">type</span>\n",
              "            <span class=\"pystac-v\">\"application/x-hdf\"</span>\n",
              "        </li>\n",
              "    \n",
              "            \n",
              "        \n",
              "            \n",
              "                \n",
              "        <li class=\"pystac-row\">\n",
              "            <span class=\"pystac-k\">title</span>\n",
              "            <span class=\"pystac-v\">\"Source data containing all bands\"</span>\n",
              "        </li>\n",
              "    \n",
              "            \n",
              "        \n",
              "            \n",
              "                <li><details>\n",
              "        <summary class=\"pystac-summary\"><span class=\"pystac-k\">roles</span><span class=\"pystac-l\">[] 1 items</span></summary>\n",
              "        \n",
              "            <ul style=\"margin: 0px; padding: 0px 0px 0px 1.75em; list-style: none; display: block;\">\n",
              "        \n",
              "            \n",
              "                \n",
              "        <li class=\"pystac-row\">\n",
              "            <span class=\"pystac-k\">0</span>\n",
              "            <span class=\"pystac-v\">\"data\"</span>\n",
              "        </li>\n",
              "    \n",
              "            \n",
              "        \n",
              "    </ul>\n",
              "        \n",
              "    </details></li>\n",
              "            \n",
              "        \n",
              "    </ul>\n",
              "        </details></li>\n",
              "    \n",
              "            \n",
              "        \n",
              "            \n",
              "                \n",
              "        <li><details>\n",
              "            <summary class=\"pystac-summary\"><span class=\"pystac-k\">Lai_500m</span></summary>\n",
              "            <ul style=\"margin: 0px; padding: 0px 0px 0px 1.75em; list-style: none; display: block;\">\n",
              "        \n",
              "            \n",
              "                \n",
              "        <li class=\"pystac-row\">\n",
              "            <span class=\"pystac-k\">href</span>\n",
              "            <span class=\"pystac-v\">\"https://modiseuwest.blob.core.windows.net/modis-061-cogs/MCD15A3H/09/04/2024357/MCD15A3H.A2024357.h09v04.061.2024366084345_Lai_500m.tif\"</span>\n",
              "        </li>\n",
              "    \n",
              "            \n",
              "        \n",
              "            \n",
              "                \n",
              "        <li class=\"pystac-row\">\n",
              "            <span class=\"pystac-k\">type</span>\n",
              "            <span class=\"pystac-v\">\"image/tiff; application=geotiff; profile=cloud-optimized\"</span>\n",
              "        </li>\n",
              "    \n",
              "            \n",
              "        \n",
              "            \n",
              "                \n",
              "        <li class=\"pystac-row\">\n",
              "            <span class=\"pystac-k\">title</span>\n",
              "            <span class=\"pystac-v\">\"Leaf Area Index\"</span>\n",
              "        </li>\n",
              "    \n",
              "            \n",
              "        \n",
              "            \n",
              "                <li><details>\n",
              "        <summary class=\"pystac-summary\"><span class=\"pystac-k\">raster:bands</span><span class=\"pystac-l\">[] 1 items</span></summary>\n",
              "        \n",
              "            <ul style=\"margin: 0px; padding: 0px 0px 0px 1.75em; list-style: none; display: block;\">\n",
              "        \n",
              "            \n",
              "                \n",
              "        <li><details>\n",
              "            <summary class=\"pystac-summary\"><span class=\"pystac-k\">0</span></summary>\n",
              "            <ul style=\"margin: 0px; padding: 0px 0px 0px 1.75em; list-style: none; display: block;\">\n",
              "        \n",
              "            \n",
              "                \n",
              "        <li class=\"pystac-row\">\n",
              "            <span class=\"pystac-k\">unit</span>\n",
              "            <span class=\"pystac-v\">\"m^2/m^2\"</span>\n",
              "        </li>\n",
              "    \n",
              "            \n",
              "        \n",
              "            \n",
              "                \n",
              "        <li class=\"pystac-row\">\n",
              "            <span class=\"pystac-k\">scale</span>\n",
              "            <span class=\"pystac-v\">0.1</span>\n",
              "        </li>\n",
              "    \n",
              "            \n",
              "        \n",
              "            \n",
              "                \n",
              "        <li class=\"pystac-row\">\n",
              "            <span class=\"pystac-k\">data_type</span>\n",
              "            <span class=\"pystac-v\">\"uint8\"</span>\n",
              "        </li>\n",
              "    \n",
              "            \n",
              "        \n",
              "            \n",
              "                \n",
              "        <li class=\"pystac-row\">\n",
              "            <span class=\"pystac-k\">spatial_resolution</span>\n",
              "            <span class=\"pystac-v\">500</span>\n",
              "        </li>\n",
              "    \n",
              "            \n",
              "        \n",
              "    </ul>\n",
              "        </details></li>\n",
              "    \n",
              "            \n",
              "        \n",
              "    </ul>\n",
              "        \n",
              "    </details></li>\n",
              "            \n",
              "        \n",
              "            \n",
              "                <li><details>\n",
              "        <summary class=\"pystac-summary\"><span class=\"pystac-k\">roles</span><span class=\"pystac-l\">[] 1 items</span></summary>\n",
              "        \n",
              "            <ul style=\"margin: 0px; padding: 0px 0px 0px 1.75em; list-style: none; display: block;\">\n",
              "        \n",
              "            \n",
              "                \n",
              "        <li class=\"pystac-row\">\n",
              "            <span class=\"pystac-k\">0</span>\n",
              "            <span class=\"pystac-v\">\"data\"</span>\n",
              "        </li>\n",
              "    \n",
              "            \n",
              "        \n",
              "    </ul>\n",
              "        \n",
              "    </details></li>\n",
              "            \n",
              "        \n",
              "    </ul>\n",
              "        </details></li>\n",
              "    \n",
              "            \n",
              "        \n",
              "            \n",
              "                \n",
              "        <li><details>\n",
              "            <summary class=\"pystac-summary\"><span class=\"pystac-k\">metadata</span></summary>\n",
              "            <ul style=\"margin: 0px; padding: 0px 0px 0px 1.75em; list-style: none; display: block;\">\n",
              "        \n",
              "            \n",
              "                \n",
              "        <li class=\"pystac-row\">\n",
              "            <span class=\"pystac-k\">href</span>\n",
              "            <span class=\"pystac-v\">\"https://modiseuwest.blob.core.windows.net/modis-061/MCD15A3H/09/04/2024357/MCD15A3H.A2024357.h09v04.061.2024366084345.hdf.xml\"</span>\n",
              "        </li>\n",
              "    \n",
              "            \n",
              "        \n",
              "            \n",
              "                \n",
              "        <li class=\"pystac-row\">\n",
              "            <span class=\"pystac-k\">type</span>\n",
              "            <span class=\"pystac-v\">\"application/xml\"</span>\n",
              "        </li>\n",
              "    \n",
              "            \n",
              "        \n",
              "            \n",
              "                \n",
              "        <li class=\"pystac-row\">\n",
              "            <span class=\"pystac-k\">title</span>\n",
              "            <span class=\"pystac-v\">\"Federal Geographic Data Committee (FGDC) Metadata\"</span>\n",
              "        </li>\n",
              "    \n",
              "            \n",
              "        \n",
              "            \n",
              "                <li><details>\n",
              "        <summary class=\"pystac-summary\"><span class=\"pystac-k\">roles</span><span class=\"pystac-l\">[] 1 items</span></summary>\n",
              "        \n",
              "            <ul style=\"margin: 0px; padding: 0px 0px 0px 1.75em; list-style: none; display: block;\">\n",
              "        \n",
              "            \n",
              "                \n",
              "        <li class=\"pystac-row\">\n",
              "            <span class=\"pystac-k\">0</span>\n",
              "            <span class=\"pystac-v\">\"metadata\"</span>\n",
              "        </li>\n",
              "    \n",
              "            \n",
              "        \n",
              "    </ul>\n",
              "        \n",
              "    </details></li>\n",
              "            \n",
              "        \n",
              "    </ul>\n",
              "        </details></li>\n",
              "    \n",
              "            \n",
              "        \n",
              "            \n",
              "                \n",
              "        <li><details>\n",
              "            <summary class=\"pystac-summary\"><span class=\"pystac-k\">Fpar_500m</span></summary>\n",
              "            <ul style=\"margin: 0px; padding: 0px 0px 0px 1.75em; list-style: none; display: block;\">\n",
              "        \n",
              "            \n",
              "                \n",
              "        <li class=\"pystac-row\">\n",
              "            <span class=\"pystac-k\">href</span>\n",
              "            <span class=\"pystac-v\">\"https://modiseuwest.blob.core.windows.net/modis-061-cogs/MCD15A3H/09/04/2024357/MCD15A3H.A2024357.h09v04.061.2024366084345_Fpar_500m.tif\"</span>\n",
              "        </li>\n",
              "    \n",
              "            \n",
              "        \n",
              "            \n",
              "                \n",
              "        <li class=\"pystac-row\">\n",
              "            <span class=\"pystac-k\">type</span>\n",
              "            <span class=\"pystac-v\">\"image/tiff; application=geotiff; profile=cloud-optimized\"</span>\n",
              "        </li>\n",
              "    \n",
              "            \n",
              "        \n",
              "            \n",
              "                \n",
              "        <li class=\"pystac-row\">\n",
              "            <span class=\"pystac-k\">title</span>\n",
              "            <span class=\"pystac-v\">\"Fraction of Photosynthetically Active Radiation\"</span>\n",
              "        </li>\n",
              "    \n",
              "            \n",
              "        \n",
              "            \n",
              "                <li><details>\n",
              "        <summary class=\"pystac-summary\"><span class=\"pystac-k\">raster:bands</span><span class=\"pystac-l\">[] 1 items</span></summary>\n",
              "        \n",
              "            <ul style=\"margin: 0px; padding: 0px 0px 0px 1.75em; list-style: none; display: block;\">\n",
              "        \n",
              "            \n",
              "                \n",
              "        <li><details>\n",
              "            <summary class=\"pystac-summary\"><span class=\"pystac-k\">0</span></summary>\n",
              "            <ul style=\"margin: 0px; padding: 0px 0px 0px 1.75em; list-style: none; display: block;\">\n",
              "        \n",
              "            \n",
              "                \n",
              "        <li class=\"pystac-row\">\n",
              "            <span class=\"pystac-k\">unit</span>\n",
              "            <span class=\"pystac-v\">\"Percent\"</span>\n",
              "        </li>\n",
              "    \n",
              "            \n",
              "        \n",
              "            \n",
              "                \n",
              "        <li class=\"pystac-row\">\n",
              "            <span class=\"pystac-k\">scale</span>\n",
              "            <span class=\"pystac-v\">0.01</span>\n",
              "        </li>\n",
              "    \n",
              "            \n",
              "        \n",
              "            \n",
              "                \n",
              "        <li class=\"pystac-row\">\n",
              "            <span class=\"pystac-k\">data_type</span>\n",
              "            <span class=\"pystac-v\">\"uint8\"</span>\n",
              "        </li>\n",
              "    \n",
              "            \n",
              "        \n",
              "            \n",
              "                \n",
              "        <li class=\"pystac-row\">\n",
              "            <span class=\"pystac-k\">spatial_resolution</span>\n",
              "            <span class=\"pystac-v\">500</span>\n",
              "        </li>\n",
              "    \n",
              "            \n",
              "        \n",
              "    </ul>\n",
              "        </details></li>\n",
              "    \n",
              "            \n",
              "        \n",
              "    </ul>\n",
              "        \n",
              "    </details></li>\n",
              "            \n",
              "        \n",
              "            \n",
              "                <li><details>\n",
              "        <summary class=\"pystac-summary\"><span class=\"pystac-k\">roles</span><span class=\"pystac-l\">[] 1 items</span></summary>\n",
              "        \n",
              "            <ul style=\"margin: 0px; padding: 0px 0px 0px 1.75em; list-style: none; display: block;\">\n",
              "        \n",
              "            \n",
              "                \n",
              "        <li class=\"pystac-row\">\n",
              "            <span class=\"pystac-k\">0</span>\n",
              "            <span class=\"pystac-v\">\"data\"</span>\n",
              "        </li>\n",
              "    \n",
              "            \n",
              "        \n",
              "    </ul>\n",
              "        \n",
              "    </details></li>\n",
              "            \n",
              "        \n",
              "    </ul>\n",
              "        </details></li>\n",
              "    \n",
              "            \n",
              "        \n",
              "            \n",
              "                \n",
              "        <li><details>\n",
              "            <summary class=\"pystac-summary\"><span class=\"pystac-k\">FparLai_QC</span></summary>\n",
              "            <ul style=\"margin: 0px; padding: 0px 0px 0px 1.75em; list-style: none; display: block;\">\n",
              "        \n",
              "            \n",
              "                \n",
              "        <li class=\"pystac-row\">\n",
              "            <span class=\"pystac-k\">href</span>\n",
              "            <span class=\"pystac-v\">\"https://modiseuwest.blob.core.windows.net/modis-061-cogs/MCD15A3H/09/04/2024357/MCD15A3H.A2024357.h09v04.061.2024366084345_FparLai_QC.tif\"</span>\n",
              "        </li>\n",
              "    \n",
              "            \n",
              "        \n",
              "            \n",
              "                \n",
              "        <li class=\"pystac-row\">\n",
              "            <span class=\"pystac-k\">type</span>\n",
              "            <span class=\"pystac-v\">\"image/tiff; application=geotiff; profile=cloud-optimized\"</span>\n",
              "        </li>\n",
              "    \n",
              "            \n",
              "        \n",
              "            \n",
              "                \n",
              "        <li class=\"pystac-row\">\n",
              "            <span class=\"pystac-k\">title</span>\n",
              "            <span class=\"pystac-v\">\"Quality for FPAR and LAI\"</span>\n",
              "        </li>\n",
              "    \n",
              "            \n",
              "        \n",
              "            \n",
              "                <li><details>\n",
              "        <summary class=\"pystac-summary\"><span class=\"pystac-k\">raster:bands</span><span class=\"pystac-l\">[] 1 items</span></summary>\n",
              "        \n",
              "            <ul style=\"margin: 0px; padding: 0px 0px 0px 1.75em; list-style: none; display: block;\">\n",
              "        \n",
              "            \n",
              "                \n",
              "        <li><details>\n",
              "            <summary class=\"pystac-summary\"><span class=\"pystac-k\">0</span></summary>\n",
              "            <ul style=\"margin: 0px; padding: 0px 0px 0px 1.75em; list-style: none; display: block;\">\n",
              "        \n",
              "            \n",
              "                \n",
              "        <li class=\"pystac-row\">\n",
              "            <span class=\"pystac-k\">data_type</span>\n",
              "            <span class=\"pystac-v\">\"uint8\"</span>\n",
              "        </li>\n",
              "    \n",
              "            \n",
              "        \n",
              "            \n",
              "                \n",
              "        <li class=\"pystac-row\">\n",
              "            <span class=\"pystac-k\">spatial_resolution</span>\n",
              "            <span class=\"pystac-v\">500</span>\n",
              "        </li>\n",
              "    \n",
              "            \n",
              "        \n",
              "    </ul>\n",
              "        </details></li>\n",
              "    \n",
              "            \n",
              "        \n",
              "    </ul>\n",
              "        \n",
              "    </details></li>\n",
              "            \n",
              "        \n",
              "            \n",
              "                <li><details>\n",
              "        <summary class=\"pystac-summary\"><span class=\"pystac-k\">roles</span><span class=\"pystac-l\">[] 1 items</span></summary>\n",
              "        \n",
              "            <ul style=\"margin: 0px; padding: 0px 0px 0px 1.75em; list-style: none; display: block;\">\n",
              "        \n",
              "            \n",
              "                \n",
              "        <li class=\"pystac-row\">\n",
              "            <span class=\"pystac-k\">0</span>\n",
              "            <span class=\"pystac-v\">\"data\"</span>\n",
              "        </li>\n",
              "    \n",
              "            \n",
              "        \n",
              "    </ul>\n",
              "        \n",
              "    </details></li>\n",
              "            \n",
              "        \n",
              "    </ul>\n",
              "        </details></li>\n",
              "    \n",
              "            \n",
              "        \n",
              "            \n",
              "                \n",
              "        <li><details>\n",
              "            <summary class=\"pystac-summary\"><span class=\"pystac-k\">FparExtra_QC</span></summary>\n",
              "            <ul style=\"margin: 0px; padding: 0px 0px 0px 1.75em; list-style: none; display: block;\">\n",
              "        \n",
              "            \n",
              "                \n",
              "        <li class=\"pystac-row\">\n",
              "            <span class=\"pystac-k\">href</span>\n",
              "            <span class=\"pystac-v\">\"https://modiseuwest.blob.core.windows.net/modis-061-cogs/MCD15A3H/09/04/2024357/MCD15A3H.A2024357.h09v04.061.2024366084345_FparExtra_QC.tif\"</span>\n",
              "        </li>\n",
              "    \n",
              "            \n",
              "        \n",
              "            \n",
              "                \n",
              "        <li class=\"pystac-row\">\n",
              "            <span class=\"pystac-k\">type</span>\n",
              "            <span class=\"pystac-v\">\"image/tiff; application=geotiff; profile=cloud-optimized\"</span>\n",
              "        </li>\n",
              "    \n",
              "            \n",
              "        \n",
              "            \n",
              "                \n",
              "        <li class=\"pystac-row\">\n",
              "            <span class=\"pystac-k\">title</span>\n",
              "            <span class=\"pystac-v\">\"Extra detail Quality for FPAR and LAI\"</span>\n",
              "        </li>\n",
              "    \n",
              "            \n",
              "        \n",
              "            \n",
              "                <li><details>\n",
              "        <summary class=\"pystac-summary\"><span class=\"pystac-k\">raster:bands</span><span class=\"pystac-l\">[] 1 items</span></summary>\n",
              "        \n",
              "            <ul style=\"margin: 0px; padding: 0px 0px 0px 1.75em; list-style: none; display: block;\">\n",
              "        \n",
              "            \n",
              "                \n",
              "        <li><details>\n",
              "            <summary class=\"pystac-summary\"><span class=\"pystac-k\">0</span></summary>\n",
              "            <ul style=\"margin: 0px; padding: 0px 0px 0px 1.75em; list-style: none; display: block;\">\n",
              "        \n",
              "            \n",
              "                \n",
              "        <li class=\"pystac-row\">\n",
              "            <span class=\"pystac-k\">data_type</span>\n",
              "            <span class=\"pystac-v\">\"uint8\"</span>\n",
              "        </li>\n",
              "    \n",
              "            \n",
              "        \n",
              "            \n",
              "                \n",
              "        <li class=\"pystac-row\">\n",
              "            <span class=\"pystac-k\">spatial_resolution</span>\n",
              "            <span class=\"pystac-v\">500</span>\n",
              "        </li>\n",
              "    \n",
              "            \n",
              "        \n",
              "    </ul>\n",
              "        </details></li>\n",
              "    \n",
              "            \n",
              "        \n",
              "    </ul>\n",
              "        \n",
              "    </details></li>\n",
              "            \n",
              "        \n",
              "            \n",
              "                <li><details>\n",
              "        <summary class=\"pystac-summary\"><span class=\"pystac-k\">roles</span><span class=\"pystac-l\">[] 1 items</span></summary>\n",
              "        \n",
              "            <ul style=\"margin: 0px; padding: 0px 0px 0px 1.75em; list-style: none; display: block;\">\n",
              "        \n",
              "            \n",
              "                \n",
              "        <li class=\"pystac-row\">\n",
              "            <span class=\"pystac-k\">0</span>\n",
              "            <span class=\"pystac-v\">\"data\"</span>\n",
              "        </li>\n",
              "    \n",
              "            \n",
              "        \n",
              "    </ul>\n",
              "        \n",
              "    </details></li>\n",
              "            \n",
              "        \n",
              "    </ul>\n",
              "        </details></li>\n",
              "    \n",
              "            \n",
              "        \n",
              "            \n",
              "                \n",
              "        <li><details>\n",
              "            <summary class=\"pystac-summary\"><span class=\"pystac-k\">LaiStdDev_500m</span></summary>\n",
              "            <ul style=\"margin: 0px; padding: 0px 0px 0px 1.75em; list-style: none; display: block;\">\n",
              "        \n",
              "            \n",
              "                \n",
              "        <li class=\"pystac-row\">\n",
              "            <span class=\"pystac-k\">href</span>\n",
              "            <span class=\"pystac-v\">\"https://modiseuwest.blob.core.windows.net/modis-061-cogs/MCD15A3H/09/04/2024357/MCD15A3H.A2024357.h09v04.061.2024366084345_LaiStdDev_500m.tif\"</span>\n",
              "        </li>\n",
              "    \n",
              "            \n",
              "        \n",
              "            \n",
              "                \n",
              "        <li class=\"pystac-row\">\n",
              "            <span class=\"pystac-k\">type</span>\n",
              "            <span class=\"pystac-v\">\"image/tiff; application=geotiff; profile=cloud-optimized\"</span>\n",
              "        </li>\n",
              "    \n",
              "            \n",
              "        \n",
              "            \n",
              "                \n",
              "        <li class=\"pystac-row\">\n",
              "            <span class=\"pystac-k\">title</span>\n",
              "            <span class=\"pystac-v\">\"Standard deviation of LAI\"</span>\n",
              "        </li>\n",
              "    \n",
              "            \n",
              "        \n",
              "            \n",
              "                <li><details>\n",
              "        <summary class=\"pystac-summary\"><span class=\"pystac-k\">raster:bands</span><span class=\"pystac-l\">[] 1 items</span></summary>\n",
              "        \n",
              "            <ul style=\"margin: 0px; padding: 0px 0px 0px 1.75em; list-style: none; display: block;\">\n",
              "        \n",
              "            \n",
              "                \n",
              "        <li><details>\n",
              "            <summary class=\"pystac-summary\"><span class=\"pystac-k\">0</span></summary>\n",
              "            <ul style=\"margin: 0px; padding: 0px 0px 0px 1.75em; list-style: none; display: block;\">\n",
              "        \n",
              "            \n",
              "                \n",
              "        <li class=\"pystac-row\">\n",
              "            <span class=\"pystac-k\">unit</span>\n",
              "            <span class=\"pystac-v\">\"m^2/m^2\"</span>\n",
              "        </li>\n",
              "    \n",
              "            \n",
              "        \n",
              "            \n",
              "                \n",
              "        <li class=\"pystac-row\">\n",
              "            <span class=\"pystac-k\">scale</span>\n",
              "            <span class=\"pystac-v\">0.1</span>\n",
              "        </li>\n",
              "    \n",
              "            \n",
              "        \n",
              "            \n",
              "                \n",
              "        <li class=\"pystac-row\">\n",
              "            <span class=\"pystac-k\">data_type</span>\n",
              "            <span class=\"pystac-v\">\"uint8\"</span>\n",
              "        </li>\n",
              "    \n",
              "            \n",
              "        \n",
              "            \n",
              "                \n",
              "        <li class=\"pystac-row\">\n",
              "            <span class=\"pystac-k\">spatial_resolution</span>\n",
              "            <span class=\"pystac-v\">500</span>\n",
              "        </li>\n",
              "    \n",
              "            \n",
              "        \n",
              "    </ul>\n",
              "        </details></li>\n",
              "    \n",
              "            \n",
              "        \n",
              "    </ul>\n",
              "        \n",
              "    </details></li>\n",
              "            \n",
              "        \n",
              "            \n",
              "                <li><details>\n",
              "        <summary class=\"pystac-summary\"><span class=\"pystac-k\">roles</span><span class=\"pystac-l\">[] 1 items</span></summary>\n",
              "        \n",
              "            <ul style=\"margin: 0px; padding: 0px 0px 0px 1.75em; list-style: none; display: block;\">\n",
              "        \n",
              "            \n",
              "                \n",
              "        <li class=\"pystac-row\">\n",
              "            <span class=\"pystac-k\">0</span>\n",
              "            <span class=\"pystac-v\">\"data\"</span>\n",
              "        </li>\n",
              "    \n",
              "            \n",
              "        \n",
              "    </ul>\n",
              "        \n",
              "    </details></li>\n",
              "            \n",
              "        \n",
              "    </ul>\n",
              "        </details></li>\n",
              "    \n",
              "            \n",
              "        \n",
              "            \n",
              "                \n",
              "        <li><details>\n",
              "            <summary class=\"pystac-summary\"><span class=\"pystac-k\">FparStdDev_500m</span></summary>\n",
              "            <ul style=\"margin: 0px; padding: 0px 0px 0px 1.75em; list-style: none; display: block;\">\n",
              "        \n",
              "            \n",
              "                \n",
              "        <li class=\"pystac-row\">\n",
              "            <span class=\"pystac-k\">href</span>\n",
              "            <span class=\"pystac-v\">\"https://modiseuwest.blob.core.windows.net/modis-061-cogs/MCD15A3H/09/04/2024357/MCD15A3H.A2024357.h09v04.061.2024366084345_FparStdDev_500m.tif\"</span>\n",
              "        </li>\n",
              "    \n",
              "            \n",
              "        \n",
              "            \n",
              "                \n",
              "        <li class=\"pystac-row\">\n",
              "            <span class=\"pystac-k\">type</span>\n",
              "            <span class=\"pystac-v\">\"image/tiff; application=geotiff; profile=cloud-optimized\"</span>\n",
              "        </li>\n",
              "    \n",
              "            \n",
              "        \n",
              "            \n",
              "                \n",
              "        <li class=\"pystac-row\">\n",
              "            <span class=\"pystac-k\">title</span>\n",
              "            <span class=\"pystac-v\">\"Standard deviation of FPAR\"</span>\n",
              "        </li>\n",
              "    \n",
              "            \n",
              "        \n",
              "            \n",
              "                <li><details>\n",
              "        <summary class=\"pystac-summary\"><span class=\"pystac-k\">raster:bands</span><span class=\"pystac-l\">[] 1 items</span></summary>\n",
              "        \n",
              "            <ul style=\"margin: 0px; padding: 0px 0px 0px 1.75em; list-style: none; display: block;\">\n",
              "        \n",
              "            \n",
              "                \n",
              "        <li><details>\n",
              "            <summary class=\"pystac-summary\"><span class=\"pystac-k\">0</span></summary>\n",
              "            <ul style=\"margin: 0px; padding: 0px 0px 0px 1.75em; list-style: none; display: block;\">\n",
              "        \n",
              "            \n",
              "                \n",
              "        <li class=\"pystac-row\">\n",
              "            <span class=\"pystac-k\">unit</span>\n",
              "            <span class=\"pystac-v\">\"Percent\"</span>\n",
              "        </li>\n",
              "    \n",
              "            \n",
              "        \n",
              "            \n",
              "                \n",
              "        <li class=\"pystac-row\">\n",
              "            <span class=\"pystac-k\">scale</span>\n",
              "            <span class=\"pystac-v\">0.01</span>\n",
              "        </li>\n",
              "    \n",
              "            \n",
              "        \n",
              "            \n",
              "                \n",
              "        <li class=\"pystac-row\">\n",
              "            <span class=\"pystac-k\">data_type</span>\n",
              "            <span class=\"pystac-v\">\"uint8\"</span>\n",
              "        </li>\n",
              "    \n",
              "            \n",
              "        \n",
              "            \n",
              "                \n",
              "        <li class=\"pystac-row\">\n",
              "            <span class=\"pystac-k\">spatial_resolution</span>\n",
              "            <span class=\"pystac-v\">500</span>\n",
              "        </li>\n",
              "    \n",
              "            \n",
              "        \n",
              "    </ul>\n",
              "        </details></li>\n",
              "    \n",
              "            \n",
              "        \n",
              "    </ul>\n",
              "        \n",
              "    </details></li>\n",
              "            \n",
              "        \n",
              "            \n",
              "                <li><details>\n",
              "        <summary class=\"pystac-summary\"><span class=\"pystac-k\">roles</span><span class=\"pystac-l\">[] 1 items</span></summary>\n",
              "        \n",
              "            <ul style=\"margin: 0px; padding: 0px 0px 0px 1.75em; list-style: none; display: block;\">\n",
              "        \n",
              "            \n",
              "                \n",
              "        <li class=\"pystac-row\">\n",
              "            <span class=\"pystac-k\">0</span>\n",
              "            <span class=\"pystac-v\">\"data\"</span>\n",
              "        </li>\n",
              "    \n",
              "            \n",
              "        \n",
              "    </ul>\n",
              "        \n",
              "    </details></li>\n",
              "            \n",
              "        \n",
              "    </ul>\n",
              "        </details></li>\n",
              "    \n",
              "            \n",
              "        \n",
              "            \n",
              "                \n",
              "        <li><details>\n",
              "            <summary class=\"pystac-summary\"><span class=\"pystac-k\">tilejson</span></summary>\n",
              "            <ul style=\"margin: 0px; padding: 0px 0px 0px 1.75em; list-style: none; display: block;\">\n",
              "        \n",
              "            \n",
              "                \n",
              "        <li class=\"pystac-row\">\n",
              "            <span class=\"pystac-k\">href</span>\n",
              "            <span class=\"pystac-v\">\"https://planetarycomputer.microsoft.com/api/data/v1/item/tilejson.json?collection=modis-15A3H-061&item=MCD15A3H.A2024357.h09v04.061.2024366084345&assets=Fpar_500m&tile_format=png&colormap_name=modis-15A2H%7CA3H&format=png\"</span>\n",
              "        </li>\n",
              "    \n",
              "            \n",
              "        \n",
              "            \n",
              "                \n",
              "        <li class=\"pystac-row\">\n",
              "            <span class=\"pystac-k\">type</span>\n",
              "            <span class=\"pystac-v\">\"application/json\"</span>\n",
              "        </li>\n",
              "    \n",
              "            \n",
              "        \n",
              "            \n",
              "                \n",
              "        <li class=\"pystac-row\">\n",
              "            <span class=\"pystac-k\">title</span>\n",
              "            <span class=\"pystac-v\">\"TileJSON with default rendering\"</span>\n",
              "        </li>\n",
              "    \n",
              "            \n",
              "        \n",
              "            \n",
              "                <li><details>\n",
              "        <summary class=\"pystac-summary\"><span class=\"pystac-k\">roles</span><span class=\"pystac-l\">[] 1 items</span></summary>\n",
              "        \n",
              "            <ul style=\"margin: 0px; padding: 0px 0px 0px 1.75em; list-style: none; display: block;\">\n",
              "        \n",
              "            \n",
              "                \n",
              "        <li class=\"pystac-row\">\n",
              "            <span class=\"pystac-k\">0</span>\n",
              "            <span class=\"pystac-v\">\"tiles\"</span>\n",
              "        </li>\n",
              "    \n",
              "            \n",
              "        \n",
              "    </ul>\n",
              "        \n",
              "    </details></li>\n",
              "            \n",
              "        \n",
              "    </ul>\n",
              "        </details></li>\n",
              "    \n",
              "            \n",
              "        \n",
              "            \n",
              "                \n",
              "        <li><details>\n",
              "            <summary class=\"pystac-summary\"><span class=\"pystac-k\">rendered_preview</span></summary>\n",
              "            <ul style=\"margin: 0px; padding: 0px 0px 0px 1.75em; list-style: none; display: block;\">\n",
              "        \n",
              "            \n",
              "                \n",
              "        <li class=\"pystac-row\">\n",
              "            <span class=\"pystac-k\">href</span>\n",
              "            <span class=\"pystac-v\">\"https://planetarycomputer.microsoft.com/api/data/v1/item/preview.png?collection=modis-15A3H-061&item=MCD15A3H.A2024357.h09v04.061.2024366084345&assets=Fpar_500m&tile_format=png&colormap_name=modis-15A2H%7CA3H&format=png\"</span>\n",
              "        </li>\n",
              "    \n",
              "            \n",
              "        \n",
              "            \n",
              "                \n",
              "        <li class=\"pystac-row\">\n",
              "            <span class=\"pystac-k\">type</span>\n",
              "            <span class=\"pystac-v\">\"image/png\"</span>\n",
              "        </li>\n",
              "    \n",
              "            \n",
              "        \n",
              "            \n",
              "                \n",
              "        <li class=\"pystac-row\">\n",
              "            <span class=\"pystac-k\">title</span>\n",
              "            <span class=\"pystac-v\">\"Rendered preview\"</span>\n",
              "        </li>\n",
              "    \n",
              "            \n",
              "        \n",
              "            \n",
              "                \n",
              "        <li class=\"pystac-row\">\n",
              "            <span class=\"pystac-k\">rel</span>\n",
              "            <span class=\"pystac-v\">\"preview\"</span>\n",
              "        </li>\n",
              "    \n",
              "            \n",
              "        \n",
              "            \n",
              "                <li><details>\n",
              "        <summary class=\"pystac-summary\"><span class=\"pystac-k\">roles</span><span class=\"pystac-l\">[] 1 items</span></summary>\n",
              "        \n",
              "            <ul style=\"margin: 0px; padding: 0px 0px 0px 1.75em; list-style: none; display: block;\">\n",
              "        \n",
              "            \n",
              "                \n",
              "        <li class=\"pystac-row\">\n",
              "            <span class=\"pystac-k\">0</span>\n",
              "            <span class=\"pystac-v\">\"overview\"</span>\n",
              "        </li>\n",
              "    \n",
              "            \n",
              "        \n",
              "    </ul>\n",
              "        \n",
              "    </details></li>\n",
              "            \n",
              "        \n",
              "    </ul>\n",
              "        </details></li>\n",
              "    \n",
              "            \n",
              "        \n",
              "    </ul>\n",
              "        </details></li>\n",
              "    \n",
              "                \n",
              "            \n",
              "                \n",
              "                    \n",
              "        <li class=\"pystac-row\">\n",
              "            <span class=\"pystac-k\">collection</span>\n",
              "            <span class=\"pystac-v\">\"modis-15A3H-061\"</span>\n",
              "        </li>\n",
              "    \n",
              "                \n",
              "            \n",
              "        </ul>\n",
              "    </div>\n",
              "</div>"
            ]
          },
          "metadata": {},
          "execution_count": 23
        }
      ]
    },
    {
      "cell_type": "code",
      "source": [
        "geoai.view_pc_item(item=items[0])"
      ],
      "metadata": {
        "id": "ywnPJBp694_P",
        "outputId": "98ae880f-296f-4ab6-ac65-0d25834f597e",
        "colab": {
          "base_uri": "https://localhost:8080/",
          "height": 418
        }
      },
      "execution_count": 24,
      "outputs": [
        {
          "output_type": "error",
          "ename": "JSONDecodeError",
          "evalue": "Expecting value: line 1 column 1 (char 0)",
          "traceback": [
            "\u001b[0;31m---------------------------------------------------------------------------\u001b[0m",
            "\u001b[0;31mJSONDecodeError\u001b[0m                           Traceback (most recent call last)",
            "\u001b[0;32m/usr/local/lib/python3.11/dist-packages/requests/models.py\u001b[0m in \u001b[0;36mjson\u001b[0;34m(self, **kwargs)\u001b[0m\n\u001b[1;32m    973\u001b[0m         \u001b[0;32mtry\u001b[0m\u001b[0;34m:\u001b[0m\u001b[0;34m\u001b[0m\u001b[0;34m\u001b[0m\u001b[0m\n\u001b[0;32m--> 974\u001b[0;31m             \u001b[0;32mreturn\u001b[0m \u001b[0mcomplexjson\u001b[0m\u001b[0;34m.\u001b[0m\u001b[0mloads\u001b[0m\u001b[0;34m(\u001b[0m\u001b[0mself\u001b[0m\u001b[0;34m.\u001b[0m\u001b[0mtext\u001b[0m\u001b[0;34m,\u001b[0m \u001b[0;34m**\u001b[0m\u001b[0mkwargs\u001b[0m\u001b[0;34m)\u001b[0m\u001b[0;34m\u001b[0m\u001b[0;34m\u001b[0m\u001b[0m\n\u001b[0m\u001b[1;32m    975\u001b[0m         \u001b[0;32mexcept\u001b[0m \u001b[0mJSONDecodeError\u001b[0m \u001b[0;32mas\u001b[0m \u001b[0me\u001b[0m\u001b[0;34m:\u001b[0m\u001b[0;34m\u001b[0m\u001b[0;34m\u001b[0m\u001b[0m\n",
            "\u001b[0;32m/usr/local/lib/python3.11/dist-packages/simplejson/__init__.py\u001b[0m in \u001b[0;36mloads\u001b[0;34m(s, encoding, cls, object_hook, parse_float, parse_int, parse_constant, object_pairs_hook, use_decimal, allow_nan, **kw)\u001b[0m\n\u001b[1;32m    513\u001b[0m             and not use_decimal and not allow_nan and not kw):\n\u001b[0;32m--> 514\u001b[0;31m         \u001b[0;32mreturn\u001b[0m \u001b[0m_default_decoder\u001b[0m\u001b[0;34m.\u001b[0m\u001b[0mdecode\u001b[0m\u001b[0;34m(\u001b[0m\u001b[0ms\u001b[0m\u001b[0;34m)\u001b[0m\u001b[0;34m\u001b[0m\u001b[0;34m\u001b[0m\u001b[0m\n\u001b[0m\u001b[1;32m    515\u001b[0m     \u001b[0;32mif\u001b[0m \u001b[0mcls\u001b[0m \u001b[0;32mis\u001b[0m \u001b[0;32mNone\u001b[0m\u001b[0;34m:\u001b[0m\u001b[0;34m\u001b[0m\u001b[0;34m\u001b[0m\u001b[0m\n",
            "\u001b[0;32m/usr/local/lib/python3.11/dist-packages/simplejson/decoder.py\u001b[0m in \u001b[0;36mdecode\u001b[0;34m(self, s, _w, _PY3)\u001b[0m\n\u001b[1;32m    385\u001b[0m             \u001b[0ms\u001b[0m \u001b[0;34m=\u001b[0m \u001b[0mstr\u001b[0m\u001b[0;34m(\u001b[0m\u001b[0ms\u001b[0m\u001b[0;34m,\u001b[0m \u001b[0mself\u001b[0m\u001b[0;34m.\u001b[0m\u001b[0mencoding\u001b[0m\u001b[0;34m)\u001b[0m\u001b[0;34m\u001b[0m\u001b[0;34m\u001b[0m\u001b[0m\n\u001b[0;32m--> 386\u001b[0;31m         \u001b[0mobj\u001b[0m\u001b[0;34m,\u001b[0m \u001b[0mend\u001b[0m \u001b[0;34m=\u001b[0m \u001b[0mself\u001b[0m\u001b[0;34m.\u001b[0m\u001b[0mraw_decode\u001b[0m\u001b[0;34m(\u001b[0m\u001b[0ms\u001b[0m\u001b[0;34m)\u001b[0m\u001b[0;34m\u001b[0m\u001b[0;34m\u001b[0m\u001b[0m\n\u001b[0m\u001b[1;32m    387\u001b[0m         \u001b[0mend\u001b[0m \u001b[0;34m=\u001b[0m \u001b[0m_w\u001b[0m\u001b[0;34m(\u001b[0m\u001b[0ms\u001b[0m\u001b[0;34m,\u001b[0m \u001b[0mend\u001b[0m\u001b[0;34m)\u001b[0m\u001b[0;34m.\u001b[0m\u001b[0mend\u001b[0m\u001b[0;34m(\u001b[0m\u001b[0;34m)\u001b[0m\u001b[0;34m\u001b[0m\u001b[0;34m\u001b[0m\u001b[0m\n",
            "\u001b[0;32m/usr/local/lib/python3.11/dist-packages/simplejson/decoder.py\u001b[0m in \u001b[0;36mraw_decode\u001b[0;34m(self, s, idx, _w, _PY3)\u001b[0m\n\u001b[1;32m    415\u001b[0m                 \u001b[0midx\u001b[0m \u001b[0;34m+=\u001b[0m \u001b[0;36m3\u001b[0m\u001b[0;34m\u001b[0m\u001b[0;34m\u001b[0m\u001b[0m\n\u001b[0;32m--> 416\u001b[0;31m         \u001b[0;32mreturn\u001b[0m \u001b[0mself\u001b[0m\u001b[0;34m.\u001b[0m\u001b[0mscan_once\u001b[0m\u001b[0;34m(\u001b[0m\u001b[0ms\u001b[0m\u001b[0;34m,\u001b[0m \u001b[0midx\u001b[0m\u001b[0;34m=\u001b[0m\u001b[0m_w\u001b[0m\u001b[0;34m(\u001b[0m\u001b[0ms\u001b[0m\u001b[0;34m,\u001b[0m \u001b[0midx\u001b[0m\u001b[0;34m)\u001b[0m\u001b[0;34m.\u001b[0m\u001b[0mend\u001b[0m\u001b[0;34m(\u001b[0m\u001b[0;34m)\u001b[0m\u001b[0;34m)\u001b[0m\u001b[0;34m\u001b[0m\u001b[0;34m\u001b[0m\u001b[0m\n\u001b[0m",
            "\u001b[0;31mJSONDecodeError\u001b[0m: Expecting value: line 1 column 1 (char 0)",
            "\nDuring handling of the above exception, another exception occurred:\n",
            "\u001b[0;31mJSONDecodeError\u001b[0m                           Traceback (most recent call last)",
            "\u001b[0;32m<ipython-input-24-c13d8dc49c35>\u001b[0m in \u001b[0;36m<cell line: 0>\u001b[0;34m()\u001b[0m\n\u001b[0;32m----> 1\u001b[0;31m \u001b[0mgeoai\u001b[0m\u001b[0;34m.\u001b[0m\u001b[0mview_pc_item\u001b[0m\u001b[0;34m(\u001b[0m\u001b[0mitem\u001b[0m\u001b[0;34m=\u001b[0m\u001b[0mitems\u001b[0m\u001b[0;34m[\u001b[0m\u001b[0;36m0\u001b[0m\u001b[0;34m]\u001b[0m\u001b[0;34m)\u001b[0m\u001b[0;34m\u001b[0m\u001b[0;34m\u001b[0m\u001b[0m\n\u001b[0m",
            "\u001b[0;32m/usr/local/lib/python3.11/dist-packages/geoai/download.py\u001b[0m in \u001b[0;36mview_pc_item\u001b[0;34m(url, collection, item, assets, bands, titiler_endpoint, name, attribution, opacity, shown, fit_bounds, layer_index, backend, basemap, map_args, **kwargs)\u001b[0m\n\u001b[1;32m   1167\u001b[0m     \u001b[0;32mif\u001b[0m \u001b[0mbasemap\u001b[0m \u001b[0;32mis\u001b[0m \u001b[0;32mnot\u001b[0m \u001b[0;32mNone\u001b[0m\u001b[0;34m:\u001b[0m\u001b[0;34m\u001b[0m\u001b[0;34m\u001b[0m\u001b[0m\n\u001b[1;32m   1168\u001b[0m         \u001b[0mm\u001b[0m\u001b[0;34m.\u001b[0m\u001b[0madd_basemap\u001b[0m\u001b[0;34m(\u001b[0m\u001b[0mbasemap\u001b[0m\u001b[0;34m)\u001b[0m\u001b[0;34m\u001b[0m\u001b[0;34m\u001b[0m\u001b[0m\n\u001b[0;32m-> 1169\u001b[0;31m     m.add_stac_layer(\n\u001b[0m\u001b[1;32m   1170\u001b[0m         \u001b[0mcollection\u001b[0m\u001b[0;34m=\u001b[0m\u001b[0mcollection\u001b[0m\u001b[0;34m,\u001b[0m\u001b[0;34m\u001b[0m\u001b[0;34m\u001b[0m\u001b[0m\n\u001b[1;32m   1171\u001b[0m         \u001b[0mitem\u001b[0m\u001b[0;34m=\u001b[0m\u001b[0mitem\u001b[0m\u001b[0;34m,\u001b[0m\u001b[0;34m\u001b[0m\u001b[0;34m\u001b[0m\u001b[0m\n",
            "\u001b[0;32m/usr/local/lib/python3.11/dist-packages/leafmap/foliumap.py\u001b[0m in \u001b[0;36madd_stac_layer\u001b[0;34m(self, url, collection, item, assets, bands, titiler_endpoint, name, attribution, opacity, shown, fit_bounds, **kwargs)\u001b[0m\n\u001b[1;32m   1244\u001b[0m             \u001b[0mfit_bounds\u001b[0m \u001b[0;34m(\u001b[0m\u001b[0mbool\u001b[0m\u001b[0;34m,\u001b[0m \u001b[0moptional\u001b[0m\u001b[0;34m)\u001b[0m\u001b[0;34m:\u001b[0m \u001b[0mA\u001b[0m \u001b[0mflag\u001b[0m \u001b[0mindicating\u001b[0m \u001b[0mwhether\u001b[0m \u001b[0mthe\u001b[0m \u001b[0mmap\u001b[0m \u001b[0mshould\u001b[0m \u001b[0mbe\u001b[0m \u001b[0mzoomed\u001b[0m \u001b[0mto\u001b[0m \u001b[0mthe\u001b[0m \u001b[0mlayer\u001b[0m \u001b[0mextent\u001b[0m\u001b[0;34m.\u001b[0m \u001b[0mDefaults\u001b[0m \u001b[0mto\u001b[0m \u001b[0;32mTrue\u001b[0m\u001b[0;34m.\u001b[0m\u001b[0;34m\u001b[0m\u001b[0;34m\u001b[0m\u001b[0m\n\u001b[1;32m   1245\u001b[0m         \"\"\"\n\u001b[0;32m-> 1246\u001b[0;31m         tile_url = common.stac_tile(\n\u001b[0m\u001b[1;32m   1247\u001b[0m             \u001b[0murl\u001b[0m\u001b[0;34m,\u001b[0m \u001b[0mcollection\u001b[0m\u001b[0;34m,\u001b[0m \u001b[0mitem\u001b[0m\u001b[0;34m,\u001b[0m \u001b[0massets\u001b[0m\u001b[0;34m,\u001b[0m \u001b[0mbands\u001b[0m\u001b[0;34m,\u001b[0m \u001b[0mtitiler_endpoint\u001b[0m\u001b[0;34m,\u001b[0m \u001b[0;34m**\u001b[0m\u001b[0mkwargs\u001b[0m\u001b[0;34m\u001b[0m\u001b[0;34m\u001b[0m\u001b[0m\n\u001b[1;32m   1248\u001b[0m         )\n",
            "\u001b[0;32m/usr/local/lib/python3.11/dist-packages/leafmap/stac.py\u001b[0m in \u001b[0;36mstac_tile\u001b[0;34m(url, collection, item, assets, bands, titiler_endpoint, **kwargs)\u001b[0m\n\u001b[1;32m    611\u001b[0m             \u001b[0;32mand\u001b[0m \u001b[0;34m(\u001b[0m\u001b[0;34m\"rescale\"\u001b[0m \u001b[0;32mnot\u001b[0m \u001b[0;32min\u001b[0m \u001b[0mkwargs\u001b[0m\u001b[0;34m)\u001b[0m\u001b[0;34m\u001b[0m\u001b[0;34m\u001b[0m\u001b[0m\n\u001b[1;32m    612\u001b[0m         ):\n\u001b[0;32m--> 613\u001b[0;31m             stats = stac_stats(\n\u001b[0m\u001b[1;32m    614\u001b[0m                 \u001b[0mcollection\u001b[0m\u001b[0;34m=\u001b[0m\u001b[0mcollection\u001b[0m\u001b[0;34m,\u001b[0m\u001b[0;34m\u001b[0m\u001b[0;34m\u001b[0m\u001b[0m\n\u001b[1;32m    615\u001b[0m                 \u001b[0mitem\u001b[0m\u001b[0;34m=\u001b[0m\u001b[0mitem\u001b[0m\u001b[0;34m,\u001b[0m\u001b[0;34m\u001b[0m\u001b[0;34m\u001b[0m\u001b[0m\n",
            "\u001b[0;32m/usr/local/lib/python3.11/dist-packages/leafmap/stac.py\u001b[0m in \u001b[0;36mstac_stats\u001b[0;34m(url, collection, item, assets, titiler_endpoint, **kwargs)\u001b[0m\n\u001b[1;32m    900\u001b[0m         r = requests.get(\n\u001b[1;32m    901\u001b[0m             \u001b[0mtitiler_endpoint\u001b[0m\u001b[0;34m.\u001b[0m\u001b[0murl_for_stac_statistics\u001b[0m\u001b[0;34m(\u001b[0m\u001b[0;34m)\u001b[0m\u001b[0;34m,\u001b[0m \u001b[0mparams\u001b[0m\u001b[0;34m=\u001b[0m\u001b[0mkwargs\u001b[0m\u001b[0;34m\u001b[0m\u001b[0;34m\u001b[0m\u001b[0m\n\u001b[0;32m--> 902\u001b[0;31m         ).json()\n\u001b[0m\u001b[1;32m    903\u001b[0m \u001b[0;34m\u001b[0m\u001b[0m\n\u001b[1;32m    904\u001b[0m     \u001b[0;32mreturn\u001b[0m \u001b[0mr\u001b[0m\u001b[0;34m\u001b[0m\u001b[0;34m\u001b[0m\u001b[0m\n",
            "\u001b[0;32m/usr/local/lib/python3.11/dist-packages/requests/models.py\u001b[0m in \u001b[0;36mjson\u001b[0;34m(self, **kwargs)\u001b[0m\n\u001b[1;32m    976\u001b[0m             \u001b[0;31m# Catch JSON-related errors and raise as requests.JSONDecodeError\u001b[0m\u001b[0;34m\u001b[0m\u001b[0;34m\u001b[0m\u001b[0m\n\u001b[1;32m    977\u001b[0m             \u001b[0;31m# This aliases json.JSONDecodeError and simplejson.JSONDecodeError\u001b[0m\u001b[0;34m\u001b[0m\u001b[0;34m\u001b[0m\u001b[0m\n\u001b[0;32m--> 978\u001b[0;31m             \u001b[0;32mraise\u001b[0m \u001b[0mRequestsJSONDecodeError\u001b[0m\u001b[0;34m(\u001b[0m\u001b[0me\u001b[0m\u001b[0;34m.\u001b[0m\u001b[0mmsg\u001b[0m\u001b[0;34m,\u001b[0m \u001b[0me\u001b[0m\u001b[0;34m.\u001b[0m\u001b[0mdoc\u001b[0m\u001b[0;34m,\u001b[0m \u001b[0me\u001b[0m\u001b[0;34m.\u001b[0m\u001b[0mpos\u001b[0m\u001b[0;34m)\u001b[0m\u001b[0;34m\u001b[0m\u001b[0;34m\u001b[0m\u001b[0m\n\u001b[0m\u001b[1;32m    979\u001b[0m \u001b[0;34m\u001b[0m\u001b[0m\n\u001b[1;32m    980\u001b[0m     \u001b[0;34m@\u001b[0m\u001b[0mproperty\u001b[0m\u001b[0;34m\u001b[0m\u001b[0;34m\u001b[0m\u001b[0m\n",
            "\u001b[0;31mJSONDecodeError\u001b[0m: Expecting value: line 1 column 1 (char 0)"
          ]
        }
      ]
    },
    {
      "cell_type": "code",
      "source": [
        "downloaded = geoai.pc_stac_download(\n",
        "    items, output_dir=\".\", assets=[\"Lai_500m\"]\n",
        ")"
      ],
      "metadata": {
        "id": "QgFFboch-BDr",
        "outputId": "69a634b4-1087-4110-fe50-4bf65ffd3170",
        "colab": {
          "base_uri": "https://localhost:8080/"
        }
      },
      "execution_count": null,
      "outputs": [
        {
          "metadata": {
            "tags": null
          },
          "name": "stdout",
          "output_type": "stream",
          "text": [
            "Processing STAC item: MCD15A3H.A2024357.h09v04.061.2024366084345\n"
          ]
        },
        {
          "metadata": {
            "tags": null
          },
          "name": "stderr",
          "output_type": "stream",
          "text": [
            "Downloading MCD15A3H.A2024357.h09v04.061.2024366084345_Lai_500m: 100%|█| 1.43M/1.43M [00:00<00:00, 1\n"
          ]
        },
        {
          "metadata": {
            "tags": null
          },
          "name": "stdout",
          "output_type": "stream",
          "text": [
            "Processing STAC item: MCD15A3H.A2024353.h09v04.061.2024363231013\n"
          ]
        },
        {
          "metadata": {
            "tags": null
          },
          "name": "stderr",
          "output_type": "stream",
          "text": [
            "Downloading MCD15A3H.A2024353.h09v04.061.2024363231013_Lai_500m: 100%|█| 1.48M/1.48M [00:01<00:00, 1\n"
          ]
        },
        {
          "metadata": {
            "tags": null
          },
          "name": "stdout",
          "output_type": "stream",
          "text": [
            "Processing STAC item: MCD15A3H.A2024349.h09v04.061.2024359025601\n"
          ]
        },
        {
          "metadata": {
            "tags": null
          },
          "name": "stderr",
          "output_type": "stream",
          "text": [
            "Downloading MCD15A3H.A2024349.h09v04.061.2024359025601_Lai_500m: 100%|█| 1.37M/1.37M [00:00<00:00, 1\n"
          ]
        },
        {
          "metadata": {
            "tags": null
          },
          "name": "stdout",
          "output_type": "stream",
          "text": [
            "Processing STAC item: MCD15A3H.A2024345.h09v04.061.2024352142832\n"
          ]
        },
        {
          "metadata": {
            "tags": null
          },
          "name": "stderr",
          "output_type": "stream",
          "text": [
            "Downloading MCD15A3H.A2024345.h09v04.061.2024352142832_Lai_500m: 100%|█| 1.51M/1.51M [00:00<00:00, 1\n"
          ]
        },
        {
          "metadata": {
            "tags": null
          },
          "name": "stdout",
          "output_type": "stream",
          "text": [
            "Processing STAC item: MCD15A3H.A2024341.h09v04.061.2024347150341\n"
          ]
        },
        {
          "metadata": {
            "tags": null
          },
          "name": "stderr",
          "output_type": "stream",
          "text": [
            "Downloading MCD15A3H.A2024341.h09v04.061.2024347150341_Lai_500m: 100%|█| 1.88M/1.88M [00:00<00:00, 2\n"
          ]
        },
        {
          "metadata": {
            "tags": null
          },
          "name": "stdout",
          "output_type": "stream",
          "text": [
            "Processing STAC item: MCD15A3H.A2024337.h09v04.061.2024342025718\n"
          ]
        },
        {
          "metadata": {
            "tags": null
          },
          "name": "stderr",
          "output_type": "stream",
          "text": [
            "Downloading MCD15A3H.A2024337.h09v04.061.2024342025718_Lai_500m: 100%|█| 1.63M/1.63M [00:00<00:00, 1\n"
          ]
        },
        {
          "metadata": {
            "tags": null
          },
          "name": "stdout",
          "output_type": "stream",
          "text": [
            "Processing STAC item: MCD15A3H.A2024333.h09v04.061.2024338042848\n"
          ]
        },
        {
          "metadata": {
            "tags": null
          },
          "name": "stderr",
          "output_type": "stream",
          "text": [
            "Downloading MCD15A3H.A2024333.h09v04.061.2024338042848_Lai_500m: 100%|█| 1.64M/1.64M [00:00<00:00, 2\n"
          ]
        },
        {
          "metadata": {
            "tags": null
          },
          "name": "stdout",
          "output_type": "stream",
          "text": [
            "Processing STAC item: MCD15A3H.A2024329.h09v04.061.2024337214706\n"
          ]
        },
        {
          "metadata": {
            "tags": null
          },
          "name": "stderr",
          "output_type": "stream",
          "text": [
            "Downloading MCD15A3H.A2024329.h09v04.061.2024337214706_Lai_500m: 100%|█| 1.71M/1.71M [00:00<00:00, 2\n"
          ]
        },
        {
          "metadata": {
            "tags": null
          },
          "name": "stdout",
          "output_type": "stream",
          "text": [
            "Processing STAC item: MCD15A3H.A2024325.h09v04.061.2024330191316\n"
          ]
        },
        {
          "metadata": {
            "tags": null
          },
          "name": "stderr",
          "output_type": "stream",
          "text": [
            "Downloading MCD15A3H.A2024325.h09v04.061.2024330191316_Lai_500m: 100%|█| 1.38M/1.38M [00:00<00:00, 1\n"
          ]
        },
        {
          "metadata": {
            "tags": null
          },
          "name": "stdout",
          "output_type": "stream",
          "text": [
            "Processing STAC item: MCD15A3H.A2024321.h09v04.061.2024327050326\n"
          ]
        },
        {
          "metadata": {
            "tags": null
          },
          "name": "stderr",
          "output_type": "stream",
          "text": [
            "Downloading MCD15A3H.A2024321.h09v04.061.2024327050326_Lai_500m: 100%|█| 1.38M/1.38M [00:00<00:00, 1\n"
          ]
        },
        {
          "metadata": {
            "tags": null
          },
          "name": "stdout",
          "output_type": "stream",
          "text": [
            "Processing STAC item: MCD15A3H.A2024317.h09v04.061.2024327020507\n"
          ]
        },
        {
          "metadata": {
            "tags": null
          },
          "name": "stderr",
          "output_type": "stream",
          "text": [
            "Downloading MCD15A3H.A2024317.h09v04.061.2024327020507_Lai_500m: 100%|█| 1.62M/1.62M [00:00<00:00, 2\n"
          ]
        },
        {
          "metadata": {
            "tags": null
          },
          "name": "stdout",
          "output_type": "stream",
          "text": [
            "Processing STAC item: MCD15A3H.A2024313.h09v04.061.2024318144129\n"
          ]
        },
        {
          "metadata": {
            "tags": null
          },
          "name": "stderr",
          "output_type": "stream",
          "text": [
            "Downloading MCD15A3H.A2024313.h09v04.061.2024318144129_Lai_500m: 100%|█| 1.52M/1.52M [00:00<00:00, 1\n"
          ]
        },
        {
          "metadata": {
            "tags": null
          },
          "name": "stdout",
          "output_type": "stream",
          "text": [
            "Processing STAC item: MCD15A3H.A2024309.h09v04.061.2024317190726\n"
          ]
        },
        {
          "metadata": {
            "tags": null
          },
          "name": "stderr",
          "output_type": "stream",
          "text": [
            "Downloading MCD15A3H.A2024309.h09v04.061.2024317190726_Lai_500m: 100%|█| 1.89M/1.89M [00:00<00:00, 2\n"
          ]
        },
        {
          "metadata": {
            "tags": null
          },
          "name": "stdout",
          "output_type": "stream",
          "text": [
            "Processing STAC item: MCD15A3H.A2024305.h09v04.061.2024310050925\n"
          ]
        },
        {
          "metadata": {
            "tags": null
          },
          "name": "stderr",
          "output_type": "stream",
          "text": [
            "Downloading MCD15A3H.A2024305.h09v04.061.2024310050925_Lai_500m: 100%|█| 1.50M/1.50M [00:00<00:00, 1\n"
          ]
        },
        {
          "metadata": {
            "tags": null
          },
          "name": "stdout",
          "output_type": "stream",
          "text": [
            "Processing STAC item: MCD15A3H.A2024301.h09v04.061.2024306205716\n"
          ]
        },
        {
          "metadata": {
            "tags": null
          },
          "name": "stderr",
          "output_type": "stream",
          "text": [
            "Downloading MCD15A3H.A2024301.h09v04.061.2024306205716_Lai_500m: 100%|█| 1.80M/1.80M [00:01<00:00, 1\n"
          ]
        },
        {
          "metadata": {
            "tags": null
          },
          "name": "stdout",
          "output_type": "stream",
          "text": [
            "Processing STAC item: MCD15A3H.A2024297.h09v04.061.2024303192128\n"
          ]
        },
        {
          "metadata": {
            "tags": null
          },
          "name": "stderr",
          "output_type": "stream",
          "text": [
            "Downloading MCD15A3H.A2024297.h09v04.061.2024303192128_Lai_500m: 100%|█| 1.92M/1.92M [00:00<00:00, 2\n"
          ]
        },
        {
          "metadata": {
            "tags": null
          },
          "name": "stdout",
          "output_type": "stream",
          "text": [
            "Processing STAC item: MCD15A3H.A2024293.h09v04.061.2024303193852\n"
          ]
        },
        {
          "metadata": {
            "tags": null
          },
          "name": "stderr",
          "output_type": "stream",
          "text": [
            "Downloading MCD15A3H.A2024293.h09v04.061.2024303193852_Lai_500m: 100%|█| 1.85M/1.85M [00:01<00:00, 1\n"
          ]
        },
        {
          "metadata": {
            "tags": null
          },
          "name": "stdout",
          "output_type": "stream",
          "text": [
            "Processing STAC item: MCD15A3H.A2024289.h09v04.061.2024294031013\n"
          ]
        },
        {
          "metadata": {
            "tags": null
          },
          "name": "stderr",
          "output_type": "stream",
          "text": [
            "Downloading MCD15A3H.A2024289.h09v04.061.2024294031013_Lai_500m: 100%|█| 1.85M/1.85M [00:01<00:00, 1\n"
          ]
        },
        {
          "metadata": {
            "tags": null
          },
          "name": "stdout",
          "output_type": "stream",
          "text": [
            "Processing STAC item: MCD15A3H.A2024285.h09v04.061.2024290061356\n"
          ]
        },
        {
          "metadata": {
            "tags": null
          },
          "name": "stderr",
          "output_type": "stream",
          "text": [
            "Downloading MCD15A3H.A2024285.h09v04.061.2024290061356_Lai_500m: 100%|█| 1.91M/1.91M [00:00<00:00, 2\n"
          ]
        },
        {
          "metadata": {
            "tags": null
          },
          "name": "stdout",
          "output_type": "stream",
          "text": [
            "Processing STAC item: MCD15A3H.A2024281.h09v04.061.2024289172626\n"
          ]
        },
        {
          "metadata": {
            "tags": null
          },
          "name": "stderr",
          "output_type": "stream",
          "text": [
            "Downloading MCD15A3H.A2024281.h09v04.061.2024289172626_Lai_500m: 100%|█| 1.91M/1.91M [00:00<00:00, 2\n"
          ]
        },
        {
          "metadata": {
            "tags": null
          },
          "name": "stdout",
          "output_type": "stream",
          "text": [
            "Processing STAC item: MCD15A3H.A2024277.h09v04.061.2024284104753\n"
          ]
        },
        {
          "metadata": {
            "tags": null
          },
          "name": "stderr",
          "output_type": "stream",
          "text": [
            "Downloading MCD15A3H.A2024277.h09v04.061.2024284104753_Lai_500m: 100%|█| 1.93M/1.93M [00:00<00:00, 2\n"
          ]
        },
        {
          "metadata": {
            "tags": null
          },
          "name": "stdout",
          "output_type": "stream",
          "text": [
            "Processing STAC item: MCD15A3H.A2024273.h09v04.061.2024278033754\n"
          ]
        },
        {
          "metadata": {
            "tags": null
          },
          "name": "stderr",
          "output_type": "stream",
          "text": [
            "Downloading MCD15A3H.A2024273.h09v04.061.2024278033754_Lai_500m: 100%|█| 2.02M/2.02M [00:01<00:00, 2\n"
          ]
        },
        {
          "metadata": {
            "tags": null
          },
          "name": "stdout",
          "output_type": "stream",
          "text": [
            "Processing STAC item: MCD15A3H.A2024269.h09v04.061.2024274201758\n"
          ]
        },
        {
          "metadata": {
            "tags": null
          },
          "name": "stderr",
          "output_type": "stream",
          "text": [
            "Downloading MCD15A3H.A2024269.h09v04.061.2024274201758_Lai_500m: 100%|█| 2.05M/2.05M [00:00<00:00, 2\n"
          ]
        },
        {
          "metadata": {
            "tags": null
          },
          "name": "stdout",
          "output_type": "stream",
          "text": [
            "Processing STAC item: MCD15A3H.A2024265.h09v04.061.2024275154754\n"
          ]
        },
        {
          "metadata": {
            "tags": null
          },
          "name": "stderr",
          "output_type": "stream",
          "text": [
            "Downloading MCD15A3H.A2024265.h09v04.061.2024275154754_Lai_500m: 100%|█| 2.08M/2.08M [00:01<00:00, 2\n"
          ]
        },
        {
          "metadata": {
            "tags": null
          },
          "name": "stdout",
          "output_type": "stream",
          "text": [
            "Processing STAC item: MCD15A3H.A2024261.h09v04.061.2024268175138\n"
          ]
        },
        {
          "metadata": {
            "tags": null
          },
          "name": "stderr",
          "output_type": "stream",
          "text": [
            "Downloading MCD15A3H.A2024261.h09v04.061.2024268175138_Lai_500m: 100%|█| 2.14M/2.14M [00:00<00:00, 2\n"
          ]
        },
        {
          "metadata": {
            "tags": null
          },
          "name": "stdout",
          "output_type": "stream",
          "text": [
            "Processing STAC item: MCD15A3H.A2024257.h09v04.061.2024262150319\n"
          ]
        },
        {
          "metadata": {
            "tags": null
          },
          "name": "stderr",
          "output_type": "stream",
          "text": [
            "Downloading MCD15A3H.A2024257.h09v04.061.2024262150319_Lai_500m: 100%|█| 2.07M/2.07M [00:00<00:00, 2\n"
          ]
        },
        {
          "metadata": {
            "tags": null
          },
          "name": "stdout",
          "output_type": "stream",
          "text": [
            "Processing STAC item: MCD15A3H.A2024253.h09v04.061.2024258070032\n"
          ]
        },
        {
          "metadata": {
            "tags": null
          },
          "name": "stderr",
          "output_type": "stream",
          "text": [
            "Downloading MCD15A3H.A2024253.h09v04.061.2024258070032_Lai_500m: 100%|█| 2.17M/2.17M [00:00<00:00, 2\n"
          ]
        },
        {
          "metadata": {
            "tags": null
          },
          "name": "stdout",
          "output_type": "stream",
          "text": [
            "Processing STAC item: MCD15A3H.A2024233.h09v04.061.2024240021843\n"
          ]
        },
        {
          "metadata": {
            "tags": null
          },
          "name": "stderr",
          "output_type": "stream",
          "text": [
            "Downloading MCD15A3H.A2024233.h09v04.061.2024240021843_Lai_500m: 100%|█| 1.96M/1.96M [00:00<00:00, 2\n"
          ]
        },
        {
          "metadata": {
            "tags": null
          },
          "name": "stdout",
          "output_type": "stream",
          "text": [
            "Processing STAC item: MCD15A3H.A2024229.h09v04.061.2024240012359\n"
          ]
        },
        {
          "metadata": {
            "tags": null
          },
          "name": "stderr",
          "output_type": "stream",
          "text": [
            "Downloading MCD15A3H.A2024229.h09v04.061.2024240012359_Lai_500m: 100%|█| 2.27M/2.27M [00:01<00:00, 1\n"
          ]
        },
        {
          "metadata": {
            "tags": null
          },
          "name": "stdout",
          "output_type": "stream",
          "text": [
            "Processing STAC item: MCD15A3H.A2024225.h09v04.061.2024230040008\n"
          ]
        },
        {
          "metadata": {
            "tags": null
          },
          "name": "stderr",
          "output_type": "stream",
          "text": [
            "Downloading MCD15A3H.A2024225.h09v04.061.2024230040008_Lai_500m: 100%|█| 2.19M/2.19M [00:00<00:00, 2\n"
          ]
        },
        {
          "metadata": {
            "tags": null
          },
          "name": "stdout",
          "output_type": "stream",
          "text": [
            "Processing STAC item: MCD15A3H.A2024221.h09v04.061.2024228031014\n"
          ]
        },
        {
          "metadata": {
            "tags": null
          },
          "name": "stderr",
          "output_type": "stream",
          "text": [
            "Downloading MCD15A3H.A2024221.h09v04.061.2024228031014_Lai_500m: 100%|█| 2.32M/2.32M [00:00<00:00, 2\n"
          ]
        },
        {
          "metadata": {
            "tags": null
          },
          "name": "stdout",
          "output_type": "stream",
          "text": [
            "Processing STAC item: MCD15A3H.A2024217.h09v04.061.2024228031354\n"
          ]
        },
        {
          "metadata": {
            "tags": null
          },
          "name": "stderr",
          "output_type": "stream",
          "text": [
            "Downloading MCD15A3H.A2024217.h09v04.061.2024228031354_Lai_500m: 100%|█| 2.36M/2.36M [00:01<00:00, 2\n"
          ]
        },
        {
          "metadata": {
            "tags": null
          },
          "name": "stdout",
          "output_type": "stream",
          "text": [
            "Processing STAC item: MCD15A3H.A2024213.h09v04.061.2024222022704\n"
          ]
        },
        {
          "metadata": {
            "tags": null
          },
          "name": "stderr",
          "output_type": "stream",
          "text": [
            "Downloading MCD15A3H.A2024213.h09v04.061.2024222022704_Lai_500m: 100%|█| 2.31M/2.31M [00:01<00:00, 2\n"
          ]
        },
        {
          "metadata": {
            "tags": null
          },
          "name": "stdout",
          "output_type": "stream",
          "text": [
            "Processing STAC item: MCD15A3H.A2024209.h09v04.061.2024214145651\n"
          ]
        },
        {
          "metadata": {
            "tags": null
          },
          "name": "stderr",
          "output_type": "stream",
          "text": [
            "Downloading MCD15A3H.A2024209.h09v04.061.2024214145651_Lai_500m: 100%|█| 2.39M/2.39M [00:01<00:00, 2\n"
          ]
        },
        {
          "metadata": {
            "tags": null
          },
          "name": "stdout",
          "output_type": "stream",
          "text": [
            "Processing STAC item: MCD15A3H.A2024205.h09v04.061.2024210034333\n"
          ]
        },
        {
          "metadata": {
            "tags": null
          },
          "name": "stderr",
          "output_type": "stream",
          "text": [
            "Downloading MCD15A3H.A2024205.h09v04.061.2024210034333_Lai_500m: 100%|█| 2.44M/2.44M [00:01<00:00, 2\n"
          ]
        },
        {
          "metadata": {
            "tags": null
          },
          "name": "stdout",
          "output_type": "stream",
          "text": [
            "Processing STAC item: MCD15A3H.A2024201.h09v04.061.2024206142529\n"
          ]
        },
        {
          "metadata": {
            "tags": null
          },
          "name": "stderr",
          "output_type": "stream",
          "text": [
            "Downloading MCD15A3H.A2024201.h09v04.061.2024206142529_Lai_500m: 100%|█| 2.43M/2.43M [00:01<00:00, 2\n"
          ]
        },
        {
          "metadata": {
            "tags": null
          },
          "name": "stdout",
          "output_type": "stream",
          "text": [
            "Processing STAC item: MCD15A3H.A2024197.h09v04.061.2024202035119\n"
          ]
        },
        {
          "metadata": {
            "tags": null
          },
          "name": "stderr",
          "output_type": "stream",
          "text": [
            "Downloading MCD15A3H.A2024197.h09v04.061.2024202035119_Lai_500m: 100%|█| 2.47M/2.47M [00:01<00:00, 2\n"
          ]
        },
        {
          "metadata": {
            "tags": null
          },
          "name": "stdout",
          "output_type": "stream",
          "text": [
            "Processing STAC item: MCD15A3H.A2024193.h09v04.061.2024198140313\n"
          ]
        },
        {
          "metadata": {
            "tags": null
          },
          "name": "stderr",
          "output_type": "stream",
          "text": [
            "Downloading MCD15A3H.A2024193.h09v04.061.2024198140313_Lai_500m: 100%|█| 2.43M/2.43M [00:00<00:00, 2\n"
          ]
        },
        {
          "metadata": {
            "tags": null
          },
          "name": "stdout",
          "output_type": "stream",
          "text": [
            "Processing STAC item: MCD15A3H.A2024189.h09v04.061.2024195032231\n"
          ]
        },
        {
          "metadata": {
            "tags": null
          },
          "name": "stderr",
          "output_type": "stream",
          "text": [
            "Downloading MCD15A3H.A2024189.h09v04.061.2024195032231_Lai_500m: 100%|█| 2.47M/2.47M [00:01<00:00, 2\n"
          ]
        },
        {
          "metadata": {
            "tags": null
          },
          "name": "stdout",
          "output_type": "stream",
          "text": [
            "Processing STAC item: MCD15A3H.A2024185.h09v04.061.2024190143523\n"
          ]
        },
        {
          "metadata": {
            "tags": null
          },
          "name": "stderr",
          "output_type": "stream",
          "text": [
            "Downloading MCD15A3H.A2024185.h09v04.061.2024190143523_Lai_500m: 100%|█| 2.49M/2.49M [00:01<00:00, 2\n"
          ]
        },
        {
          "metadata": {
            "tags": null
          },
          "name": "stdout",
          "output_type": "stream",
          "text": [
            "Processing STAC item: MCD15A3H.A2024181.h09v04.061.2024186035130\n"
          ]
        },
        {
          "metadata": {
            "tags": null
          },
          "name": "stderr",
          "output_type": "stream",
          "text": [
            "Downloading MCD15A3H.A2024181.h09v04.061.2024186035130_Lai_500m: 100%|█| 2.48M/2.48M [00:01<00:00, 2\n"
          ]
        },
        {
          "metadata": {
            "tags": null
          },
          "name": "stdout",
          "output_type": "stream",
          "text": [
            "Processing STAC item: MCD15A3H.A2024177.h09v04.061.2024182050617\n"
          ]
        },
        {
          "metadata": {
            "tags": null
          },
          "name": "stderr",
          "output_type": "stream",
          "text": [
            "Downloading MCD15A3H.A2024177.h09v04.061.2024182050617_Lai_500m: 100%|█| 2.48M/2.48M [00:01<00:00, 2\n"
          ]
        },
        {
          "metadata": {
            "tags": null
          },
          "name": "stdout",
          "output_type": "stream",
          "text": [
            "Processing STAC item: MCD15A3H.A2024173.h09v04.061.2024180060632\n"
          ]
        },
        {
          "metadata": {
            "tags": null
          },
          "name": "stderr",
          "output_type": "stream",
          "text": [
            "Downloading MCD15A3H.A2024173.h09v04.061.2024180060632_Lai_500m: 100%|█| 2.52M/2.52M [00:01<00:00, 2\n"
          ]
        },
        {
          "metadata": {
            "tags": null
          },
          "name": "stdout",
          "output_type": "stream",
          "text": [
            "Processing STAC item: MCD15A3H.A2024169.h09v04.061.2024175182535\n"
          ]
        },
        {
          "metadata": {
            "tags": null
          },
          "name": "stderr",
          "output_type": "stream",
          "text": [
            "Downloading MCD15A3H.A2024169.h09v04.061.2024175182535_Lai_500m: 100%|█| 2.56M/2.56M [00:01<00:00, 2\n"
          ]
        },
        {
          "metadata": {
            "tags": null
          },
          "name": "stdout",
          "output_type": "stream",
          "text": [
            "Processing STAC item: MCD15A3H.A2024165.h09v04.061.2024170155027\n"
          ]
        },
        {
          "metadata": {
            "tags": null
          },
          "name": "stderr",
          "output_type": "stream",
          "text": [
            "Downloading MCD15A3H.A2024165.h09v04.061.2024170155027_Lai_500m: 100%|█| 2.43M/2.43M [00:01<00:00, 2\n"
          ]
        },
        {
          "metadata": {
            "tags": null
          },
          "name": "stdout",
          "output_type": "stream",
          "text": [
            "Processing STAC item: MCD15A3H.A2024161.h09v04.061.2024166212525\n"
          ]
        },
        {
          "metadata": {
            "tags": null
          },
          "name": "stderr",
          "output_type": "stream",
          "text": [
            "Downloading MCD15A3H.A2024161.h09v04.061.2024166212525_Lai_500m: 100%|█| 2.54M/2.54M [00:00<00:00, 2\n"
          ]
        },
        {
          "metadata": {
            "tags": null
          },
          "name": "stdout",
          "output_type": "stream",
          "text": [
            "Processing STAC item: MCD15A3H.A2024157.h09v04.061.2024162180604\n"
          ]
        },
        {
          "metadata": {
            "tags": null
          },
          "name": "stderr",
          "output_type": "stream",
          "text": [
            "Downloading MCD15A3H.A2024157.h09v04.061.2024162180604_Lai_500m: 100%|█| 2.52M/2.52M [00:00<00:00, 2\n"
          ]
        },
        {
          "metadata": {
            "tags": null
          },
          "name": "stdout",
          "output_type": "stream",
          "text": [
            "Processing STAC item: MCD15A3H.A2024153.h09v04.061.2024158081558\n"
          ]
        },
        {
          "metadata": {
            "tags": null
          },
          "name": "stderr",
          "output_type": "stream",
          "text": [
            "Downloading MCD15A3H.A2024153.h09v04.061.2024158081558_Lai_500m: 100%|█| 2.18M/2.18M [00:00<00:00, 2\n"
          ]
        },
        {
          "metadata": {
            "tags": null
          },
          "name": "stdout",
          "output_type": "stream",
          "text": [
            "Processing STAC item: MCD15A3H.A2024149.h09v04.061.2024156064205\n"
          ]
        },
        {
          "metadata": {
            "tags": null
          },
          "name": "stderr",
          "output_type": "stream",
          "text": [
            "Downloading MCD15A3H.A2024149.h09v04.061.2024156064205_Lai_500m: 100%|█| 2.41M/2.41M [00:00<00:00, 3\n"
          ]
        },
        {
          "metadata": {
            "tags": null
          },
          "name": "stdout",
          "output_type": "stream",
          "text": [
            "Processing STAC item: MCD15A3H.A2024145.h09v04.061.2024152015457\n"
          ]
        },
        {
          "metadata": {
            "tags": null
          },
          "name": "stderr",
          "output_type": "stream",
          "text": [
            "Downloading MCD15A3H.A2024145.h09v04.061.2024152015457_Lai_500m: 100%|█| 2.22M/2.22M [00:01<00:00, 2\n"
          ]
        },
        {
          "metadata": {
            "tags": null
          },
          "name": "stdout",
          "output_type": "stream",
          "text": [
            "Processing STAC item: MCD15A3H.A2024141.h09v04.061.2024146035954\n"
          ]
        },
        {
          "metadata": {
            "tags": null
          },
          "name": "stderr",
          "output_type": "stream",
          "text": [
            "Downloading MCD15A3H.A2024141.h09v04.061.2024146035954_Lai_500m: 100%|█| 2.43M/2.43M [00:01<00:00, 2\n"
          ]
        },
        {
          "metadata": {
            "tags": null
          },
          "name": "stdout",
          "output_type": "stream",
          "text": [
            "Processing STAC item: MCD15A3H.A2024137.h09v04.061.2024143104356\n"
          ]
        },
        {
          "metadata": {
            "tags": null
          },
          "name": "stderr",
          "output_type": "stream",
          "text": [
            "Downloading MCD15A3H.A2024137.h09v04.061.2024143104356_Lai_500m: 100%|█| 2.41M/2.41M [00:00<00:00, 2\n"
          ]
        },
        {
          "metadata": {
            "tags": null
          },
          "name": "stdout",
          "output_type": "stream",
          "text": [
            "Processing STAC item: MCD15A3H.A2024133.h09v04.061.2024157182202\n"
          ]
        },
        {
          "metadata": {
            "tags": null
          },
          "name": "stderr",
          "output_type": "stream",
          "text": [
            "Downloading MCD15A3H.A2024133.h09v04.061.2024157182202_Lai_500m: 100%|█| 2.41M/2.41M [00:01<00:00, 2\n"
          ]
        },
        {
          "metadata": {
            "tags": null
          },
          "name": "stdout",
          "output_type": "stream",
          "text": [
            "Processing STAC item: MCD15A3H.A2024133.h09v04.061.2024138045244\n"
          ]
        },
        {
          "metadata": {
            "tags": null
          },
          "name": "stderr",
          "output_type": "stream",
          "text": [
            "Downloading MCD15A3H.A2024133.h09v04.061.2024138045244_Lai_500m: 100%|█| 2.41M/2.41M [00:05<00:00, 4\n"
          ]
        },
        {
          "metadata": {
            "tags": null
          },
          "name": "stdout",
          "output_type": "stream",
          "text": [
            "Processing STAC item: MCD15A3H.A2024129.h09v04.061.2024157182114\n"
          ]
        },
        {
          "metadata": {
            "tags": null
          },
          "name": "stderr",
          "output_type": "stream",
          "text": [
            "Downloading MCD15A3H.A2024129.h09v04.061.2024157182114_Lai_500m: 100%|█| 2.48M/2.48M [00:01<00:00, 2\n"
          ]
        },
        {
          "metadata": {
            "tags": null
          },
          "name": "stdout",
          "output_type": "stream",
          "text": [
            "Processing STAC item: MCD15A3H.A2024129.h09v04.061.2024135143031\n"
          ]
        },
        {
          "metadata": {
            "tags": null
          },
          "name": "stderr",
          "output_type": "stream",
          "text": [
            "Downloading MCD15A3H.A2024129.h09v04.061.2024135143031_Lai_500m: 100%|█| 2.48M/2.48M [00:00<00:00, 2\n"
          ]
        },
        {
          "metadata": {
            "tags": null
          },
          "name": "stdout",
          "output_type": "stream",
          "text": [
            "Processing STAC item: MCD15A3H.A2024125.h09v04.061.2024131141022\n"
          ]
        },
        {
          "metadata": {
            "tags": null
          },
          "name": "stderr",
          "output_type": "stream",
          "text": [
            "Downloading MCD15A3H.A2024125.h09v04.061.2024131141022_Lai_500m: 100%|█| 2.19M/2.19M [00:00<00:00, 2\n"
          ]
        },
        {
          "metadata": {
            "tags": null
          },
          "name": "stdout",
          "output_type": "stream",
          "text": [
            "Processing STAC item: MCD15A3H.A2024121.h09v04.061.2024127021333\n"
          ]
        },
        {
          "metadata": {
            "tags": null
          },
          "name": "stderr",
          "output_type": "stream",
          "text": [
            "Downloading MCD15A3H.A2024121.h09v04.061.2024127021333_Lai_500m: 100%|█| 2.30M/2.30M [00:01<00:00, 2\n"
          ]
        },
        {
          "metadata": {
            "tags": null
          },
          "name": "stdout",
          "output_type": "stream",
          "text": [
            "Processing STAC item: MCD15A3H.A2024117.h09v04.061.2024122071513\n"
          ]
        },
        {
          "metadata": {
            "tags": null
          },
          "name": "stderr",
          "output_type": "stream",
          "text": [
            "Downloading MCD15A3H.A2024117.h09v04.061.2024122071513_Lai_500m: 100%|█| 2.18M/2.18M [00:00<00:00, 2\n"
          ]
        },
        {
          "metadata": {
            "tags": null
          },
          "name": "stdout",
          "output_type": "stream",
          "text": [
            "Processing STAC item: MCD15A3H.A2024113.h09v04.061.2024118033811\n"
          ]
        },
        {
          "metadata": {
            "tags": null
          },
          "name": "stderr",
          "output_type": "stream",
          "text": [
            "Downloading MCD15A3H.A2024113.h09v04.061.2024118033811_Lai_500m: 100%|█| 2.18M/2.18M [00:00<00:00, 2\n"
          ]
        },
        {
          "metadata": {
            "tags": null
          },
          "name": "stdout",
          "output_type": "stream",
          "text": [
            "Processing STAC item: MCD15A3H.A2024109.h09v04.061.2024115154002\n"
          ]
        },
        {
          "metadata": {
            "tags": null
          },
          "name": "stderr",
          "output_type": "stream",
          "text": [
            "Downloading MCD15A3H.A2024109.h09v04.061.2024115154002_Lai_500m: 100%|█| 2.16M/2.16M [00:00<00:00, 2\n"
          ]
        },
        {
          "metadata": {
            "tags": null
          },
          "name": "stdout",
          "output_type": "stream",
          "text": [
            "Processing STAC item: MCD15A3H.A2024105.h09v04.061.2024115134808\n"
          ]
        },
        {
          "metadata": {
            "tags": null
          },
          "name": "stderr",
          "output_type": "stream",
          "text": [
            "Downloading MCD15A3H.A2024105.h09v04.061.2024115134808_Lai_500m: 100%|█| 2.19M/2.19M [00:00<00:00, 2\n"
          ]
        },
        {
          "metadata": {
            "tags": null
          },
          "name": "stdout",
          "output_type": "stream",
          "text": [
            "Processing STAC item: MCD15A3H.A2024101.h09v04.061.2024106140117\n"
          ]
        },
        {
          "metadata": {
            "tags": null
          },
          "name": "stderr",
          "output_type": "stream",
          "text": [
            "Downloading MCD15A3H.A2024101.h09v04.061.2024106140117_Lai_500m: 100%|█| 2.00M/2.00M [00:00<00:00, 2\n"
          ]
        },
        {
          "metadata": {
            "tags": null
          },
          "name": "stdout",
          "output_type": "stream",
          "text": [
            "Processing STAC item: MCD15A3H.A2024097.h09v04.061.2024102032855\n"
          ]
        },
        {
          "metadata": {
            "tags": null
          },
          "name": "stderr",
          "output_type": "stream",
          "text": [
            "Downloading MCD15A3H.A2024097.h09v04.061.2024102032855_Lai_500m: 100%|█| 1.95M/1.95M [00:00<00:00, 2\n"
          ]
        },
        {
          "metadata": {
            "tags": null
          },
          "name": "stdout",
          "output_type": "stream",
          "text": [
            "Processing STAC item: MCD15A3H.A2024093.h09v04.061.2024099140253\n"
          ]
        },
        {
          "metadata": {
            "tags": null
          },
          "name": "stderr",
          "output_type": "stream",
          "text": [
            "Downloading MCD15A3H.A2024093.h09v04.061.2024099140253_Lai_500m: 100%|█| 2.00M/2.00M [00:00<00:00, 2\n"
          ]
        },
        {
          "metadata": {
            "tags": null
          },
          "name": "stdout",
          "output_type": "stream",
          "text": [
            "Processing STAC item: MCD15A3H.A2024089.h09v04.061.2024094232343\n"
          ]
        },
        {
          "metadata": {
            "tags": null
          },
          "name": "stderr",
          "output_type": "stream",
          "text": [
            "Downloading MCD15A3H.A2024089.h09v04.061.2024094232343_Lai_500m: 100%|█| 1.98M/1.98M [00:00<00:00, 2\n"
          ]
        },
        {
          "metadata": {
            "tags": null
          },
          "name": "stdout",
          "output_type": "stream",
          "text": [
            "Processing STAC item: MCD15A3H.A2024085.h09v04.061.2024094200152\n"
          ]
        },
        {
          "metadata": {
            "tags": null
          },
          "name": "stderr",
          "output_type": "stream",
          "text": [
            "Downloading MCD15A3H.A2024085.h09v04.061.2024094200152_Lai_500m: 100%|█| 1.80M/1.80M [00:00<00:00, 2\n"
          ]
        },
        {
          "metadata": {
            "tags": null
          },
          "name": "stdout",
          "output_type": "stream",
          "text": [
            "Processing STAC item: MCD15A3H.A2024081.h09v04.061.2024093232149\n"
          ]
        },
        {
          "metadata": {
            "tags": null
          },
          "name": "stderr",
          "output_type": "stream",
          "text": [
            "Downloading MCD15A3H.A2024081.h09v04.061.2024093232149_Lai_500m: 100%|█| 1.72M/1.72M [00:00<00:00, 2\n"
          ]
        },
        {
          "metadata": {
            "tags": null
          },
          "name": "stdout",
          "output_type": "stream",
          "text": [
            "Processing STAC item: MCD15A3H.A2024077.h09v04.061.2024085221212\n"
          ]
        },
        {
          "metadata": {
            "tags": null
          },
          "name": "stderr",
          "output_type": "stream",
          "text": [
            "Downloading MCD15A3H.A2024077.h09v04.061.2024085221212_Lai_500m: 100%|█| 1.92M/1.92M [00:00<00:00, 2\n"
          ]
        },
        {
          "metadata": {
            "tags": null
          },
          "name": "stdout",
          "output_type": "stream",
          "text": [
            "Processing STAC item: MCD15A3H.A2024073.h09v04.061.2024078225810\n"
          ]
        },
        {
          "metadata": {
            "tags": null
          },
          "name": "stderr",
          "output_type": "stream",
          "text": [
            "Downloading MCD15A3H.A2024073.h09v04.061.2024078225810_Lai_500m: 100%|█| 1.83M/1.83M [00:00<00:00, 2\n"
          ]
        },
        {
          "metadata": {
            "tags": null
          },
          "name": "stdout",
          "output_type": "stream",
          "text": [
            "Processing STAC item: MCD15A3H.A2024069.h09v04.061.2024074031903\n"
          ]
        },
        {
          "metadata": {
            "tags": null
          },
          "name": "stderr",
          "output_type": "stream",
          "text": [
            "Downloading MCD15A3H.A2024069.h09v04.061.2024074031903_Lai_500m: 100%|█| 1.44M/1.44M [00:00<00:00, 1\n"
          ]
        },
        {
          "metadata": {
            "tags": null
          },
          "name": "stdout",
          "output_type": "stream",
          "text": [
            "Processing STAC item: MCD15A3H.A2024065.h09v04.061.2024070032159\n"
          ]
        },
        {
          "metadata": {
            "tags": null
          },
          "name": "stderr",
          "output_type": "stream",
          "text": [
            "Downloading MCD15A3H.A2024065.h09v04.061.2024070032159_Lai_500m: 100%|█| 1.56M/1.56M [00:00<00:00, 1\n"
          ]
        },
        {
          "metadata": {
            "tags": null
          },
          "name": "stdout",
          "output_type": "stream",
          "text": [
            "Processing STAC item: MCD15A3H.A2024061.h09v04.061.2024066082947\n"
          ]
        },
        {
          "metadata": {
            "tags": null
          },
          "name": "stderr",
          "output_type": "stream",
          "text": [
            "Downloading MCD15A3H.A2024061.h09v04.061.2024066082947_Lai_500m: 100%|█| 1.21M/1.21M [00:00<00:00, 1\n"
          ]
        },
        {
          "metadata": {
            "tags": null
          },
          "name": "stdout",
          "output_type": "stream",
          "text": [
            "Processing STAC item: MCD15A3H.A2024057.h09v04.061.2024066041932\n"
          ]
        },
        {
          "metadata": {
            "tags": null
          },
          "name": "stderr",
          "output_type": "stream",
          "text": [
            "Downloading MCD15A3H.A2024057.h09v04.061.2024066041932_Lai_500m: 100%|█| 1.31M/1.31M [00:00<00:00, 1\n"
          ]
        },
        {
          "metadata": {
            "tags": null
          },
          "name": "stdout",
          "output_type": "stream",
          "text": [
            "Processing STAC item: MCD15A3H.A2024053.h09v04.061.2024065184738\n"
          ]
        },
        {
          "metadata": {
            "tags": null
          },
          "name": "stderr",
          "output_type": "stream",
          "text": [
            "Downloading MCD15A3H.A2024053.h09v04.061.2024065184738_Lai_500m: 100%|█| 1.67M/1.67M [00:04<00:00, 3\n"
          ]
        },
        {
          "metadata": {
            "tags": null
          },
          "name": "stdout",
          "output_type": "stream",
          "text": [
            "Processing STAC item: MCD15A3H.A2024049.h09v04.061.2024056185938\n"
          ]
        },
        {
          "metadata": {
            "tags": null
          },
          "name": "stderr",
          "output_type": "stream",
          "text": [
            "Downloading MCD15A3H.A2024049.h09v04.061.2024056185938_Lai_500m: 100%|█| 1.21M/1.21M [00:00<00:00, 1\n"
          ]
        },
        {
          "metadata": {
            "tags": null
          },
          "name": "stdout",
          "output_type": "stream",
          "text": [
            "Processing STAC item: MCD15A3H.A2024045.h09v04.061.2024051135740\n"
          ]
        },
        {
          "metadata": {
            "tags": null
          },
          "name": "stderr",
          "output_type": "stream",
          "text": [
            "Downloading MCD15A3H.A2024045.h09v04.061.2024051135740_Lai_500m: 100%|█| 1.26M/1.26M [00:00<00:00, 1\n"
          ]
        },
        {
          "metadata": {
            "tags": null
          },
          "name": "stdout",
          "output_type": "stream",
          "text": [
            "Processing STAC item: MCD15A3H.A2024041.h09v04.061.2024046034250\n"
          ]
        },
        {
          "metadata": {
            "tags": null
          },
          "name": "stderr",
          "output_type": "stream",
          "text": [
            "Downloading MCD15A3H.A2024041.h09v04.061.2024046034250_Lai_500m: 100%|█| 1.67M/1.67M [00:00<00:00, 1\n"
          ]
        },
        {
          "metadata": {
            "tags": null
          },
          "name": "stdout",
          "output_type": "stream",
          "text": [
            "Processing STAC item: MCD15A3H.A2024037.h09v04.061.2024044031556\n"
          ]
        },
        {
          "metadata": {
            "tags": null
          },
          "name": "stderr",
          "output_type": "stream",
          "text": [
            "Downloading MCD15A3H.A2024037.h09v04.061.2024044031556_Lai_500m: 100%|█| 1.42M/1.42M [00:00<00:00, 1\n"
          ]
        },
        {
          "metadata": {
            "tags": null
          },
          "name": "stdout",
          "output_type": "stream",
          "text": [
            "Processing STAC item: MCD15A3H.A2024033.h09v04.061.2024040144119\n"
          ]
        },
        {
          "metadata": {
            "tags": null
          },
          "name": "stderr",
          "output_type": "stream",
          "text": [
            "Downloading MCD15A3H.A2024033.h09v04.061.2024040144119_Lai_500m: 100%|█| 1.54M/1.54M [00:00<00:00, 1\n"
          ]
        },
        {
          "metadata": {
            "tags": null
          },
          "name": "stdout",
          "output_type": "stream",
          "text": [
            "Processing STAC item: MCD15A3H.A2024029.h09v04.061.2024039002935\n"
          ]
        },
        {
          "metadata": {
            "tags": null
          },
          "name": "stderr",
          "output_type": "stream",
          "text": [
            "Downloading MCD15A3H.A2024029.h09v04.061.2024039002935_Lai_500m: 100%|█| 1.42M/1.42M [00:00<00:00, 1\n"
          ]
        },
        {
          "metadata": {
            "tags": null
          },
          "name": "stdout",
          "output_type": "stream",
          "text": [
            "Processing STAC item: MCD15A3H.A2024025.h09v04.061.2024030185734\n"
          ]
        },
        {
          "metadata": {
            "tags": null
          },
          "name": "stderr",
          "output_type": "stream",
          "text": [
            "Downloading MCD15A3H.A2024025.h09v04.061.2024030185734_Lai_500m: 100%|█| 1.10M/1.10M [00:00<00:00, 1\n"
          ]
        },
        {
          "metadata": {
            "tags": null
          },
          "name": "stdout",
          "output_type": "stream",
          "text": [
            "Processing STAC item: MCD15A3H.A2024021.h09v04.061.2024027182743\n"
          ]
        },
        {
          "metadata": {
            "tags": null
          },
          "name": "stderr",
          "output_type": "stream",
          "text": [
            "Downloading MCD15A3H.A2024021.h09v04.061.2024027182743_Lai_500m: 100%|█| 987k/987k [00:00<00:00, 1.5\n"
          ]
        },
        {
          "metadata": {
            "tags": null
          },
          "name": "stdout",
          "output_type": "stream",
          "text": [
            "Processing STAC item: MCD15A3H.A2024017.h09v04.061.2024023195601\n"
          ]
        },
        {
          "metadata": {
            "tags": null
          },
          "name": "stderr",
          "output_type": "stream",
          "text": [
            "Downloading MCD15A3H.A2024017.h09v04.061.2024023195601_Lai_500m: 100%|█| 768k/768k [00:00<00:00, 1.4\n"
          ]
        },
        {
          "metadata": {
            "tags": null
          },
          "name": "stdout",
          "output_type": "stream",
          "text": [
            "Processing STAC item: MCD15A3H.A2024013.h09v04.061.2024018230024\n"
          ]
        },
        {
          "metadata": {
            "tags": null
          },
          "name": "stderr",
          "output_type": "stream",
          "text": [
            "Downloading MCD15A3H.A2024013.h09v04.061.2024018230024_Lai_500m: 100%|█| 1.20M/1.20M [00:00<00:00, 1\n"
          ]
        },
        {
          "metadata": {
            "tags": null
          },
          "name": "stdout",
          "output_type": "stream",
          "text": [
            "Processing STAC item: MCD15A3H.A2024009.h09v04.061.2024014040425\n"
          ]
        },
        {
          "metadata": {
            "tags": null
          },
          "name": "stderr",
          "output_type": "stream",
          "text": [
            "Downloading MCD15A3H.A2024009.h09v04.061.2024014040425_Lai_500m: 100%|█| 1.05M/1.05M [00:00<00:00, 1\n"
          ]
        },
        {
          "metadata": {
            "tags": null
          },
          "name": "stdout",
          "output_type": "stream",
          "text": [
            "Processing STAC item: MCD15A3H.A2024005.h09v04.061.2024010141151\n"
          ]
        },
        {
          "metadata": {
            "tags": null
          },
          "name": "stderr",
          "output_type": "stream",
          "text": [
            "Downloading MCD15A3H.A2024005.h09v04.061.2024010141151_Lai_500m: 100%|█| 1.46M/1.46M [00:00<00:00, 2\n"
          ]
        },
        {
          "metadata": {
            "tags": null
          },
          "name": "stdout",
          "output_type": "stream",
          "text": [
            "Processing STAC item: MCD15A3H.A2024001.h09v04.061.2024006204407\n"
          ]
        },
        {
          "metadata": {
            "tags": null
          },
          "name": "stderr",
          "output_type": "stream",
          "text": [
            "Downloading MCD15A3H.A2024001.h09v04.061.2024006204407_Lai_500m: 100%|█| 1.76M/1.76M [00:00<00:00, 2\n"
          ]
        },
        {
          "metadata": {
            "tags": null
          },
          "name": "stdout",
          "output_type": "stream",
          "text": [
            "Processing STAC item: MCD15A3H.A2023365.h09v04.061.2024006210320\n"
          ]
        },
        {
          "metadata": {
            "tags": null
          },
          "name": "stderr",
          "output_type": "stream",
          "text": [
            "Downloading MCD15A3H.A2023365.h09v04.061.2024006210320_Lai_500m: 100%|█| 1.79M/1.79M [00:00<00:00, 1\n"
          ]
        },
        {
          "metadata": {
            "tags": null
          },
          "name": "stdout",
          "output_type": "stream",
          "text": [
            "Processing STAC item: MCD15A3H.A2023361.h09v04.061.2024003202716\n"
          ]
        },
        {
          "metadata": {
            "tags": null
          },
          "name": "stderr",
          "output_type": "stream",
          "text": [
            "Downloading MCD15A3H.A2023361.h09v04.061.2024003202716_Lai_500m: 100%|█| 1.39M/1.39M [00:00<00:00, 1\n"
          ]
        },
        {
          "metadata": {
            "tags": null
          },
          "name": "stdout",
          "output_type": "stream",
          "text": [
            "Processing STAC item: MCD15A3H.A2023357.h09v04.061.2023362162446\n"
          ]
        },
        {
          "metadata": {
            "tags": null
          },
          "name": "stderr",
          "output_type": "stream",
          "text": [
            "Downloading MCD15A3H.A2023357.h09v04.061.2023362162446_Lai_500m: 100%|█| 1.86M/1.86M [00:00<00:00, 2\n"
          ]
        },
        {
          "metadata": {
            "tags": null
          },
          "name": "stdout",
          "output_type": "stream",
          "text": [
            "Processing STAC item: MCD15A3H.A2023353.h09v04.061.2023361005701\n"
          ]
        },
        {
          "metadata": {
            "tags": null
          },
          "name": "stderr",
          "output_type": "stream",
          "text": [
            "Downloading MCD15A3H.A2023353.h09v04.061.2023361005701_Lai_500m: 100%|█| 1.76M/1.76M [00:00<00:00, 2\n"
          ]
        },
        {
          "metadata": {
            "tags": null
          },
          "name": "stdout",
          "output_type": "stream",
          "text": [
            "Processing STAC item: MCD15A3H.A2023349.h09v04.061.2023354045739\n"
          ]
        },
        {
          "metadata": {
            "tags": null
          },
          "name": "stderr",
          "output_type": "stream",
          "text": [
            "Downloading MCD15A3H.A2023349.h09v04.061.2023354045739_Lai_500m: 100%|█| 1.67M/1.67M [00:00<00:00, 1\n"
          ]
        },
        {
          "metadata": {
            "tags": null
          },
          "name": "stdout",
          "output_type": "stream",
          "text": [
            "Processing STAC item: MCD15A3H.A2023345.h09v04.061.2023350030302\n"
          ]
        },
        {
          "metadata": {
            "tags": null
          },
          "name": "stderr",
          "output_type": "stream",
          "text": [
            "Downloading MCD15A3H.A2023345.h09v04.061.2023350030302_Lai_500m: 100%|█| 1.79M/1.79M [00:00<00:00, 2\n"
          ]
        },
        {
          "metadata": {
            "tags": null
          },
          "name": "stdout",
          "output_type": "stream",
          "text": [
            "Processing STAC item: MCD15A3H.A2023341.h09v04.061.2023346032833\n"
          ]
        },
        {
          "metadata": {
            "tags": null
          },
          "name": "stderr",
          "output_type": "stream",
          "text": [
            "Downloading MCD15A3H.A2023341.h09v04.061.2023346032833_Lai_500m: 100%|█| 1.73M/1.73M [00:00<00:00, 2\n"
          ]
        },
        {
          "metadata": {
            "tags": null
          },
          "name": "stdout",
          "output_type": "stream",
          "text": [
            "Processing STAC item: MCD15A3H.A2023337.h09v04.061.2023345144005\n"
          ]
        },
        {
          "metadata": {
            "tags": null
          },
          "name": "stderr",
          "output_type": "stream",
          "text": [
            "Downloading MCD15A3H.A2023337.h09v04.061.2023345144005_Lai_500m: 100%|█| 1.28M/1.28M [00:00<00:00, 1\n"
          ]
        },
        {
          "metadata": {
            "tags": null
          },
          "name": "stdout",
          "output_type": "stream",
          "text": [
            "Processing STAC item: MCD15A3H.A2023333.h09v04.061.2023340034057\n"
          ]
        },
        {
          "metadata": {
            "tags": null
          },
          "name": "stderr",
          "output_type": "stream",
          "text": [
            "Downloading MCD15A3H.A2023333.h09v04.061.2023340034057_Lai_500m: 100%|█| 1.48M/1.48M [00:00<00:00, 1\n"
          ]
        },
        {
          "metadata": {
            "tags": null
          },
          "name": "stdout",
          "output_type": "stream",
          "text": [
            "Processing STAC item: MCD15A3H.A2023329.h09v04.061.2023334031838\n"
          ]
        },
        {
          "metadata": {
            "tags": null
          },
          "name": "stderr",
          "output_type": "stream",
          "text": [
            "Downloading MCD15A3H.A2023329.h09v04.061.2023334031838_Lai_500m: 100%|█| 1.92M/1.92M [00:00<00:00, 2\n"
          ]
        },
        {
          "metadata": {
            "tags": null
          },
          "name": "stdout",
          "output_type": "stream",
          "text": [
            "Processing STAC item: MCD15A3H.A2023325.h09v04.061.2023332011723\n"
          ]
        },
        {
          "metadata": {
            "tags": null
          },
          "name": "stderr",
          "output_type": "stream",
          "text": [
            "Downloading MCD15A3H.A2023325.h09v04.061.2023332011723_Lai_500m: 100%|█| 1.94M/1.94M [00:00<00:00, 2\n"
          ]
        },
        {
          "metadata": {
            "tags": null
          },
          "name": "stdout",
          "output_type": "stream",
          "text": [
            "Processing STAC item: MCD15A3H.A2023321.h09v04.061.2023327163509\n"
          ]
        },
        {
          "metadata": {
            "tags": null
          },
          "name": "stderr",
          "output_type": "stream",
          "text": [
            "Downloading MCD15A3H.A2023321.h09v04.061.2023327163509_Lai_500m: 100%|█| 1.93M/1.93M [00:00<00:00, 2\n"
          ]
        },
        {
          "metadata": {
            "tags": null
          },
          "name": "stdout",
          "output_type": "stream",
          "text": [
            "Processing STAC item: MCD15A3H.A2023317.h09v04.061.2023322031301\n"
          ]
        },
        {
          "metadata": {
            "tags": null
          },
          "name": "stderr",
          "output_type": "stream",
          "text": [
            "Downloading MCD15A3H.A2023317.h09v04.061.2023322031301_Lai_500m: 100%|█| 1.95M/1.95M [00:00<00:00, 2\n"
          ]
        },
        {
          "metadata": {
            "tags": null
          },
          "name": "stdout",
          "output_type": "stream",
          "text": [
            "Processing STAC item: MCD15A3H.A2023313.h09v04.061.2023318031703\n"
          ]
        },
        {
          "metadata": {
            "tags": null
          },
          "name": "stderr",
          "output_type": "stream",
          "text": [
            "Downloading MCD15A3H.A2023313.h09v04.061.2023318031703_Lai_500m: 100%|█| 1.45M/1.45M [00:00<00:00, 1\n"
          ]
        },
        {
          "metadata": {
            "tags": null
          },
          "name": "stdout",
          "output_type": "stream",
          "text": [
            "Processing STAC item: MCD15A3H.A2023305.h09v04.061.2023310030648\n"
          ]
        },
        {
          "metadata": {
            "tags": null
          },
          "name": "stderr",
          "output_type": "stream",
          "text": [
            "Downloading MCD15A3H.A2023305.h09v04.061.2023310030648_Lai_500m: 100%|█| 1.40M/1.40M [00:00<00:00, 1\n"
          ]
        },
        {
          "metadata": {
            "tags": null
          },
          "name": "stdout",
          "output_type": "stream",
          "text": [
            "Processing STAC item: MCD15A3H.A2023301.h09v04.061.2023306131756\n"
          ]
        },
        {
          "metadata": {
            "tags": null
          },
          "name": "stderr",
          "output_type": "stream",
          "text": [
            "Downloading MCD15A3H.A2023301.h09v04.061.2023306131756_Lai_500m: 100%|█| 2.00M/2.00M [00:00<00:00, 2\n"
          ]
        },
        {
          "metadata": {
            "tags": null
          },
          "name": "stdout",
          "output_type": "stream",
          "text": [
            "Processing STAC item: MCD15A3H.A2023297.h09v04.061.2023302034609\n"
          ]
        },
        {
          "metadata": {
            "tags": null
          },
          "name": "stderr",
          "output_type": "stream",
          "text": [
            "Downloading MCD15A3H.A2023297.h09v04.061.2023302034609_Lai_500m: 100%|█| 1.92M/1.92M [00:00<00:00, 2\n"
          ]
        },
        {
          "metadata": {
            "tags": null
          },
          "name": "stdout",
          "output_type": "stream",
          "text": [
            "Processing STAC item: MCD15A3H.A2023293.h09v04.061.2023299000135\n"
          ]
        },
        {
          "metadata": {
            "tags": null
          },
          "name": "stderr",
          "output_type": "stream",
          "text": [
            "Downloading MCD15A3H.A2023293.h09v04.061.2023299000135_Lai_500m: 100%|█| 1.93M/1.93M [00:00<00:00, 2\n"
          ]
        },
        {
          "metadata": {
            "tags": null
          },
          "name": "stdout",
          "output_type": "stream",
          "text": [
            "Processing STAC item: MCD15A3H.A2023289.h09v04.061.2023294122946\n"
          ]
        },
        {
          "metadata": {
            "tags": null
          },
          "name": "stderr",
          "output_type": "stream",
          "text": [
            "Downloading MCD15A3H.A2023289.h09v04.061.2023294122946_Lai_500m: 100%|█| 1.96M/1.96M [00:00<00:00, 2\n"
          ]
        },
        {
          "metadata": {
            "tags": null
          },
          "name": "stdout",
          "output_type": "stream",
          "text": [
            "Processing STAC item: MCD15A3H.A2023285.h09v04.061.2023290173649\n"
          ]
        },
        {
          "metadata": {
            "tags": null
          },
          "name": "stderr",
          "output_type": "stream",
          "text": [
            "Downloading MCD15A3H.A2023285.h09v04.061.2023290173649_Lai_500m: 100%|█| 2.01M/2.01M [00:00<00:00, 2\n"
          ]
        },
        {
          "metadata": {
            "tags": null
          },
          "name": "stdout",
          "output_type": "stream",
          "text": [
            "Processing STAC item: MCD15A3H.A2023281.h09v04.061.2023286032512\n"
          ]
        },
        {
          "metadata": {
            "tags": null
          },
          "name": "stderr",
          "output_type": "stream",
          "text": [
            "Downloading MCD15A3H.A2023281.h09v04.061.2023286032512_Lai_500m: 100%|█| 2.05M/2.05M [00:00<00:00, 2\n"
          ]
        },
        {
          "metadata": {
            "tags": null
          },
          "name": "stdout",
          "output_type": "stream",
          "text": [
            "Processing STAC item: MCD15A3H.A2023277.h09v04.061.2023283180513\n"
          ]
        },
        {
          "metadata": {
            "tags": null
          },
          "name": "stderr",
          "output_type": "stream",
          "text": [
            "Downloading MCD15A3H.A2023277.h09v04.061.2023283180513_Lai_500m: 100%|█| 2.13M/2.13M [00:00<00:00, 2\n"
          ]
        },
        {
          "metadata": {
            "tags": null
          },
          "name": "stdout",
          "output_type": "stream",
          "text": [
            "Processing STAC item: MCD15A3H.A2023273.h09v04.061.2023278220757\n"
          ]
        },
        {
          "metadata": {
            "tags": null
          },
          "name": "stderr",
          "output_type": "stream",
          "text": [
            "Downloading MCD15A3H.A2023273.h09v04.061.2023278220757_Lai_500m: 100%|█| 1.94M/1.94M [00:00<00:00, 2\n"
          ]
        },
        {
          "metadata": {
            "tags": null
          },
          "name": "stdout",
          "output_type": "stream",
          "text": [
            "Processing STAC item: MCD15A3H.A2023269.h09v04.061.2023274032826\n"
          ]
        },
        {
          "metadata": {
            "tags": null
          },
          "name": "stderr",
          "output_type": "stream",
          "text": [
            "Downloading MCD15A3H.A2023269.h09v04.061.2023274032826_Lai_500m: 100%|█| 2.06M/2.06M [00:00<00:00, 2\n"
          ]
        },
        {
          "metadata": {
            "tags": null
          },
          "name": "stdout",
          "output_type": "stream",
          "text": [
            "Processing STAC item: MCD15A3H.A2023265.h09v04.061.2023270214006\n"
          ]
        },
        {
          "metadata": {
            "tags": null
          },
          "name": "stderr",
          "output_type": "stream",
          "text": [
            "Downloading MCD15A3H.A2023265.h09v04.061.2023270214006_Lai_500m: 100%|█| 2.11M/2.11M [00:00<00:00, 2\n"
          ]
        },
        {
          "metadata": {
            "tags": null
          },
          "name": "stdout",
          "output_type": "stream",
          "text": [
            "Processing STAC item: MCD15A3H.A2023261.h09v04.061.2023266033839\n"
          ]
        },
        {
          "metadata": {
            "tags": null
          },
          "name": "stderr",
          "output_type": "stream",
          "text": [
            "Downloading MCD15A3H.A2023261.h09v04.061.2023266033839_Lai_500m: 100%|█| 2.20M/2.20M [00:00<00:00, 2\n"
          ]
        },
        {
          "metadata": {
            "tags": null
          },
          "name": "stdout",
          "output_type": "stream",
          "text": [
            "Processing STAC item: MCD15A3H.A2023257.h09v04.061.2023262033935\n"
          ]
        },
        {
          "metadata": {
            "tags": null
          },
          "name": "stderr",
          "output_type": "stream",
          "text": [
            "Downloading MCD15A3H.A2023257.h09v04.061.2023262033935_Lai_500m: 100%|█| 2.24M/2.24M [00:00<00:00, 2\n"
          ]
        },
        {
          "metadata": {
            "tags": null
          },
          "name": "stdout",
          "output_type": "stream",
          "text": [
            "Processing STAC item: MCD15A3H.A2023253.h09v04.061.2023258034634\n"
          ]
        },
        {
          "metadata": {
            "tags": null
          },
          "name": "stderr",
          "output_type": "stream",
          "text": [
            "Downloading MCD15A3H.A2023253.h09v04.061.2023258034634_Lai_500m: 100%|█| 2.22M/2.22M [00:01<00:00, 2\n"
          ]
        },
        {
          "metadata": {
            "tags": null
          },
          "name": "stdout",
          "output_type": "stream",
          "text": [
            "Processing STAC item: MCD15A3H.A2023249.h09v04.061.2023254233639\n"
          ]
        },
        {
          "metadata": {
            "tags": null
          },
          "name": "stderr",
          "output_type": "stream",
          "text": [
            "Downloading MCD15A3H.A2023249.h09v04.061.2023254233639_Lai_500m: 100%|█| 2.29M/2.29M [00:00<00:00, 2\n"
          ]
        },
        {
          "metadata": {
            "tags": null
          },
          "name": "stdout",
          "output_type": "stream",
          "text": [
            "Processing STAC item: MCD15A3H.A2023245.h09v04.061.2023251173408\n"
          ]
        },
        {
          "metadata": {
            "tags": null
          },
          "name": "stderr",
          "output_type": "stream",
          "text": [
            "Downloading MCD15A3H.A2023245.h09v04.061.2023251173408_Lai_500m: 100%|█| 2.33M/2.33M [00:00<00:00, 2\n"
          ]
        },
        {
          "metadata": {
            "tags": null
          },
          "name": "stdout",
          "output_type": "stream",
          "text": [
            "Processing STAC item: MCD15A3H.A2023241.h09v04.061.2023248023457\n"
          ]
        },
        {
          "metadata": {
            "tags": null
          },
          "name": "stderr",
          "output_type": "stream",
          "text": [
            "Downloading MCD15A3H.A2023241.h09v04.061.2023248023457_Lai_500m: 100%|█| 2.21M/2.21M [00:01<00:00, 2\n"
          ]
        },
        {
          "metadata": {
            "tags": null
          },
          "name": "stdout",
          "output_type": "stream",
          "text": [
            "Processing STAC item: MCD15A3H.A2023237.h09v04.061.2023242034819\n"
          ]
        },
        {
          "metadata": {
            "tags": null
          },
          "name": "stderr",
          "output_type": "stream",
          "text": [
            "Downloading MCD15A3H.A2023237.h09v04.061.2023242034819_Lai_500m: 100%|█| 2.34M/2.34M [00:01<00:00, 2\n"
          ]
        },
        {
          "metadata": {
            "tags": null
          },
          "name": "stdout",
          "output_type": "stream",
          "text": [
            "Processing STAC item: MCD15A3H.A2023233.h09v04.061.2023238033750\n"
          ]
        },
        {
          "metadata": {
            "tags": null
          },
          "name": "stderr",
          "output_type": "stream",
          "text": [
            "Downloading MCD15A3H.A2023233.h09v04.061.2023238033750_Lai_500m: 100%|█| 2.40M/2.40M [00:01<00:00, 2\n"
          ]
        },
        {
          "metadata": {
            "tags": null
          },
          "name": "stdout",
          "output_type": "stream",
          "text": [
            "Processing STAC item: MCD15A3H.A2023229.h09v04.061.2023235020734\n"
          ]
        },
        {
          "metadata": {
            "tags": null
          },
          "name": "stderr",
          "output_type": "stream",
          "text": [
            "Downloading MCD15A3H.A2023229.h09v04.061.2023235020734_Lai_500m: 100%|█| 2.35M/2.35M [00:00<00:00, 2\n"
          ]
        },
        {
          "metadata": {
            "tags": null
          },
          "name": "stdout",
          "output_type": "stream",
          "text": [
            "Processing STAC item: MCD15A3H.A2023225.h09v04.061.2023230035527\n"
          ]
        },
        {
          "metadata": {
            "tags": null
          },
          "name": "stderr",
          "output_type": "stream",
          "text": [
            "Downloading MCD15A3H.A2023225.h09v04.061.2023230035527_Lai_500m: 100%|█| 2.38M/2.38M [00:01<00:00, 2\n"
          ]
        },
        {
          "metadata": {
            "tags": null
          },
          "name": "stdout",
          "output_type": "stream",
          "text": [
            "Processing STAC item: MCD15A3H.A2023221.h09v04.061.2023227142506\n"
          ]
        },
        {
          "metadata": {
            "tags": null
          },
          "name": "stderr",
          "output_type": "stream",
          "text": [
            "Downloading MCD15A3H.A2023221.h09v04.061.2023227142506_Lai_500m: 100%|█| 2.44M/2.44M [00:00<00:00, 2\n"
          ]
        },
        {
          "metadata": {
            "tags": null
          },
          "name": "stdout",
          "output_type": "stream",
          "text": [
            "Processing STAC item: MCD15A3H.A2023217.h09v04.061.2023222140540\n"
          ]
        },
        {
          "metadata": {
            "tags": null
          },
          "name": "stderr",
          "output_type": "stream",
          "text": [
            "Downloading MCD15A3H.A2023217.h09v04.061.2023222140540_Lai_500m: 100%|█| 2.40M/2.40M [00:00<00:00, 2\n"
          ]
        },
        {
          "metadata": {
            "tags": null
          },
          "name": "stdout",
          "output_type": "stream",
          "text": [
            "Processing STAC item: MCD15A3H.A2023213.h09v04.061.2023220020435\n"
          ]
        },
        {
          "metadata": {
            "tags": null
          },
          "name": "stderr",
          "output_type": "stream",
          "text": [
            "Downloading MCD15A3H.A2023213.h09v04.061.2023220020435_Lai_500m: 100%|█| 2.40M/2.40M [00:00<00:00, 2\n"
          ]
        },
        {
          "metadata": {
            "tags": null
          },
          "name": "stdout",
          "output_type": "stream",
          "text": [
            "Processing STAC item: MCD15A3H.A2023209.h09v04.061.2023215182923\n"
          ]
        },
        {
          "metadata": {
            "tags": null
          },
          "name": "stderr",
          "output_type": "stream",
          "text": [
            "Downloading MCD15A3H.A2023209.h09v04.061.2023215182923_Lai_500m: 100%|█| 2.47M/2.47M [00:00<00:00, 2\n"
          ]
        },
        {
          "metadata": {
            "tags": null
          },
          "name": "stdout",
          "output_type": "stream",
          "text": [
            "Processing STAC item: MCD15A3H.A2023205.h09v04.061.2023215081106\n"
          ]
        },
        {
          "metadata": {
            "tags": null
          },
          "name": "stderr",
          "output_type": "stream",
          "text": [
            "Downloading MCD15A3H.A2023205.h09v04.061.2023215081106_Lai_500m: 100%|█| 2.48M/2.48M [00:01<00:00, 2\n"
          ]
        },
        {
          "metadata": {
            "tags": null
          },
          "name": "stdout",
          "output_type": "stream",
          "text": [
            "Processing STAC item: MCD15A3H.A2023201.h09v04.061.2023215084337\n"
          ]
        },
        {
          "metadata": {
            "tags": null
          },
          "name": "stderr",
          "output_type": "stream",
          "text": [
            "Downloading MCD15A3H.A2023201.h09v04.061.2023215084337_Lai_500m: 100%|█| 2.49M/2.49M [00:00<00:00, 2\n"
          ]
        },
        {
          "metadata": {
            "tags": null
          },
          "name": "stdout",
          "output_type": "stream",
          "text": [
            "Processing STAC item: MCD15A3H.A2023197.h09v04.061.2023213120559\n"
          ]
        },
        {
          "metadata": {
            "tags": null
          },
          "name": "stderr",
          "output_type": "stream",
          "text": [
            "Downloading MCD15A3H.A2023197.h09v04.061.2023213120559_Lai_500m: 100%|█| 2.52M/2.52M [00:00<00:00, 2\n"
          ]
        },
        {
          "metadata": {
            "tags": null
          },
          "name": "stdout",
          "output_type": "stream",
          "text": [
            "Processing STAC item: MCD15A3H.A2023193.h09v04.061.2023201084555\n"
          ]
        },
        {
          "metadata": {
            "tags": null
          },
          "name": "stderr",
          "output_type": "stream",
          "text": [
            "Downloading MCD15A3H.A2023193.h09v04.061.2023201084555_Lai_500m: 100%|█| 2.56M/2.56M [00:01<00:00, 2\n"
          ]
        },
        {
          "metadata": {
            "tags": null
          },
          "name": "stdout",
          "output_type": "stream",
          "text": [
            "Processing STAC item: MCD15A3H.A2023189.h09v04.061.2023200143543\n"
          ]
        },
        {
          "metadata": {
            "tags": null
          },
          "name": "stderr",
          "output_type": "stream",
          "text": [
            "Downloading MCD15A3H.A2023189.h09v04.061.2023200143543_Lai_500m: 100%|█| 2.57M/2.57M [00:01<00:00, 2\n"
          ]
        },
        {
          "metadata": {
            "tags": null
          },
          "name": "stdout",
          "output_type": "stream",
          "text": [
            "Processing STAC item: MCD15A3H.A2023185.h09v04.061.2023193121912\n"
          ]
        },
        {
          "metadata": {
            "tags": null
          },
          "name": "stderr",
          "output_type": "stream",
          "text": [
            "Downloading MCD15A3H.A2023185.h09v04.061.2023193121912_Lai_500m: 100%|█| 2.58M/2.58M [00:00<00:00, 2\n"
          ]
        },
        {
          "metadata": {
            "tags": null
          },
          "name": "stdout",
          "output_type": "stream",
          "text": [
            "Processing STAC item: MCD15A3H.A2023181.h09v04.061.2023190140015\n"
          ]
        },
        {
          "metadata": {
            "tags": null
          },
          "name": "stderr",
          "output_type": "stream",
          "text": [
            "Downloading MCD15A3H.A2023181.h09v04.061.2023190140015_Lai_500m: 100%|█| 2.63M/2.63M [00:01<00:00, 2\n"
          ]
        },
        {
          "metadata": {
            "tags": null
          },
          "name": "stdout",
          "output_type": "stream",
          "text": [
            "Processing STAC item: MCD15A3H.A2023177.h09v04.061.2023187212139\n"
          ]
        },
        {
          "metadata": {
            "tags": null
          },
          "name": "stderr",
          "output_type": "stream",
          "text": [
            "Downloading MCD15A3H.A2023177.h09v04.061.2023187212139_Lai_500m: 100%|█| 2.64M/2.64M [00:01<00:00, 2\n"
          ]
        },
        {
          "metadata": {
            "tags": null
          },
          "name": "stdout",
          "output_type": "stream",
          "text": [
            "Processing STAC item: MCD15A3H.A2023173.h09v04.061.2023178150812\n"
          ]
        },
        {
          "metadata": {
            "tags": null
          },
          "name": "stderr",
          "output_type": "stream",
          "text": [
            "Downloading MCD15A3H.A2023173.h09v04.061.2023178150812_Lai_500m: 100%|█| 2.62M/2.62M [00:01<00:00, 2\n"
          ]
        },
        {
          "metadata": {
            "tags": null
          },
          "name": "stdout",
          "output_type": "stream",
          "text": [
            "Processing STAC item: MCD15A3H.A2023169.h09v04.061.2023174040946\n"
          ]
        },
        {
          "metadata": {
            "tags": null
          },
          "name": "stderr",
          "output_type": "stream",
          "text": [
            "Downloading MCD15A3H.A2023169.h09v04.061.2023174040946_Lai_500m: 100%|█| 2.60M/2.60M [00:00<00:00, 2\n"
          ]
        },
        {
          "metadata": {
            "tags": null
          },
          "name": "stdout",
          "output_type": "stream",
          "text": [
            "Processing STAC item: MCD15A3H.A2023165.h09v04.061.2023172145243\n"
          ]
        },
        {
          "metadata": {
            "tags": null
          },
          "name": "stderr",
          "output_type": "stream",
          "text": [
            "Downloading MCD15A3H.A2023165.h09v04.061.2023172145243_Lai_500m: 100%|█| 2.59M/2.59M [00:00<00:00, 2\n"
          ]
        },
        {
          "metadata": {
            "tags": null
          },
          "name": "stdout",
          "output_type": "stream",
          "text": [
            "Processing STAC item: MCD15A3H.A2023161.h09v04.061.2023166040709\n"
          ]
        },
        {
          "metadata": {
            "tags": null
          },
          "name": "stderr",
          "output_type": "stream",
          "text": [
            "Downloading MCD15A3H.A2023161.h09v04.061.2023166040709_Lai_500m: 100%|█| 2.66M/2.66M [00:00<00:00, 2\n"
          ]
        },
        {
          "metadata": {
            "tags": null
          },
          "name": "stdout",
          "output_type": "stream",
          "text": [
            "Processing STAC item: MCD15A3H.A2023157.h09v04.061.2023164000459\n"
          ]
        },
        {
          "metadata": {
            "tags": null
          },
          "name": "stderr",
          "output_type": "stream",
          "text": [
            "Downloading MCD15A3H.A2023157.h09v04.061.2023164000459_Lai_500m: 100%|█| 2.53M/2.53M [00:00<00:00, 3\n"
          ]
        },
        {
          "metadata": {
            "tags": null
          },
          "name": "stdout",
          "output_type": "stream",
          "text": [
            "Processing STAC item: MCD15A3H.A2023153.h09v04.061.2023160175615\n"
          ]
        },
        {
          "metadata": {
            "tags": null
          },
          "name": "stderr",
          "output_type": "stream",
          "text": [
            "Downloading MCD15A3H.A2023153.h09v04.061.2023160175615_Lai_500m: 100%|█| 2.59M/2.59M [00:00<00:00, 2\n"
          ]
        },
        {
          "metadata": {
            "tags": null
          },
          "name": "stdout",
          "output_type": "stream",
          "text": [
            "Processing STAC item: MCD15A3H.A2023149.h09v04.061.2023154040515\n"
          ]
        },
        {
          "metadata": {
            "tags": null
          },
          "name": "stderr",
          "output_type": "stream",
          "text": [
            "Downloading MCD15A3H.A2023149.h09v04.061.2023154040515_Lai_500m: 100%|█| 2.56M/2.56M [00:00<00:00, 2\n"
          ]
        },
        {
          "metadata": {
            "tags": null
          },
          "name": "stdout",
          "output_type": "stream",
          "text": [
            "Processing STAC item: MCD15A3H.A2023145.h09v04.061.2023150153638\n"
          ]
        },
        {
          "metadata": {
            "tags": null
          },
          "name": "stderr",
          "output_type": "stream",
          "text": [
            "Downloading MCD15A3H.A2023145.h09v04.061.2023150153638_Lai_500m: 100%|█| 2.49M/2.49M [00:00<00:00, 3\n"
          ]
        },
        {
          "metadata": {
            "tags": null
          },
          "name": "stdout",
          "output_type": "stream",
          "text": [
            "Processing STAC item: MCD15A3H.A2023141.h09v04.061.2023146170340\n"
          ]
        },
        {
          "metadata": {
            "tags": null
          },
          "name": "stderr",
          "output_type": "stream",
          "text": [
            "Downloading MCD15A3H.A2023141.h09v04.061.2023146170340_Lai_500m: 100%|█| 2.40M/2.40M [00:00<00:00, 3\n"
          ]
        },
        {
          "metadata": {
            "tags": null
          },
          "name": "stdout",
          "output_type": "stream",
          "text": [
            "Processing STAC item: MCD15A3H.A2023137.h09v04.061.2023142231342\n"
          ]
        },
        {
          "metadata": {
            "tags": null
          },
          "name": "stderr",
          "output_type": "stream",
          "text": [
            "Downloading MCD15A3H.A2023137.h09v04.061.2023142231342_Lai_500m: 100%|█| 2.42M/2.42M [00:00<00:00, 3\n"
          ]
        },
        {
          "metadata": {
            "tags": null
          },
          "name": "stdout",
          "output_type": "stream",
          "text": [
            "Processing STAC item: MCD15A3H.A2023133.h09v04.061.2023143000211\n"
          ]
        },
        {
          "metadata": {
            "tags": null
          },
          "name": "stderr",
          "output_type": "stream",
          "text": [
            "Downloading MCD15A3H.A2023133.h09v04.061.2023143000211_Lai_500m: 100%|█| 2.32M/2.32M [00:00<00:00, 2\n"
          ]
        },
        {
          "metadata": {
            "tags": null
          },
          "name": "stdout",
          "output_type": "stream",
          "text": [
            "Processing STAC item: MCD15A3H.A2023129.h09v04.061.2023135222225\n"
          ]
        },
        {
          "metadata": {
            "tags": null
          },
          "name": "stderr",
          "output_type": "stream",
          "text": [
            "Downloading MCD15A3H.A2023129.h09v04.061.2023135222225_Lai_500m: 100%|█| 2.23M/2.23M [00:00<00:00, 2\n"
          ]
        },
        {
          "metadata": {
            "tags": null
          },
          "name": "stdout",
          "output_type": "stream",
          "text": [
            "Processing STAC item: MCD15A3H.A2023125.h09v04.061.2023130033225\n"
          ]
        },
        {
          "metadata": {
            "tags": null
          },
          "name": "stderr",
          "output_type": "stream",
          "text": [
            "Downloading MCD15A3H.A2023125.h09v04.061.2023130033225_Lai_500m: 100%|█| 2.01M/2.01M [00:01<00:00, 2\n"
          ]
        },
        {
          "metadata": {
            "tags": null
          },
          "name": "stdout",
          "output_type": "stream",
          "text": [
            "Processing STAC item: MCD15A3H.A2023121.h09v04.061.2023128231932\n"
          ]
        },
        {
          "metadata": {
            "tags": null
          },
          "name": "stderr",
          "output_type": "stream",
          "text": [
            "Downloading MCD15A3H.A2023121.h09v04.061.2023128231932_Lai_500m: 100%|█| 1.97M/1.97M [00:00<00:00, 2\n"
          ]
        },
        {
          "metadata": {
            "tags": null
          },
          "name": "stdout",
          "output_type": "stream",
          "text": [
            "Processing STAC item: MCD15A3H.A2023117.h09v04.061.2023122174708\n"
          ]
        },
        {
          "metadata": {
            "tags": null
          },
          "name": "stderr",
          "output_type": "stream",
          "text": [
            "Downloading MCD15A3H.A2023117.h09v04.061.2023122174708_Lai_500m: 100%|█| 2.00M/2.00M [00:01<00:00, 2\n"
          ]
        },
        {
          "metadata": {
            "tags": null
          },
          "name": "stdout",
          "output_type": "stream",
          "text": [
            "Processing STAC item: MCD15A3H.A2023113.h09v04.061.2023118033633\n"
          ]
        },
        {
          "metadata": {
            "tags": null
          },
          "name": "stderr",
          "output_type": "stream",
          "text": [
            "Downloading MCD15A3H.A2023113.h09v04.061.2023118033633_Lai_500m: 100%|█| 1.78M/1.78M [00:00<00:00, 2\n"
          ]
        },
        {
          "metadata": {
            "tags": null
          },
          "name": "stdout",
          "output_type": "stream",
          "text": [
            "Processing STAC item: MCD15A3H.A2023109.h09v04.061.2023115190034\n"
          ]
        },
        {
          "metadata": {
            "tags": null
          },
          "name": "stderr",
          "output_type": "stream",
          "text": [
            "Downloading MCD15A3H.A2023109.h09v04.061.2023115190034_Lai_500m: 100%|█| 1.57M/1.57M [00:00<00:00, 1\n"
          ]
        },
        {
          "metadata": {
            "tags": null
          },
          "name": "stdout",
          "output_type": "stream",
          "text": [
            "Processing STAC item: MCD15A3H.A2023105.h09v04.061.2023114145526\n"
          ]
        },
        {
          "metadata": {
            "tags": null
          },
          "name": "stderr",
          "output_type": "stream",
          "text": [
            "Downloading MCD15A3H.A2023105.h09v04.061.2023114145526_Lai_500m: 100%|█| 1.35M/1.35M [00:00<00:00, 1\n"
          ]
        },
        {
          "metadata": {
            "tags": null
          },
          "name": "stdout",
          "output_type": "stream",
          "text": [
            "Processing STAC item: MCD15A3H.A2023101.h09v04.061.2023106034232\n"
          ]
        },
        {
          "metadata": {
            "tags": null
          },
          "name": "stderr",
          "output_type": "stream",
          "text": [
            "Downloading MCD15A3H.A2023101.h09v04.061.2023106034232_Lai_500m: 100%|█| 1.68M/1.68M [00:00<00:00, 2\n"
          ]
        },
        {
          "metadata": {
            "tags": null
          },
          "name": "stdout",
          "output_type": "stream",
          "text": [
            "Processing STAC item: MCD15A3H.A2023097.h09v04.061.2023102053823\n"
          ]
        },
        {
          "metadata": {
            "tags": null
          },
          "name": "stderr",
          "output_type": "stream",
          "text": [
            "Downloading MCD15A3H.A2023097.h09v04.061.2023102053823_Lai_500m: 100%|█| 1.19M/1.19M [00:00<00:00, 1\n"
          ]
        },
        {
          "metadata": {
            "tags": null
          },
          "name": "stdout",
          "output_type": "stream",
          "text": [
            "Processing STAC item: MCD15A3H.A2023093.h09v04.061.2023098114919\n"
          ]
        },
        {
          "metadata": {
            "tags": null
          },
          "name": "stderr",
          "output_type": "stream",
          "text": [
            "Downloading MCD15A3H.A2023093.h09v04.061.2023098114919_Lai_500m: 100%|█| 1.43M/1.43M [00:00<00:00, 1\n"
          ]
        },
        {
          "metadata": {
            "tags": null
          },
          "name": "stdout",
          "output_type": "stream",
          "text": [
            "Processing STAC item: MCD15A3H.A2023089.h09v04.061.2023095085519\n"
          ]
        },
        {
          "metadata": {
            "tags": null
          },
          "name": "stderr",
          "output_type": "stream",
          "text": [
            "Downloading MCD15A3H.A2023089.h09v04.061.2023095085519_Lai_500m: 100%|█| 1.26M/1.26M [00:00<00:00, 1\n"
          ]
        },
        {
          "metadata": {
            "tags": null
          },
          "name": "stdout",
          "output_type": "stream",
          "text": [
            "Processing STAC item: MCD15A3H.A2023085.h09v04.061.2023090060828\n"
          ]
        },
        {
          "metadata": {
            "tags": null
          },
          "name": "stderr",
          "output_type": "stream",
          "text": [
            "Downloading MCD15A3H.A2023085.h09v04.061.2023090060828_Lai_500m: 100%|█| 1.42M/1.42M [00:00<00:00, 1\n"
          ]
        },
        {
          "metadata": {
            "tags": null
          },
          "name": "stdout",
          "output_type": "stream",
          "text": [
            "Processing STAC item: MCD15A3H.A2023081.h09v04.061.2023086032508\n"
          ]
        },
        {
          "metadata": {
            "tags": null
          },
          "name": "stderr",
          "output_type": "stream",
          "text": [
            "Downloading MCD15A3H.A2023081.h09v04.061.2023086032508_Lai_500m: 100%|█| 1.42M/1.42M [00:00<00:00, 1\n"
          ]
        },
        {
          "metadata": {
            "tags": null
          },
          "name": "stdout",
          "output_type": "stream",
          "text": [
            "Processing STAC item: MCD15A3H.A2023077.h09v04.061.2023082143826\n"
          ]
        },
        {
          "metadata": {
            "tags": null
          },
          "name": "stderr",
          "output_type": "stream",
          "text": [
            "Downloading MCD15A3H.A2023077.h09v04.061.2023082143826_Lai_500m: 100%|█| 1.54M/1.54M [00:00<00:00, 1\n"
          ]
        },
        {
          "metadata": {
            "tags": null
          },
          "name": "stdout",
          "output_type": "stream",
          "text": [
            "Processing STAC item: MCD15A3H.A2023073.h09v04.061.2023078031716\n"
          ]
        },
        {
          "metadata": {
            "tags": null
          },
          "name": "stderr",
          "output_type": "stream",
          "text": [
            "Downloading MCD15A3H.A2023073.h09v04.061.2023078031716_Lai_500m: 100%|█| 1.42M/1.42M [00:00<00:00, 1\n"
          ]
        },
        {
          "metadata": {
            "tags": null
          },
          "name": "stdout",
          "output_type": "stream",
          "text": [
            "Processing STAC item: MCD15A3H.A2023069.h09v04.061.2023074074801\n"
          ]
        },
        {
          "metadata": {
            "tags": null
          },
          "name": "stderr",
          "output_type": "stream",
          "text": [
            "Downloading MCD15A3H.A2023069.h09v04.061.2023074074801_Lai_500m: 100%|█| 1.27M/1.27M [00:00<00:00, 1\n"
          ]
        },
        {
          "metadata": {
            "tags": null
          },
          "name": "stdout",
          "output_type": "stream",
          "text": [
            "Processing STAC item: MCD15A3H.A2023057.h09v04.061.2023062051611\n"
          ]
        },
        {
          "metadata": {
            "tags": null
          },
          "name": "stderr",
          "output_type": "stream",
          "text": [
            "Downloading MCD15A3H.A2023057.h09v04.061.2023062051611_Lai_500m: 100%|█| 1.13M/1.13M [00:00<00:00, 1\n"
          ]
        },
        {
          "metadata": {
            "tags": null
          },
          "name": "stdout",
          "output_type": "stream",
          "text": [
            "Processing STAC item: MCD15A3H.A2023053.h09v04.061.2023060180021\n"
          ]
        },
        {
          "metadata": {
            "tags": null
          },
          "name": "stderr",
          "output_type": "stream",
          "text": [
            "Downloading MCD15A3H.A2023053.h09v04.061.2023060180021_Lai_500m: 100%|█| 1.34M/1.34M [00:00<00:00, 1\n"
          ]
        },
        {
          "metadata": {
            "tags": null
          },
          "name": "stdout",
          "output_type": "stream",
          "text": [
            "Processing STAC item: MCD15A3H.A2023049.h09v04.061.2023056172827\n"
          ]
        },
        {
          "metadata": {
            "tags": null
          },
          "name": "stderr",
          "output_type": "stream",
          "text": [
            "Downloading MCD15A3H.A2023049.h09v04.061.2023056172827_Lai_500m: 100%|█| 1.12M/1.12M [00:00<00:00, 1\n"
          ]
        },
        {
          "metadata": {
            "tags": null
          },
          "name": "stdout",
          "output_type": "stream",
          "text": [
            "Processing STAC item: MCD15A3H.A2023045.h09v04.061.2023056054409\n"
          ]
        },
        {
          "metadata": {
            "tags": null
          },
          "name": "stderr",
          "output_type": "stream",
          "text": [
            "Downloading MCD15A3H.A2023045.h09v04.061.2023056054409_Lai_500m: 100%|█| 1.42M/1.42M [00:00<00:00, 1\n"
          ]
        },
        {
          "metadata": {
            "tags": null
          },
          "name": "stdout",
          "output_type": "stream",
          "text": [
            "Processing STAC item: MCD15A3H.A2023041.h09v04.061.2023046103626\n"
          ]
        },
        {
          "metadata": {
            "tags": null
          },
          "name": "stderr",
          "output_type": "stream",
          "text": [
            "Downloading MCD15A3H.A2023041.h09v04.061.2023046103626_Lai_500m: 100%|█| 1.42M/1.42M [00:00<00:00, 1\n"
          ]
        },
        {
          "metadata": {
            "tags": null
          },
          "name": "stdout",
          "output_type": "stream",
          "text": [
            "Processing STAC item: MCD15A3H.A2023037.h09v04.061.2023044142456\n"
          ]
        },
        {
          "metadata": {
            "tags": null
          },
          "name": "stderr",
          "output_type": "stream",
          "text": [
            "Downloading MCD15A3H.A2023037.h09v04.061.2023044142456_Lai_500m: 100%|█| 1.40M/1.40M [00:00<00:00, 1\n"
          ]
        },
        {
          "metadata": {
            "tags": null
          },
          "name": "stdout",
          "output_type": "stream",
          "text": [
            "Processing STAC item: MCD15A3H.A2023033.h09v04.061.2023038235859\n"
          ]
        },
        {
          "metadata": {
            "tags": null
          },
          "name": "stderr",
          "output_type": "stream",
          "text": [
            "Downloading MCD15A3H.A2023033.h09v04.061.2023038235859_Lai_500m: 100%|█| 1.12M/1.12M [00:00<00:00, 1\n"
          ]
        },
        {
          "metadata": {
            "tags": null
          },
          "name": "stdout",
          "output_type": "stream",
          "text": [
            "Processing STAC item: MCD15A3H.A2023029.h09v04.061.2023035153002\n"
          ]
        },
        {
          "metadata": {
            "tags": null
          },
          "name": "stderr",
          "output_type": "stream",
          "text": [
            "Downloading MCD15A3H.A2023029.h09v04.061.2023035153002_Lai_500m: 100%|█| 1.43M/1.43M [00:00<00:00, 1\n"
          ]
        },
        {
          "metadata": {
            "tags": null
          },
          "name": "stdout",
          "output_type": "stream",
          "text": [
            "Processing STAC item: MCD15A3H.A2023025.h09v04.061.2023030033116\n"
          ]
        },
        {
          "metadata": {
            "tags": null
          },
          "name": "stderr",
          "output_type": "stream",
          "text": [
            "Downloading MCD15A3H.A2023025.h09v04.061.2023030033116_Lai_500m: 100%|█| 1.19M/1.19M [00:00<00:00, 1\n"
          ]
        },
        {
          "metadata": {
            "tags": null
          },
          "name": "stdout",
          "output_type": "stream",
          "text": [
            "Processing STAC item: MCD15A3H.A2023021.h09v04.061.2023026232254\n"
          ]
        },
        {
          "metadata": {
            "tags": null
          },
          "name": "stderr",
          "output_type": "stream",
          "text": [
            "Downloading MCD15A3H.A2023021.h09v04.061.2023026232254_Lai_500m: 100%|█| 1.29M/1.29M [00:00<00:00, 1\n"
          ]
        },
        {
          "metadata": {
            "tags": null
          },
          "name": "stdout",
          "output_type": "stream",
          "text": [
            "Processing STAC item: MCD15A3H.A2023017.h09v04.061.2023025150138\n"
          ]
        },
        {
          "metadata": {
            "tags": null
          },
          "name": "stderr",
          "output_type": "stream",
          "text": [
            "Downloading MCD15A3H.A2023017.h09v04.061.2023025150138_Lai_500m: 100%|█| 1.29M/1.29M [00:00<00:00, 1\n"
          ]
        },
        {
          "metadata": {
            "tags": null
          },
          "name": "stdout",
          "output_type": "stream",
          "text": [
            "Processing STAC item: MCD15A3H.A2023013.h09v04.061.2023019024800\n"
          ]
        },
        {
          "metadata": {
            "tags": null
          },
          "name": "stderr",
          "output_type": "stream",
          "text": [
            "Downloading MCD15A3H.A2023013.h09v04.061.2023019024800_Lai_500m: 100%|█| 1.17M/1.17M [00:00<00:00, 1\n"
          ]
        },
        {
          "metadata": {
            "tags": null
          },
          "name": "stdout",
          "output_type": "stream",
          "text": [
            "Processing STAC item: MCD15A3H.A2023009.h09v04.061.2023019172056\n"
          ]
        },
        {
          "metadata": {
            "tags": null
          },
          "name": "stderr",
          "output_type": "stream",
          "text": [
            "Downloading MCD15A3H.A2023009.h09v04.061.2023019172056_Lai_500m: 100%|█| 1.08M/1.08M [00:00<00:00, 1\n"
          ]
        },
        {
          "metadata": {
            "tags": null
          },
          "name": "stdout",
          "output_type": "stream",
          "text": [
            "Processing STAC item: MCD15A3H.A2023005.h09v04.061.2023014081349\n"
          ]
        },
        {
          "metadata": {
            "tags": null
          },
          "name": "stderr",
          "output_type": "stream",
          "text": [
            "Downloading MCD15A3H.A2023005.h09v04.061.2023014081349_Lai_500m: 100%|█| 972k/972k [00:00<00:00, 1.5\n"
          ]
        },
        {
          "metadata": {
            "tags": null
          },
          "name": "stdout",
          "output_type": "stream",
          "text": [
            "Processing STAC item: MCD15A3H.A2023001.h09v04.061.2023007051539\n"
          ]
        },
        {
          "metadata": {
            "tags": null
          },
          "name": "stderr",
          "output_type": "stream",
          "text": [
            "Downloading MCD15A3H.A2023001.h09v04.061.2023007051539_Lai_500m: 100%|█| 1.26M/1.26M [00:00<00:00, 1\n"
          ]
        },
        {
          "metadata": {
            "tags": null
          },
          "name": "stdout",
          "output_type": "stream",
          "text": [
            "Processing STAC item: MCD15A3H.A2022365.h09v04.061.2023006110131\n"
          ]
        },
        {
          "metadata": {
            "tags": null
          },
          "name": "stderr",
          "output_type": "stream",
          "text": [
            "Downloading MCD15A3H.A2022365.h09v04.061.2023006110131_Lai_500m: 100%|█| 1.26M/1.26M [00:00<00:00, 1\n"
          ]
        },
        {
          "metadata": {
            "tags": null
          },
          "name": "stdout",
          "output_type": "stream",
          "text": [
            "Processing STAC item: MCD15A3H.A2022361.h09v04.061.2023001164455\n"
          ]
        },
        {
          "metadata": {
            "tags": null
          },
          "name": "stderr",
          "output_type": "stream",
          "text": [
            "Downloading MCD15A3H.A2022361.h09v04.061.2023001164455_Lai_500m: 100%|█| 1.06M/1.06M [00:00<00:00, 1\n"
          ]
        },
        {
          "metadata": {
            "tags": null
          },
          "name": "stdout",
          "output_type": "stream",
          "text": [
            "Processing STAC item: MCD15A3H.A2022357.h09v04.061.2022363091832\n"
          ]
        },
        {
          "metadata": {
            "tags": null
          },
          "name": "stderr",
          "output_type": "stream",
          "text": [
            "Downloading MCD15A3H.A2022357.h09v04.061.2022363091832_Lai_500m: 100%|█| 668k/668k [00:00<00:00, 1.0\n"
          ]
        },
        {
          "metadata": {
            "tags": null
          },
          "name": "stdout",
          "output_type": "stream",
          "text": [
            "Processing STAC item: MCD15A3H.A2022353.h09v04.061.2022360061021\n"
          ]
        },
        {
          "metadata": {
            "tags": null
          },
          "name": "stderr",
          "output_type": "stream",
          "text": [
            "Downloading MCD15A3H.A2022353.h09v04.061.2022360061021_Lai_500m: 100%|█| 1.15M/1.15M [00:00<00:00, 1\n"
          ]
        },
        {
          "metadata": {
            "tags": null
          },
          "name": "stdout",
          "output_type": "stream",
          "text": [
            "Processing STAC item: MCD15A3H.A2022349.h09v04.061.2022360183646\n"
          ]
        },
        {
          "metadata": {
            "tags": null
          },
          "name": "stderr",
          "output_type": "stream",
          "text": [
            "Downloading MCD15A3H.A2022349.h09v04.061.2022360183646_Lai_500m: 100%|█| 1.38M/1.38M [00:00<00:00, 2\n"
          ]
        },
        {
          "metadata": {
            "tags": null
          },
          "name": "stdout",
          "output_type": "stream",
          "text": [
            "Processing STAC item: MCD15A3H.A2022345.h09v04.061.2022356221218\n"
          ]
        },
        {
          "metadata": {
            "tags": null
          },
          "name": "stderr",
          "output_type": "stream",
          "text": [
            "Downloading MCD15A3H.A2022345.h09v04.061.2022356221218_Lai_500m: 100%|█| 1.16M/1.16M [00:00<00:00, 1\n"
          ]
        },
        {
          "metadata": {
            "tags": null
          },
          "name": "stdout",
          "output_type": "stream",
          "text": [
            "Processing STAC item: MCD15A3H.A2022341.h09v04.061.2022352221906\n"
          ]
        },
        {
          "metadata": {
            "tags": null
          },
          "name": "stderr",
          "output_type": "stream",
          "text": [
            "Downloading MCD15A3H.A2022341.h09v04.061.2022352221906_Lai_500m: 100%|█| 1.16M/1.16M [00:00<00:00, 1\n"
          ]
        },
        {
          "metadata": {
            "tags": null
          },
          "name": "stdout",
          "output_type": "stream",
          "text": [
            "Processing STAC item: MCD15A3H.A2022337.h09v04.061.2022351135250\n"
          ]
        },
        {
          "metadata": {
            "tags": null
          },
          "name": "stderr",
          "output_type": "stream",
          "text": [
            "Downloading MCD15A3H.A2022337.h09v04.061.2022351135250_Lai_500m: 100%|█| 1.39M/1.39M [00:00<00:00, 1\n"
          ]
        },
        {
          "metadata": {
            "tags": null
          },
          "name": "stdout",
          "output_type": "stream",
          "text": [
            "Processing STAC item: MCD15A3H.A2022333.h09v04.061.2022351013150\n"
          ]
        },
        {
          "metadata": {
            "tags": null
          },
          "name": "stderr",
          "output_type": "stream",
          "text": [
            "Downloading MCD15A3H.A2022333.h09v04.061.2022351013150_Lai_500m: 100%|█| 1.22M/1.22M [00:00<00:00, 1\n"
          ]
        },
        {
          "metadata": {
            "tags": null
          },
          "name": "stdout",
          "output_type": "stream",
          "text": [
            "Processing STAC item: MCD15A3H.A2022329.h09v04.061.2022334051656\n"
          ]
        },
        {
          "metadata": {
            "tags": null
          },
          "name": "stderr",
          "output_type": "stream",
          "text": [
            "Downloading MCD15A3H.A2022329.h09v04.061.2022334051656_Lai_500m: 100%|█| 1.55M/1.55M [00:00<00:00, 1\n"
          ]
        },
        {
          "metadata": {
            "tags": null
          },
          "name": "stdout",
          "output_type": "stream",
          "text": [
            "Processing STAC item: MCD15A3H.A2022325.h09v04.061.2022330060052\n"
          ]
        },
        {
          "metadata": {
            "tags": null
          },
          "name": "stderr",
          "output_type": "stream",
          "text": [
            "Downloading MCD15A3H.A2022325.h09v04.061.2022330060052_Lai_500m: 100%|█| 1.72M/1.72M [00:00<00:00, 2\n"
          ]
        },
        {
          "metadata": {
            "tags": null
          },
          "name": "stdout",
          "output_type": "stream",
          "text": [
            "Processing STAC item: MCD15A3H.A2022321.h09v04.061.2022326045132\n"
          ]
        },
        {
          "metadata": {
            "tags": null
          },
          "name": "stderr",
          "output_type": "stream",
          "text": [
            "Downloading MCD15A3H.A2022321.h09v04.061.2022326045132_Lai_500m: 100%|█| 1.79M/1.79M [00:00<00:00, 2\n"
          ]
        },
        {
          "metadata": {
            "tags": null
          },
          "name": "stdout",
          "output_type": "stream",
          "text": [
            "Processing STAC item: MCD15A3H.A2022317.h09v04.061.2022322054757\n"
          ]
        },
        {
          "metadata": {
            "tags": null
          },
          "name": "stderr",
          "output_type": "stream",
          "text": [
            "Downloading MCD15A3H.A2022317.h09v04.061.2022322054757_Lai_500m: 100%|█| 1.76M/1.76M [00:00<00:00, 2\n"
          ]
        },
        {
          "metadata": {
            "tags": null
          },
          "name": "stdout",
          "output_type": "stream",
          "text": [
            "Processing STAC item: MCD15A3H.A2022313.h09v04.061.2022321171455\n"
          ]
        },
        {
          "metadata": {
            "tags": null
          },
          "name": "stderr",
          "output_type": "stream",
          "text": [
            "Downloading MCD15A3H.A2022313.h09v04.061.2022321171455_Lai_500m: 100%|█| 1.65M/1.65M [00:00<00:00, 2\n"
          ]
        },
        {
          "metadata": {
            "tags": null
          },
          "name": "stdout",
          "output_type": "stream",
          "text": [
            "Processing STAC item: MCD15A3H.A2022309.h09v04.061.2022321170956\n"
          ]
        },
        {
          "metadata": {
            "tags": null
          },
          "name": "stderr",
          "output_type": "stream",
          "text": [
            "Downloading MCD15A3H.A2022309.h09v04.061.2022321170956_Lai_500m: 100%|█| 1.61M/1.61M [00:01<00:00, 1\n"
          ]
        },
        {
          "metadata": {
            "tags": null
          },
          "name": "stdout",
          "output_type": "stream",
          "text": [
            "Processing STAC item: MCD15A3H.A2022305.h09v04.061.2022313082925\n"
          ]
        },
        {
          "metadata": {
            "tags": null
          },
          "name": "stderr",
          "output_type": "stream",
          "text": [
            "Downloading MCD15A3H.A2022305.h09v04.061.2022313082925_Lai_500m: 100%|█| 1.51M/1.51M [00:00<00:00, 1\n"
          ]
        },
        {
          "metadata": {
            "tags": null
          },
          "name": "stdout",
          "output_type": "stream",
          "text": [
            "Processing STAC item: MCD15A3H.A2022301.h09v04.061.2022313081721\n"
          ]
        },
        {
          "metadata": {
            "tags": null
          },
          "name": "stderr",
          "output_type": "stream",
          "text": [
            "Downloading MCD15A3H.A2022301.h09v04.061.2022313081721_Lai_500m: 100%|█| 1.70M/1.70M [00:00<00:00, 1\n"
          ]
        },
        {
          "metadata": {
            "tags": null
          },
          "name": "stdout",
          "output_type": "stream",
          "text": [
            "Processing STAC item: MCD15A3H.A2022297.h09v04.061.2022307015804\n"
          ]
        },
        {
          "metadata": {
            "tags": null
          },
          "name": "stderr",
          "output_type": "stream",
          "text": [
            "Downloading MCD15A3H.A2022297.h09v04.061.2022307015804_Lai_500m: 100%|█| 1.69M/1.69M [00:00<00:00, 2\n"
          ]
        },
        {
          "metadata": {
            "tags": null
          },
          "name": "stdout",
          "output_type": "stream",
          "text": [
            "Processing STAC item: MCD15A3H.A2022281.h09v04.061.2022287191257\n"
          ]
        },
        {
          "metadata": {
            "tags": null
          },
          "name": "stderr",
          "output_type": "stream",
          "text": [
            "Downloading MCD15A3H.A2022281.h09v04.061.2022287191257_Lai_500m: 100%|█| 1.98M/1.98M [00:01<00:00, 2\n"
          ]
        },
        {
          "metadata": {
            "tags": null
          },
          "name": "stdout",
          "output_type": "stream",
          "text": [
            "Processing STAC item: MCD15A3H.A2022277.h09v04.061.2022284170957\n"
          ]
        },
        {
          "metadata": {
            "tags": null
          },
          "name": "stderr",
          "output_type": "stream",
          "text": [
            "Downloading MCD15A3H.A2022277.h09v04.061.2022284170957_Lai_500m: 100%|█| 2.04M/2.04M [00:01<00:00, 2\n"
          ]
        },
        {
          "metadata": {
            "tags": null
          },
          "name": "stdout",
          "output_type": "stream",
          "text": [
            "Processing STAC item: MCD15A3H.A2022273.h09v04.061.2022278051940\n"
          ]
        },
        {
          "metadata": {
            "tags": null
          },
          "name": "stderr",
          "output_type": "stream",
          "text": [
            "Downloading MCD15A3H.A2022273.h09v04.061.2022278051940_Lai_500m: 100%|█| 2.13M/2.13M [00:00<00:00, 2\n"
          ]
        },
        {
          "metadata": {
            "tags": null
          },
          "name": "stdout",
          "output_type": "stream",
          "text": [
            "Processing STAC item: MCD15A3H.A2022269.h09v04.061.2022274053728\n"
          ]
        },
        {
          "metadata": {
            "tags": null
          },
          "name": "stderr",
          "output_type": "stream",
          "text": [
            "Downloading MCD15A3H.A2022269.h09v04.061.2022274053728_Lai_500m: 100%|█| 2.11M/2.11M [00:00<00:00, 2\n"
          ]
        },
        {
          "metadata": {
            "tags": null
          },
          "name": "stdout",
          "output_type": "stream",
          "text": [
            "Processing STAC item: MCD15A3H.A2022265.h09v04.061.2022270055302\n"
          ]
        },
        {
          "metadata": {
            "tags": null
          },
          "name": "stderr",
          "output_type": "stream",
          "text": [
            "Downloading MCD15A3H.A2022265.h09v04.061.2022270055302_Lai_500m: 100%|█| 2.15M/2.15M [00:00<00:00, 2\n"
          ]
        },
        {
          "metadata": {
            "tags": null
          },
          "name": "stdout",
          "output_type": "stream",
          "text": [
            "Processing STAC item: MCD15A3H.A2022261.h09v04.061.2022266062159\n"
          ]
        },
        {
          "metadata": {
            "tags": null
          },
          "name": "stderr",
          "output_type": "stream",
          "text": [
            "Downloading MCD15A3H.A2022261.h09v04.061.2022266062159_Lai_500m: 100%|█| 2.15M/2.15M [00:00<00:00, 2\n"
          ]
        },
        {
          "metadata": {
            "tags": null
          },
          "name": "stdout",
          "output_type": "stream",
          "text": [
            "Processing STAC item: MCD15A3H.A2022257.h09v04.061.2022263193923\n"
          ]
        },
        {
          "metadata": {
            "tags": null
          },
          "name": "stderr",
          "output_type": "stream",
          "text": [
            "Downloading MCD15A3H.A2022257.h09v04.061.2022263193923_Lai_500m: 100%|█| 2.09M/2.09M [00:00<00:00, 2\n"
          ]
        },
        {
          "metadata": {
            "tags": null
          },
          "name": "stdout",
          "output_type": "stream",
          "text": [
            "Processing STAC item: MCD15A3H.A2022253.h09v04.061.2022258174200\n"
          ]
        },
        {
          "metadata": {
            "tags": null
          },
          "name": "stderr",
          "output_type": "stream",
          "text": [
            "Downloading MCD15A3H.A2022253.h09v04.061.2022258174200_Lai_500m: 100%|█| 2.12M/2.12M [00:00<00:00, 2\n"
          ]
        },
        {
          "metadata": {
            "tags": null
          },
          "name": "stdout",
          "output_type": "stream",
          "text": [
            "Processing STAC item: MCD15A3H.A2022249.h09v04.061.2022258043243\n"
          ]
        },
        {
          "metadata": {
            "tags": null
          },
          "name": "stderr",
          "output_type": "stream",
          "text": [
            "Downloading MCD15A3H.A2022249.h09v04.061.2022258043243_Lai_500m: 100%|█| 2.18M/2.18M [00:01<00:00, 2\n"
          ]
        },
        {
          "metadata": {
            "tags": null
          },
          "name": "stdout",
          "output_type": "stream",
          "text": [
            "Processing STAC item: MCD15A3H.A2022245.h09v04.061.2022250043930\n"
          ]
        },
        {
          "metadata": {
            "tags": null
          },
          "name": "stderr",
          "output_type": "stream",
          "text": [
            "Downloading MCD15A3H.A2022245.h09v04.061.2022250043930_Lai_500m: 100%|█| 2.18M/2.18M [00:01<00:00, 2\n"
          ]
        },
        {
          "metadata": {
            "tags": null
          },
          "name": "stdout",
          "output_type": "stream",
          "text": [
            "Processing STAC item: MCD15A3H.A2022241.h09v04.061.2022249013150\n"
          ]
        },
        {
          "metadata": {
            "tags": null
          },
          "name": "stderr",
          "output_type": "stream",
          "text": [
            "Downloading MCD15A3H.A2022241.h09v04.061.2022249013150_Lai_500m: 100%|█| 2.22M/2.22M [00:00<00:00, 2\n"
          ]
        },
        {
          "metadata": {
            "tags": null
          },
          "name": "stdout",
          "output_type": "stream",
          "text": [
            "Processing STAC item: MCD15A3H.A2022237.h09v04.061.2022242041239\n"
          ]
        },
        {
          "metadata": {
            "tags": null
          },
          "name": "stderr",
          "output_type": "stream",
          "text": [
            "Downloading MCD15A3H.A2022237.h09v04.061.2022242041239_Lai_500m: 100%|█| 2.26M/2.26M [00:00<00:00, 2\n"
          ]
        },
        {
          "metadata": {
            "tags": null
          },
          "name": "stdout",
          "output_type": "stream",
          "text": [
            "Processing STAC item: MCD15A3H.A2022233.h09v04.061.2022238185018\n"
          ]
        },
        {
          "metadata": {
            "tags": null
          },
          "name": "stderr",
          "output_type": "stream",
          "text": [
            "Downloading MCD15A3H.A2022233.h09v04.061.2022238185018_Lai_500m: 100%|█| 2.31M/2.31M [00:01<00:00, 2\n"
          ]
        },
        {
          "metadata": {
            "tags": null
          },
          "name": "stdout",
          "output_type": "stream",
          "text": [
            "Processing STAC item: MCD15A3H.A2022229.h09v04.061.2022234230526\n"
          ]
        },
        {
          "metadata": {
            "tags": null
          },
          "name": "stderr",
          "output_type": "stream",
          "text": [
            "Downloading MCD15A3H.A2022229.h09v04.061.2022234230526_Lai_500m: 100%|█| 2.32M/2.32M [00:01<00:00, 2\n"
          ]
        },
        {
          "metadata": {
            "tags": null
          },
          "name": "stdout",
          "output_type": "stream",
          "text": [
            "Processing STAC item: MCD15A3H.A2022225.h09v04.061.2022233002945\n"
          ]
        },
        {
          "metadata": {
            "tags": null
          },
          "name": "stderr",
          "output_type": "stream",
          "text": [
            "Downloading MCD15A3H.A2022225.h09v04.061.2022233002945_Lai_500m: 100%|█| 2.34M/2.34M [00:01<00:00, 2\n"
          ]
        },
        {
          "metadata": {
            "tags": null
          },
          "name": "stdout",
          "output_type": "stream",
          "text": [
            "Processing STAC item: MCD15A3H.A2022221.h09v04.061.2022228201813\n"
          ]
        },
        {
          "metadata": {
            "tags": null
          },
          "name": "stderr",
          "output_type": "stream",
          "text": [
            "Downloading MCD15A3H.A2022221.h09v04.061.2022228201813_Lai_500m: 100%|█| 2.34M/2.34M [00:01<00:00, 2\n"
          ]
        },
        {
          "metadata": {
            "tags": null
          },
          "name": "stdout",
          "output_type": "stream",
          "text": [
            "Processing STAC item: MCD15A3H.A2022217.h09v04.061.2022222045116\n"
          ]
        },
        {
          "metadata": {
            "tags": null
          },
          "name": "stderr",
          "output_type": "stream",
          "text": [
            "Downloading MCD15A3H.A2022217.h09v04.061.2022222045116_Lai_500m: 100%|█| 2.37M/2.37M [00:01<00:00, 2\n"
          ]
        },
        {
          "metadata": {
            "tags": null
          },
          "name": "stdout",
          "output_type": "stream",
          "text": [
            "Processing STAC item: MCD15A3H.A2022213.h09v04.061.2022218052103\n"
          ]
        },
        {
          "metadata": {
            "tags": null
          },
          "name": "stderr",
          "output_type": "stream",
          "text": [
            "Downloading MCD15A3H.A2022213.h09v04.061.2022218052103_Lai_500m: 100%|█| 2.35M/2.35M [00:01<00:00, 2\n"
          ]
        },
        {
          "metadata": {
            "tags": null
          },
          "name": "stdout",
          "output_type": "stream",
          "text": [
            "Processing STAC item: MCD15A3H.A2022209.h09v04.061.2022215090409\n"
          ]
        },
        {
          "metadata": {
            "tags": null
          },
          "name": "stderr",
          "output_type": "stream",
          "text": [
            "Downloading MCD15A3H.A2022209.h09v04.061.2022215090409_Lai_500m: 100%|█| 2.36M/2.36M [00:00<00:00, 2\n"
          ]
        },
        {
          "metadata": {
            "tags": null
          },
          "name": "stdout",
          "output_type": "stream",
          "text": [
            "Processing STAC item: MCD15A3H.A2022205.h09v04.061.2022210071059\n"
          ]
        },
        {
          "metadata": {
            "tags": null
          },
          "name": "stderr",
          "output_type": "stream",
          "text": [
            "Downloading MCD15A3H.A2022205.h09v04.061.2022210071059_Lai_500m: 100%|█| 2.36M/2.36M [00:00<00:00, 2\n"
          ]
        },
        {
          "metadata": {
            "tags": null
          },
          "name": "stdout",
          "output_type": "stream",
          "text": [
            "Processing STAC item: MCD15A3H.A2022201.h09v04.061.2022206182833\n"
          ]
        },
        {
          "metadata": {
            "tags": null
          },
          "name": "stderr",
          "output_type": "stream",
          "text": [
            "Downloading MCD15A3H.A2022201.h09v04.061.2022206182833_Lai_500m: 100%|█| 2.43M/2.43M [00:01<00:00, 2\n"
          ]
        },
        {
          "metadata": {
            "tags": null
          },
          "name": "stdout",
          "output_type": "stream",
          "text": [
            "Processing STAC item: MCD15A3H.A2022197.h09v04.061.2022202064210\n"
          ]
        },
        {
          "metadata": {
            "tags": null
          },
          "name": "stderr",
          "output_type": "stream",
          "text": [
            "Downloading MCD15A3H.A2022197.h09v04.061.2022202064210_Lai_500m: 100%|█| 2.42M/2.42M [00:00<00:00, 2\n"
          ]
        },
        {
          "metadata": {
            "tags": null
          },
          "name": "stdout",
          "output_type": "stream",
          "text": [
            "Processing STAC item: MCD15A3H.A2022193.h09v04.061.2022200012029\n"
          ]
        },
        {
          "metadata": {
            "tags": null
          },
          "name": "stderr",
          "output_type": "stream",
          "text": [
            "Downloading MCD15A3H.A2022193.h09v04.061.2022200012029_Lai_500m: 100%|█| 2.45M/2.45M [00:01<00:00, 2\n"
          ]
        },
        {
          "metadata": {
            "tags": null
          },
          "name": "stdout",
          "output_type": "stream",
          "text": [
            "Processing STAC item: MCD15A3H.A2022189.h09v04.061.2022194182507\n"
          ]
        },
        {
          "metadata": {
            "tags": null
          },
          "name": "stderr",
          "output_type": "stream",
          "text": [
            "Downloading MCD15A3H.A2022189.h09v04.061.2022194182507_Lai_500m: 100%|█| 2.49M/2.49M [00:00<00:00, 2\n"
          ]
        },
        {
          "metadata": {
            "tags": null
          },
          "name": "stdout",
          "output_type": "stream",
          "text": [
            "Processing STAC item: MCD15A3H.A2022185.h09v04.061.2022192185716\n"
          ]
        },
        {
          "metadata": {
            "tags": null
          },
          "name": "stderr",
          "output_type": "stream",
          "text": [
            "Downloading MCD15A3H.A2022185.h09v04.061.2022192185716_Lai_500m: 100%|█| 2.50M/2.50M [00:00<00:00, 2\n"
          ]
        },
        {
          "metadata": {
            "tags": null
          },
          "name": "stdout",
          "output_type": "stream",
          "text": [
            "Processing STAC item: MCD15A3H.A2022181.h09v04.061.2022186050411\n"
          ]
        },
        {
          "metadata": {
            "tags": null
          },
          "name": "stderr",
          "output_type": "stream",
          "text": [
            "Downloading MCD15A3H.A2022181.h09v04.061.2022186050411_Lai_500m: 100%|█| 2.52M/2.52M [00:01<00:00, 2\n"
          ]
        },
        {
          "metadata": {
            "tags": null
          },
          "name": "stdout",
          "output_type": "stream",
          "text": [
            "Processing STAC item: MCD15A3H.A2022177.h09v04.061.2022182171736\n"
          ]
        },
        {
          "metadata": {
            "tags": null
          },
          "name": "stderr",
          "output_type": "stream",
          "text": [
            "Downloading MCD15A3H.A2022177.h09v04.061.2022182171736_Lai_500m: 100%|█| 2.53M/2.53M [00:01<00:00, 2\n"
          ]
        },
        {
          "metadata": {
            "tags": null
          },
          "name": "stdout",
          "output_type": "stream",
          "text": [
            "Processing STAC item: MCD15A3H.A2022173.h09v04.061.2022178213556\n"
          ]
        },
        {
          "metadata": {
            "tags": null
          },
          "name": "stderr",
          "output_type": "stream",
          "text": [
            "Downloading MCD15A3H.A2022173.h09v04.061.2022178213556_Lai_500m: 100%|█| 2.55M/2.55M [00:00<00:00, 2\n"
          ]
        },
        {
          "metadata": {
            "tags": null
          },
          "name": "stdout",
          "output_type": "stream",
          "text": [
            "Processing STAC item: MCD15A3H.A2022169.h09v04.061.2022174125108\n"
          ]
        },
        {
          "metadata": {
            "tags": null
          },
          "name": "stderr",
          "output_type": "stream",
          "text": [
            "Downloading MCD15A3H.A2022169.h09v04.061.2022174125108_Lai_500m: 100%|█| 2.54M/2.54M [00:01<00:00, 2\n"
          ]
        },
        {
          "metadata": {
            "tags": null
          },
          "name": "stdout",
          "output_type": "stream",
          "text": [
            "Processing STAC item: MCD15A3H.A2022165.h09v04.061.2022170052540\n"
          ]
        },
        {
          "metadata": {
            "tags": null
          },
          "name": "stderr",
          "output_type": "stream",
          "text": [
            "Downloading MCD15A3H.A2022165.h09v04.061.2022170052540_Lai_500m: 100%|█| 2.48M/2.48M [00:00<00:00, 2\n"
          ]
        },
        {
          "metadata": {
            "tags": null
          },
          "name": "stdout",
          "output_type": "stream",
          "text": [
            "Processing STAC item: MCD15A3H.A2022161.h09v04.061.2022168143701\n"
          ]
        },
        {
          "metadata": {
            "tags": null
          },
          "name": "stderr",
          "output_type": "stream",
          "text": [
            "Downloading MCD15A3H.A2022161.h09v04.061.2022168143701_Lai_500m: 100%|█| 2.17M/2.17M [00:00<00:00, 2\n"
          ]
        },
        {
          "metadata": {
            "tags": null
          },
          "name": "stdout",
          "output_type": "stream",
          "text": [
            "Processing STAC item: MCD15A3H.A2022157.h09v04.061.2022162060854\n"
          ]
        },
        {
          "metadata": {
            "tags": null
          },
          "name": "stderr",
          "output_type": "stream",
          "text": [
            "Downloading MCD15A3H.A2022157.h09v04.061.2022162060854_Lai_500m: 100%|█| 2.41M/2.41M [00:00<00:00, 2\n"
          ]
        },
        {
          "metadata": {
            "tags": null
          },
          "name": "stdout",
          "output_type": "stream",
          "text": [
            "Processing STAC item: MCD15A3H.A2022153.h09v04.061.2022158074722\n"
          ]
        },
        {
          "metadata": {
            "tags": null
          },
          "name": "stderr",
          "output_type": "stream",
          "text": [
            "Downloading MCD15A3H.A2022153.h09v04.061.2022158074722_Lai_500m: 100%|█| 2.21M/2.21M [00:00<00:00, 2\n"
          ]
        },
        {
          "metadata": {
            "tags": null
          },
          "name": "stdout",
          "output_type": "stream",
          "text": [
            "Processing STAC item: MCD15A3H.A2022149.h09v04.061.2022154063750\n"
          ]
        },
        {
          "metadata": {
            "tags": null
          },
          "name": "stderr",
          "output_type": "stream",
          "text": [
            "Downloading MCD15A3H.A2022149.h09v04.061.2022154063750_Lai_500m: 100%|█| 2.43M/2.43M [00:00<00:00, 2\n"
          ]
        },
        {
          "metadata": {
            "tags": null
          },
          "name": "stdout",
          "output_type": "stream",
          "text": [
            "Processing STAC item: MCD15A3H.A2022145.h09v04.061.2022152021135\n"
          ]
        },
        {
          "metadata": {
            "tags": null
          },
          "name": "stderr",
          "output_type": "stream",
          "text": [
            "Downloading MCD15A3H.A2022145.h09v04.061.2022152021135_Lai_500m: 100%|█| 2.08M/2.08M [00:00<00:00, 2\n"
          ]
        },
        {
          "metadata": {
            "tags": null
          },
          "name": "stdout",
          "output_type": "stream",
          "text": [
            "Processing STAC item: MCD15A3H.A2022141.h09v04.061.2022146043443\n"
          ]
        },
        {
          "metadata": {
            "tags": null
          },
          "name": "stderr",
          "output_type": "stream",
          "text": [
            "Downloading MCD15A3H.A2022141.h09v04.061.2022146043443_Lai_500m: 100%|█| 2.45M/2.45M [00:00<00:00, 2\n"
          ]
        },
        {
          "metadata": {
            "tags": null
          },
          "name": "stdout",
          "output_type": "stream",
          "text": [
            "Processing STAC item: MCD15A3H.A2022137.h09v04.061.2022142041206\n"
          ]
        },
        {
          "metadata": {
            "tags": null
          },
          "name": "stderr",
          "output_type": "stream",
          "text": [
            "Downloading MCD15A3H.A2022137.h09v04.061.2022142041206_Lai_500m: 100%|█| 2.36M/2.36M [00:00<00:00, 2\n"
          ]
        },
        {
          "metadata": {
            "tags": null
          },
          "name": "stdout",
          "output_type": "stream",
          "text": [
            "Processing STAC item: MCD15A3H.A2022133.h09v04.061.2022140140224\n"
          ]
        },
        {
          "metadata": {
            "tags": null
          },
          "name": "stderr",
          "output_type": "stream",
          "text": [
            "Downloading MCD15A3H.A2022133.h09v04.061.2022140140224_Lai_500m: 100%|█| 2.08M/2.08M [00:00<00:00, 2\n"
          ]
        },
        {
          "metadata": {
            "tags": null
          },
          "name": "stdout",
          "output_type": "stream",
          "text": [
            "Processing STAC item: MCD15A3H.A2022129.h09v04.061.2022138132130\n"
          ]
        },
        {
          "metadata": {
            "tags": null
          },
          "name": "stderr",
          "output_type": "stream",
          "text": [
            "Downloading MCD15A3H.A2022129.h09v04.061.2022138132130_Lai_500m: 100%|█| 2.26M/2.26M [00:00<00:00, 2\n"
          ]
        },
        {
          "metadata": {
            "tags": null
          },
          "name": "stdout",
          "output_type": "stream",
          "text": [
            "Processing STAC item: MCD15A3H.A2022125.h09v04.061.2022133202554\n"
          ]
        },
        {
          "metadata": {
            "tags": null
          },
          "name": "stderr",
          "output_type": "stream",
          "text": [
            "Downloading MCD15A3H.A2022125.h09v04.061.2022133202554_Lai_500m: 100%|█| 2.09M/2.09M [00:00<00:00, 2\n"
          ]
        },
        {
          "metadata": {
            "tags": null
          },
          "name": "stdout",
          "output_type": "stream",
          "text": [
            "Processing STAC item: MCD15A3H.A2022121.h09v04.061.2022129163525\n"
          ]
        },
        {
          "metadata": {
            "tags": null
          },
          "name": "stderr",
          "output_type": "stream",
          "text": [
            "Downloading MCD15A3H.A2022121.h09v04.061.2022129163525_Lai_500m: 100%|█| 2.09M/2.09M [00:00<00:00, 2\n"
          ]
        },
        {
          "metadata": {
            "tags": null
          },
          "name": "stdout",
          "output_type": "stream",
          "text": [
            "Processing STAC item: MCD15A3H.A2022117.h09v04.061.2022122044639\n"
          ]
        },
        {
          "metadata": {
            "tags": null
          },
          "name": "stderr",
          "output_type": "stream",
          "text": [
            "Downloading MCD15A3H.A2022117.h09v04.061.2022122044639_Lai_500m: 100%|█| 2.10M/2.10M [00:00<00:00, 2\n"
          ]
        },
        {
          "metadata": {
            "tags": null
          },
          "name": "stdout",
          "output_type": "stream",
          "text": [
            "Processing STAC item: MCD15A3H.A2022113.h09v04.061.2022118062711\n"
          ]
        },
        {
          "metadata": {
            "tags": null
          },
          "name": "stderr",
          "output_type": "stream",
          "text": [
            "Downloading MCD15A3H.A2022113.h09v04.061.2022118062711_Lai_500m: 100%|█| 2.09M/2.09M [00:01<00:00, 2\n"
          ]
        },
        {
          "metadata": {
            "tags": null
          },
          "name": "stdout",
          "output_type": "stream",
          "text": [
            "Processing STAC item: MCD15A3H.A2022109.h09v04.061.2022114041236\n"
          ]
        },
        {
          "metadata": {
            "tags": null
          },
          "name": "stderr",
          "output_type": "stream",
          "text": [
            "Downloading MCD15A3H.A2022109.h09v04.061.2022114041236_Lai_500m: 100%|█| 2.03M/2.03M [00:00<00:00, 2\n"
          ]
        },
        {
          "metadata": {
            "tags": null
          },
          "name": "stdout",
          "output_type": "stream",
          "text": [
            "Processing STAC item: MCD15A3H.A2022105.h09v04.061.2022118170713\n"
          ]
        },
        {
          "metadata": {
            "tags": null
          },
          "name": "stderr",
          "output_type": "stream",
          "text": [
            "Downloading MCD15A3H.A2022105.h09v04.061.2022118170713_Lai_500m: 100%|█| 1.87M/1.87M [00:00<00:00, 2\n"
          ]
        },
        {
          "metadata": {
            "tags": null
          },
          "name": "stdout",
          "output_type": "stream",
          "text": [
            "Processing STAC item: MCD15A3H.A2022089.h09v04.061.2022095200709\n"
          ]
        },
        {
          "metadata": {
            "tags": null
          },
          "name": "stderr",
          "output_type": "stream",
          "text": [
            "Downloading MCD15A3H.A2022089.h09v04.061.2022095200709_Lai_500m: 100%|█| 1.89M/1.89M [00:01<00:00, 1\n"
          ]
        },
        {
          "metadata": {
            "tags": null
          },
          "name": "stdout",
          "output_type": "stream",
          "text": [
            "Processing STAC item: MCD15A3H.A2022085.h09v04.061.2022095200311\n"
          ]
        },
        {
          "metadata": {
            "tags": null
          },
          "name": "stderr",
          "output_type": "stream",
          "text": [
            "Downloading MCD15A3H.A2022085.h09v04.061.2022095200311_Lai_500m: 100%|█| 1.64M/1.64M [00:00<00:00, 1\n"
          ]
        },
        {
          "metadata": {
            "tags": null
          },
          "name": "stdout",
          "output_type": "stream",
          "text": [
            "Processing STAC item: MCD15A3H.A2022081.h09v04.061.2022095195632\n"
          ]
        },
        {
          "metadata": {
            "tags": null
          },
          "name": "stderr",
          "output_type": "stream",
          "text": [
            "Downloading MCD15A3H.A2022081.h09v04.061.2022095195632_Lai_500m: 100%|█| 1.73M/1.73M [00:00<00:00, 2\n"
          ]
        },
        {
          "metadata": {
            "tags": null
          },
          "name": "stdout",
          "output_type": "stream",
          "text": [
            "Processing STAC item: MCD15A3H.A2022077.h09v04.061.2022082051820\n"
          ]
        },
        {
          "metadata": {
            "tags": null
          },
          "name": "stderr",
          "output_type": "stream",
          "text": [
            "Downloading MCD15A3H.A2022077.h09v04.061.2022082051820_Lai_500m: 100%|█| 1.66M/1.66M [00:00<00:00, 2\n"
          ]
        },
        {
          "metadata": {
            "tags": null
          },
          "name": "stdout",
          "output_type": "stream",
          "text": [
            "Processing STAC item: MCD15A3H.A2022073.h09v04.061.2022078043911\n"
          ]
        },
        {
          "metadata": {
            "tags": null
          },
          "name": "stderr",
          "output_type": "stream",
          "text": [
            "Downloading MCD15A3H.A2022073.h09v04.061.2022078043911_Lai_500m: 100%|█| 1.68M/1.68M [00:01<00:00, 1\n"
          ]
        },
        {
          "metadata": {
            "tags": null
          },
          "name": "stdout",
          "output_type": "stream",
          "text": [
            "Processing STAC item: MCD15A3H.A2022069.h09v04.061.2022076091028\n"
          ]
        },
        {
          "metadata": {
            "tags": null
          },
          "name": "stderr",
          "output_type": "stream",
          "text": [
            "Downloading MCD15A3H.A2022069.h09v04.061.2022076091028_Lai_500m: 100%|█| 1.67M/1.67M [00:01<00:00, 1\n"
          ]
        },
        {
          "metadata": {
            "tags": null
          },
          "name": "stdout",
          "output_type": "stream",
          "text": [
            "Processing STAC item: MCD15A3H.A2022065.h09v04.061.2022070050826\n"
          ]
        },
        {
          "metadata": {
            "tags": null
          },
          "name": "stderr",
          "output_type": "stream",
          "text": [
            "Downloading MCD15A3H.A2022065.h09v04.061.2022070050826_Lai_500m: 100%|█| 1.69M/1.69M [00:00<00:00, 2\n"
          ]
        },
        {
          "metadata": {
            "tags": null
          },
          "name": "stdout",
          "output_type": "stream",
          "text": [
            "Processing STAC item: MCD15A3H.A2022061.h09v04.061.2022066050600\n"
          ]
        },
        {
          "metadata": {
            "tags": null
          },
          "name": "stderr",
          "output_type": "stream",
          "text": [
            "Downloading MCD15A3H.A2022061.h09v04.061.2022066050600_Lai_500m: 100%|█| 1.62M/1.62M [00:00<00:00, 2\n"
          ]
        },
        {
          "metadata": {
            "tags": null
          },
          "name": "stdout",
          "output_type": "stream",
          "text": [
            "Processing STAC item: MCD15A3H.A2022057.h09v04.061.2022062042645\n"
          ]
        },
        {
          "metadata": {
            "tags": null
          },
          "name": "stderr",
          "output_type": "stream",
          "text": [
            "Downloading MCD15A3H.A2022057.h09v04.061.2022062042645_Lai_500m: 100%|█| 1.18M/1.18M [00:00<00:00, 1\n"
          ]
        },
        {
          "metadata": {
            "tags": null
          },
          "name": "stdout",
          "output_type": "stream",
          "text": [
            "Processing STAC item: MCD15A3H.A2022053.h09v04.061.2022060023237\n"
          ]
        },
        {
          "metadata": {
            "tags": null
          },
          "name": "stderr",
          "output_type": "stream",
          "text": [
            "Downloading MCD15A3H.A2022053.h09v04.061.2022060023237_Lai_500m: 100%|█| 1.53M/1.53M [00:01<00:00, 1\n"
          ]
        },
        {
          "metadata": {
            "tags": null
          },
          "name": "stdout",
          "output_type": "stream",
          "text": [
            "Processing STAC item: MCD15A3H.A2022049.h09v04.061.2022060023148\n"
          ]
        },
        {
          "metadata": {
            "tags": null
          },
          "name": "stderr",
          "output_type": "stream",
          "text": [
            "Downloading MCD15A3H.A2022049.h09v04.061.2022060023148_Lai_500m: 100%|█| 1.61M/1.61M [00:01<00:00, 1\n"
          ]
        },
        {
          "metadata": {
            "tags": null
          },
          "name": "stdout",
          "output_type": "stream",
          "text": [
            "Processing STAC item: MCD15A3H.A2022045.h09v04.061.2022060023138\n"
          ]
        },
        {
          "metadata": {
            "tags": null
          },
          "name": "stderr",
          "output_type": "stream",
          "text": [
            "Downloading MCD15A3H.A2022045.h09v04.061.2022060023138_Lai_500m: 100%|█| 1.53M/1.53M [00:00<00:00, 1\n"
          ]
        },
        {
          "metadata": {
            "tags": null
          },
          "name": "stdout",
          "output_type": "stream",
          "text": [
            "Processing STAC item: MCD15A3H.A2022041.h09v04.061.2022047065831\n"
          ]
        },
        {
          "metadata": {
            "tags": null
          },
          "name": "stderr",
          "output_type": "stream",
          "text": [
            "Downloading MCD15A3H.A2022041.h09v04.061.2022047065831_Lai_500m: 100%|█| 1.63M/1.63M [00:00<00:00, 2\n"
          ]
        },
        {
          "metadata": {
            "tags": null
          },
          "name": "stdout",
          "output_type": "stream",
          "text": [
            "Processing STAC item: MCD15A3H.A2022037.h09v04.061.2022049172955\n"
          ]
        },
        {
          "metadata": {
            "tags": null
          },
          "name": "stderr",
          "output_type": "stream",
          "text": [
            "Downloading MCD15A3H.A2022037.h09v04.061.2022049172955_Lai_500m: 100%|█| 1.57M/1.57M [00:00<00:00, 1\n"
          ]
        },
        {
          "metadata": {
            "tags": null
          },
          "name": "stdout",
          "output_type": "stream",
          "text": [
            "Processing STAC item: MCD15A3H.A2022033.h09v04.061.2022039064947\n"
          ]
        },
        {
          "output_type": "stream",
          "name": "stderr",
          "text": [
            "Downloading MCD15A3H.A2022033.h09v04.061.2022039064947_Lai_500m: 100%|█| 1.32M/1.32M [00:00<00:00, 1\n"
          ]
        },
        {
          "output_type": "stream",
          "name": "stdout",
          "text": [
            "Processing STAC item: MCD15A3H.A2022029.h09v04.061.2022035065716\n"
          ]
        },
        {
          "output_type": "stream",
          "name": "stderr",
          "text": [
            "Downloading MCD15A3H.A2022029.h09v04.061.2022035065716_Lai_500m: 100%|█| 1.50M/1.50M [00:00<00:00, 2\n"
          ]
        },
        {
          "output_type": "stream",
          "name": "stdout",
          "text": [
            "Processing STAC item: MCD15A3H.A2022025.h09v04.061.2022032011109\n"
          ]
        },
        {
          "output_type": "stream",
          "name": "stderr",
          "text": [
            "Downloading MCD15A3H.A2022025.h09v04.061.2022032011109_Lai_500m: 100%|█| 1.57M/1.57M [00:00<00:00, 1\n"
          ]
        },
        {
          "output_type": "stream",
          "name": "stdout",
          "text": [
            "Processing STAC item: MCD15A3H.A2022021.h09v04.061.2022028074702\n"
          ]
        },
        {
          "output_type": "stream",
          "name": "stderr",
          "text": [
            "Downloading MCD15A3H.A2022021.h09v04.061.2022028074702_Lai_500m: 100%|█| 1.57M/1.57M [00:00<00:00, 1\n"
          ]
        },
        {
          "output_type": "stream",
          "name": "stdout",
          "text": [
            "Processing STAC item: MCD15A3H.A2022017.h09v04.061.2022027031837\n"
          ]
        },
        {
          "output_type": "stream",
          "name": "stderr",
          "text": [
            "Downloading MCD15A3H.A2022017.h09v04.061.2022027031837_Lai_500m:   9%| | 112k/1.29M [00:00<00:03, 35"
          ]
        }
      ]
    },
    {
      "cell_type": "markdown",
      "metadata": {
        "id": "HEmpPfWU3YmL"
      },
      "source": [
        "## Search NAIP imagery"
      ]
    },
    {
      "cell_type": "code",
      "execution_count": 3,
      "metadata": {
        "id": "NEpYGnts3YmM",
        "outputId": "8feb0441-681c-4a3c-fcb1-a160604df028",
        "colab": {
          "base_uri": "https://localhost:8080/"
        }
      },
      "outputs": [
        {
          "output_type": "stream",
          "name": "stdout",
          "text": [
            "Found 1 items matching search criteria\n"
          ]
        }
      ],
      "source": [
        "items = geoai.pc_stac_search(\n",
        "    collection=\"naip\",\n",
        "    bbox=[-76.6657, 39.2648, -76.6478, 39.2724],  # Baltimore area\n",
        "    time_range=\"2013-01-01/2014-12-31\",\n",
        ")"
      ]
    },
    {
      "cell_type": "code",
      "execution_count": 4,
      "metadata": {
        "id": "TG3l0V9f3YmM",
        "outputId": "402b085d-cf0e-47fb-e97f-ec0b1ab89bb3",
        "colab": {
          "base_uri": "https://localhost:8080/"
        }
      },
      "outputs": [
        {
          "output_type": "execute_result",
          "data": {
            "text/plain": [
              "[<Item id=md_m_3907643_se_18_1_20130917_20131112>]"
            ]
          },
          "metadata": {},
          "execution_count": 4
        }
      ],
      "source": [
        "items"
      ]
    },
    {
      "cell_type": "markdown",
      "metadata": {
        "id": "co0QSb-j3YmM"
      },
      "source": [
        "## Visualize NAIP imagery"
      ]
    },
    {
      "cell_type": "code",
      "execution_count": null,
      "metadata": {
        "id": "ex-w8agV3YmM"
      },
      "outputs": [],
      "source": [
        "geoai.pc_item_asset_list(items[0])"
      ]
    },
    {
      "cell_type": "code",
      "execution_count": null,
      "metadata": {
        "id": "DiwYWoCZ3YmM"
      },
      "outputs": [],
      "source": [
        "geoai.view_pc_item(item=items[0])"
      ]
    },
    {
      "cell_type": "markdown",
      "metadata": {
        "id": "O1PiqWkP3YmM"
      },
      "source": [
        "## Download NAIP imagery"
      ]
    },
    {
      "cell_type": "code",
      "execution_count": null,
      "metadata": {
        "id": "hOB1-Pgk3YmM"
      },
      "outputs": [],
      "source": [
        "downloaded = geoai.pc_stac_download(\n",
        "    items, output_dir=\"data\", assets=[\"image\", \"thumbnail\"]\n",
        ")"
      ]
    },
    {
      "cell_type": "markdown",
      "metadata": {
        "id": "IFaF7Jn33YmN"
      },
      "source": [
        "## Search land cover data"
      ]
    },
    {
      "cell_type": "code",
      "execution_count": null,
      "metadata": {
        "id": "JHJY8JhR3YmN"
      },
      "outputs": [],
      "source": [
        "items = geoai.pc_stac_search(\n",
        "    collection=\"chesapeake-lc-13\",\n",
        "    bbox=[-76.6657, 39.2648, -76.6478, 39.2724],  # Baltimore area\n",
        "    time_range=\"2013-01-01/2014-12-31\",\n",
        "    max_items=10,\n",
        ")"
      ]
    },
    {
      "cell_type": "code",
      "execution_count": null,
      "metadata": {
        "id": "NIJFzrjb3YmN"
      },
      "outputs": [],
      "source": [
        "items"
      ]
    },
    {
      "cell_type": "markdown",
      "metadata": {
        "id": "kO1c-BNr3YmN"
      },
      "source": [
        "## Visualize land cover data"
      ]
    },
    {
      "cell_type": "code",
      "execution_count": null,
      "metadata": {
        "id": "S7iJsc5W3YmN"
      },
      "outputs": [],
      "source": [
        "geoai.pc_item_asset_list(items[0])"
      ]
    },
    {
      "cell_type": "code",
      "execution_count": null,
      "metadata": {
        "id": "nrDcszlv3YmN"
      },
      "outputs": [],
      "source": [
        "geoai.view_pc_item(item=items[0], colormap_name=\"tab10\", basemap=\"SATELLITE\")"
      ]
    },
    {
      "cell_type": "markdown",
      "metadata": {
        "id": "Z-HQ2KSQ3YmN"
      },
      "source": [
        "## Download land cover data"
      ]
    },
    {
      "cell_type": "code",
      "execution_count": null,
      "metadata": {
        "id": "dTUAwrEt3YmN"
      },
      "outputs": [],
      "source": [
        "geoai.pc_stac_download(items[0], output_dir=\"data\", assets=[\"data\", \"rendered_preview\"])"
      ]
    },
    {
      "cell_type": "code",
      "execution_count": null,
      "metadata": {
        "id": "hkDeCptS3YmN"
      },
      "outputs": [],
      "source": [
        "ds = geoai.read_pc_item_asset(items[0], asset=\"data\")"
      ]
    },
    {
      "cell_type": "code",
      "execution_count": null,
      "metadata": {
        "id": "dBCMF7sH3YmN"
      },
      "outputs": [],
      "source": [
        "ds"
      ]
    },
    {
      "cell_type": "markdown",
      "metadata": {
        "id": "X5Lr3ENA3YmN"
      },
      "source": [
        "## Search Landsat data"
      ]
    },
    {
      "cell_type": "code",
      "execution_count": null,
      "metadata": {
        "id": "qRVgJ_mZ3YmN"
      },
      "outputs": [],
      "source": [
        "items = geoai.pc_stac_search(\n",
        "    collection=\"landsat-c2-l2\",\n",
        "    bbox=[-76.6657, 39.2648, -76.6478, 39.2724],  # Baltimore area\n",
        "    time_range=\"2024-10-27/2024-12-31\",\n",
        "    query={\"eo:cloud_cover\": {\"lt\": 1}},\n",
        "    max_items=10,\n",
        ")"
      ]
    },
    {
      "cell_type": "code",
      "execution_count": null,
      "metadata": {
        "id": "fNO3Utu03YmN"
      },
      "outputs": [],
      "source": [
        "items"
      ]
    },
    {
      "cell_type": "markdown",
      "metadata": {
        "id": "f6NZztfX3YmN"
      },
      "source": [
        "## Visualize Landsat data"
      ]
    },
    {
      "cell_type": "code",
      "execution_count": null,
      "metadata": {
        "id": "HCVVqKX93YmN"
      },
      "outputs": [],
      "source": [
        "geoai.pc_item_asset_list(items[0])"
      ]
    },
    {
      "cell_type": "code",
      "execution_count": null,
      "metadata": {
        "id": "VpIiYzme3YmN"
      },
      "outputs": [],
      "source": [
        "geoai.view_pc_item(item=items[0], assets=[\"red\", \"green\", \"blue\"])"
      ]
    },
    {
      "cell_type": "code",
      "execution_count": null,
      "metadata": {
        "id": "d9Arcxjx3YmN"
      },
      "outputs": [],
      "source": [
        "geoai.view_pc_item(item=items[0], assets=[\"nir08\", \"red\", \"green\"])"
      ]
    },
    {
      "cell_type": "code",
      "execution_count": null,
      "metadata": {
        "id": "aOcR2QzS3YmN"
      },
      "outputs": [],
      "source": [
        "geoai.view_pc_item(\n",
        "    item=items[0],\n",
        "    expression=\"(nir08-red)/(nir08+red)\",\n",
        "    rescale=\"-1,1\",\n",
        "    colormap_name=\"greens\",\n",
        "    name=\"NDVI Green\",\n",
        ")"
      ]
    },
    {
      "cell_type": "markdown",
      "metadata": {
        "id": "rMRpTkLK3YmO"
      },
      "source": [
        "## Download Landsat data"
      ]
    },
    {
      "cell_type": "code",
      "execution_count": null,
      "metadata": {
        "id": "JXn3GqXv3YmO"
      },
      "outputs": [],
      "source": [
        "geoai.pc_stac_download(\n",
        "    items[0], output_dir=\"data\", assets=[\"nir08\", \"red\", \"green\", \"blue\"]\n",
        ")"
      ]
    }
  ],
  "metadata": {
    "kernelspec": {
      "display_name": "geo",
      "language": "python",
      "name": "python3"
    },
    "language_info": {
      "codemirror_mode": {
        "name": "ipython",
        "version": 3
      },
      "file_extension": ".py",
      "mimetype": "text/x-python",
      "name": "python",
      "nbconvert_exporter": "python",
      "pygments_lexer": "ipython3",
      "version": "3.12.9"
    },
    "colab": {
      "provenance": [],
      "include_colab_link": true
    },
    "widgets": {
      "application/vnd.jupyter.widget-state+json": {
        "341f3c55f0d44685b373f18ac8393170": {
          "model_module": "@jupyter-widgets/controls",
          "model_name": "CheckboxModel",
          "model_module_version": "1.5.0",
          "state": {
            "_dom_classes": [],
            "_model_module": "@jupyter-widgets/controls",
            "_model_module_version": "1.5.0",
            "_model_name": "CheckboxModel",
            "_view_count": null,
            "_view_module": "@jupyter-widgets/controls",
            "_view_module_version": "1.5.0",
            "_view_name": "CheckboxView",
            "description": "OpenStreetMap.Mapnik",
            "description_tooltip": null,
            "disabled": false,
            "indent": false,
            "layout": "IPY_MODEL_513a1b5b8f7b467da4f88a0f443da928",
            "style": "IPY_MODEL_8657f03ea32040c3b3f7c8a33b2d7fc3",
            "value": true
          }
        },
        "8b59fa2e1db24537b8ff9e4a4d14cb22": {
          "model_module": "jupyter-leaflet",
          "model_name": "LeafletTileLayerModel",
          "model_module_version": "^0.19",
          "state": {
            "_model_module": "jupyter-leaflet",
            "_model_module_version": "^0.19",
            "_model_name": "LeafletTileLayerModel",
            "_view_count": null,
            "_view_module": "jupyter-leaflet",
            "_view_module_version": "^0.19",
            "_view_name": "LeafletTileLayerView",
            "attribution": "&copy; <a href=\"https://www.openstreetmap.org/copyright\">OpenStreetMap</a> contributors",
            "base": true,
            "bottom": true,
            "bounds": null,
            "detect_retina": false,
            "loading": false,
            "max_native_zoom": null,
            "max_zoom": 19,
            "min_native_zoom": null,
            "min_zoom": 1,
            "name": "OpenStreetMap",
            "no_wrap": false,
            "opacity": 1,
            "options": [
              "attribution",
              "bounds",
              "detect_retina",
              "max_native_zoom",
              "max_zoom",
              "min_native_zoom",
              "min_zoom",
              "no_wrap",
              "tile_size",
              "tms",
              "zoom_offset"
            ],
            "pane": "",
            "popup": null,
            "popup_max_height": null,
            "popup_max_width": 300,
            "popup_min_width": 50,
            "show_loading": false,
            "subitems": [],
            "tile_size": 256,
            "tms": false,
            "url": "https://tile.openstreetmap.org/{z}/{x}/{y}.png",
            "visible": true,
            "zoom_offset": 0
          }
        },
        "513a1b5b8f7b467da4f88a0f443da928": {
          "model_module": "@jupyter-widgets/base",
          "model_name": "LayoutModel",
          "model_module_version": "1.2.0",
          "state": {
            "_model_module": "@jupyter-widgets/base",
            "_model_module_version": "1.2.0",
            "_model_name": "LayoutModel",
            "_view_count": null,
            "_view_module": "@jupyter-widgets/base",
            "_view_module_version": "1.2.0",
            "_view_name": "LayoutView",
            "align_content": null,
            "align_items": null,
            "align_self": null,
            "border": null,
            "bottom": null,
            "display": null,
            "flex": null,
            "flex_flow": null,
            "grid_area": null,
            "grid_auto_columns": null,
            "grid_auto_flow": null,
            "grid_auto_rows": null,
            "grid_column": null,
            "grid_gap": null,
            "grid_row": null,
            "grid_template_areas": null,
            "grid_template_columns": null,
            "grid_template_rows": null,
            "height": "18px",
            "justify_content": null,
            "justify_items": null,
            "left": null,
            "margin": null,
            "max_height": null,
            "max_width": null,
            "min_height": null,
            "min_width": null,
            "object_fit": null,
            "object_position": null,
            "order": null,
            "overflow": null,
            "overflow_x": null,
            "overflow_y": null,
            "padding": null,
            "right": null,
            "top": null,
            "visibility": null,
            "width": "25ex"
          }
        },
        "8657f03ea32040c3b3f7c8a33b2d7fc3": {
          "model_module": "@jupyter-widgets/controls",
          "model_name": "DescriptionStyleModel",
          "model_module_version": "1.5.0",
          "state": {
            "_model_module": "@jupyter-widgets/controls",
            "_model_module_version": "1.5.0",
            "_model_name": "DescriptionStyleModel",
            "_view_count": null,
            "_view_module": "@jupyter-widgets/base",
            "_view_module_version": "1.2.0",
            "_view_name": "StyleView",
            "description_width": ""
          }
        },
        "3eba96a9de4745eb93ed576a569320ad": {
          "model_module": "@jupyter-widgets/controls",
          "model_name": "CheckboxModel",
          "model_module_version": "1.5.0",
          "state": {
            "_dom_classes": [],
            "_model_module": "@jupyter-widgets/controls",
            "_model_module_version": "1.5.0",
            "_model_name": "CheckboxModel",
            "_view_count": null,
            "_view_module": "@jupyter-widgets/controls",
            "_view_module_version": "1.5.0",
            "_view_name": "CheckboxView",
            "description": "OpenStreetMap.Mapnik",
            "description_tooltip": null,
            "disabled": false,
            "indent": false,
            "layout": "IPY_MODEL_e5c88b3da1714fe588a5882546ac84fe",
            "style": "IPY_MODEL_dbe0325992d242898c57b81a1e0dcd27",
            "value": true
          }
        },
        "e5c88b3da1714fe588a5882546ac84fe": {
          "model_module": "@jupyter-widgets/base",
          "model_name": "LayoutModel",
          "model_module_version": "1.2.0",
          "state": {
            "_model_module": "@jupyter-widgets/base",
            "_model_module_version": "1.2.0",
            "_model_name": "LayoutModel",
            "_view_count": null,
            "_view_module": "@jupyter-widgets/base",
            "_view_module_version": "1.2.0",
            "_view_name": "LayoutView",
            "align_content": null,
            "align_items": null,
            "align_self": null,
            "border": null,
            "bottom": null,
            "display": null,
            "flex": null,
            "flex_flow": null,
            "grid_area": null,
            "grid_auto_columns": null,
            "grid_auto_flow": null,
            "grid_auto_rows": null,
            "grid_column": null,
            "grid_gap": null,
            "grid_row": null,
            "grid_template_areas": null,
            "grid_template_columns": null,
            "grid_template_rows": null,
            "height": "18px",
            "justify_content": null,
            "justify_items": null,
            "left": null,
            "margin": null,
            "max_height": null,
            "max_width": null,
            "min_height": null,
            "min_width": null,
            "object_fit": null,
            "object_position": null,
            "order": null,
            "overflow": null,
            "overflow_x": null,
            "overflow_y": null,
            "padding": null,
            "right": null,
            "top": null,
            "visibility": null,
            "width": "25ex"
          }
        },
        "dbe0325992d242898c57b81a1e0dcd27": {
          "model_module": "@jupyter-widgets/controls",
          "model_name": "DescriptionStyleModel",
          "model_module_version": "1.5.0",
          "state": {
            "_model_module": "@jupyter-widgets/controls",
            "_model_module_version": "1.5.0",
            "_model_name": "DescriptionStyleModel",
            "_view_count": null,
            "_view_module": "@jupyter-widgets/base",
            "_view_module_version": "1.2.0",
            "_view_name": "StyleView",
            "description_width": ""
          }
        },
        "648d32cb6e344a1b9d2567906a6c7a5a": {
          "model_module": "@jupyter-widgets/controls",
          "model_name": "CheckboxModel",
          "model_module_version": "1.5.0",
          "state": {
            "_dom_classes": [],
            "_model_module": "@jupyter-widgets/controls",
            "_model_module_version": "1.5.0",
            "_model_name": "CheckboxModel",
            "_view_count": null,
            "_view_module": "@jupyter-widgets/controls",
            "_view_module_version": "1.5.0",
            "_view_name": "CheckboxView",
            "description": "OpenStreetMap.Mapnik",
            "description_tooltip": null,
            "disabled": false,
            "indent": false,
            "layout": "IPY_MODEL_19b571cdeb764141832f8376ce73642a",
            "style": "IPY_MODEL_104a5810376e4c7a9ee2afb00a443317",
            "value": true
          }
        },
        "19b571cdeb764141832f8376ce73642a": {
          "model_module": "@jupyter-widgets/base",
          "model_name": "LayoutModel",
          "model_module_version": "1.2.0",
          "state": {
            "_model_module": "@jupyter-widgets/base",
            "_model_module_version": "1.2.0",
            "_model_name": "LayoutModel",
            "_view_count": null,
            "_view_module": "@jupyter-widgets/base",
            "_view_module_version": "1.2.0",
            "_view_name": "LayoutView",
            "align_content": null,
            "align_items": null,
            "align_self": null,
            "border": null,
            "bottom": null,
            "display": null,
            "flex": null,
            "flex_flow": null,
            "grid_area": null,
            "grid_auto_columns": null,
            "grid_auto_flow": null,
            "grid_auto_rows": null,
            "grid_column": null,
            "grid_gap": null,
            "grid_row": null,
            "grid_template_areas": null,
            "grid_template_columns": null,
            "grid_template_rows": null,
            "height": "18px",
            "justify_content": null,
            "justify_items": null,
            "left": null,
            "margin": null,
            "max_height": null,
            "max_width": null,
            "min_height": null,
            "min_width": null,
            "object_fit": null,
            "object_position": null,
            "order": null,
            "overflow": null,
            "overflow_x": null,
            "overflow_y": null,
            "padding": null,
            "right": null,
            "top": null,
            "visibility": null,
            "width": "25ex"
          }
        },
        "104a5810376e4c7a9ee2afb00a443317": {
          "model_module": "@jupyter-widgets/controls",
          "model_name": "DescriptionStyleModel",
          "model_module_version": "1.5.0",
          "state": {
            "_model_module": "@jupyter-widgets/controls",
            "_model_module_version": "1.5.0",
            "_model_name": "DescriptionStyleModel",
            "_view_count": null,
            "_view_module": "@jupyter-widgets/base",
            "_view_module_version": "1.2.0",
            "_view_name": "StyleView",
            "description_width": ""
          }
        },
        "ec130f6b8ec44289bf3a2cf71804fa55": {
          "model_module": "@jupyter-widgets/controls",
          "model_name": "CheckboxModel",
          "model_module_version": "1.5.0",
          "state": {
            "_dom_classes": [],
            "_model_module": "@jupyter-widgets/controls",
            "_model_module_version": "1.5.0",
            "_model_name": "CheckboxModel",
            "_view_count": null,
            "_view_module": "@jupyter-widgets/controls",
            "_view_module_version": "1.5.0",
            "_view_name": "CheckboxView",
            "description": "OpenStreetMap",
            "description_tooltip": null,
            "disabled": false,
            "indent": false,
            "layout": "IPY_MODEL_6947b6ee75244b0bbc8273f1612c7e88",
            "style": "IPY_MODEL_e47c456d3ae64c759d09f4c1203780df",
            "value": true
          }
        },
        "6947b6ee75244b0bbc8273f1612c7e88": {
          "model_module": "@jupyter-widgets/base",
          "model_name": "LayoutModel",
          "model_module_version": "1.2.0",
          "state": {
            "_model_module": "@jupyter-widgets/base",
            "_model_module_version": "1.2.0",
            "_model_name": "LayoutModel",
            "_view_count": null,
            "_view_module": "@jupyter-widgets/base",
            "_view_module_version": "1.2.0",
            "_view_name": "LayoutView",
            "align_content": null,
            "align_items": null,
            "align_self": null,
            "border": null,
            "bottom": null,
            "display": null,
            "flex": null,
            "flex_flow": null,
            "grid_area": null,
            "grid_auto_columns": null,
            "grid_auto_flow": null,
            "grid_auto_rows": null,
            "grid_column": null,
            "grid_gap": null,
            "grid_row": null,
            "grid_template_areas": null,
            "grid_template_columns": null,
            "grid_template_rows": null,
            "height": "18px",
            "justify_content": null,
            "justify_items": null,
            "left": null,
            "margin": null,
            "max_height": null,
            "max_width": null,
            "min_height": null,
            "min_width": null,
            "object_fit": null,
            "object_position": null,
            "order": null,
            "overflow": null,
            "overflow_x": null,
            "overflow_y": null,
            "padding": null,
            "right": null,
            "top": null,
            "visibility": null,
            "width": "25ex"
          }
        },
        "e47c456d3ae64c759d09f4c1203780df": {
          "model_module": "@jupyter-widgets/controls",
          "model_name": "DescriptionStyleModel",
          "model_module_version": "1.5.0",
          "state": {
            "_model_module": "@jupyter-widgets/controls",
            "_model_module_version": "1.5.0",
            "_model_name": "DescriptionStyleModel",
            "_view_count": null,
            "_view_module": "@jupyter-widgets/base",
            "_view_module_version": "1.2.0",
            "_view_name": "StyleView",
            "description_width": ""
          }
        },
        "14691d5c7d5648e6bd867c577bce3163": {
          "model_module": "jupyter-leaflet",
          "model_name": "LeafletMapModel",
          "model_module_version": "^0.19",
          "state": {
            "_dom_classes": [],
            "_model_module": "jupyter-leaflet",
            "_model_module_version": "^0.19",
            "_model_name": "LeafletMapModel",
            "_view_count": null,
            "_view_module": "jupyter-leaflet",
            "_view_module_version": "^0.19",
            "_view_name": "LeafletMapView",
            "bottom": 24687,
            "bounce_at_zoom_limits": true,
            "box_zoom": true,
            "center": [
              41.759019938155404,
              -109.89349365234376
            ],
            "close_popup_on_click": true,
            "controls": [
              "IPY_MODEL_9afee61a8d5b476b8276835635ce0a0b",
              "IPY_MODEL_e628574c3a62497397cc16fd9f946bb7",
              "IPY_MODEL_1372c7e9317746ecb7bffaa3af8d5cf4",
              "IPY_MODEL_6b5845f0a1114f99a4a0916d397cb389",
              "IPY_MODEL_4e1e38e83c0f46c3bc1b4d5202052c06",
              "IPY_MODEL_34ecb06cc3514eeb956a35cb4e4b75a3"
            ],
            "crs": {
              "name": "EPSG3857",
              "custom": false
            },
            "default_style": "IPY_MODEL_ccdfb1ed279c44a8903957962a95628e",
            "double_click_zoom": true,
            "dragging": true,
            "dragging_style": "IPY_MODEL_679d3bb1411040e38beb392c1ed69f07",
            "east": -107.3529052734375,
            "fullscreen": false,
            "inertia": true,
            "inertia_deceleration": 3000,
            "inertia_max_speed": 1500,
            "interpolation": "bilinear",
            "keyboard": true,
            "keyboard_pan_offset": 80,
            "keyboard_zoom_offset": 1,
            "layers": [
              "IPY_MODEL_8b59fa2e1db24537b8ff9e4a4d14cb22"
            ],
            "layout": "IPY_MODEL_5da93aad5ec64e2eaeb3310157c204d4",
            "left": 12300,
            "max_zoom": 24,
            "min_zoom": null,
            "modisdate": "2025-04-09",
            "north": 42.976520698105546,
            "options": [
              "bounce_at_zoom_limits",
              "box_zoom",
              "center",
              "close_popup_on_click",
              "double_click_zoom",
              "dragging",
              "fullscreen",
              "inertia",
              "inertia_deceleration",
              "inertia_max_speed",
              "interpolation",
              "keyboard",
              "keyboard_pan_offset",
              "keyboard_zoom_offset",
              "max_zoom",
              "min_zoom",
              "prefer_canvas",
              "scroll_wheel_zoom",
              "tap",
              "tap_tolerance",
              "touch_zoom",
              "world_copy_jump",
              "zoom",
              "zoom_animation_threshold",
              "zoom_delta",
              "zoom_snap"
            ],
            "panes": {},
            "prefer_canvas": false,
            "right": 13225,
            "scroll_wheel_zoom": true,
            "south": 40.51797520038851,
            "style": "IPY_MODEL_ccdfb1ed279c44a8903957962a95628e",
            "tap": true,
            "tap_tolerance": 15,
            "top": 24087,
            "touch_zoom": true,
            "west": -112.43408203125001,
            "window_url": "https://hz78vai9nbp-496ff2e9c6d22116-0-colab.googleusercontent.com/outputframe.html?vrz=colab_20250407-060124_RC00_744644231",
            "world_copy_jump": false,
            "zoom": 8,
            "zoom_animation_threshold": 4,
            "zoom_delta": 1,
            "zoom_snap": 1
          }
        },
        "9afee61a8d5b476b8276835635ce0a0b": {
          "model_module": "jupyter-leaflet",
          "model_name": "LeafletZoomControlModel",
          "model_module_version": "^0.19",
          "state": {
            "_model_module": "jupyter-leaflet",
            "_model_module_version": "^0.19",
            "_model_name": "LeafletZoomControlModel",
            "_view_count": null,
            "_view_module": "jupyter-leaflet",
            "_view_module_version": "^0.19",
            "_view_name": "LeafletZoomControlView",
            "options": [
              "position",
              "zoom_in_text",
              "zoom_in_title",
              "zoom_out_text",
              "zoom_out_title"
            ],
            "position": "topleft",
            "zoom_in_text": "+",
            "zoom_in_title": "Zoom in",
            "zoom_out_text": "-",
            "zoom_out_title": "Zoom out"
          }
        },
        "e628574c3a62497397cc16fd9f946bb7": {
          "model_module": "jupyter-leaflet",
          "model_name": "LeafletAttributionControlModel",
          "model_module_version": "^0.19",
          "state": {
            "_model_module": "jupyter-leaflet",
            "_model_module_version": "^0.19",
            "_model_name": "LeafletAttributionControlModel",
            "_view_count": null,
            "_view_module": "jupyter-leaflet",
            "_view_module_version": "^0.19",
            "_view_name": "LeafletAttributionControlView",
            "options": [
              "position",
              "prefix"
            ],
            "position": "bottomright",
            "prefix": "ipyleaflet"
          }
        },
        "1372c7e9317746ecb7bffaa3af8d5cf4": {
          "model_module": "jupyter-leaflet",
          "model_name": "LeafletFullScreenControlModel",
          "model_module_version": "^0.19",
          "state": {
            "_model_module": "jupyter-leaflet",
            "_model_module_version": "^0.19",
            "_model_name": "LeafletFullScreenControlModel",
            "_view_count": null,
            "_view_module": "jupyter-leaflet",
            "_view_module_version": "^0.19",
            "_view_name": "LeafletFullScreenControlView",
            "options": [
              "position"
            ],
            "position": "topleft"
          }
        },
        "6b5845f0a1114f99a4a0916d397cb389": {
          "model_module": "jupyter-leaflet",
          "model_name": "LeafletDrawControlModel",
          "model_module_version": "^0.19",
          "state": {
            "_model_module": "jupyter-leaflet",
            "_model_module_version": "^0.19",
            "_model_name": "LeafletDrawControlModel",
            "_view_count": null,
            "_view_module": "jupyter-leaflet",
            "_view_module_version": "^0.19",
            "_view_name": "LeafletDrawControlView",
            "circle": {
              "shapeOptions": {
                "color": "#3388ff"
              },
              "repeatMode": false
            },
            "circlemarker": {},
            "data": [
              {
                "type": "Feature",
                "properties": {
                  "style": {
                    "stroke": true,
                    "color": "#3388ff",
                    "weight": 4,
                    "opacity": 0.5,
                    "fill": true,
                    "fillColor": null,
                    "fillOpacity": 0.2,
                    "clickable": true
                  }
                },
                "geometry": {
                  "type": "Polygon",
                  "coordinates": [
                    [
                      [
                        -111.942444,
                        41.652393
                      ],
                      [
                        -111.942444,
                        41.881831
                      ],
                      [
                        -111.538696,
                        41.881831
                      ],
                      [
                        -111.538696,
                        41.652393
                      ],
                      [
                        -111.942444,
                        41.652393
                      ]
                    ]
                  ]
                }
              }
            ],
            "edit": true,
            "marker": {
              "shapeOptions": {
                "color": "#3388ff"
              },
              "repeatMode": false
            },
            "options": [
              "position"
            ],
            "polygon": {
              "repeatMode": false
            },
            "polyline": {
              "repeatMode": false
            },
            "position": "topleft",
            "rectangle": {
              "shapeOptions": {
                "color": "#3388ff"
              },
              "repeatMode": false
            },
            "remove": true
          }
        },
        "4e1e38e83c0f46c3bc1b4d5202052c06": {
          "model_module": "jupyter-leaflet",
          "model_name": "LeafletScaleControlModel",
          "model_module_version": "^0.19",
          "state": {
            "_model_module": "jupyter-leaflet",
            "_model_module_version": "^0.19",
            "_model_name": "LeafletScaleControlModel",
            "_view_count": null,
            "_view_module": "jupyter-leaflet",
            "_view_module_version": "^0.19",
            "_view_name": "LeafletScaleControlView",
            "imperial": true,
            "max_width": 100,
            "metric": true,
            "options": [
              "imperial",
              "max_width",
              "metric",
              "position",
              "update_when_idle"
            ],
            "position": "bottomleft",
            "update_when_idle": false
          }
        },
        "34ecb06cc3514eeb956a35cb4e4b75a3": {
          "model_module": "jupyter-leaflet",
          "model_name": "LeafletWidgetControlModel",
          "model_module_version": "^0.19",
          "state": {
            "_model_module": "jupyter-leaflet",
            "_model_module_version": "^0.19",
            "_model_name": "LeafletWidgetControlModel",
            "_view_count": null,
            "_view_module": "jupyter-leaflet",
            "_view_module_version": "^0.19",
            "_view_name": "LeafletWidgetControlView",
            "max_height": null,
            "max_width": null,
            "min_height": null,
            "min_width": null,
            "options": [
              "position",
              "transparent_bg"
            ],
            "position": "topright",
            "transparent_bg": false,
            "widget": "IPY_MODEL_7a19abb5d81a43d9af79b1c33719b2f5"
          }
        },
        "ccdfb1ed279c44a8903957962a95628e": {
          "model_module": "jupyter-leaflet",
          "model_name": "LeafletMapStyleModel",
          "model_module_version": "^0.19",
          "state": {
            "_model_module": "jupyter-leaflet",
            "_model_module_version": "^0.19",
            "_model_name": "LeafletMapStyleModel",
            "_view_count": null,
            "_view_module": "@jupyter-widgets/base",
            "_view_module_version": "1.2.0",
            "_view_name": "StyleView",
            "cursor": "grab"
          }
        },
        "679d3bb1411040e38beb392c1ed69f07": {
          "model_module": "jupyter-leaflet",
          "model_name": "LeafletMapStyleModel",
          "model_module_version": "^0.19",
          "state": {
            "_model_module": "jupyter-leaflet",
            "_model_module_version": "^0.19",
            "_model_name": "LeafletMapStyleModel",
            "_view_count": null,
            "_view_module": "@jupyter-widgets/base",
            "_view_module_version": "1.2.0",
            "_view_name": "StyleView",
            "cursor": "move"
          }
        },
        "5da93aad5ec64e2eaeb3310157c204d4": {
          "model_module": "@jupyter-widgets/base",
          "model_name": "LayoutModel",
          "model_module_version": "1.2.0",
          "state": {
            "_model_module": "@jupyter-widgets/base",
            "_model_module_version": "1.2.0",
            "_model_name": "LayoutModel",
            "_view_count": null,
            "_view_module": "@jupyter-widgets/base",
            "_view_module_version": "1.2.0",
            "_view_name": "LayoutView",
            "align_content": null,
            "align_items": null,
            "align_self": null,
            "border": null,
            "bottom": null,
            "display": null,
            "flex": null,
            "flex_flow": null,
            "grid_area": null,
            "grid_auto_columns": null,
            "grid_auto_flow": null,
            "grid_auto_rows": null,
            "grid_column": null,
            "grid_gap": null,
            "grid_row": null,
            "grid_template_areas": null,
            "grid_template_columns": null,
            "grid_template_rows": null,
            "height": "600px",
            "justify_content": null,
            "justify_items": null,
            "left": null,
            "margin": null,
            "max_height": null,
            "max_width": null,
            "min_height": null,
            "min_width": null,
            "object_fit": null,
            "object_position": null,
            "order": null,
            "overflow": null,
            "overflow_x": null,
            "overflow_y": null,
            "padding": null,
            "right": null,
            "top": null,
            "visibility": null,
            "width": null
          }
        },
        "57df19f6d52f4f618ea23fd7c8b07fb2": {
          "model_module": "jupyter-leaflet",
          "model_name": "LeafletMapStyleModel",
          "model_module_version": "^0.19",
          "state": {
            "_model_module": "jupyter-leaflet",
            "_model_module_version": "^0.19",
            "_model_name": "LeafletMapStyleModel",
            "_view_count": null,
            "_view_module": "@jupyter-widgets/base",
            "_view_module_version": "1.2.0",
            "_view_name": "StyleView",
            "cursor": "grab"
          }
        },
        "7a19abb5d81a43d9af79b1c33719b2f5": {
          "model_module": "@jupyter-widgets/controls",
          "model_name": "VBoxModel",
          "model_module_version": "1.5.0",
          "state": {
            "_dom_classes": [],
            "_model_module": "@jupyter-widgets/controls",
            "_model_module_version": "1.5.0",
            "_model_name": "VBoxModel",
            "_view_count": null,
            "_view_module": "@jupyter-widgets/controls",
            "_view_module_version": "1.5.0",
            "_view_name": "VBoxView",
            "box_style": "",
            "children": [
              "IPY_MODEL_870d51b55dee4e7ebc6c8e6f404564c7"
            ],
            "layout": "IPY_MODEL_9db8fb55602b452cb9345ddab48c7d7c"
          }
        },
        "870d51b55dee4e7ebc6c8e6f404564c7": {
          "model_module": "@jupyter-widgets/controls",
          "model_name": "ToggleButtonModel",
          "model_module_version": "1.5.0",
          "state": {
            "_dom_classes": [],
            "_model_module": "@jupyter-widgets/controls",
            "_model_module_version": "1.5.0",
            "_model_name": "ToggleButtonModel",
            "_view_count": null,
            "_view_module": "@jupyter-widgets/controls",
            "_view_module_version": "1.5.0",
            "_view_name": "ToggleButtonView",
            "button_style": "",
            "description": "",
            "description_tooltip": null,
            "disabled": false,
            "icon": "wrench",
            "layout": "IPY_MODEL_532504ea130c4fda8a22b9038e4b522b",
            "style": "IPY_MODEL_8e690a04cb9e4376b14fda8023c2c474",
            "tooltip": "Toolbar",
            "value": false
          }
        },
        "9db8fb55602b452cb9345ddab48c7d7c": {
          "model_module": "@jupyter-widgets/base",
          "model_name": "LayoutModel",
          "model_module_version": "1.2.0",
          "state": {
            "_model_module": "@jupyter-widgets/base",
            "_model_module_version": "1.2.0",
            "_model_name": "LayoutModel",
            "_view_count": null,
            "_view_module": "@jupyter-widgets/base",
            "_view_module_version": "1.2.0",
            "_view_name": "LayoutView",
            "align_content": null,
            "align_items": null,
            "align_self": null,
            "border": null,
            "bottom": null,
            "display": null,
            "flex": null,
            "flex_flow": null,
            "grid_area": null,
            "grid_auto_columns": null,
            "grid_auto_flow": null,
            "grid_auto_rows": null,
            "grid_column": null,
            "grid_gap": null,
            "grid_row": null,
            "grid_template_areas": null,
            "grid_template_columns": null,
            "grid_template_rows": null,
            "height": null,
            "justify_content": null,
            "justify_items": null,
            "left": null,
            "margin": null,
            "max_height": null,
            "max_width": null,
            "min_height": null,
            "min_width": null,
            "object_fit": null,
            "object_position": null,
            "order": null,
            "overflow": null,
            "overflow_x": null,
            "overflow_y": null,
            "padding": null,
            "right": null,
            "top": null,
            "visibility": null,
            "width": null
          }
        },
        "532504ea130c4fda8a22b9038e4b522b": {
          "model_module": "@jupyter-widgets/base",
          "model_name": "LayoutModel",
          "model_module_version": "1.2.0",
          "state": {
            "_model_module": "@jupyter-widgets/base",
            "_model_module_version": "1.2.0",
            "_model_name": "LayoutModel",
            "_view_count": null,
            "_view_module": "@jupyter-widgets/base",
            "_view_module_version": "1.2.0",
            "_view_name": "LayoutView",
            "align_content": null,
            "align_items": null,
            "align_self": null,
            "border": null,
            "bottom": null,
            "display": null,
            "flex": null,
            "flex_flow": null,
            "grid_area": null,
            "grid_auto_columns": null,
            "grid_auto_flow": null,
            "grid_auto_rows": null,
            "grid_column": null,
            "grid_gap": null,
            "grid_row": null,
            "grid_template_areas": null,
            "grid_template_columns": null,
            "grid_template_rows": null,
            "height": "28px",
            "justify_content": null,
            "justify_items": null,
            "left": null,
            "margin": null,
            "max_height": null,
            "max_width": null,
            "min_height": null,
            "min_width": null,
            "object_fit": null,
            "object_position": null,
            "order": null,
            "overflow": null,
            "overflow_x": null,
            "overflow_y": null,
            "padding": "0px 0px 0px 4px",
            "right": null,
            "top": null,
            "visibility": null,
            "width": "28px"
          }
        },
        "8e690a04cb9e4376b14fda8023c2c474": {
          "model_module": "@jupyter-widgets/controls",
          "model_name": "DescriptionStyleModel",
          "model_module_version": "1.5.0",
          "state": {
            "_model_module": "@jupyter-widgets/controls",
            "_model_module_version": "1.5.0",
            "_model_name": "DescriptionStyleModel",
            "_view_count": null,
            "_view_module": "@jupyter-widgets/base",
            "_view_module_version": "1.2.0",
            "_view_name": "StyleView",
            "description_width": ""
          }
        }
      }
    }
  },
  "nbformat": 4,
  "nbformat_minor": 0
}